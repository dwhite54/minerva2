{
 "cells": [
  {
   "cell_type": "markdown",
   "metadata": {},
   "source": [
    "Table of contents"
   ]
  },
  {
   "cell_type": "markdown",
   "metadata": {},
   "source": [
    "1. Create bare-bones minerva model\n",
    "\n",
    "2. Replicate original paper finding (requires better interface)\n",
    "\n",
    "3. Create rhythm/tone experiment with fixed\n",
    "    - rhythm/tone split\n",
    "    - number participants\n",
    "    - participant stimuli\n",
    "\n",
    "4. Make experiment configurable\n",
    "\n",
    "5. Run a bazillion experiments"
   ]
  },
  {
   "cell_type": "markdown",
   "metadata": {},
   "source": [
    "# Bare-bones Minerva2 model"
   ]
  },
  {
   "cell_type": "code",
   "execution_count": 69,
   "metadata": {
    "ExecuteTime": {
     "end_time": "2020-02-23T02:27:02.247855Z",
     "start_time": "2020-02-23T02:27:02.243264Z"
    }
   },
   "outputs": [],
   "source": [
    "import numpy as np"
   ]
  },
  {
   "cell_type": "code",
   "execution_count": 70,
   "metadata": {
    "ExecuteTime": {
     "end_time": "2020-02-23T02:27:02.263970Z",
     "start_time": "2020-02-23T02:27:02.257191Z"
    }
   },
   "outputs": [
    {
     "data": {
      "text/plain": [
       "0"
      ]
     },
     "execution_count": 70,
     "metadata": {},
     "output_type": "execute_result"
    }
   ],
   "source": [
    "len([val for val in np.unique(np.array((1,0,-1,1, 1, 1, 1, 0))) if val not in (-1, 0, 1)])"
   ]
  },
  {
   "cell_type": "markdown",
   "metadata": {},
   "source": [
    "## The Model (v0.1)"
   ]
  },
  {
   "cell_type": "code",
   "execution_count": 71,
   "metadata": {
    "ExecuteTime": {
     "end_time": "2020-02-23T02:27:02.282568Z",
     "start_time": "2020-02-23T02:27:02.266401Z"
    }
   },
   "outputs": [],
   "source": [
    "class Minerva2:\n",
    "    def __init__(self, features_per_trace):\n",
    "        self.features_per_trace = features_per_trace\n",
    "        self.model = []\n",
    "        \n",
    "    def get_activation(self, probe, trace):\n",
    "        '''\n",
    "        also returns similarity in 2nd return value\n",
    "        '''\n",
    "        # the @ symbol denotes a \"dot product,\" which is the same as \n",
    "        # similarity = sum([probe[i] * self.model[trace_idx][i] for i in range(len(probe))])\n",
    "        similarity = (probe @ trace) / len(probe)\n",
    "        return similarity**3, similarity\n",
    "        \n",
    "    def get_activation_by_idx(self, probe, trace_idx):\n",
    "        return self.get_activation(probe, self.model[trace_idx], return_sim)\n",
    "    \n",
    "    def get_echo_intensity(self, probe, return_all=False):\n",
    "        activations = []\n",
    "        similarities = []\n",
    "        for trace in self.model:\n",
    "            activation, similarity = self.get_activation(probe, trace)\n",
    "            activations.append(activation)\n",
    "            similarities.append(similarity)\n",
    "        \n",
    "        if return_all:\n",
    "            return sum(activations) / len(activations), activations, similarities\n",
    "        else:\n",
    "            return sum(activations) / len(activations)\n",
    "    \n",
    "    def add_trace(self, trace):\n",
    "        if type(trace) != np.ndarray:\n",
    "            raise Exception(\"Trace is not of type numpy array, fail.\")\n",
    "        if trace.shape != (self.features_per_trace,):\n",
    "            raise Exception(\"Trace is not a one-dimensional array of length\", self.features_per_trace, \", fail.\")\n",
    "        if len([x for x in trace if x not in (-1, 0, 1)]) > 0:\n",
    "            raise Exception(\"Trace contains values besides -1, 0, or 1, fail.\")\n",
    "        self.model.append(trace)\n",
    "\n",
    "    def pretty_print(self, probe):\n",
    "        '''\n",
    "        Illustrates the calculation of echo intensity\n",
    "        '''\n",
    "        total_activation, activations, similarities = self.get_echo_intensity(probe, return_all=True)\n",
    "\n",
    "        print('PROBE:', list(probe))\n",
    "        for i, (activation, similarity) in enumerate(zip(activations, similarities)):\n",
    "            print('TRACE {}:'.format(i), list(self.model[i]), '->', '{:>6.0f}^3 = {:>8.0f}'.format(similarity, activation))\n",
    "        print('-'*80)\n",
    "        print('{:>80.0f}'.format(total_activation))"
   ]
  },
  {
   "cell_type": "markdown",
   "metadata": {},
   "source": [
    "## Try it out with some ZERO traces"
   ]
  },
  {
   "cell_type": "code",
   "execution_count": 72,
   "metadata": {
    "ExecuteTime": {
     "end_time": "2020-02-23T02:27:02.291356Z",
     "start_time": "2020-02-23T02:27:02.285416Z"
    }
   },
   "outputs": [],
   "source": [
    "model1_fpt = 10"
   ]
  },
  {
   "cell_type": "code",
   "execution_count": 73,
   "metadata": {
    "ExecuteTime": {
     "end_time": "2020-02-23T02:27:02.300920Z",
     "start_time": "2020-02-23T02:27:02.294027Z"
    }
   },
   "outputs": [],
   "source": [
    "model1 = Minerva2(model1_fpt)"
   ]
  },
  {
   "cell_type": "code",
   "execution_count": 74,
   "metadata": {
    "ExecuteTime": {
     "end_time": "2020-02-23T02:27:02.311268Z",
     "start_time": "2020-02-23T02:27:02.303356Z"
    }
   },
   "outputs": [],
   "source": [
    "for _ in range(10):\n",
    "    rand_trace = np.zeros(model1_fpt)\n",
    "    model1.add_trace(rand_trace)"
   ]
  },
  {
   "cell_type": "code",
   "execution_count": 75,
   "metadata": {
    "ExecuteTime": {
     "end_time": "2020-02-23T02:27:02.325166Z",
     "start_time": "2020-02-23T02:27:02.313921Z"
    }
   },
   "outputs": [
    {
     "data": {
      "text/plain": [
       "[array([0., 0., 0., 0., 0., 0., 0., 0., 0., 0.]),\n",
       " array([0., 0., 0., 0., 0., 0., 0., 0., 0., 0.]),\n",
       " array([0., 0., 0., 0., 0., 0., 0., 0., 0., 0.]),\n",
       " array([0., 0., 0., 0., 0., 0., 0., 0., 0., 0.]),\n",
       " array([0., 0., 0., 0., 0., 0., 0., 0., 0., 0.]),\n",
       " array([0., 0., 0., 0., 0., 0., 0., 0., 0., 0.]),\n",
       " array([0., 0., 0., 0., 0., 0., 0., 0., 0., 0.]),\n",
       " array([0., 0., 0., 0., 0., 0., 0., 0., 0., 0.]),\n",
       " array([0., 0., 0., 0., 0., 0., 0., 0., 0., 0.]),\n",
       " array([0., 0., 0., 0., 0., 0., 0., 0., 0., 0.])]"
      ]
     },
     "execution_count": 75,
     "metadata": {},
     "output_type": "execute_result"
    }
   ],
   "source": [
    "model1.model"
   ]
  },
  {
   "cell_type": "markdown",
   "metadata": {},
   "source": [
    "Let's create a random probe to test"
   ]
  },
  {
   "cell_type": "code",
   "execution_count": 76,
   "metadata": {
    "ExecuteTime": {
     "end_time": "2020-02-23T02:27:02.335735Z",
     "start_time": "2020-02-23T02:27:02.327634Z"
    }
   },
   "outputs": [
    {
     "data": {
      "text/plain": [
       "array([ 1,  1,  0, -1,  1,  1,  0, -1, -1,  1])"
      ]
     },
     "execution_count": 76,
     "metadata": {},
     "output_type": "execute_result"
    }
   ],
   "source": [
    "probe1 = np.random.randint(-1, 2, model1_fpt)\n",
    "probe1"
   ]
  },
  {
   "cell_type": "code",
   "execution_count": 77,
   "metadata": {
    "ExecuteTime": {
     "end_time": "2020-02-23T02:27:02.347555Z",
     "start_time": "2020-02-23T02:27:02.337823Z"
    }
   },
   "outputs": [
    {
     "data": {
      "text/plain": [
       "(0.0,\n",
       " [0.0, 0.0, 0.0, 0.0, 0.0, 0.0, 0.0, 0.0, 0.0, 0.0],\n",
       " [0.0, 0.0, 0.0, 0.0, 0.0, 0.0, 0.0, 0.0, 0.0, 0.0])"
      ]
     },
     "execution_count": 77,
     "metadata": {},
     "output_type": "execute_result"
    }
   ],
   "source": [
    "model1.get_echo_intensity(probe1, return_all=True)"
   ]
  },
  {
   "cell_type": "code",
   "execution_count": 78,
   "metadata": {
    "ExecuteTime": {
     "end_time": "2020-02-23T02:27:02.359955Z",
     "start_time": "2020-02-23T02:27:02.350968Z"
    }
   },
   "outputs": [
    {
     "name": "stdout",
     "output_type": "stream",
     "text": [
      "PROBE: [1, 1, 0, -1, 1, 1, 0, -1, -1, 1]\n",
      "TRACE 0: [0.0, 0.0, 0.0, 0.0, 0.0, 0.0, 0.0, 0.0, 0.0, 0.0] ->      0^3 =        0\n",
      "TRACE 1: [0.0, 0.0, 0.0, 0.0, 0.0, 0.0, 0.0, 0.0, 0.0, 0.0] ->      0^3 =        0\n",
      "TRACE 2: [0.0, 0.0, 0.0, 0.0, 0.0, 0.0, 0.0, 0.0, 0.0, 0.0] ->      0^3 =        0\n",
      "TRACE 3: [0.0, 0.0, 0.0, 0.0, 0.0, 0.0, 0.0, 0.0, 0.0, 0.0] ->      0^3 =        0\n",
      "TRACE 4: [0.0, 0.0, 0.0, 0.0, 0.0, 0.0, 0.0, 0.0, 0.0, 0.0] ->      0^3 =        0\n",
      "TRACE 5: [0.0, 0.0, 0.0, 0.0, 0.0, 0.0, 0.0, 0.0, 0.0, 0.0] ->      0^3 =        0\n",
      "TRACE 6: [0.0, 0.0, 0.0, 0.0, 0.0, 0.0, 0.0, 0.0, 0.0, 0.0] ->      0^3 =        0\n",
      "TRACE 7: [0.0, 0.0, 0.0, 0.0, 0.0, 0.0, 0.0, 0.0, 0.0, 0.0] ->      0^3 =        0\n",
      "TRACE 8: [0.0, 0.0, 0.0, 0.0, 0.0, 0.0, 0.0, 0.0, 0.0, 0.0] ->      0^3 =        0\n",
      "TRACE 9: [0.0, 0.0, 0.0, 0.0, 0.0, 0.0, 0.0, 0.0, 0.0, 0.0] ->      0^3 =        0\n",
      "--------------------------------------------------------------------------------\n",
      "                                                                               0\n"
     ]
    }
   ],
   "source": [
    "model1.pretty_print(probe1)"
   ]
  },
  {
   "cell_type": "markdown",
   "metadata": {},
   "source": [
    "Blank memory means a blank response! Looking good so far."
   ]
  },
  {
   "cell_type": "markdown",
   "metadata": {},
   "source": [
    "## Now test with random traces"
   ]
  },
  {
   "cell_type": "code",
   "execution_count": 79,
   "metadata": {
    "ExecuteTime": {
     "end_time": "2020-02-23T02:27:02.366349Z",
     "start_time": "2020-02-23T02:27:02.363576Z"
    }
   },
   "outputs": [],
   "source": [
    "model2_fpt = 8"
   ]
  },
  {
   "cell_type": "code",
   "execution_count": 80,
   "metadata": {
    "ExecuteTime": {
     "end_time": "2020-02-23T02:27:02.376816Z",
     "start_time": "2020-02-23T02:27:02.368390Z"
    }
   },
   "outputs": [],
   "source": [
    "model2 = Minerva2(model2_fpt)"
   ]
  },
  {
   "cell_type": "code",
   "execution_count": 81,
   "metadata": {
    "ExecuteTime": {
     "end_time": "2020-02-23T02:27:02.388145Z",
     "start_time": "2020-02-23T02:27:02.379313Z"
    }
   },
   "outputs": [],
   "source": [
    "for _ in range(12):\n",
    "    rand_trace = np.random.randint(-1, 2, model2_fpt)\n",
    "    model2.add_trace(rand_trace)"
   ]
  },
  {
   "cell_type": "code",
   "execution_count": 82,
   "metadata": {
    "ExecuteTime": {
     "end_time": "2020-02-23T02:27:02.402725Z",
     "start_time": "2020-02-23T02:27:02.390408Z"
    }
   },
   "outputs": [
    {
     "data": {
      "text/plain": [
       "[array([ 0,  0, -1,  1,  0, -1,  0, -1]),\n",
       " array([-1,  0,  0,  0,  1, -1, -1, -1]),\n",
       " array([-1,  0,  0,  0,  0,  0,  0,  0]),\n",
       " array([-1,  0,  1,  1,  1,  1,  1, -1]),\n",
       " array([ 0,  0,  0,  0,  0,  1, -1, -1]),\n",
       " array([ 1,  0, -1,  1, -1,  1,  1,  0]),\n",
       " array([ 1, -1,  0,  0, -1, -1,  0,  1]),\n",
       " array([0, 1, 0, 1, 0, 0, 0, 0]),\n",
       " array([ 1, -1,  1, -1, -1, -1,  1, -1]),\n",
       " array([-1, -1, -1,  0, -1, -1, -1,  0]),\n",
       " array([ 1, -1, -1, -1,  1,  1, -1,  0]),\n",
       " array([ 0, -1, -1,  1, -1,  0,  1,  0])]"
      ]
     },
     "execution_count": 82,
     "metadata": {},
     "output_type": "execute_result"
    }
   ],
   "source": [
    "model2.model"
   ]
  },
  {
   "cell_type": "markdown",
   "metadata": {},
   "source": [
    "And a random test probe..."
   ]
  },
  {
   "cell_type": "code",
   "execution_count": 83,
   "metadata": {
    "ExecuteTime": {
     "end_time": "2020-02-23T02:27:02.412318Z",
     "start_time": "2020-02-23T02:27:02.405098Z"
    }
   },
   "outputs": [
    {
     "data": {
      "text/plain": [
       "array([ 1, -1,  1,  1,  0, -1, -1,  1])"
      ]
     },
     "execution_count": 83,
     "metadata": {},
     "output_type": "execute_result"
    }
   ],
   "source": [
    "probe2 = np.random.randint(-1, 2, model2_fpt)\n",
    "probe2"
   ]
  },
  {
   "cell_type": "code",
   "execution_count": 84,
   "metadata": {
    "ExecuteTime": {
     "end_time": "2020-02-23T02:27:02.422009Z",
     "start_time": "2020-02-23T02:27:02.414364Z"
    }
   },
   "outputs": [
    {
     "data": {
      "text/plain": [
       "(0.008951822916666666,\n",
       " [0.0,\n",
       "  0.0,\n",
       "  -0.001953125,\n",
       "  -0.015625,\n",
       "  -0.001953125,\n",
       "  -0.001953125,\n",
       "  0.125,\n",
       "  0.0,\n",
       "  0.001953125,\n",
       "  0.001953125,\n",
       "  0.0,\n",
       "  0.0],\n",
       " [0.0, 0.0, -0.125, -0.25, -0.125, -0.125, 0.5, 0.0, 0.125, 0.125, 0.0, 0.0])"
      ]
     },
     "execution_count": 84,
     "metadata": {},
     "output_type": "execute_result"
    }
   ],
   "source": [
    "model2.get_echo_intensity(probe2, return_all=True)"
   ]
  },
  {
   "cell_type": "code",
   "execution_count": 85,
   "metadata": {
    "ExecuteTime": {
     "end_time": "2020-02-23T02:27:02.437623Z",
     "start_time": "2020-02-23T02:27:02.424096Z"
    }
   },
   "outputs": [
    {
     "name": "stdout",
     "output_type": "stream",
     "text": [
      "PROBE: [1, -1, 1, 1, 0, -1, -1, 1]\n",
      "TRACE 0: [0, 0, -1, 1, 0, -1, 0, -1] ->      0^3 =        0\n",
      "TRACE 1: [-1, 0, 0, 0, 1, -1, -1, -1] ->      0^3 =        0\n",
      "TRACE 2: [-1, 0, 0, 0, 0, 0, 0, 0] ->     -0^3 =       -0\n",
      "TRACE 3: [-1, 0, 1, 1, 1, 1, 1, -1] ->     -0^3 =       -0\n",
      "TRACE 4: [0, 0, 0, 0, 0, 1, -1, -1] ->     -0^3 =       -0\n",
      "TRACE 5: [1, 0, -1, 1, -1, 1, 1, 0] ->     -0^3 =       -0\n",
      "TRACE 6: [1, -1, 0, 0, -1, -1, 0, 1] ->      0^3 =        0\n",
      "TRACE 7: [0, 1, 0, 1, 0, 0, 0, 0] ->      0^3 =        0\n",
      "TRACE 8: [1, -1, 1, -1, -1, -1, 1, -1] ->      0^3 =        0\n",
      "TRACE 9: [-1, -1, -1, 0, -1, -1, -1, 0] ->      0^3 =        0\n",
      "TRACE 10: [1, -1, -1, -1, 1, 1, -1, 0] ->      0^3 =        0\n",
      "TRACE 11: [0, -1, -1, 1, -1, 0, 1, 0] ->      0^3 =        0\n",
      "--------------------------------------------------------------------------------\n",
      "                                                                               0\n"
     ]
    }
   ],
   "source": [
    "model2.pretty_print(probe2)"
   ]
  },
  {
   "cell_type": "code",
   "execution_count": null,
   "metadata": {},
   "outputs": [],
   "source": []
  }
 ],
 "metadata": {
  "kernelspec": {
   "display_name": "Python 3",
   "language": "python",
   "name": "python3"
  },
  "language_info": {
   "codemirror_mode": {
    "name": "ipython",
    "version": 3
   },
   "file_extension": ".py",
   "mimetype": "text/x-python",
   "name": "python",
   "nbconvert_exporter": "python",
   "pygments_lexer": "ipython3",
   "version": "3.7.4"
  },
  "toc": {
   "base_numbering": 1,
   "nav_menu": {},
   "number_sections": true,
   "sideBar": true,
   "skip_h1_title": false,
   "title_cell": "Table of Contents",
   "title_sidebar": "Contents",
   "toc_cell": false,
   "toc_position": {},
   "toc_section_display": true,
   "toc_window_display": true
  }
 },
 "nbformat": 4,
 "nbformat_minor": 2
}
