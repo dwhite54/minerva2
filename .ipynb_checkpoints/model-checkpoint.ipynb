{
 "cells": [
  {
   "cell_type": "markdown",
   "metadata": {},
   "source": [
    "Table of contents"
   ]
  },
  {
   "cell_type": "markdown",
   "metadata": {},
   "source": [
    "1. Create bare-bones minerva model\n",
    "\n",
    "2. Replicate original paper finding (requires better interface)\n",
    "\n",
    "3. Create rhythm/tone experiment with fixed\n",
    "    - rhythm/tone split\n",
    "    - number participants\n",
    "    - participant stimuli\n",
    "\n",
    "4. Make experiment configurable\n",
    "\n",
    "5. Run a bazillion experiments"
   ]
  },
  {
   "cell_type": "markdown",
   "metadata": {},
   "source": [
    "# Bare-bones Minerva2 model"
   ]
  },
  {
   "cell_type": "code",
   "execution_count": 1,
   "metadata": {
    "ExecuteTime": {
     "end_time": "2020-02-21T00:18:35.258721Z",
     "start_time": "2020-02-21T00:18:35.020303Z"
    }
   },
   "outputs": [],
   "source": [
    "import numpy as np"
   ]
  },
  {
   "cell_type": "code",
   "execution_count": 2,
   "metadata": {
    "ExecuteTime": {
     "end_time": "2020-02-21T00:18:35.271593Z",
     "start_time": "2020-02-21T00:18:35.260281Z"
    }
   },
   "outputs": [
    {
     "data": {
      "text/plain": [
       "0"
      ]
     },
     "execution_count": 2,
     "metadata": {},
     "output_type": "execute_result"
    }
   ],
   "source": [
    "len([val for val in np.unique(np.array((1,0,-1,1, 1, 1, 1, 0))) if val not in (-1, 0, 1)])"
   ]
  },
  {
   "cell_type": "markdown",
   "metadata": {},
   "source": [
    "## The Model (v0.1)"
   ]
  },
  {
   "cell_type": "code",
   "execution_count": 13,
   "metadata": {
    "ExecuteTime": {
     "end_time": "2020-02-21T00:29:41.683874Z",
     "start_time": "2020-02-21T00:29:41.666624Z"
    }
   },
   "outputs": [],
   "source": [
    "class Minerva2:\n",
    "    def __init__(self, features_per_trace):\n",
    "        self.features_per_trace = features_per_trace\n",
    "        self.model = []\n",
    "        \n",
    "    def get_activation(self, probe, trace_idx):\n",
    "        return (probe @ self.model[trace_idx])**3\n",
    "    \n",
    "    def get_echo_intensity(self, probe, return_all=False):\n",
    "        activations = []\n",
    "        for trace_idx in range(len(self.model)):\n",
    "            activations.append(self.get_activation(probe, trace_idx))\n",
    "            \n",
    "        total_activation = sum(activations)\n",
    "        \n",
    "        if return_all:\n",
    "            return total_activation, activations\n",
    "        else:\n",
    "            return total_activation\n",
    "    \n",
    "    def add_trace(self, trace):\n",
    "        if type(trace) != np.ndarray:\n",
    "            raise Exception(\"Trace is not of type numpy array, fail.\")\n",
    "        if trace.shape != (self.features_per_trace,):\n",
    "            raise Exception(\"Trace is not a one-dimensional array of length\", self.features_per_trace, \", fail.\")\n",
    "        if len([x for x in trace if x not in (-1, 0, 1)]) > 0:\n",
    "            raise Exception(\"Trace contains values besides -1, 0, or 1, fail.\")\n",
    "        self.model.append(trace)\n",
    "#        if len(trace) == self.features_per_trace and type(trace[0]) in (int, float):\n",
    "#            self.model.append(trace)\n",
    "#        else:\n",
    "#            raise Exception(\"Invalid trace\")\n",
    "\n",
    "    def pretty_print(self, probe):\n",
    "        '''\n",
    "        Illustrates the calculation of echo intensity\n",
    "        '''\n",
    "        total_activation, activations = self.get_echo_intensity(probe, return_all=True)\n",
    "\n",
    "        print('PROBE:', list(probe))\n",
    "        for i, activation in enumerate(activations):\n",
    "            print('TRACE {}:'.format(i), list(self.model[i]), '->', '{:>6.0f}^3 = {:>8.0f}'.format(round(activation**(1/3)), activation))\n",
    "        print('-'*80)\n",
    "        print('{:>80.0f}'.format(total_activation))"
   ]
  },
  {
   "cell_type": "markdown",
   "metadata": {},
   "source": [
    "## Try it out with some ZERO traces"
   ]
  },
  {
   "cell_type": "code",
   "execution_count": 14,
   "metadata": {
    "ExecuteTime": {
     "end_time": "2020-02-21T00:29:41.962745Z",
     "start_time": "2020-02-21T00:29:41.958959Z"
    }
   },
   "outputs": [],
   "source": [
    "model1_fpt = 10"
   ]
  },
  {
   "cell_type": "code",
   "execution_count": 15,
   "metadata": {
    "ExecuteTime": {
     "end_time": "2020-02-21T00:29:42.104866Z",
     "start_time": "2020-02-21T00:29:42.100754Z"
    }
   },
   "outputs": [],
   "source": [
    "model1 = Minerva2(model1_fpt)"
   ]
  },
  {
   "cell_type": "code",
   "execution_count": 16,
   "metadata": {
    "ExecuteTime": {
     "end_time": "2020-02-21T00:29:42.237291Z",
     "start_time": "2020-02-21T00:29:42.232061Z"
    }
   },
   "outputs": [],
   "source": [
    "for _ in range(10):\n",
    "    rand_trace = np.zeros(model1_fpt)\n",
    "    model1.add_trace(rand_trace)"
   ]
  },
  {
   "cell_type": "code",
   "execution_count": 17,
   "metadata": {
    "ExecuteTime": {
     "end_time": "2020-02-21T00:29:42.378629Z",
     "start_time": "2020-02-21T00:29:42.368445Z"
    }
   },
   "outputs": [
    {
     "data": {
      "text/plain": [
       "[array([0., 0., 0., 0., 0., 0., 0., 0., 0., 0.]),\n",
       " array([0., 0., 0., 0., 0., 0., 0., 0., 0., 0.]),\n",
       " array([0., 0., 0., 0., 0., 0., 0., 0., 0., 0.]),\n",
       " array([0., 0., 0., 0., 0., 0., 0., 0., 0., 0.]),\n",
       " array([0., 0., 0., 0., 0., 0., 0., 0., 0., 0.]),\n",
       " array([0., 0., 0., 0., 0., 0., 0., 0., 0., 0.]),\n",
       " array([0., 0., 0., 0., 0., 0., 0., 0., 0., 0.]),\n",
       " array([0., 0., 0., 0., 0., 0., 0., 0., 0., 0.]),\n",
       " array([0., 0., 0., 0., 0., 0., 0., 0., 0., 0.]),\n",
       " array([0., 0., 0., 0., 0., 0., 0., 0., 0., 0.])]"
      ]
     },
     "execution_count": 17,
     "metadata": {},
     "output_type": "execute_result"
    }
   ],
   "source": [
    "model1.model"
   ]
  },
  {
   "cell_type": "markdown",
   "metadata": {},
   "source": [
    "Let's create a random probe to test"
   ]
  },
  {
   "cell_type": "code",
   "execution_count": 18,
   "metadata": {
    "ExecuteTime": {
     "end_time": "2020-02-21T00:29:42.660007Z",
     "start_time": "2020-02-21T00:29:42.653723Z"
    }
   },
   "outputs": [
    {
     "data": {
      "text/plain": [
       "array([ 0,  1,  1, -1, -1,  0, -1, -1,  1,  1])"
      ]
     },
     "execution_count": 18,
     "metadata": {},
     "output_type": "execute_result"
    }
   ],
   "source": [
    "probe1 = np.random.randint(-1, 2, model1_fpt)\n",
    "probe1"
   ]
  },
  {
   "cell_type": "code",
   "execution_count": 19,
   "metadata": {
    "ExecuteTime": {
     "end_time": "2020-02-21T00:29:42.803315Z",
     "start_time": "2020-02-21T00:29:42.796457Z"
    }
   },
   "outputs": [
    {
     "data": {
      "text/plain": [
       "(0.0, [0.0, 0.0, 0.0, 0.0, 0.0, 0.0, 0.0, 0.0, 0.0, 0.0])"
      ]
     },
     "execution_count": 19,
     "metadata": {},
     "output_type": "execute_result"
    }
   ],
   "source": [
    "model1.get_echo_intensity(probe1, return_all=True)"
   ]
  },
  {
   "cell_type": "code",
   "execution_count": 20,
   "metadata": {
    "ExecuteTime": {
     "end_time": "2020-02-21T00:29:42.957409Z",
     "start_time": "2020-02-21T00:29:42.943373Z"
    }
   },
   "outputs": [
    {
     "name": "stdout",
     "output_type": "stream",
     "text": [
      "PROBE: [0, 1, 1, -1, -1, 0, -1, -1, 1, 1]\n",
      "TRACE 0: [0.0, 0.0, 0.0, 0.0, 0.0, 0.0, 0.0, 0.0, 0.0, 0.0] ->      0^3 =        0\n",
      "TRACE 1: [0.0, 0.0, 0.0, 0.0, 0.0, 0.0, 0.0, 0.0, 0.0, 0.0] ->      0^3 =        0\n",
      "TRACE 2: [0.0, 0.0, 0.0, 0.0, 0.0, 0.0, 0.0, 0.0, 0.0, 0.0] ->      0^3 =        0\n",
      "TRACE 3: [0.0, 0.0, 0.0, 0.0, 0.0, 0.0, 0.0, 0.0, 0.0, 0.0] ->      0^3 =        0\n",
      "TRACE 4: [0.0, 0.0, 0.0, 0.0, 0.0, 0.0, 0.0, 0.0, 0.0, 0.0] ->      0^3 =        0\n",
      "TRACE 5: [0.0, 0.0, 0.0, 0.0, 0.0, 0.0, 0.0, 0.0, 0.0, 0.0] ->      0^3 =        0\n",
      "TRACE 6: [0.0, 0.0, 0.0, 0.0, 0.0, 0.0, 0.0, 0.0, 0.0, 0.0] ->      0^3 =        0\n",
      "TRACE 7: [0.0, 0.0, 0.0, 0.0, 0.0, 0.0, 0.0, 0.0, 0.0, 0.0] ->      0^3 =        0\n",
      "TRACE 8: [0.0, 0.0, 0.0, 0.0, 0.0, 0.0, 0.0, 0.0, 0.0, 0.0] ->      0^3 =        0\n",
      "TRACE 9: [0.0, 0.0, 0.0, 0.0, 0.0, 0.0, 0.0, 0.0, 0.0, 0.0] ->      0^3 =        0\n",
      "--------------------------------------------------------------------------------\n",
      "                                                                               0\n"
     ]
    }
   ],
   "source": [
    "model1.pretty_print(probe1)"
   ]
  },
  {
   "cell_type": "markdown",
   "metadata": {},
   "source": [
    "Blank memory means a blank response! Looking good so far."
   ]
  },
  {
   "cell_type": "markdown",
   "metadata": {},
   "source": [
    "## Now test with random traces"
   ]
  },
  {
   "cell_type": "code",
   "execution_count": 25,
   "metadata": {
    "ExecuteTime": {
     "end_time": "2020-02-21T00:30:58.570961Z",
     "start_time": "2020-02-21T00:30:58.566503Z"
    }
   },
   "outputs": [],
   "source": [
    "model2_fpt = 8"
   ]
  },
  {
   "cell_type": "code",
   "execution_count": 26,
   "metadata": {
    "ExecuteTime": {
     "end_time": "2020-02-21T00:30:58.728227Z",
     "start_time": "2020-02-21T00:30:58.723800Z"
    }
   },
   "outputs": [],
   "source": [
    "model2 = Minerva2(model2_fpt)"
   ]
  },
  {
   "cell_type": "code",
   "execution_count": 27,
   "metadata": {
    "ExecuteTime": {
     "end_time": "2020-02-21T00:30:58.877614Z",
     "start_time": "2020-02-21T00:30:58.871786Z"
    }
   },
   "outputs": [],
   "source": [
    "for _ in range(12):\n",
    "    rand_trace = np.random.randint(-1, 2, model2_fpt)\n",
    "    model2.add_trace(rand_trace)"
   ]
  },
  {
   "cell_type": "code",
   "execution_count": 28,
   "metadata": {
    "ExecuteTime": {
     "end_time": "2020-02-21T00:30:59.041180Z",
     "start_time": "2020-02-21T00:30:59.032487Z"
    }
   },
   "outputs": [
    {
     "data": {
      "text/plain": [
       "[array([ 1,  0, -1,  1,  0, -1, -1,  1]),\n",
       " array([ 0,  1,  1,  1, -1,  0, -1, -1]),\n",
       " array([ 1,  0, -1,  0,  0,  0, -1,  1]),\n",
       " array([-1,  1,  1,  1, -1, -1,  1,  0]),\n",
       " array([ 0, -1,  1,  0, -1,  0, -1,  1]),\n",
       " array([ 1,  0,  1,  1, -1,  1,  0,  0]),\n",
       " array([-1, -1, -1,  1,  1, -1, -1,  1]),\n",
       " array([ 1,  1, -1, -1, -1, -1,  1, -1]),\n",
       " array([ 0,  1, -1,  1,  1, -1,  1,  0]),\n",
       " array([ 0, -1,  0,  1, -1,  1,  0,  1]),\n",
       " array([ 0, -1,  1, -1,  0,  0, -1, -1]),\n",
       " array([ 0, -1,  0, -1,  0,  0,  0,  1])]"
      ]
     },
     "execution_count": 28,
     "metadata": {},
     "output_type": "execute_result"
    }
   ],
   "source": [
    "model2.model"
   ]
  },
  {
   "cell_type": "markdown",
   "metadata": {},
   "source": [
    "And a random test probe..."
   ]
  },
  {
   "cell_type": "code",
   "execution_count": 29,
   "metadata": {
    "ExecuteTime": {
     "end_time": "2020-02-21T00:31:00.688215Z",
     "start_time": "2020-02-21T00:31:00.681148Z"
    }
   },
   "outputs": [
    {
     "data": {
      "text/plain": [
       "array([ 1, -1,  0,  1, -1,  1,  1,  1])"
      ]
     },
     "execution_count": 29,
     "metadata": {},
     "output_type": "execute_result"
    }
   ],
   "source": [
    "probe2 = np.random.randint(-1, 2, model2_fpt)\n",
    "probe2"
   ]
  },
  {
   "cell_type": "code",
   "execution_count": 30,
   "metadata": {
    "ExecuteTime": {
     "end_time": "2020-02-21T00:31:05.628059Z",
     "start_time": "2020-02-21T00:31:05.620384Z"
    }
   },
   "outputs": [
    {
     "data": {
      "text/plain": [
       "(188, [1, -1, 1, 0, 8, 64, -1, -1, -1, 125, -8, 1])"
      ]
     },
     "execution_count": 30,
     "metadata": {},
     "output_type": "execute_result"
    }
   ],
   "source": [
    "model2.get_echo_intensity(probe2, return_all=True)"
   ]
  },
  {
   "cell_type": "code",
   "execution_count": 31,
   "metadata": {
    "ExecuteTime": {
     "end_time": "2020-02-21T00:31:09.683972Z",
     "start_time": "2020-02-21T00:31:09.660840Z"
    }
   },
   "outputs": [
    {
     "name": "stdout",
     "output_type": "stream",
     "text": [
      "PROBE: [1, -1, 0, 1, -1, 1, 1, 1]\n",
      "TRACE 0: [1, 0, -1, 1, 0, -1, -1, 1] ->      1^3 =        1\n",
      "TRACE 1: [0, 1, 1, 1, -1, 0, -1, -1] ->    nan^3 =       -1\n",
      "TRACE 2: [1, 0, -1, 0, 0, 0, -1, 1] ->      1^3 =        1\n",
      "TRACE 3: [-1, 1, 1, 1, -1, -1, 1, 0] ->      0^3 =        0\n",
      "TRACE 4: [0, -1, 1, 0, -1, 0, -1, 1] ->      2^3 =        8\n",
      "TRACE 5: [1, 0, 1, 1, -1, 1, 0, 0] ->      4^3 =       64\n",
      "TRACE 6: [-1, -1, -1, 1, 1, -1, -1, 1] ->    nan^3 =       -1\n",
      "TRACE 7: [1, 1, -1, -1, -1, -1, 1, -1] ->    nan^3 =       -1\n",
      "TRACE 8: [0, 1, -1, 1, 1, -1, 1, 0] ->    nan^3 =       -1\n",
      "TRACE 9: [0, -1, 0, 1, -1, 1, 0, 1] ->      5^3 =      125\n",
      "TRACE 10: [0, -1, 1, -1, 0, 0, -1, -1] ->    nan^3 =       -8\n",
      "TRACE 11: [0, -1, 0, -1, 0, 0, 0, 1] ->      1^3 =        1\n",
      "--------------------------------------------------------------------------------\n",
      "                                                                             188\n"
     ]
    },
    {
     "name": "stderr",
     "output_type": "stream",
     "text": [
      "/s/parsons/h/proj/vision/usr/dwhite54/anaconda3/lib/python3.7/site-packages/ipykernel_launcher.py:42: RuntimeWarning: invalid value encountered in power\n"
     ]
    }
   ],
   "source": [
    "model2.pretty_print(probe2)"
   ]
  },
  {
   "cell_type": "code",
   "execution_count": null,
   "metadata": {},
   "outputs": [],
   "source": []
  }
 ],
 "metadata": {
  "kernelspec": {
   "display_name": "Python 3",
   "language": "python",
   "name": "python3"
  },
  "language_info": {
   "codemirror_mode": {
    "name": "ipython",
    "version": 3
   },
   "file_extension": ".py",
   "mimetype": "text/x-python",
   "name": "python",
   "nbconvert_exporter": "python",
   "pygments_lexer": "ipython3",
   "version": "3.7.4"
  },
  "toc": {
   "base_numbering": 1,
   "nav_menu": {},
   "number_sections": true,
   "sideBar": true,
   "skip_h1_title": false,
   "title_cell": "Table of Contents",
   "title_sidebar": "Contents",
   "toc_cell": false,
   "toc_position": {},
   "toc_section_display": true,
   "toc_window_display": true
  }
 },
 "nbformat": 4,
 "nbformat_minor": 2
}
