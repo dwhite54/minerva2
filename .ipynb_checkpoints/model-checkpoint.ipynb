{
 "cells": [
  {
   "cell_type": "markdown",
   "metadata": {},
   "source": [
    "Table of contents"
   ]
  },
  {
   "cell_type": "markdown",
   "metadata": {},
   "source": [
    "1. Create bare-bones minerva model\n",
    "\n",
    "2. Replicate original paper finding (requires better interface)\n",
    "\n",
    "3. Create rhythm/tone experiment with fixed\n",
    "    - rhythm/tone split\n",
    "    - number participants\n",
    "    - participant stimuli\n",
    "\n",
    "4. Make experiment configurable\n",
    "\n",
    "5. Run a bazillion experiments"
   ]
  },
  {
   "cell_type": "markdown",
   "metadata": {},
   "source": [
    "# Bare-bones Minerva2 model"
   ]
  },
  {
   "cell_type": "code",
   "execution_count": 246,
   "metadata": {
    "ExecuteTime": {
     "end_time": "2020-03-24T22:34:17.085552Z",
     "start_time": "2020-03-24T22:34:17.080510Z"
    }
   },
   "outputs": [],
   "source": [
    "import numpy as np\n",
    "from scipy.stats import ttest_ind\n",
    "from scipy.stats import norm"
   ]
  },
  {
   "cell_type": "code",
   "execution_count": 4,
   "metadata": {
    "ExecuteTime": {
     "end_time": "2020-03-24T20:03:37.071361Z",
     "start_time": "2020-03-24T20:03:37.055956Z"
    }
   },
   "outputs": [
    {
     "data": {
      "text/plain": [
       "0"
      ]
     },
     "execution_count": 4,
     "metadata": {},
     "output_type": "execute_result"
    }
   ],
   "source": [
    "len([val for val in np.unique(np.array((1,0,-1,1, 1, 1, 1, 0))) if val not in (-1, 0, 1)])"
   ]
  },
  {
   "cell_type": "markdown",
   "metadata": {},
   "source": [
    "## The Model (v0.1)"
   ]
  },
  {
   "cell_type": "code",
   "execution_count": 292,
   "metadata": {
    "ExecuteTime": {
     "end_time": "2020-03-24T23:00:35.192959Z",
     "start_time": "2020-03-24T23:00:35.165769Z"
    }
   },
   "outputs": [],
   "source": [
    "class Minerva2:\n",
    "    def __init__(self, features_per_trace):\n",
    "        self.features_per_trace = features_per_trace\n",
    "        self.model = None\n",
    "        \n",
    "    def get_activation(self, probe, trace):\n",
    "        '''\n",
    "        also returns similarity in 2nd return value\n",
    "        '''\n",
    "        # the @ symbol denotes a \"dot product,\" which is the same as \n",
    "        # sum([probe[i] * self.model[trace_idx][i] for i in range(len(probe))])\n",
    "        similarity = (probe @ trace) / len(probe)\n",
    "        return similarity**3, similarity\n",
    "        \n",
    "    def get_activation_by_idx(self, probe, trace_idx):\n",
    "        return self.get_activation(probe, self.model[trace_idx], return_sim)\n",
    "    \n",
    "    def get_echo_intensity(self, probe, return_all=False):\n",
    "        activations = []\n",
    "        similarities = []\n",
    "        for trace in self.model:\n",
    "            activation, similarity = self.get_activation(probe, trace)\n",
    "            activations.append(activation)\n",
    "            similarities.append(similarity)\n",
    "        \n",
    "        if return_all:\n",
    "            return sum(activations) / len(activations), activations, similarities\n",
    "        else:\n",
    "            return sum(activations) / len(activations)\n",
    "        \n",
    "    def get_echo_intensities(self, probes):\n",
    "        if type(probes) != np.ndarray:\n",
    "            raise Exception(\"Probes are not of type numpy array, fail.\")\n",
    "        model_arr = np.array(model.model)\n",
    "        similarities = (probes @ model_arr.T)/probes.shape[1]\n",
    "        activations = similarities**3\n",
    "        intensities = np.mean(activations, axis=1)\n",
    "        return intensities\n",
    "    \n",
    "    def add_trace(self, trace):\n",
    "        if type(trace) != np.ndarray:\n",
    "            raise Exception(\"Trace is not of type numpy array, fail.\")\n",
    "        if trace.shape != (self.features_per_trace,):\n",
    "            raise Exception(\"Trace is not a one-dimensional array of length\", self.features_per_trace, \", fail.\")\n",
    "        if len([x for x in trace if x not in (-1, 0, 1)]) > 0:\n",
    "            raise Exception(\"Trace contains values besides -1, 0, or 1, fail.\")\n",
    "        reshaped = np.reshape(trace, (-1, self.features_per_trace))\n",
    "        if self.model is not None:\n",
    "            self.model = np.append(self.model, reshaped, axis=0)\n",
    "        else:\n",
    "            self.model = reshaped\n",
    "    \n",
    "    def add_traces(self, traces):\n",
    "        if type(traces) != np.ndarray:\n",
    "            raise Exception(\"Trace is not of type numpy array, fail.\")\n",
    "        if traces.shape[1] != self.features_per_trace:\n",
    "            raise Exception(\"Trace is not a two-dimensional array of width\", self.features_per_trace, \", fail.\")\n",
    "        if len([x for x in traces.flatten() if x not in (-1, 0, 1)]) > 0:\n",
    "            raise Exception(\"Trace contains values besides -1, 0, or 1, fail.\")\n",
    "        if self.model is not None:\n",
    "            self.model = np.append(self.model, traces, axis=0)\n",
    "        else:\n",
    "            self.model = traces\n",
    "\n",
    "    def pretty_print(self, probe):\n",
    "        '''\n",
    "        Illustrates the calculation of echo intensity\n",
    "        '''\n",
    "        echo_intensity, activations, similarities = self.get_echo_intensity(probe, return_all=True)\n",
    "\n",
    "        print('PROBE:', list(probe))\n",
    "        for i in range(len(activations)):\n",
    "            print('TRACE {}:'.format(i), list(self.model[i]), '->', '{:>6.3f}^3 = {:>8.3f}'.format(similarities[i], activations[i]))\n",
    "        print('-'*80)\n",
    "        print('{:>80.3f}'.format(echo_intensity))"
   ]
  },
  {
   "cell_type": "markdown",
   "metadata": {},
   "source": [
    "## Try it out with some ZERO traces"
   ]
  },
  {
   "cell_type": "code",
   "execution_count": 6,
   "metadata": {
    "ExecuteTime": {
     "end_time": "2020-03-24T20:03:37.122414Z",
     "start_time": "2020-03-24T20:03:37.091611Z"
    }
   },
   "outputs": [],
   "source": [
    "model1_fpt = 10"
   ]
  },
  {
   "cell_type": "code",
   "execution_count": 7,
   "metadata": {
    "ExecuteTime": {
     "end_time": "2020-03-24T20:03:37.160175Z",
     "start_time": "2020-03-24T20:03:37.124724Z"
    }
   },
   "outputs": [],
   "source": [
    "model1 = Minerva2(model1_fpt)"
   ]
  },
  {
   "cell_type": "code",
   "execution_count": 8,
   "metadata": {
    "ExecuteTime": {
     "end_time": "2020-03-24T20:03:37.177399Z",
     "start_time": "2020-03-24T20:03:37.162724Z"
    }
   },
   "outputs": [],
   "source": [
    "for _ in range(10):\n",
    "    rand_trace = np.zeros(model1_fpt)\n",
    "    model1.add_trace(rand_trace)"
   ]
  },
  {
   "cell_type": "code",
   "execution_count": 9,
   "metadata": {
    "ExecuteTime": {
     "end_time": "2020-03-24T20:03:37.215732Z",
     "start_time": "2020-03-24T20:03:37.180109Z"
    }
   },
   "outputs": [
    {
     "data": {
      "text/plain": [
       "[array([0., 0., 0., 0., 0., 0., 0., 0., 0., 0.]),\n",
       " array([0., 0., 0., 0., 0., 0., 0., 0., 0., 0.]),\n",
       " array([0., 0., 0., 0., 0., 0., 0., 0., 0., 0.]),\n",
       " array([0., 0., 0., 0., 0., 0., 0., 0., 0., 0.]),\n",
       " array([0., 0., 0., 0., 0., 0., 0., 0., 0., 0.]),\n",
       " array([0., 0., 0., 0., 0., 0., 0., 0., 0., 0.]),\n",
       " array([0., 0., 0., 0., 0., 0., 0., 0., 0., 0.]),\n",
       " array([0., 0., 0., 0., 0., 0., 0., 0., 0., 0.]),\n",
       " array([0., 0., 0., 0., 0., 0., 0., 0., 0., 0.]),\n",
       " array([0., 0., 0., 0., 0., 0., 0., 0., 0., 0.])]"
      ]
     },
     "execution_count": 9,
     "metadata": {},
     "output_type": "execute_result"
    }
   ],
   "source": [
    "model1.model"
   ]
  },
  {
   "cell_type": "markdown",
   "metadata": {},
   "source": [
    "Let's create a random probe to test"
   ]
  },
  {
   "cell_type": "code",
   "execution_count": 10,
   "metadata": {
    "ExecuteTime": {
     "end_time": "2020-03-24T20:03:37.236837Z",
     "start_time": "2020-03-24T20:03:37.219589Z"
    }
   },
   "outputs": [
    {
     "data": {
      "text/plain": [
       "array([ 0, -1,  1,  0,  1,  1,  0,  1, -1,  1])"
      ]
     },
     "execution_count": 10,
     "metadata": {},
     "output_type": "execute_result"
    }
   ],
   "source": [
    "probe1 = np.random.randint(-1, 2, model1_fpt)\n",
    "probe1"
   ]
  },
  {
   "cell_type": "code",
   "execution_count": 11,
   "metadata": {
    "ExecuteTime": {
     "end_time": "2020-03-24T20:03:37.255840Z",
     "start_time": "2020-03-24T20:03:37.240189Z"
    }
   },
   "outputs": [
    {
     "data": {
      "text/plain": [
       "(0.0,\n",
       " [0.0, 0.0, 0.0, 0.0, 0.0, 0.0, 0.0, 0.0, 0.0, 0.0],\n",
       " [0.0, 0.0, 0.0, 0.0, 0.0, 0.0, 0.0, 0.0, 0.0, 0.0])"
      ]
     },
     "execution_count": 11,
     "metadata": {},
     "output_type": "execute_result"
    }
   ],
   "source": [
    "model1.get_echo_intensity(probe1, return_all=True)"
   ]
  },
  {
   "cell_type": "code",
   "execution_count": 12,
   "metadata": {
    "ExecuteTime": {
     "end_time": "2020-03-24T20:03:37.268487Z",
     "start_time": "2020-03-24T20:03:37.258177Z"
    }
   },
   "outputs": [
    {
     "name": "stdout",
     "output_type": "stream",
     "text": [
      "PROBE: [0, -1, 1, 0, 1, 1, 0, 1, -1, 1]\n",
      "TRACE 0: [0.0, 0.0, 0.0, 0.0, 0.0, 0.0, 0.0, 0.0, 0.0, 0.0] ->  0.000^3 =    0.000\n",
      "TRACE 1: [0.0, 0.0, 0.0, 0.0, 0.0, 0.0, 0.0, 0.0, 0.0, 0.0] ->  0.000^3 =    0.000\n",
      "TRACE 2: [0.0, 0.0, 0.0, 0.0, 0.0, 0.0, 0.0, 0.0, 0.0, 0.0] ->  0.000^3 =    0.000\n",
      "TRACE 3: [0.0, 0.0, 0.0, 0.0, 0.0, 0.0, 0.0, 0.0, 0.0, 0.0] ->  0.000^3 =    0.000\n",
      "TRACE 4: [0.0, 0.0, 0.0, 0.0, 0.0, 0.0, 0.0, 0.0, 0.0, 0.0] ->  0.000^3 =    0.000\n",
      "TRACE 5: [0.0, 0.0, 0.0, 0.0, 0.0, 0.0, 0.0, 0.0, 0.0, 0.0] ->  0.000^3 =    0.000\n",
      "TRACE 6: [0.0, 0.0, 0.0, 0.0, 0.0, 0.0, 0.0, 0.0, 0.0, 0.0] ->  0.000^3 =    0.000\n",
      "TRACE 7: [0.0, 0.0, 0.0, 0.0, 0.0, 0.0, 0.0, 0.0, 0.0, 0.0] ->  0.000^3 =    0.000\n",
      "TRACE 8: [0.0, 0.0, 0.0, 0.0, 0.0, 0.0, 0.0, 0.0, 0.0, 0.0] ->  0.000^3 =    0.000\n",
      "TRACE 9: [0.0, 0.0, 0.0, 0.0, 0.0, 0.0, 0.0, 0.0, 0.0, 0.0] ->  0.000^3 =    0.000\n",
      "--------------------------------------------------------------------------------\n",
      "                                                                           0.000\n"
     ]
    }
   ],
   "source": [
    "model1.pretty_print(probe1)"
   ]
  },
  {
   "cell_type": "markdown",
   "metadata": {},
   "source": [
    "Blank memory means a blank response! Looking good so far."
   ]
  },
  {
   "cell_type": "markdown",
   "metadata": {},
   "source": [
    "## Now test with random traces"
   ]
  },
  {
   "cell_type": "code",
   "execution_count": 13,
   "metadata": {
    "ExecuteTime": {
     "end_time": "2020-03-24T20:03:37.287999Z",
     "start_time": "2020-03-24T20:03:37.275888Z"
    }
   },
   "outputs": [],
   "source": [
    "model2_fpt = 8"
   ]
  },
  {
   "cell_type": "code",
   "execution_count": 14,
   "metadata": {
    "ExecuteTime": {
     "end_time": "2020-03-24T20:03:37.300509Z",
     "start_time": "2020-03-24T20:03:37.290214Z"
    }
   },
   "outputs": [],
   "source": [
    "model2 = Minerva2(model2_fpt)"
   ]
  },
  {
   "cell_type": "code",
   "execution_count": 15,
   "metadata": {
    "ExecuteTime": {
     "end_time": "2020-03-24T20:03:37.314115Z",
     "start_time": "2020-03-24T20:03:37.303239Z"
    }
   },
   "outputs": [],
   "source": [
    "for _ in range(12):\n",
    "    rand_trace = np.random.randint(-1, 2, model2_fpt)\n",
    "    model2.add_trace(rand_trace)"
   ]
  },
  {
   "cell_type": "code",
   "execution_count": 16,
   "metadata": {
    "ExecuteTime": {
     "end_time": "2020-03-24T20:03:37.332404Z",
     "start_time": "2020-03-24T20:03:37.316278Z"
    }
   },
   "outputs": [
    {
     "data": {
      "text/plain": [
       "[array([-1, -1,  0, -1, -1,  0,  1,  0]),\n",
       " array([-1,  0,  1,  0,  1, -1,  1, -1]),\n",
       " array([-1,  1, -1,  1,  1, -1, -1,  1]),\n",
       " array([-1,  1,  0,  1, -1,  0,  0,  1]),\n",
       " array([-1, -1,  0,  0,  1,  1,  1,  1]),\n",
       " array([-1, -1, -1,  1,  1,  0, -1,  0]),\n",
       " array([-1,  1, -1,  0,  0, -1,  1,  0]),\n",
       " array([ 0,  1, -1,  0,  1, -1, -1,  1]),\n",
       " array([-1, -1,  1,  0,  0, -1, -1,  1]),\n",
       " array([ 0, -1, -1,  1,  1,  0, -1, -1]),\n",
       " array([-1, -1, -1,  0, -1, -1,  1,  0]),\n",
       " array([-1, -1,  0, -1,  1, -1,  1, -1])]"
      ]
     },
     "execution_count": 16,
     "metadata": {},
     "output_type": "execute_result"
    }
   ],
   "source": [
    "model2.model"
   ]
  },
  {
   "cell_type": "markdown",
   "metadata": {},
   "source": [
    "And a random test probe..."
   ]
  },
  {
   "cell_type": "code",
   "execution_count": 17,
   "metadata": {
    "ExecuteTime": {
     "end_time": "2020-03-24T20:03:37.344892Z",
     "start_time": "2020-03-24T20:03:37.334868Z"
    }
   },
   "outputs": [
    {
     "data": {
      "text/plain": [
       "array([ 0,  0,  1,  0,  1, -1,  0,  0])"
      ]
     },
     "execution_count": 17,
     "metadata": {},
     "output_type": "execute_result"
    }
   ],
   "source": [
    "probe2 = np.random.randint(-1, 2, model2_fpt)\n",
    "probe2"
   ]
  },
  {
   "cell_type": "code",
   "execution_count": 18,
   "metadata": {
    "ExecuteTime": {
     "end_time": "2020-03-24T20:03:37.363197Z",
     "start_time": "2020-03-24T20:03:37.346897Z"
    }
   },
   "outputs": [
    {
     "data": {
      "text/plain": [
       "(0.0068359375,\n",
       " [-0.001953125,\n",
       "  0.052734375,\n",
       "  0.001953125,\n",
       "  -0.001953125,\n",
       "  0.0,\n",
       "  0.0,\n",
       "  0.0,\n",
       "  0.001953125,\n",
       "  0.015625,\n",
       "  0.0,\n",
       "  -0.001953125,\n",
       "  0.015625],\n",
       " [-0.125, 0.375, 0.125, -0.125, 0.0, 0.0, 0.0, 0.125, 0.25, 0.0, -0.125, 0.25])"
      ]
     },
     "execution_count": 18,
     "metadata": {},
     "output_type": "execute_result"
    }
   ],
   "source": [
    "model2.get_echo_intensity(probe2, return_all=True)"
   ]
  },
  {
   "cell_type": "code",
   "execution_count": 19,
   "metadata": {
    "ExecuteTime": {
     "end_time": "2020-03-24T20:03:37.411699Z",
     "start_time": "2020-03-24T20:03:37.365689Z"
    }
   },
   "outputs": [
    {
     "name": "stdout",
     "output_type": "stream",
     "text": [
      "PROBE: [0, 0, 1, 0, 1, -1, 0, 0]\n",
      "TRACE 0: [-1, -1, 0, -1, -1, 0, 1, 0] -> -0.125^3 =   -0.002\n",
      "TRACE 1: [-1, 0, 1, 0, 1, -1, 1, -1] ->  0.375^3 =    0.053\n",
      "TRACE 2: [-1, 1, -1, 1, 1, -1, -1, 1] ->  0.125^3 =    0.002\n",
      "TRACE 3: [-1, 1, 0, 1, -1, 0, 0, 1] -> -0.125^3 =   -0.002\n",
      "TRACE 4: [-1, -1, 0, 0, 1, 1, 1, 1] ->  0.000^3 =    0.000\n",
      "TRACE 5: [-1, -1, -1, 1, 1, 0, -1, 0] ->  0.000^3 =    0.000\n",
      "TRACE 6: [-1, 1, -1, 0, 0, -1, 1, 0] ->  0.000^3 =    0.000\n",
      "TRACE 7: [0, 1, -1, 0, 1, -1, -1, 1] ->  0.125^3 =    0.002\n",
      "TRACE 8: [-1, -1, 1, 0, 0, -1, -1, 1] ->  0.250^3 =    0.016\n",
      "TRACE 9: [0, -1, -1, 1, 1, 0, -1, -1] ->  0.000^3 =    0.000\n",
      "TRACE 10: [-1, -1, -1, 0, -1, -1, 1, 0] -> -0.125^3 =   -0.002\n",
      "TRACE 11: [-1, -1, 0, -1, 1, -1, 1, -1] ->  0.250^3 =    0.016\n",
      "--------------------------------------------------------------------------------\n",
      "                                                                           0.007\n"
     ]
    }
   ],
   "source": [
    "model2.pretty_print(probe2)"
   ]
  },
  {
   "cell_type": "markdown",
   "metadata": {},
   "source": [
    "### Do this a bunch to see what random traces and probes produce"
   ]
  },
  {
   "cell_type": "code",
   "execution_count": 20,
   "metadata": {
    "ExecuteTime": {
     "end_time": "2020-03-24T20:03:38.379373Z",
     "start_time": "2020-03-24T20:03:37.413979Z"
    }
   },
   "outputs": [],
   "source": [
    "import matplotlib.pyplot as plt"
   ]
  },
  {
   "cell_type": "code",
   "execution_count": 21,
   "metadata": {
    "ExecuteTime": {
     "end_time": "2020-03-24T20:03:38.690357Z",
     "start_time": "2020-03-24T20:03:38.381924Z"
    }
   },
   "outputs": [
    {
     "data": {
      "text/plain": [
       "[<matplotlib.lines.Line2D at 0x7f13278e9e10>]"
      ]
     },
     "execution_count": 21,
     "metadata": {},
     "output_type": "execute_result"
    },
    {
     "data": {
      "image/png": "[encoded data removed]",
      "text/plain": [
       "<Figure size 432x288 with 1 Axes>"
      ]
     },
     "metadata": {
      "needs_background": "light"
     },
     "output_type": "display_data"
    }
   ],
   "source": [
    "intensities = []\n",
    "for i in range(1000):\n",
    "    probe2 = np.random.randint(-1, 2, model2_fpt)\n",
    "    intensities.append(model2.get_echo_intensity(probe2))\n",
    "plt.plot(intensities)"
   ]
  },
  {
   "cell_type": "code",
   "execution_count": 22,
   "metadata": {
    "ExecuteTime": {
     "end_time": "2020-03-24T20:03:40.309380Z",
     "start_time": "2020-03-24T20:03:38.692351Z"
    }
   },
   "outputs": [
    {
     "data": {
      "image/png": "[encoded data removed]",
      "text/plain": [
       "<Figure size 432x288 with 1 Axes>"
      ]
     },
     "metadata": {
      "needs_background": "light"
     },
     "output_type": "display_data"
    }
   ],
   "source": [
    "from scipy.stats import norm\n",
    "\n",
    "mu, std = norm.fit(intensities)\n",
    "\n",
    "plt.hist(intensities, density=True)\n",
    "\n",
    "xmin, xmax = plt.xlim()\n",
    "x = np.linspace(xmin, xmax, 100)\n",
    "p = norm.pdf(x, mu, std)\n",
    "plt.plot(x, p, 'k', linewidth=2)\n",
    "title = \"Fit results: mu = %.2f,  std = %.2f\" % (mu, std)\n",
    "plt.title(title)\n",
    "\n",
    "plt.show()"
   ]
  },
  {
   "cell_type": "markdown",
   "metadata": {},
   "source": [
    "Good enough."
   ]
  },
  {
   "cell_type": "markdown",
   "metadata": {},
   "source": [
    "# Hintzmann's original experiment"
   ]
  },
  {
   "cell_type": "markdown",
   "metadata": {},
   "source": [
    "1. Create prototypes (no 0s)\n",
    "2. Create exemplars which are \n",
    "3. ???\n",
    "4. Profit."
   ]
  },
  {
   "cell_type": "markdown",
   "metadata": {},
   "source": [
    "# Mimic experiment 1"
   ]
  },
  {
   "cell_type": "markdown",
   "metadata": {},
   "source": [
    "Participants received partial features (rhythm/tone) during study, then at test were given a full song.\n",
    "\n",
    "We will simulate this by creating a list of random probes, `R`.\n",
    "\n",
    "Memory traces will be added which contain zeros, and some subset of `R`.\n",
    "\n",
    "We will be comparing trace/probe overlap amount on echo intensity."
   ]
  },
  {
   "cell_type": "code",
   "execution_count": 23,
   "metadata": {
    "ExecuteTime": {
     "end_time": "2020-03-24T20:03:40.314230Z",
     "start_time": "2020-03-24T20:03:40.311245Z"
    }
   },
   "outputs": [],
   "source": [
    "model3_fpt = 10\n",
    "model3_prototypes = 10\n",
    "model3_rhythm_tone_ratio = 0.7\n",
    "model3_noise_ratio = 0.5"
   ]
  },
  {
   "cell_type": "code",
   "execution_count": 24,
   "metadata": {
    "ExecuteTime": {
     "end_time": "2020-03-24T20:03:40.340761Z",
     "start_time": "2020-03-24T20:03:40.316169Z"
    }
   },
   "outputs": [],
   "source": [
    "model3 = Minerva2(model3_fpt)"
   ]
  },
  {
   "cell_type": "markdown",
   "metadata": {},
   "source": [
    "## Make some random probes"
   ]
  },
  {
   "cell_type": "code",
   "execution_count": 25,
   "metadata": {
    "ExecuteTime": {
     "end_time": "2020-03-24T20:03:40.364715Z",
     "start_time": "2020-03-24T20:03:40.345570Z"
    }
   },
   "outputs": [
    {
     "data": {
      "text/plain": [
       "(10, 10)"
      ]
     },
     "execution_count": 25,
     "metadata": {},
     "output_type": "execute_result"
    }
   ],
   "source": [
    "Ps = np.random.randint(-1, 2, (model3_prototypes, model3_fpt))\n",
    "Ps.shape"
   ]
  },
  {
   "cell_type": "code",
   "execution_count": 26,
   "metadata": {
    "ExecuteTime": {
     "end_time": "2020-03-24T20:03:40.382033Z",
     "start_time": "2020-03-24T20:03:40.367566Z"
    }
   },
   "outputs": [
    {
     "data": {
      "text/plain": [
       "array([[ 1,  0,  0, -1, -1,  1,  0,  1, -1, -1],\n",
       "       [ 1, -1, -1,  1, -1,  1,  1,  1,  0,  0],\n",
       "       [ 0, -1,  1, -1, -1, -1,  0,  0,  1, -1],\n",
       "       [-1, -1, -1,  1,  1, -1,  1, -1,  1,  0],\n",
       "       [-1, -1, -1,  1, -1,  0,  0, -1,  1, -1],\n",
       "       [-1,  0,  0,  0, -1, -1,  0, -1, -1,  0],\n",
       "       [ 1,  0,  0, -1,  1,  1,  1,  0, -1,  0],\n",
       "       [-1, -1,  1,  1,  0, -1, -1,  0,  0,  1],\n",
       "       [-1, -1,  0,  0,  1, -1, -1,  0,  0,  1],\n",
       "       [ 0,  1,  1,  0,  1,  0, -1, -1, -1,  0]])"
      ]
     },
     "execution_count": 26,
     "metadata": {},
     "output_type": "execute_result"
    }
   ],
   "source": [
    "Ps"
   ]
  },
  {
   "cell_type": "markdown",
   "metadata": {},
   "source": [
    "## Make rhythm/tone traces"
   ]
  },
  {
   "cell_type": "code",
   "execution_count": 27,
   "metadata": {
    "ExecuteTime": {
     "end_time": "2020-03-24T20:03:40.392552Z",
     "start_time": "2020-03-24T20:03:40.384802Z"
    }
   },
   "outputs": [],
   "source": [
    "PT_split_index = round(model3_prototypes * model3_noise_ratio)"
   ]
  },
  {
   "cell_type": "code",
   "execution_count": 28,
   "metadata": {
    "ExecuteTime": {
     "end_time": "2020-03-24T20:03:40.404655Z",
     "start_time": "2020-03-24T20:03:40.394738Z"
    }
   },
   "outputs": [],
   "source": [
    "T_Rs = np.copy(Ps)[:PT_split_index]\n",
    "T_Ts = np.copy(Ps)[:PT_split_index]"
   ]
  },
  {
   "cell_type": "markdown",
   "metadata": {},
   "source": [
    "Zero out `proportion` of features"
   ]
  },
  {
   "cell_type": "code",
   "execution_count": 29,
   "metadata": {
    "ExecuteTime": {
     "end_time": "2020-03-24T20:03:40.433323Z",
     "start_time": "2020-03-24T20:03:40.407170Z"
    }
   },
   "outputs": [
    {
     "data": {
      "text/plain": [
       "(5, 10)"
      ]
     },
     "execution_count": 29,
     "metadata": {},
     "output_type": "execute_result"
    }
   ],
   "source": [
    "T_Rs.shape"
   ]
  },
  {
   "cell_type": "code",
   "execution_count": 30,
   "metadata": {
    "ExecuteTime": {
     "end_time": "2020-03-24T20:03:40.446815Z",
     "start_time": "2020-03-24T20:03:40.436038Z"
    }
   },
   "outputs": [],
   "source": [
    "RT_split_index = round(model3_fpt * model3_rhythm_tone_ratio)"
   ]
  },
  {
   "cell_type": "code",
   "execution_count": 31,
   "metadata": {
    "ExecuteTime": {
     "end_time": "2020-03-24T20:03:40.456117Z",
     "start_time": "2020-03-24T20:03:40.449335Z"
    }
   },
   "outputs": [],
   "source": [
    "T_Rs[:, :RT_split_index] *= 0\n",
    "T_Ts[:, RT_split_index:] *= 0"
   ]
  },
  {
   "cell_type": "code",
   "execution_count": 32,
   "metadata": {
    "ExecuteTime": {
     "end_time": "2020-03-24T20:03:40.475820Z",
     "start_time": "2020-03-24T20:03:40.458885Z"
    }
   },
   "outputs": [
    {
     "data": {
      "text/plain": [
       "array([[ 0,  0,  0,  0,  0,  0,  0,  1, -1, -1],\n",
       "       [ 0,  0,  0,  0,  0,  0,  0,  1,  0,  0],\n",
       "       [ 0,  0,  0,  0,  0,  0,  0,  0,  1, -1],\n",
       "       [ 0,  0,  0,  0,  0,  0,  0, -1,  1,  0],\n",
       "       [ 0,  0,  0,  0,  0,  0,  0, -1,  1, -1]])"
      ]
     },
     "execution_count": 32,
     "metadata": {},
     "output_type": "execute_result"
    }
   ],
   "source": [
    "T_Rs"
   ]
  },
  {
   "cell_type": "code",
   "execution_count": 33,
   "metadata": {
    "ExecuteTime": {
     "end_time": "2020-03-24T20:03:40.502670Z",
     "start_time": "2020-03-24T20:03:40.478357Z"
    }
   },
   "outputs": [
    {
     "data": {
      "text/plain": [
       "array([[ 1,  0,  0, -1, -1,  1,  0,  0,  0,  0],\n",
       "       [ 1, -1, -1,  1, -1,  1,  1,  0,  0,  0],\n",
       "       [ 0, -1,  1, -1, -1, -1,  0,  0,  0,  0],\n",
       "       [-1, -1, -1,  1,  1, -1,  1,  0,  0,  0],\n",
       "       [-1, -1, -1,  1, -1,  0,  0,  0,  0,  0]])"
      ]
     },
     "execution_count": 33,
     "metadata": {},
     "output_type": "execute_result"
    }
   ],
   "source": [
    "T_Ts"
   ]
  },
  {
   "cell_type": "markdown",
   "metadata": {},
   "source": [
    "Only a certain number of these are kept, though (noise ratio)"
   ]
  },
  {
   "cell_type": "markdown",
   "metadata": {},
   "source": [
    "## Add traces to model"
   ]
  },
  {
   "cell_type": "code",
   "execution_count": 34,
   "metadata": {
    "ExecuteTime": {
     "end_time": "2020-03-24T20:03:40.519655Z",
     "start_time": "2020-03-24T20:03:40.505493Z"
    }
   },
   "outputs": [],
   "source": [
    "for T_R in T_Rs:\n",
    "    model3.add_trace(T_R)\n",
    "for T_T in T_Ts:\n",
    "    model3.add_trace(T_T)"
   ]
  },
  {
   "cell_type": "code",
   "execution_count": 35,
   "metadata": {
    "ExecuteTime": {
     "end_time": "2020-03-24T20:03:40.537418Z",
     "start_time": "2020-03-24T20:03:40.522160Z"
    }
   },
   "outputs": [
    {
     "data": {
      "text/plain": [
       "[array([ 0,  0,  0,  0,  0,  0,  0,  1, -1, -1]),\n",
       " array([0, 0, 0, 0, 0, 0, 0, 1, 0, 0]),\n",
       " array([ 0,  0,  0,  0,  0,  0,  0,  0,  1, -1]),\n",
       " array([ 0,  0,  0,  0,  0,  0,  0, -1,  1,  0]),\n",
       " array([ 0,  0,  0,  0,  0,  0,  0, -1,  1, -1]),\n",
       " array([ 1,  0,  0, -1, -1,  1,  0,  0,  0,  0]),\n",
       " array([ 1, -1, -1,  1, -1,  1,  1,  0,  0,  0]),\n",
       " array([ 0, -1,  1, -1, -1, -1,  0,  0,  0,  0]),\n",
       " array([-1, -1, -1,  1,  1, -1,  1,  0,  0,  0]),\n",
       " array([-1, -1, -1,  1, -1,  0,  0,  0,  0,  0])]"
      ]
     },
     "execution_count": 35,
     "metadata": {},
     "output_type": "execute_result"
    }
   ],
   "source": [
    "model3.model"
   ]
  },
  {
   "cell_type": "markdown",
   "metadata": {},
   "source": [
    "## Get echo intensities for all probes, splitting dis/similar"
   ]
  },
  {
   "cell_type": "code",
   "execution_count": 36,
   "metadata": {
    "ExecuteTime": {
     "end_time": "2020-03-24T20:03:40.553169Z",
     "start_time": "2020-03-24T20:03:40.540143Z"
    }
   },
   "outputs": [],
   "source": [
    "PRETTY=True"
   ]
  },
  {
   "cell_type": "code",
   "execution_count": 37,
   "metadata": {
    "ExecuteTime": {
     "end_time": "2020-03-24T20:03:40.629118Z",
     "start_time": "2020-03-24T20:03:40.555595Z"
    },
    "scrolled": true
   },
   "outputs": [
    {
     "name": "stdout",
     "output_type": "stream",
     "text": [
      "PROBE: [1, 0, 0, -1, -1, 1, 0, 1, -1, -1]\n",
      "TRACE 0: [0, 0, 0, 0, 0, 0, 0, 1, -1, -1] ->  0.300^3 =    0.027\n",
      "TRACE 1: [0, 0, 0, 0, 0, 0, 0, 1, 0, 0] ->  0.100^3 =    0.001\n",
      "TRACE 2: [0, 0, 0, 0, 0, 0, 0, 0, 1, -1] ->  0.000^3 =    0.000\n",
      "TRACE 3: [0, 0, 0, 0, 0, 0, 0, -1, 1, 0] -> -0.200^3 =   -0.008\n",
      "TRACE 4: [0, 0, 0, 0, 0, 0, 0, -1, 1, -1] -> -0.100^3 =   -0.001\n",
      "TRACE 5: [1, 0, 0, -1, -1, 1, 0, 0, 0, 0] ->  0.400^3 =    0.064\n",
      "TRACE 6: [1, -1, -1, 1, -1, 1, 1, 0, 0, 0] ->  0.200^3 =    0.008\n",
      "TRACE 7: [0, -1, 1, -1, -1, -1, 0, 0, 0, 0] ->  0.100^3 =    0.001\n",
      "TRACE 8: [-1, -1, -1, 1, 1, -1, 1, 0, 0, 0] -> -0.400^3 =   -0.064\n",
      "TRACE 9: [-1, -1, -1, 1, -1, 0, 0, 0, 0, 0] -> -0.100^3 =   -0.001\n",
      "--------------------------------------------------------------------------------\n",
      "                                                                           0.003\n",
      "PROBE: [1, -1, -1, 1, -1, 1, 1, 1, 0, 0]\n",
      "TRACE 0: [0, 0, 0, 0, 0, 0, 0, 1, -1, -1] ->  0.100^3 =    0.001\n",
      "TRACE 1: [0, 0, 0, 0, 0, 0, 0, 1, 0, 0] ->  0.100^3 =    0.001\n",
      "TRACE 2: [0, 0, 0, 0, 0, 0, 0, 0, 1, -1] ->  0.000^3 =    0.000\n",
      "TRACE 3: [0, 0, 0, 0, 0, 0, 0, -1, 1, 0] -> -0.100^3 =   -0.001\n",
      "TRACE 4: [0, 0, 0, 0, 0, 0, 0, -1, 1, -1] -> -0.100^3 =   -0.001\n",
      "TRACE 5: [1, 0, 0, -1, -1, 1, 0, 0, 0, 0] ->  0.200^3 =    0.008\n",
      "TRACE 6: [1, -1, -1, 1, -1, 1, 1, 0, 0, 0] ->  0.700^3 =    0.343\n",
      "TRACE 7: [0, -1, 1, -1, -1, -1, 0, 0, 0, 0] -> -0.100^3 =   -0.001\n",
      "TRACE 8: [-1, -1, -1, 1, 1, -1, 1, 0, 0, 0] ->  0.100^3 =    0.001\n",
      "TRACE 9: [-1, -1, -1, 1, -1, 0, 0, 0, 0, 0] ->  0.300^3 =    0.027\n",
      "--------------------------------------------------------------------------------\n",
      "                                                                           0.038\n",
      "PROBE: [0, -1, 1, -1, -1, -1, 0, 0, 1, -1]\n",
      "TRACE 0: [0, 0, 0, 0, 0, 0, 0, 1, -1, -1] ->  0.000^3 =    0.000\n",
      "TRACE 1: [0, 0, 0, 0, 0, 0, 0, 1, 0, 0] ->  0.000^3 =    0.000\n",
      "TRACE 2: [0, 0, 0, 0, 0, 0, 0, 0, 1, -1] ->  0.200^3 =    0.008\n",
      "TRACE 3: [0, 0, 0, 0, 0, 0, 0, -1, 1, 0] ->  0.100^3 =    0.001\n",
      "TRACE 4: [0, 0, 0, 0, 0, 0, 0, -1, 1, -1] ->  0.200^3 =    0.008\n",
      "TRACE 5: [1, 0, 0, -1, -1, 1, 0, 0, 0, 0] ->  0.100^3 =    0.001\n",
      "TRACE 6: [1, -1, -1, 1, -1, 1, 1, 0, 0, 0] -> -0.100^3 =   -0.001\n",
      "TRACE 7: [0, -1, 1, -1, -1, -1, 0, 0, 0, 0] ->  0.500^3 =    0.125\n",
      "TRACE 8: [-1, -1, -1, 1, 1, -1, 1, 0, 0, 0] -> -0.100^3 =   -0.001\n",
      "TRACE 9: [-1, -1, -1, 1, -1, 0, 0, 0, 0, 0] ->  0.000^3 =    0.000\n",
      "--------------------------------------------------------------------------------\n",
      "                                                                           0.014\n",
      "PROBE: [-1, -1, -1, 1, 1, -1, 1, -1, 1, 0]\n",
      "TRACE 0: [0, 0, 0, 0, 0, 0, 0, 1, -1, -1] -> -0.200^3 =   -0.008\n",
      "TRACE 1: [0, 0, 0, 0, 0, 0, 0, 1, 0, 0] -> -0.100^3 =   -0.001\n",
      "TRACE 2: [0, 0, 0, 0, 0, 0, 0, 0, 1, -1] ->  0.100^3 =    0.001\n",
      "TRACE 3: [0, 0, 0, 0, 0, 0, 0, -1, 1, 0] ->  0.200^3 =    0.008\n",
      "TRACE 4: [0, 0, 0, 0, 0, 0, 0, -1, 1, -1] ->  0.200^3 =    0.008\n",
      "TRACE 5: [1, 0, 0, -1, -1, 1, 0, 0, 0, 0] -> -0.400^3 =   -0.064\n",
      "TRACE 6: [1, -1, -1, 1, -1, 1, 1, 0, 0, 0] ->  0.100^3 =    0.001\n",
      "TRACE 7: [0, -1, 1, -1, -1, -1, 0, 0, 0, 0] -> -0.100^3 =   -0.001\n",
      "TRACE 8: [-1, -1, -1, 1, 1, -1, 1, 0, 0, 0] ->  0.700^3 =    0.343\n",
      "TRACE 9: [-1, -1, -1, 1, -1, 0, 0, 0, 0, 0] ->  0.300^3 =    0.027\n",
      "--------------------------------------------------------------------------------\n",
      "                                                                           0.031\n",
      "PROBE: [-1, -1, -1, 1, -1, 0, 0, -1, 1, -1]\n",
      "TRACE 0: [0, 0, 0, 0, 0, 0, 0, 1, -1, -1] -> -0.100^3 =   -0.001\n",
      "TRACE 1: [0, 0, 0, 0, 0, 0, 0, 1, 0, 0] -> -0.100^3 =   -0.001\n",
      "TRACE 2: [0, 0, 0, 0, 0, 0, 0, 0, 1, -1] ->  0.200^3 =    0.008\n",
      "TRACE 3: [0, 0, 0, 0, 0, 0, 0, -1, 1, 0] ->  0.200^3 =    0.008\n",
      "TRACE 4: [0, 0, 0, 0, 0, 0, 0, -1, 1, -1] ->  0.300^3 =    0.027\n",
      "TRACE 5: [1, 0, 0, -1, -1, 1, 0, 0, 0, 0] -> -0.100^3 =   -0.001\n",
      "TRACE 6: [1, -1, -1, 1, -1, 1, 1, 0, 0, 0] ->  0.300^3 =    0.027\n",
      "TRACE 7: [0, -1, 1, -1, -1, -1, 0, 0, 0, 0] ->  0.000^3 =    0.000\n",
      "TRACE 8: [-1, -1, -1, 1, 1, -1, 1, 0, 0, 0] ->  0.300^3 =    0.027\n",
      "TRACE 9: [-1, -1, -1, 1, -1, 0, 0, 0, 0, 0] ->  0.500^3 =    0.125\n",
      "--------------------------------------------------------------------------------\n",
      "                                                                           0.022\n",
      "PROBE: [-1, 0, 0, 0, -1, -1, 0, -1, -1, 0]\n",
      "TRACE 0: [0, 0, 0, 0, 0, 0, 0, 1, -1, -1] ->  0.000^3 =    0.000\n",
      "TRACE 1: [0, 0, 0, 0, 0, 0, 0, 1, 0, 0] -> -0.100^3 =   -0.001\n",
      "TRACE 2: [0, 0, 0, 0, 0, 0, 0, 0, 1, -1] -> -0.100^3 =   -0.001\n",
      "TRACE 3: [0, 0, 0, 0, 0, 0, 0, -1, 1, 0] ->  0.000^3 =    0.000\n",
      "TRACE 4: [0, 0, 0, 0, 0, 0, 0, -1, 1, -1] ->  0.000^3 =    0.000\n",
      "TRACE 5: [1, 0, 0, -1, -1, 1, 0, 0, 0, 0] -> -0.100^3 =   -0.001\n",
      "TRACE 6: [1, -1, -1, 1, -1, 1, 1, 0, 0, 0] -> -0.100^3 =   -0.001\n",
      "TRACE 7: [0, -1, 1, -1, -1, -1, 0, 0, 0, 0] ->  0.200^3 =    0.008\n",
      "TRACE 8: [-1, -1, -1, 1, 1, -1, 1, 0, 0, 0] ->  0.100^3 =    0.001\n",
      "TRACE 9: [-1, -1, -1, 1, -1, 0, 0, 0, 0, 0] ->  0.200^3 =    0.008\n",
      "--------------------------------------------------------------------------------\n",
      "                                                                           0.001\n",
      "PROBE: [1, 0, 0, -1, 1, 1, 1, 0, -1, 0]\n",
      "TRACE 0: [0, 0, 0, 0, 0, 0, 0, 1, -1, -1] ->  0.100^3 =    0.001\n",
      "TRACE 1: [0, 0, 0, 0, 0, 0, 0, 1, 0, 0] ->  0.000^3 =    0.000\n",
      "TRACE 2: [0, 0, 0, 0, 0, 0, 0, 0, 1, -1] -> -0.100^3 =   -0.001\n",
      "TRACE 3: [0, 0, 0, 0, 0, 0, 0, -1, 1, 0] -> -0.100^3 =   -0.001\n",
      "TRACE 4: [0, 0, 0, 0, 0, 0, 0, -1, 1, -1] -> -0.100^3 =   -0.001\n",
      "TRACE 5: [1, 0, 0, -1, -1, 1, 0, 0, 0, 0] ->  0.200^3 =    0.008\n",
      "TRACE 6: [1, -1, -1, 1, -1, 1, 1, 0, 0, 0] ->  0.100^3 =    0.001\n",
      "TRACE 7: [0, -1, 1, -1, -1, -1, 0, 0, 0, 0] -> -0.100^3 =   -0.001\n",
      "TRACE 8: [-1, -1, -1, 1, 1, -1, 1, 0, 0, 0] -> -0.100^3 =   -0.001\n",
      "TRACE 9: [-1, -1, -1, 1, -1, 0, 0, 0, 0, 0] -> -0.300^3 =   -0.027\n",
      "--------------------------------------------------------------------------------\n",
      "                                                                          -0.002\n",
      "PROBE: [-1, -1, 1, 1, 0, -1, -1, 0, 0, 1]\n",
      "TRACE 0: [0, 0, 0, 0, 0, 0, 0, 1, -1, -1] -> -0.100^3 =   -0.001\n",
      "TRACE 1: [0, 0, 0, 0, 0, 0, 0, 1, 0, 0] ->  0.000^3 =    0.000\n",
      "TRACE 2: [0, 0, 0, 0, 0, 0, 0, 0, 1, -1] -> -0.100^3 =   -0.001\n",
      "TRACE 3: [0, 0, 0, 0, 0, 0, 0, -1, 1, 0] ->  0.000^3 =    0.000\n",
      "TRACE 4: [0, 0, 0, 0, 0, 0, 0, -1, 1, -1] -> -0.100^3 =   -0.001\n",
      "TRACE 5: [1, 0, 0, -1, -1, 1, 0, 0, 0, 0] -> -0.300^3 =   -0.027\n",
      "TRACE 6: [1, -1, -1, 1, -1, 1, 1, 0, 0, 0] -> -0.200^3 =   -0.008\n",
      "TRACE 7: [0, -1, 1, -1, -1, -1, 0, 0, 0, 0] ->  0.200^3 =    0.008\n",
      "TRACE 8: [-1, -1, -1, 1, 1, -1, 1, 0, 0, 0] ->  0.200^3 =    0.008\n",
      "TRACE 9: [-1, -1, -1, 1, -1, 0, 0, 0, 0, 0] ->  0.200^3 =    0.008\n",
      "--------------------------------------------------------------------------------\n",
      "                                                                          -0.001\n",
      "PROBE: [-1, -1, 0, 0, 1, -1, -1, 0, 0, 1]\n",
      "TRACE 0: [0, 0, 0, 0, 0, 0, 0, 1, -1, -1] -> -0.100^3 =   -0.001\n",
      "TRACE 1: [0, 0, 0, 0, 0, 0, 0, 1, 0, 0] ->  0.000^3 =    0.000\n",
      "TRACE 2: [0, 0, 0, 0, 0, 0, 0, 0, 1, -1] -> -0.100^3 =   -0.001\n",
      "TRACE 3: [0, 0, 0, 0, 0, 0, 0, -1, 1, 0] ->  0.000^3 =    0.000\n",
      "TRACE 4: [0, 0, 0, 0, 0, 0, 0, -1, 1, -1] -> -0.100^3 =   -0.001\n",
      "TRACE 5: [1, 0, 0, -1, -1, 1, 0, 0, 0, 0] -> -0.300^3 =   -0.027\n",
      "TRACE 6: [1, -1, -1, 1, -1, 1, 1, 0, 0, 0] -> -0.300^3 =   -0.027\n",
      "TRACE 7: [0, -1, 1, -1, -1, -1, 0, 0, 0, 0] ->  0.100^3 =    0.001\n",
      "TRACE 8: [-1, -1, -1, 1, 1, -1, 1, 0, 0, 0] ->  0.300^3 =    0.027\n",
      "TRACE 9: [-1, -1, -1, 1, -1, 0, 0, 0, 0, 0] ->  0.100^3 =    0.001\n",
      "--------------------------------------------------------------------------------\n",
      "                                                                          -0.003\n",
      "PROBE: [0, 1, 1, 0, 1, 0, -1, -1, -1, 0]\n",
      "TRACE 0: [0, 0, 0, 0, 0, 0, 0, 1, -1, -1] ->  0.000^3 =    0.000\n",
      "TRACE 1: [0, 0, 0, 0, 0, 0, 0, 1, 0, 0] -> -0.100^3 =   -0.001\n",
      "TRACE 2: [0, 0, 0, 0, 0, 0, 0, 0, 1, -1] -> -0.100^3 =   -0.001\n",
      "TRACE 3: [0, 0, 0, 0, 0, 0, 0, -1, 1, 0] ->  0.000^3 =    0.000\n",
      "TRACE 4: [0, 0, 0, 0, 0, 0, 0, -1, 1, -1] ->  0.000^3 =    0.000\n",
      "TRACE 5: [1, 0, 0, -1, -1, 1, 0, 0, 0, 0] -> -0.100^3 =   -0.001\n",
      "TRACE 6: [1, -1, -1, 1, -1, 1, 1, 0, 0, 0] -> -0.400^3 =   -0.064\n",
      "TRACE 7: [0, -1, 1, -1, -1, -1, 0, 0, 0, 0] -> -0.100^3 =   -0.001\n",
      "TRACE 8: [-1, -1, -1, 1, 1, -1, 1, 0, 0, 0] -> -0.200^3 =   -0.008\n",
      "TRACE 9: [-1, -1, -1, 1, -1, 0, 0, 0, 0, 0] -> -0.300^3 =   -0.027\n",
      "--------------------------------------------------------------------------------\n",
      "                                                                          -0.010\n"
     ]
    }
   ],
   "source": [
    "sim_intensities = []\n",
    "dis_intensities = []\n",
    "for i, P in enumerate(Ps):\n",
    "    intensity = model3.get_echo_intensity(P)\n",
    "    if i < PT_split_index:\n",
    "        sim_intensities.append(intensity)\n",
    "    else:\n",
    "        dis_intensities.append(intensity)\n",
    "    if PRETTY:\n",
    "        model3.pretty_print(P)"
   ]
  },
  {
   "cell_type": "markdown",
   "metadata": {},
   "source": [
    "## Analyze"
   ]
  },
  {
   "cell_type": "code",
   "execution_count": 38,
   "metadata": {
    "ExecuteTime": {
     "end_time": "2020-03-24T20:03:40.891242Z",
     "start_time": "2020-03-24T20:03:40.630957Z"
    }
   },
   "outputs": [
    {
     "data": {
      "image/png": "[encoded data removed]",
      "text/plain": [
       "<Figure size 432x288 with 1 Axes>"
      ]
     },
     "metadata": {
      "needs_background": "light"
     },
     "output_type": "display_data"
    }
   ],
   "source": [
    "from scipy.stats import norm\n",
    "\n",
    "mu, std = norm.fit(sim_intensities)\n",
    "\n",
    "plt.hist(sim_intensities, density=True, label='similar')\n",
    "\n",
    "xmin, xmax = plt.xlim()\n",
    "x = np.linspace(xmin, xmax, 100)\n",
    "p = norm.pdf(x, mu, std)\n",
    "plt.plot(x, p, 'k', linewidth=2)\n",
    "#title = \"Fit results: mu = %.2f,  std = %.2f\" % (mu, std)\n",
    "#plt.title(title)\n",
    "mu, std = norm.fit(dis_intensities)\n",
    "\n",
    "plt.hist(dis_intensities, density=True, label='dissimilar')\n",
    "\n",
    "xmin, xmax = plt.xlim()\n",
    "x = np.linspace(xmin, xmax, 100)\n",
    "p = norm.pdf(x, mu, std)\n",
    "plt.plot(x, p, 'k', linewidth=2)\n",
    "#title = \"Fit results: mu = %.2f,  std = %.2f\" % (mu, std)\n",
    "#plt.title(title)\n",
    "plt.legend()\n",
    "\n",
    "plt.show()"
   ]
  },
  {
   "cell_type": "markdown",
   "metadata": {},
   "source": [
    "## REPEAT!"
   ]
  },
  {
   "cell_type": "code",
   "execution_count": 48,
   "metadata": {
    "ExecuteTime": {
     "end_time": "2020-03-24T20:12:28.519442Z",
     "start_time": "2020-03-24T20:12:19.878654Z"
    },
    "scrolled": false
   },
   "outputs": [
    {
     "ename": "TypeError",
     "evalue": "int() argument must be a string, a bytes-like object or a number, not 'tuple'",
     "output_type": "error",
     "traceback": [
      "\u001b[0;31m---------------------------------------------------------------------------\u001b[0m",
      "\u001b[0;31mTypeError\u001b[0m                                 Traceback (most recent call last)",
      "\u001b[0;32m<ipython-input-48-82e6e92a7aa5>\u001b[0m in \u001b[0;36m<module>\u001b[0;34m\u001b[0m\n\u001b[1;32m     61\u001b[0m             \u001b[0mdis_intensities_rhythm\u001b[0m\u001b[0;34m.\u001b[0m\u001b[0mappend\u001b[0m\u001b[0;34m(\u001b[0m\u001b[0mintensity_rhythm\u001b[0m\u001b[0;34m)\u001b[0m\u001b[0;34m\u001b[0m\u001b[0;34m\u001b[0m\u001b[0m\n\u001b[1;32m     62\u001b[0m \u001b[0;34m\u001b[0m\u001b[0m\n\u001b[0;32m---> 63\u001b[0;31m     \u001b[0max\u001b[0m\u001b[0;34m,\u001b[0m \u001b[0mfig\u001b[0m \u001b[0;34m=\u001b[0m \u001b[0mplt\u001b[0m\u001b[0;34m.\u001b[0m\u001b[0msubplot\u001b[0m\u001b[0;34m(\u001b[0m\u001b[0;34m(\u001b[0m\u001b[0;36m1\u001b[0m\u001b[0;34m,\u001b[0m \u001b[0;36m1\u001b[0m\u001b[0;34m)\u001b[0m\u001b[0;34m)\u001b[0m\u001b[0;34m\u001b[0m\u001b[0;34m\u001b[0m\u001b[0m\n\u001b[0m\u001b[1;32m     64\u001b[0m     \u001b[0;31m# plot histograms and normal PDFs\u001b[0m\u001b[0;34m\u001b[0m\u001b[0;34m\u001b[0m\u001b[0;34m\u001b[0m\u001b[0m\n\u001b[1;32m     65\u001b[0m     \u001b[0mshow_densities\u001b[0m\u001b[0;34m(\u001b[0m\u001b[0msim_intensities_none\u001b[0m\u001b[0;34m,\u001b[0m \u001b[0mdis_intensities_none\u001b[0m\u001b[0;34m,\u001b[0m \u001b[0;34m'No overlap'\u001b[0m\u001b[0;34m)\u001b[0m\u001b[0;34m\u001b[0m\u001b[0;34m\u001b[0m\u001b[0m\n",
      "\u001b[0;32m/s/parsons/h/proj/vision/usr/dwhite54/anaconda3/lib/python3.7/site-packages/matplotlib/pyplot.py\u001b[0m in \u001b[0;36msubplot\u001b[0;34m(*args, **kwargs)\u001b[0m\n\u001b[1;32m   1074\u001b[0m \u001b[0;34m\u001b[0m\u001b[0m\n\u001b[1;32m   1075\u001b[0m     \u001b[0mfig\u001b[0m \u001b[0;34m=\u001b[0m \u001b[0mgcf\u001b[0m\u001b[0;34m(\u001b[0m\u001b[0;34m)\u001b[0m\u001b[0;34m\u001b[0m\u001b[0;34m\u001b[0m\u001b[0m\n\u001b[0;32m-> 1076\u001b[0;31m     \u001b[0ma\u001b[0m \u001b[0;34m=\u001b[0m \u001b[0mfig\u001b[0m\u001b[0;34m.\u001b[0m\u001b[0madd_subplot\u001b[0m\u001b[0;34m(\u001b[0m\u001b[0;34m*\u001b[0m\u001b[0margs\u001b[0m\u001b[0;34m,\u001b[0m \u001b[0;34m**\u001b[0m\u001b[0mkwargs\u001b[0m\u001b[0;34m)\u001b[0m\u001b[0;34m\u001b[0m\u001b[0;34m\u001b[0m\u001b[0m\n\u001b[0m\u001b[1;32m   1077\u001b[0m     \u001b[0mbbox\u001b[0m \u001b[0;34m=\u001b[0m \u001b[0ma\u001b[0m\u001b[0;34m.\u001b[0m\u001b[0mbbox\u001b[0m\u001b[0;34m\u001b[0m\u001b[0;34m\u001b[0m\u001b[0m\n\u001b[1;32m   1078\u001b[0m     \u001b[0mbyebye\u001b[0m \u001b[0;34m=\u001b[0m \u001b[0;34m[\u001b[0m\u001b[0;34m]\u001b[0m\u001b[0;34m\u001b[0m\u001b[0;34m\u001b[0m\u001b[0m\n",
      "\u001b[0;32m/s/parsons/h/proj/vision/usr/dwhite54/anaconda3/lib/python3.7/site-packages/matplotlib/figure.py\u001b[0m in \u001b[0;36madd_subplot\u001b[0;34m(self, *args, **kwargs)\u001b[0m\n\u001b[1;32m   1412\u001b[0m                     \u001b[0mself\u001b[0m\u001b[0;34m.\u001b[0m\u001b[0m_axstack\u001b[0m\u001b[0;34m.\u001b[0m\u001b[0mremove\u001b[0m\u001b[0;34m(\u001b[0m\u001b[0max\u001b[0m\u001b[0;34m)\u001b[0m\u001b[0;34m\u001b[0m\u001b[0;34m\u001b[0m\u001b[0m\n\u001b[1;32m   1413\u001b[0m \u001b[0;34m\u001b[0m\u001b[0m\n\u001b[0;32m-> 1414\u001b[0;31m             \u001b[0ma\u001b[0m \u001b[0;34m=\u001b[0m \u001b[0msubplot_class_factory\u001b[0m\u001b[0;34m(\u001b[0m\u001b[0mprojection_class\u001b[0m\u001b[0;34m)\u001b[0m\u001b[0;34m(\u001b[0m\u001b[0mself\u001b[0m\u001b[0;34m,\u001b[0m \u001b[0;34m*\u001b[0m\u001b[0margs\u001b[0m\u001b[0;34m,\u001b[0m \u001b[0;34m**\u001b[0m\u001b[0mkwargs\u001b[0m\u001b[0;34m)\u001b[0m\u001b[0;34m\u001b[0m\u001b[0;34m\u001b[0m\u001b[0m\n\u001b[0m\u001b[1;32m   1415\u001b[0m \u001b[0;34m\u001b[0m\u001b[0m\n\u001b[1;32m   1416\u001b[0m         \u001b[0;32mreturn\u001b[0m \u001b[0mself\u001b[0m\u001b[0;34m.\u001b[0m\u001b[0m_add_axes_internal\u001b[0m\u001b[0;34m(\u001b[0m\u001b[0mkey\u001b[0m\u001b[0;34m,\u001b[0m \u001b[0ma\u001b[0m\u001b[0;34m)\u001b[0m\u001b[0;34m\u001b[0m\u001b[0;34m\u001b[0m\u001b[0m\n",
      "\u001b[0;32m/s/parsons/h/proj/vision/usr/dwhite54/anaconda3/lib/python3.7/site-packages/matplotlib/axes/_subplots.py\u001b[0m in \u001b[0;36m__init__\u001b[0;34m(self, fig, *args, **kwargs)\u001b[0m\n\u001b[1;32m     37\u001b[0m             \u001b[0;32melse\u001b[0m\u001b[0;34m:\u001b[0m\u001b[0;34m\u001b[0m\u001b[0;34m\u001b[0m\u001b[0m\n\u001b[1;32m     38\u001b[0m                 \u001b[0;32mtry\u001b[0m\u001b[0;34m:\u001b[0m\u001b[0;34m\u001b[0m\u001b[0;34m\u001b[0m\u001b[0m\n\u001b[0;32m---> 39\u001b[0;31m                     \u001b[0ms\u001b[0m \u001b[0;34m=\u001b[0m \u001b[0mstr\u001b[0m\u001b[0;34m(\u001b[0m\u001b[0mint\u001b[0m\u001b[0;34m(\u001b[0m\u001b[0margs\u001b[0m\u001b[0;34m[\u001b[0m\u001b[0;36m0\u001b[0m\u001b[0;34m]\u001b[0m\u001b[0;34m)\u001b[0m\u001b[0;34m)\u001b[0m\u001b[0;34m\u001b[0m\u001b[0;34m\u001b[0m\u001b[0m\n\u001b[0m\u001b[1;32m     40\u001b[0m                     \u001b[0mrows\u001b[0m\u001b[0;34m,\u001b[0m \u001b[0mcols\u001b[0m\u001b[0;34m,\u001b[0m \u001b[0mnum\u001b[0m \u001b[0;34m=\u001b[0m \u001b[0mmap\u001b[0m\u001b[0;34m(\u001b[0m\u001b[0mint\u001b[0m\u001b[0;34m,\u001b[0m \u001b[0ms\u001b[0m\u001b[0;34m)\u001b[0m\u001b[0;34m\u001b[0m\u001b[0;34m\u001b[0m\u001b[0m\n\u001b[1;32m     41\u001b[0m                 \u001b[0;32mexcept\u001b[0m \u001b[0mValueError\u001b[0m\u001b[0;34m:\u001b[0m\u001b[0;34m\u001b[0m\u001b[0;34m\u001b[0m\u001b[0m\n",
      "\u001b[0;31mTypeError\u001b[0m: int() argument must be a string, a bytes-like object or a number, not 'tuple'"
     ]
    },
    {
     "data": {
      "text/plain": [
       "<Figure size 432x288 with 0 Axes>"
      ]
     },
     "metadata": {},
     "output_type": "display_data"
    }
   ],
   "source": [
    "# tunable variables\n",
    "FPT = 1000\n",
    "N_PROTOTYPES = 1000\n",
    "RHYTHM_TONE_RATIO = 0.7\n",
    "NOISE_RATIO = 0.5\n",
    "\n",
    "for _ in range(10):\n",
    "    # create model\n",
    "    model_both = Minerva2(FPT)\n",
    "    model_none = Minerva2(FPT)\n",
    "    model_tone = Minerva2(FPT)\n",
    "    model_rhythm = Minerva2(FPT)\n",
    "    # create probes\n",
    "    Ps = np.random.randint(-1, 2, (N_PROTOTYPES, FPT))\n",
    "    PT_split_index = round(N_PROTOTYPES * NOISE_RATIO)\n",
    "\n",
    "    # create traces (subset of probes)\n",
    "    T_Rs = np.copy(Ps)[:PT_split_index]\n",
    "    T_Ts = np.copy(Ps)[:PT_split_index]\n",
    "\n",
    "    # zero out parts of traces (symmetrically)\n",
    "    RT_split_index = round(FPT * RHYTHM_TONE_RATIO)\n",
    "\n",
    "    T_Rs[:, :RT_split_index] *= 0\n",
    "    T_Ts[:, RT_split_index:] *= 0\n",
    "\n",
    "    # add traces to model\n",
    "    for T_R in T_Rs:\n",
    "        model_both.add_trace(T_R)\n",
    "        model_rhythm.add_trace(T_R)\n",
    "    for T_T in T_Ts:\n",
    "        model_both.add_trace(T_T)\n",
    "        model_tone.add_trace(T_T)\n",
    "        \n",
    "    for rand_trace in np.random.randint(-1, 2, (round(N_PROTOTYPES * NOISE_RATIO), FPT)):\n",
    "        model_none.add_trace(rand_trace)\n",
    "\n",
    "    # get echo intensities\n",
    "    sim_intensities_none = []\n",
    "    sim_intensities_both = []\n",
    "    sim_intensities_tone = []\n",
    "    sim_intensities_rhythm = []\n",
    "    dis_intensities_none = []\n",
    "    dis_intensities_both = []\n",
    "    dis_intensities_tone = []\n",
    "    dis_intensities_rhythm = []\n",
    "    for i, P in enumerate(Ps):\n",
    "        intensity_none = model_none.get_echo_intensity(P)\n",
    "        intensity_both = model_both.get_echo_intensity(P)\n",
    "        intensity_tone = model_tone.get_echo_intensity(P)\n",
    "        intensity_rhythm = model_rhythm.get_echo_intensity(P)\n",
    "        if i < PT_split_index:\n",
    "            sim_intensities_none.append(intensity_none)\n",
    "            sim_intensities_both.append(intensity_both)\n",
    "            sim_intensities_tone.append(intensity_tone)\n",
    "            sim_intensities_rhythm.append(intensity_rhythm)\n",
    "        else:\n",
    "            dis_intensities_none.append(intensity_none)\n",
    "            dis_intensities_both.append(intensity_both)\n",
    "            dis_intensities_tone.append(intensity_tone)\n",
    "            dis_intensities_rhythm.append(intensity_rhythm)\n",
    "\n",
    "    ax, fig = plt.subplots((1, 1))\n",
    "    # plot histograms and normal PDFs\n",
    "    show_densities(sim_intensities_none, dis_intensities_none, 'No overlap')\n",
    "    show_densities(sim_intensities_both, dis_intensities_both, 'Tone and Rhythm overlap')\n",
    "    show_densities(sim_intensities_tone, dis_intensities_tone, 'Tone only overlap')\n",
    "    show_densities(sim_intensities_rhythm, dis_intensities_rhythm, 'Rhythm only overlap')\n",
    "\n",
    "    plt.figure(figsize=(14,7))\n",
    "\n",
    "    mu1, std1 = norm.fit(a)\n",
    "    mu2, std2 = norm.fit(b)\n",
    "\n",
    "    ax.hist(a, density=True, label='similar')\n",
    "    ax.hist(b, density=True, label='dissimilar')\n",
    "\n",
    "    xmin, xmax = plt.xlim()\n",
    "    x = np.linspace(xmin, xmax, 10000)\n",
    "\n",
    "    p1 = norm.pdf(x, mu1, std1)\n",
    "    ax.plot(x, p1, 'k',linewidth=2, label='$\\mu$ = %.2e, $\\sigma$ = %.2e' % (mu1, std1))\n",
    "\n",
    "    p2 = norm.pdf(x, mu2, std2)\n",
    "    ax.plot(x, p2, 'b', linewidth=2, label='$\\mu$ = %.2e, $\\sigma$ = %.2e' % (mu2, std2))\n",
    "\n",
    "    plt.title(title + \" - Intensity as a function of similarity (histogram, and PDFs)\")\n",
    "    plt.legend()\n",
    "    plt.xlabel(\"Echo Intensity\")\n",
    "    plt.ylabel(\"Density\")\n",
    "    plt.grid(True)\n",
    "    plt.show()\n",
    "    break"
   ]
  },
  {
   "cell_type": "markdown",
   "metadata": {},
   "source": [
    "1. remove unstudied\n",
    "2. add rhythm only\n",
    "3. add tone only\n",
    "4. add noise to everything\n",
    "5. single studied vs multiple studied"
   ]
  },
  {
   "cell_type": "markdown",
   "metadata": {},
   "source": [
    "# Round 2!"
   ]
  },
  {
   "cell_type": "markdown",
   "metadata": {},
   "source": [
    "ding ding"
   ]
  },
  {
   "cell_type": "code",
   "execution_count": 61,
   "metadata": {
    "ExecuteTime": {
     "end_time": "2020-03-24T20:48:07.038361Z",
     "start_time": "2020-03-24T20:48:07.029823Z"
    }
   },
   "outputs": [
    {
     "data": {
      "text/plain": [
       "array([[ 0,  1,  2,  3],\n",
       "       [ 4,  5,  6,  7],\n",
       "       [ 8,  9, 10, 11],\n",
       "       [12, 13, 14, 15]])"
      ]
     },
     "execution_count": 61,
     "metadata": {},
     "output_type": "execute_result"
    }
   ],
   "source": [
    "a = np.reshape(np.arange(16), (4, -1))\n",
    "a"
   ]
  },
  {
   "cell_type": "code",
   "execution_count": 62,
   "metadata": {
    "ExecuteTime": {
     "end_time": "2020-03-24T20:48:25.128348Z",
     "start_time": "2020-03-24T20:48:25.121396Z"
    }
   },
   "outputs": [
    {
     "data": {
      "text/plain": [
       "array([0, 1, 2, 3])"
      ]
     },
     "execution_count": 62,
     "metadata": {},
     "output_type": "execute_result"
    }
   ],
   "source": [
    "a[0]"
   ]
  },
  {
   "cell_type": "code",
   "execution_count": 63,
   "metadata": {
    "ExecuteTime": {
     "end_time": "2020-03-24T20:48:39.886548Z",
     "start_time": "2020-03-24T20:48:39.879088Z"
    }
   },
   "outputs": [
    {
     "data": {
      "text/plain": [
       "2"
      ]
     },
     "execution_count": 63,
     "metadata": {},
     "output_type": "execute_result"
    }
   ],
   "source": [
    "a[0, 2]"
   ]
  },
  {
   "cell_type": "code",
   "execution_count": 75,
   "metadata": {
    "ExecuteTime": {
     "end_time": "2020-03-24T20:52:07.402975Z",
     "start_time": "2020-03-24T20:52:07.395923Z"
    }
   },
   "outputs": [
    {
     "data": {
      "text/plain": [
       "2"
      ]
     },
     "execution_count": 75,
     "metadata": {},
     "output_type": "execute_result"
    }
   ],
   "source": [
    "a[0][2]"
   ]
  },
  {
   "cell_type": "code",
   "execution_count": 66,
   "metadata": {
    "ExecuteTime": {
     "end_time": "2020-03-24T20:49:30.753075Z",
     "start_time": "2020-03-24T20:49:30.745641Z"
    }
   },
   "outputs": [
    {
     "data": {
      "text/plain": [
       "array([[0, 1, 2, 3],\n",
       "       [4, 5, 6, 7]])"
      ]
     },
     "execution_count": 66,
     "metadata": {},
     "output_type": "execute_result"
    }
   ],
   "source": [
    "a[0:2]"
   ]
  },
  {
   "cell_type": "code",
   "execution_count": 67,
   "metadata": {
    "ExecuteTime": {
     "end_time": "2020-03-24T20:49:37.130824Z",
     "start_time": "2020-03-24T20:49:37.123581Z"
    }
   },
   "outputs": [
    {
     "data": {
      "text/plain": [
       "array([[0, 1, 2, 3],\n",
       "       [4, 5, 6, 7]])"
      ]
     },
     "execution_count": 67,
     "metadata": {},
     "output_type": "execute_result"
    }
   ],
   "source": [
    "a[:2]"
   ]
  },
  {
   "cell_type": "code",
   "execution_count": 69,
   "metadata": {
    "ExecuteTime": {
     "end_time": "2020-03-24T20:50:06.251471Z",
     "start_time": "2020-03-24T20:50:06.243758Z"
    }
   },
   "outputs": [
    {
     "data": {
      "text/plain": [
       "array([[ 8,  9, 10, 11],\n",
       "       [12, 13, 14, 15]])"
      ]
     },
     "execution_count": 69,
     "metadata": {},
     "output_type": "execute_result"
    }
   ],
   "source": [
    "a[2:]"
   ]
  },
  {
   "cell_type": "code",
   "execution_count": 74,
   "metadata": {
    "ExecuteTime": {
     "end_time": "2020-03-24T20:51:52.069044Z",
     "start_time": "2020-03-24T20:51:52.061443Z"
    }
   },
   "outputs": [
    {
     "data": {
      "text/plain": [
       "array([[ 0,  1,  2,  3],\n",
       "       [ 4,  5,  6,  7],\n",
       "       [ 8,  9, 10, 11],\n",
       "       [12, 13, 14, 15]])"
      ]
     },
     "execution_count": 74,
     "metadata": {},
     "output_type": "execute_result"
    }
   ],
   "source": [
    "a[:, :]"
   ]
  },
  {
   "cell_type": "code",
   "execution_count": 221,
   "metadata": {
    "ExecuteTime": {
     "end_time": "2020-03-24T22:22:22.395128Z",
     "start_time": "2020-03-24T22:22:22.379891Z"
    }
   },
   "outputs": [],
   "source": [
    "# tunable variables\n",
    "FPT = 100\n",
    "N_PROTOTYPES = 100\n",
    "TONE_RHYTHM_RATIO = 0.7\n",
    "\n",
    "# create model\n",
    "model = Minerva2(FPT)\n",
    "# create probes\n",
    "Ps_unstudied = np.random.randint(-1, 2, (N_PROTOTYPES, FPT))\n",
    "Ps_both = np.random.randint(-1, 2, (N_PROTOTYPES, FPT))\n",
    "Ps_rhythm = np.random.randint(-1, 2, (N_PROTOTYPES, FPT))\n",
    "Ps_tone = np.random.randint(-1, 2, (N_PROTOTYPES, FPT))"
   ]
  },
  {
   "cell_type": "code",
   "execution_count": 222,
   "metadata": {
    "ExecuteTime": {
     "end_time": "2020-03-24T22:22:22.782755Z",
     "start_time": "2020-03-24T22:22:22.778563Z"
    }
   },
   "outputs": [],
   "source": [
    "# create traces (subset of probes)\n",
    "T_Rs = np.copy(Ps_rhythm)\n",
    "T_Ts = np.copy(Ps_tone)\n",
    "T_Bs = Ps_both"
   ]
  },
  {
   "cell_type": "code",
   "execution_count": 223,
   "metadata": {
    "ExecuteTime": {
     "end_time": "2020-03-24T22:22:23.092468Z",
     "start_time": "2020-03-24T22:22:23.086998Z"
    }
   },
   "outputs": [],
   "source": [
    "# zero out parts of traces (symmetrically)\n",
    "RT_split_index = round(FPT * TONE_RHYTHM_RATIO)\n",
    "\n",
    "T_Rs[:, :RT_split_index] *= 0\n",
    "T_Ts[:, RT_split_index:] *= 0"
   ]
  },
  {
   "cell_type": "code",
   "execution_count": 224,
   "metadata": {
    "ExecuteTime": {
     "end_time": "2020-03-24T22:22:23.527160Z",
     "start_time": "2020-03-24T22:22:23.317769Z"
    }
   },
   "outputs": [],
   "source": [
    "# add traces to model\n",
    "for T_R in T_Rs:\n",
    "    model.add_trace(T_R)\n",
    "for T_T in T_Ts:\n",
    "    model.add_trace(T_T)\n",
    "for T_B in T_Bs:\n",
    "    model.add_trace(T_B)"
   ]
  },
  {
   "cell_type": "code",
   "execution_count": 225,
   "metadata": {
    "ExecuteTime": {
     "end_time": "2020-03-24T22:22:23.930460Z",
     "start_time": "2020-03-24T22:22:23.548790Z"
    }
   },
   "outputs": [],
   "source": [
    "# Add random noise traces\n",
    "#     for rand_trace in np.random.randint(-1, 2, (round(N_PROTOTYPES * NOISE_RATIO), FPT)):\n",
    "#         model.add_trace(rand_trace)\n",
    "\n",
    "# get echo intensities\n",
    "tone_intensities = [model.get_echo_intensity(p) for p in Ps_tone]\n",
    "rhythm_intensities = [model.get_echo_intensity(p) for p in Ps_rhythm]\n",
    "both_intensities = [model.get_echo_intensity(p) for p in Ps_both]\n",
    "unstudied_intensities = [model.get_echo_intensity(p) for p in Ps_unstudied]"
   ]
  },
  {
   "cell_type": "code",
   "execution_count": 226,
   "metadata": {
    "ExecuteTime": {
     "end_time": "2020-03-24T22:22:24.090307Z",
     "start_time": "2020-03-24T22:22:23.932039Z"
    }
   },
   "outputs": [
    {
     "data": {
      "text/plain": [
       "[<matplotlib.lines.Line2D at 0x7f131776b710>]"
      ]
     },
     "execution_count": 226,
     "metadata": {},
     "output_type": "execute_result"
    },
    {
     "data": {
      "image/png": "[encoded data removed]",
      "text/plain": [
       "<Figure size 432x288 with 1 Axes>"
      ]
     },
     "metadata": {
      "needs_background": "light"
     },
     "output_type": "display_data"
    }
   ],
   "source": [
    "plt.plot(tone_intensities)"
   ]
  },
  {
   "cell_type": "code",
   "execution_count": 227,
   "metadata": {
    "ExecuteTime": {
     "end_time": "2020-03-24T22:22:24.286629Z",
     "start_time": "2020-03-24T22:22:24.283538Z"
    }
   },
   "outputs": [],
   "source": [
    "model2 = Minerva2(FPT)"
   ]
  },
  {
   "cell_type": "code",
   "execution_count": 228,
   "metadata": {
    "ExecuteTime": {
     "end_time": "2020-03-24T22:22:24.845020Z",
     "start_time": "2020-03-24T22:22:24.711994Z"
    }
   },
   "outputs": [],
   "source": [
    "# add traces to model\n",
    "model2.add_traces(T_Rs)\n",
    "model2.add_traces(T_Ts)\n",
    "model2.add_traces(T_Bs)"
   ]
  },
  {
   "cell_type": "code",
   "execution_count": 229,
   "metadata": {
    "ExecuteTime": {
     "end_time": "2020-03-24T22:22:25.451882Z",
     "start_time": "2020-03-24T22:22:25.154577Z"
    }
   },
   "outputs": [
    {
     "data": {
      "text/plain": [
       "[<matplotlib.lines.Line2D at 0x7f1317ca8c90>]"
      ]
     },
     "execution_count": 229,
     "metadata": {},
     "output_type": "execute_result"
    },
    {
     "data": {
      "image/png": "[encoded data removed]",
      "text/plain": [
       "<Figure size 432x288 with 1 Axes>"
      ]
     },
     "metadata": {
      "needs_background": "light"
     },
     "output_type": "display_data"
    }
   ],
   "source": [
    "model_arr = np.array(model.model)\n",
    "similarities = (Ps_tone @ model_arr.T)/Ps_tone.shape[1]\n",
    "activations = similarities**3\n",
    "intensities = np.mean(activations, axis=1)\n",
    "plt.plot(intensities)"
   ]
  },
  {
   "cell_type": "code",
   "execution_count": 230,
   "metadata": {
    "ExecuteTime": {
     "end_time": "2020-03-24T22:22:25.629998Z",
     "start_time": "2020-03-24T22:22:25.618207Z"
    }
   },
   "outputs": [
    {
     "data": {
      "text/plain": [
       "<Figure size 1008x504 with 0 Axes>"
      ]
     },
     "metadata": {},
     "output_type": "display_data"
    }
   ],
   "source": [
    "# plot histograms and normal PDFs\n",
    "plt.figure(figsize=(14,7))\n",
    "\n",
    "mu_tone, std_tone = norm.fit(tone_intensities)\n",
    "mu_rhythm, std_rhythm = norm.fit(rhythm_intensities)\n",
    "mu_both, std_both = norm.fit(both_intensities)\n",
    "mu_unstudied, std_unstudied = norm.fit(unstudied_intensities)"
   ]
  },
  {
   "cell_type": "code",
   "execution_count": 231,
   "metadata": {
    "ExecuteTime": {
     "end_time": "2020-03-24T22:22:26.743717Z",
     "start_time": "2020-03-24T22:22:26.512600Z"
    }
   },
   "outputs": [
    {
     "data": {
      "text/plain": [
       "(array([ 581.32646841,  290.66323421,  871.98970262, 2615.96910785,\n",
       "        5813.2646841 , 5813.2646841 , 6394.59115251, 4069.28527887,\n",
       "        1162.65293682, 1453.31617103]),\n",
       " array([0.00078878, 0.00082319, 0.00085759, 0.000892  , 0.0009264 ,\n",
       "        0.0009608 , 0.00099521, 0.00102961, 0.00106402, 0.00109842,\n",
       "        0.00113282]),\n",
       " <a list of 10 Patch objects>)"
      ]
     },
     "execution_count": 231,
     "metadata": {},
     "output_type": "execute_result"
    },
    {
     "data": {
      "image/png": "[encoded data removed]",
      "text/plain": [
       "<Figure size 432x288 with 1 Axes>"
      ]
     },
     "metadata": {
      "needs_background": "light"
     },
     "output_type": "display_data"
    }
   ],
   "source": [
    "plt.hist(unstudied_intensities, color='xkcd:orange', density=True)\n",
    "plt.hist(tone_intensities, color='b', density=True)\n",
    "plt.hist(rhythm_intensities, color='g', density=True)\n",
    "plt.hist(both_intensities, color='r', density=True)"
   ]
  },
  {
   "cell_type": "code",
   "execution_count": 232,
   "metadata": {
    "ExecuteTime": {
     "end_time": "2020-03-24T22:22:27.296713Z",
     "start_time": "2020-03-24T22:22:27.032632Z"
    }
   },
   "outputs": [
    {
     "data": {
      "image/png": "[encoded data removed]",
      "text/plain": [
       "<Figure size 432x288 with 1 Axes>"
      ]
     },
     "metadata": {
      "needs_background": "light"
     },
     "output_type": "display_data"
    }
   ],
   "source": [
    "#plt.xlim(-1e-4, .001)\n",
    "xmin, xmax = plt.xlim()\n",
    "x = np.linspace(xmin, xmax, 10000)\n",
    "\n",
    "p_unstudied = norm.pdf(x, mu_unstudied, std_unstudied)\n",
    "plt.plot(x, p_unstudied, 'k',linewidth=4)\n",
    "plt.plot(x, p_unstudied, 'xkcd:orange',linewidth=2, label='UNSTUDIED: $\\mu$ = %.2e, $\\sigma$ = %.2e' % (mu_unstudied, std_unstudied))\n",
    "\n",
    "p_tone = norm.pdf(x, mu_tone, std_tone)\n",
    "plt.plot(x, p_tone, 'k',linewidth=4)\n",
    "plt.plot(x, p_tone, 'b',linewidth=2, label='TONE: $\\mu$ = %.2e, $\\sigma$ = %.2e' % (mu_tone, std_tone))\n",
    "\n",
    "p_rhythm = norm.pdf(x, mu_rhythm, std_rhythm)\n",
    "plt.plot(x, p_rhythm, 'k',linewidth=4)\n",
    "plt.plot(x, p_rhythm, 'g',linewidth=2, label='RHYTHM: $\\mu$ = %.2e, $\\sigma$ = %.2e' % (mu_rhythm, std_rhythm))\n",
    "\n",
    "p_both = norm.pdf(x, mu_both, std_both)\n",
    "plt.plot(x, p_both, 'k',linewidth=4)\n",
    "plt.plot(x, p_both, 'r',linewidth=2, label='BOTH: $\\mu$ = %.2e, $\\sigma$ = %.2e' % (mu_both, std_both))\n",
    "\n",
    "plt.title(title + \" - Intensity as a function of similarity (histogram, and PDFs)\")\n",
    "plt.legend()\n",
    "plt.xlabel(\"Echo Intensity\")\n",
    "plt.ylabel(\"Density\")\n",
    "plt.grid(True)\n",
    "plt.show()"
   ]
  },
  {
   "cell_type": "markdown",
   "metadata": {},
   "source": [
    "## Slower!"
   ]
  },
  {
   "cell_type": "code",
   "execution_count": 278,
   "metadata": {
    "ExecuteTime": {
     "end_time": "2020-03-24T22:56:21.983128Z",
     "start_time": "2020-03-24T22:56:21.061619Z"
    }
   },
   "outputs": [
    {
     "data": {
      "image/png": "[encoded data removed]",
      "text/plain": [
       "<Figure size 1008x504 with 1 Axes>"
      ]
     },
     "metadata": {
      "needs_background": "light"
     },
     "output_type": "display_data"
    },
    {
     "name": "stdout",
     "output_type": "stream",
     "text": [
      "_,U,T,R,B\n",
      "U,1.0,1.5164729011605833e-193,1.2448385705084368e-151,3.927646728818089e-210,\n",
      "T,1.5164729011605833e-193,1.0,4.230673846390112e-186,3.167331822496857e-168,\n",
      "R,1.2448385705084368e-151,4.230673846390112e-186,1.0,1.0031396978096867e-207,\n",
      "B,3.927646728818089e-210,3.167331822496857e-168,1.0031396978096867e-207,1.0,\n"
     ]
    }
   ],
   "source": [
    "# tunable variables\n",
    "FPT = 1000\n",
    "N_PROTOTYPES = 100\n",
    "TONE_RHYTHM_RATIO = 0.7\n",
    "\n",
    "# create model\n",
    "model = Minerva2(FPT)\n",
    "# create probes\n",
    "Ps_unstudied = np.random.randint(-1, 2, (N_PROTOTYPES, FPT))\n",
    "Ps_both = np.random.randint(-1, 2, (N_PROTOTYPES, FPT))\n",
    "Ps_rhythm = np.random.randint(-1, 2, (N_PROTOTYPES, FPT))\n",
    "Ps_tone = np.random.randint(-1, 2, (N_PROTOTYPES, FPT))\n",
    "\n",
    "# create traces (subset of probes)\n",
    "T_Rs = np.copy(Ps_rhythm)\n",
    "T_Ts = np.copy(Ps_tone)\n",
    "T_Bs = Ps_both\n",
    "\n",
    "# zero out parts of traces (symmetrically)\n",
    "RT_split_index = round(FPT * TONE_RHYTHM_RATIO)\n",
    "\n",
    "T_Rs[:, :RT_split_index] *= 0\n",
    "T_Ts[:, RT_split_index:] *= 0\n",
    "\n",
    "# add traces to model\n",
    "\n",
    "model.add_traces(T_Rs)\n",
    "model.add_traces(T_Ts)\n",
    "model.add_traces(T_Bs)\n",
    "\n",
    "# get echo intensities\n",
    "tone_intensities = [model.get_echo_intensity(p) for p in Ps_tone]\n",
    "rhythm_intensities = [model.get_echo_intensity(p) for p in Ps_rhythm]\n",
    "both_intensities = [model.get_echo_intensity(p) for p in Ps_both]\n",
    "unstudied_intensities = [model.get_echo_intensity(p) for p in Ps_unstudied]\n",
    "\n",
    "# plot histograms and normal PDFs\n",
    "plt.figure(figsize=(14,7))\n",
    "\n",
    "mu_tone, std_tone = norm.fit(tone_intensities)\n",
    "mu_rhythm, std_rhythm = norm.fit(rhythm_intensities)\n",
    "mu_both, std_both = norm.fit(both_intensities)\n",
    "mu_unstudied, std_unstudied = norm.fit(unstudied_intensities)\n",
    "\n",
    "plt.hist(unstudied_intensities, color='xkcd:orange', density=True)\n",
    "plt.hist(tone_intensities, color='b', density=True)\n",
    "plt.hist(rhythm_intensities, color='g', density=True)\n",
    "plt.hist(both_intensities, color='r', density=True)\n",
    "\n",
    "#plt.xlim(-1e-4, .001)\n",
    "xmin, xmax = plt.xlim()\n",
    "x = np.linspace(xmin, xmax, 10000)\n",
    "\n",
    "p_unstudied = norm.pdf(x, mu_unstudied, std_unstudied)\n",
    "plt.plot(x, p_unstudied, 'k',linewidth=4)\n",
    "plt.plot(x, p_unstudied, 'xkcd:orange',linewidth=2, label='UNSTUDIED: $\\mu$ = %.2e, $\\sigma$ = %.2e' % (mu_unstudied, std_unstudied))\n",
    "\n",
    "p_tone = norm.pdf(x, mu_tone, std_tone)\n",
    "plt.plot(x, p_tone, 'k',linewidth=4)\n",
    "plt.plot(x, p_tone, 'b',linewidth=2, label='TONE: $\\mu$ = %.2e, $\\sigma$ = %.2e' % (mu_tone, std_tone))\n",
    "\n",
    "p_rhythm = norm.pdf(x, mu_rhythm, std_rhythm)\n",
    "plt.plot(x, p_rhythm, 'k',linewidth=4)\n",
    "plt.plot(x, p_rhythm, 'g',linewidth=2, label='RHYTHM: $\\mu$ = %.2e, $\\sigma$ = %.2e' % (mu_rhythm, std_rhythm))\n",
    "\n",
    "p_both = norm.pdf(x, mu_both, std_both)\n",
    "plt.plot(x, p_both, 'k',linewidth=4)\n",
    "plt.plot(x, p_both, 'r',linewidth=2, label='BOTH: $\\mu$ = %.2e, $\\sigma$ = %.2e' % (mu_both, std_both))\n",
    "\n",
    "plt.title(title + \" - Intensity as a function of similarity (histogram, and PDFs)\")\n",
    "plt.legend()\n",
    "plt.xlabel(\"Echo Intensity\")\n",
    "plt.ylabel(\"Density\")\n",
    "plt.grid(True)\n",
    "plt.show()\n",
    "\n",
    "labels = ['U','T','R','B']\n",
    "results = [unstudied_intensities, tone_intensities, rhythm_intensities, both_intensities]\n",
    "print('_,U,T,R,B')\n",
    "for i, row in enumerate(results):\n",
    "    print(labels[i], end=',')\n",
    "    for col in results:\n",
    "        print(ttest_ind(row, col).pvalue, end=',')\n",
    "    print()"
   ]
  },
  {
   "cell_type": "markdown",
   "metadata": {},
   "source": [
    "## Faster!"
   ]
  },
  {
   "cell_type": "code",
   "execution_count": 299,
   "metadata": {
    "ExecuteTime": {
     "end_time": "2020-03-24T23:01:11.051422Z",
     "start_time": "2020-03-24T23:00:59.096965Z"
    }
   },
   "outputs": [
    {
     "data": {
      "image/png": "[encoded data removed]",
      "text/plain": [
       "<Figure size 1008x504 with 1 Axes>"
      ]
     },
     "metadata": {
      "needs_background": "light"
     },
     "output_type": "display_data"
    }
   ],
   "source": [
    "# tunable variables\n",
    "FPT = 1000\n",
    "N_PROTOTYPES = 1000\n",
    "TONE_RHYTHM_RATIO = 0.7\n",
    "\n",
    "# create model\n",
    "model = Minerva2(FPT)\n",
    "\n",
    "# create probes\n",
    "Ps_unstudied = np.random.randint(-1, 2, (N_PROTOTYPES, FPT))\n",
    "Ps_both = np.random.randint(-1, 2, (N_PROTOTYPES, FPT))\n",
    "Ps_rhythm = np.random.randint(-1, 2, (N_PROTOTYPES, FPT))\n",
    "Ps_tone = np.random.randint(-1, 2, (N_PROTOTYPES, FPT))\n",
    "\n",
    "# create traces (subset of probes)\n",
    "T_Rs = np.copy(Ps_rhythm)\n",
    "T_Ts = np.copy(Ps_tone)\n",
    "T_Bs = Ps_both\n",
    "\n",
    "# zero out parts of traces (symmetrically)\n",
    "RT_split_index = round(FPT * TONE_RHYTHM_RATIO)\n",
    "\n",
    "T_Rs[:, :RT_split_index] *= 0\n",
    "T_Ts[:, RT_split_index:] *= 0\n",
    "\n",
    "# add traces to model\n",
    "model.add_traces(T_Rs)\n",
    "model.add_traces(T_Ts)\n",
    "model.add_traces(T_Bs)\n",
    "\n",
    "# get echo intensities\n",
    "tone_intensities = model.get_echo_intensities(Ps_tone)\n",
    "rhythm_intensities = model.get_echo_intensities(Ps_rhythm)\n",
    "both_intensities = model.get_echo_intensities(Ps_both)\n",
    "unstudied_intensities = model.get_echo_intensities(Ps_unstudied)\n",
    "\n",
    "# plot histograms and normal PDFs\n",
    "plt.figure(figsize=(14,7))\n",
    "\n",
    "mu_tone, std_tone = norm.fit(tone_intensities)\n",
    "mu_rhythm, std_rhythm = norm.fit(rhythm_intensities)\n",
    "mu_both, std_both = norm.fit(both_intensities)\n",
    "mu_unstudied, std_unstudied = norm.fit(unstudied_intensities)\n",
    "\n",
    "plt.hist(unstudied_intensities, color='xkcd:orange', density=True)\n",
    "plt.hist(tone_intensities, color='b', density=True)\n",
    "plt.hist(rhythm_intensities, color='g', density=True)\n",
    "plt.hist(both_intensities, color='r', density=True)\n",
    "#plt.xlim(-1e-4, .001)\n",
    "xmin, xmax = plt.xlim()\n",
    "x = np.linspace(xmin, xmax, 10000)\n",
    "\n",
    "p_unstudied = norm.pdf(x, mu_unstudied, std_unstudied)\n",
    "plt.plot(x, p_unstudied, 'k',linewidth=4)\n",
    "plt.plot(x, p_unstudied, 'xkcd:orange',linewidth=2, label='UNSTUDIED: $\\mu$ = %.2e, $\\sigma$ = %.2e' % (mu_unstudied, std_unstudied))\n",
    "\n",
    "p_tone = norm.pdf(x, mu_tone, std_tone)\n",
    "plt.plot(x, p_tone, 'k',linewidth=4)\n",
    "plt.plot(x, p_tone, 'b',linewidth=2, label='TONE: $\\mu$ = %.2e, $\\sigma$ = %.2e' % (mu_tone, std_tone))\n",
    "\n",
    "p_rhythm = norm.pdf(x, mu_rhythm, std_rhythm)\n",
    "plt.plot(x, p_rhythm, 'k',linewidth=4)\n",
    "plt.plot(x, p_rhythm, 'g',linewidth=2, label='RHYTHM: $\\mu$ = %.2e, $\\sigma$ = %.2e' % (mu_rhythm, std_rhythm))\n",
    "\n",
    "p_both = norm.pdf(x, mu_both, std_both)\n",
    "plt.plot(x, p_both, 'k',linewidth=4)\n",
    "plt.plot(x, p_both, 'r',linewidth=2, label='BOTH: $\\mu$ = %.2e, $\\sigma$ = %.2e' % (mu_both, std_both))\n",
    "\n",
    "plt.title(title + \" - Intensity as a function of similarity (histogram, and PDFs)\")\n",
    "plt.legend()\n",
    "plt.xlabel(\"Echo Intensity\")\n",
    "plt.ylabel(\"Density\")\n",
    "plt.grid(True)\n",
    "plt.show()"
   ]
  },
  {
   "cell_type": "code",
   "execution_count": null,
   "metadata": {},
   "outputs": [],
   "source": []
  }
 ],
 "metadata": {
  "kernelspec": {
   "display_name": "Python 3",
   "language": "python",
   "name": "python3"
  },
  "language_info": {
   "codemirror_mode": {
    "name": "ipython",
    "version": 3
   },
   "file_extension": ".py",
   "mimetype": "text/x-python",
   "name": "python",
   "nbconvert_exporter": "python",
   "pygments_lexer": "ipython3",
   "version": "3.7.4"
  },
  "toc": {
   "base_numbering": 1,
   "nav_menu": {},
   "number_sections": true,
   "sideBar": true,
   "skip_h1_title": false,
   "title_cell": "Table of Contents",
   "title_sidebar": "Contents",
   "toc_cell": false,
   "toc_position": {
    "height": "calc(100% - 180px)",
    "left": "10px",
    "top": "150px",
    "width": "384px"
   },
   "toc_section_display": true,
   "toc_window_display": true
  }
 },
 "nbformat": 4,
 "nbformat_minor": 2
}
