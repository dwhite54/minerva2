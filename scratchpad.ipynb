{
 "cells": [
  {
   "cell_type": "markdown",
   "metadata": {},
   "source": [
    "Table of contents"
   ]
  },
  {
   "cell_type": "markdown",
   "metadata": {},
   "source": [
    "1. Create bare-bones minerva model\n",
    "\n",
    "2. Replicate original paper finding (requires better interface)\n",
    "\n",
    "3. Create rhythm/tone experiment with fixed\n",
    "    - rhythm/tone split\n",
    "    - number participants\n",
    "    - participant stimuli\n",
    "\n",
    "4. Make experiment configurable\n",
    "\n",
    "5. Run a bazillion experiments"
   ]
  },
  {
   "cell_type": "markdown",
   "metadata": {},
   "source": [
    "# Bare-bones Minerva2 model"
   ]
  },
  {
   "cell_type": "code",
   "execution_count": 1,
   "metadata": {
    "ExecuteTime": {
     "end_time": "2020-06-16T19:09:46.636084Z",
     "start_time": "2020-06-16T19:09:46.310012Z"
    },
    "run_control": {
     "marked": true
    }
   },
   "outputs": [],
   "source": [
    "import numpy as np\n",
    "from scipy.stats import ttest_ind\n",
    "from scipy.stats import norm"
   ]
  },
  {
   "cell_type": "code",
   "execution_count": 2,
   "metadata": {
    "ExecuteTime": {
     "end_time": "2020-06-16T19:09:46.831128Z",
     "start_time": "2020-06-16T19:09:46.637084Z"
    },
    "run_control": {
     "marked": true
    }
   },
   "outputs": [],
   "source": [
    "import matplotlib.pyplot as plt"
   ]
  },
  {
   "cell_type": "code",
   "execution_count": 3,
   "metadata": {
    "ExecuteTime": {
     "end_time": "2020-06-16T19:09:46.835129Z",
     "start_time": "2020-06-16T19:09:46.832128Z"
    },
    "run_control": {
     "marked": true
    }
   },
   "outputs": [],
   "source": [
    "import matplotlib\n",
    "matplotlib.rcParams['font.family'] = \"sans-serif\"\n",
    "matplotlib.rcParams['font.sans-serif'] = \"Calibri\"\n",
    "matplotlib.rcParams['font.size'] = 14"
   ]
  },
  {
   "cell_type": "code",
   "execution_count": 4,
   "metadata": {
    "ExecuteTime": {
     "end_time": "2020-06-16T19:09:46.839129Z",
     "start_time": "2020-06-16T19:09:46.836129Z"
    },
    "run_control": {
     "marked": true
    }
   },
   "outputs": [],
   "source": [
    "def add_noise_2d(arr, ratio):\n",
    "    rands = np.random.rand(arr.shape[0] * arr.shape[1])\n",
    "    condition = rands < ratio\n",
    "    mask = np.flatnonzero(condition)\n",
    "    f = arr.flatten()\n",
    "    f[mask] *= -1\n",
    "    return f.reshape(arr.shape)"
   ]
  },
  {
   "cell_type": "markdown",
   "metadata": {},
   "source": [
    "## The Model (v0.1)"
   ]
  },
  {
   "cell_type": "code",
   "execution_count": 5,
   "metadata": {
    "ExecuteTime": {
     "end_time": "2020-06-16T19:09:46.850132Z",
     "start_time": "2020-06-16T19:09:46.840129Z"
    }
   },
   "outputs": [],
   "source": [
    "from minerva2 import Minerva2"
   ]
  },
  {
   "cell_type": "markdown",
   "metadata": {},
   "source": [
    "## Try it out with some ZERO traces"
   ]
  },
  {
   "cell_type": "code",
   "execution_count": 6,
   "metadata": {
    "ExecuteTime": {
     "end_time": "2020-06-16T19:09:46.856133Z",
     "start_time": "2020-06-16T19:09:46.851133Z"
    },
    "run_control": {
     "marked": false
    }
   },
   "outputs": [
    {
     "data": {
      "text/plain": [
       "0"
      ]
     },
     "execution_count": 6,
     "metadata": {},
     "output_type": "execute_result"
    }
   ],
   "source": [
    "len([val for val in np.unique(np.array((1,0,-1,1, 1, 1, 1, 0))) if val not in (-1, 0, 1)])"
   ]
  },
  {
   "cell_type": "code",
   "execution_count": 7,
   "metadata": {
    "ExecuteTime": {
     "end_time": "2020-06-16T19:09:46.860134Z",
     "start_time": "2020-06-16T19:09:46.857133Z"
    },
    "run_control": {
     "marked": false
    }
   },
   "outputs": [],
   "source": [
    "model1_fpt = 10"
   ]
  },
  {
   "cell_type": "code",
   "execution_count": 8,
   "metadata": {
    "ExecuteTime": {
     "end_time": "2020-06-16T19:09:46.863136Z",
     "start_time": "2020-06-16T19:09:46.861134Z"
    },
    "run_control": {
     "marked": false
    }
   },
   "outputs": [],
   "source": [
    "model1 = Minerva2(model1_fpt)"
   ]
  },
  {
   "cell_type": "code",
   "execution_count": 9,
   "metadata": {
    "ExecuteTime": {
     "end_time": "2020-06-16T19:09:46.867135Z",
     "start_time": "2020-06-16T19:09:46.864135Z"
    },
    "run_control": {
     "marked": false
    }
   },
   "outputs": [],
   "source": [
    "for _ in range(10):\n",
    "    rand_trace = np.zeros(model1_fpt)\n",
    "    model1.add_trace(rand_trace)"
   ]
  },
  {
   "cell_type": "code",
   "execution_count": 10,
   "metadata": {
    "ExecuteTime": {
     "end_time": "2020-06-16T19:09:46.871137Z",
     "start_time": "2020-06-16T19:09:46.868136Z"
    },
    "run_control": {
     "marked": false
    }
   },
   "outputs": [
    {
     "data": {
      "text/plain": [
       "array([[0., 0., 0., 0., 0., 0., 0., 0., 0., 0.],\n",
       "       [0., 0., 0., 0., 0., 0., 0., 0., 0., 0.],\n",
       "       [0., 0., 0., 0., 0., 0., 0., 0., 0., 0.],\n",
       "       [0., 0., 0., 0., 0., 0., 0., 0., 0., 0.],\n",
       "       [0., 0., 0., 0., 0., 0., 0., 0., 0., 0.],\n",
       "       [0., 0., 0., 0., 0., 0., 0., 0., 0., 0.],\n",
       "       [0., 0., 0., 0., 0., 0., 0., 0., 0., 0.],\n",
       "       [0., 0., 0., 0., 0., 0., 0., 0., 0., 0.],\n",
       "       [0., 0., 0., 0., 0., 0., 0., 0., 0., 0.],\n",
       "       [0., 0., 0., 0., 0., 0., 0., 0., 0., 0.]])"
      ]
     },
     "execution_count": 10,
     "metadata": {},
     "output_type": "execute_result"
    }
   ],
   "source": [
    "model1.model"
   ]
  },
  {
   "cell_type": "markdown",
   "metadata": {},
   "source": [
    "Let's create a random probe to test"
   ]
  },
  {
   "cell_type": "code",
   "execution_count": 11,
   "metadata": {
    "ExecuteTime": {
     "end_time": "2020-06-16T19:09:46.875137Z",
     "start_time": "2020-06-16T19:09:46.872137Z"
    },
    "run_control": {
     "marked": false
    }
   },
   "outputs": [
    {
     "data": {
      "text/plain": [
       "array([-1, -1,  1,  1, -1, -1, -1,  1,  1,  1])"
      ]
     },
     "execution_count": 11,
     "metadata": {},
     "output_type": "execute_result"
    }
   ],
   "source": [
    "probe1 = np.random.randint(-1, 2, model1_fpt)\n",
    "probe1"
   ]
  },
  {
   "cell_type": "code",
   "execution_count": 12,
   "metadata": {
    "ExecuteTime": {
     "end_time": "2020-06-16T19:09:46.879138Z",
     "start_time": "2020-06-16T19:09:46.876138Z"
    },
    "run_control": {
     "marked": false
    }
   },
   "outputs": [
    {
     "data": {
      "text/plain": [
       "(0.0,\n",
       " [0.0, 0.0, 0.0, 0.0, 0.0, 0.0, 0.0, 0.0, 0.0, 0.0],\n",
       " [0.0, 0.0, 0.0, 0.0, 0.0, 0.0, 0.0, 0.0, 0.0, 0.0])"
      ]
     },
     "execution_count": 12,
     "metadata": {},
     "output_type": "execute_result"
    }
   ],
   "source": [
    "model1.get_echo_intensity(probe1, return_all=True)"
   ]
  },
  {
   "cell_type": "code",
   "execution_count": 13,
   "metadata": {
    "ExecuteTime": {
     "end_time": "2020-06-16T19:09:46.885141Z",
     "start_time": "2020-06-16T19:09:46.880138Z"
    },
    "run_control": {
     "marked": false
    }
   },
   "outputs": [
    {
     "name": "stdout",
     "output_type": "stream",
     "text": [
      "PROBE: [-1, -1, 1, 1, -1, -1, -1, 1, 1, 1]\n",
      "TRACE 0: [0.0, 0.0, 0.0, 0.0, 0.0, 0.0, 0.0, 0.0, 0.0, 0.0] ->  0.000^3 =    0.000\n",
      "TRACE 1: [0.0, 0.0, 0.0, 0.0, 0.0, 0.0, 0.0, 0.0, 0.0, 0.0] ->  0.000^3 =    0.000\n",
      "TRACE 2: [0.0, 0.0, 0.0, 0.0, 0.0, 0.0, 0.0, 0.0, 0.0, 0.0] ->  0.000^3 =    0.000\n",
      "TRACE 3: [0.0, 0.0, 0.0, 0.0, 0.0, 0.0, 0.0, 0.0, 0.0, 0.0] ->  0.000^3 =    0.000\n",
      "TRACE 4: [0.0, 0.0, 0.0, 0.0, 0.0, 0.0, 0.0, 0.0, 0.0, 0.0] ->  0.000^3 =    0.000\n",
      "TRACE 5: [0.0, 0.0, 0.0, 0.0, 0.0, 0.0, 0.0, 0.0, 0.0, 0.0] ->  0.000^3 =    0.000\n",
      "TRACE 6: [0.0, 0.0, 0.0, 0.0, 0.0, 0.0, 0.0, 0.0, 0.0, 0.0] ->  0.000^3 =    0.000\n",
      "TRACE 7: [0.0, 0.0, 0.0, 0.0, 0.0, 0.0, 0.0, 0.0, 0.0, 0.0] ->  0.000^3 =    0.000\n",
      "TRACE 8: [0.0, 0.0, 0.0, 0.0, 0.0, 0.0, 0.0, 0.0, 0.0, 0.0] ->  0.000^3 =    0.000\n",
      "TRACE 9: [0.0, 0.0, 0.0, 0.0, 0.0, 0.0, 0.0, 0.0, 0.0, 0.0] ->  0.000^3 =    0.000\n",
      "--------------------------------------------------------------------------------\n",
      "                                                                           0.000\n"
     ]
    }
   ],
   "source": [
    "model1.pretty_print_echo_intensity(probe1)"
   ]
  },
  {
   "cell_type": "markdown",
   "metadata": {},
   "source": [
    "Blank memory means a blank response! Looking good so far."
   ]
  },
  {
   "cell_type": "markdown",
   "metadata": {},
   "source": [
    "## Now test with random traces"
   ]
  },
  {
   "cell_type": "code",
   "execution_count": 14,
   "metadata": {
    "ExecuteTime": {
     "end_time": "2020-06-16T19:09:46.889140Z",
     "start_time": "2020-06-16T19:09:46.886140Z"
    },
    "run_control": {
     "marked": false
    }
   },
   "outputs": [],
   "source": [
    "model2_fpt = 8"
   ]
  },
  {
   "cell_type": "code",
   "execution_count": 15,
   "metadata": {
    "ExecuteTime": {
     "end_time": "2020-06-16T19:09:46.892141Z",
     "start_time": "2020-06-16T19:09:46.890141Z"
    },
    "run_control": {
     "marked": false
    }
   },
   "outputs": [],
   "source": [
    "model2 = Minerva2(model2_fpt)"
   ]
  },
  {
   "cell_type": "code",
   "execution_count": 16,
   "metadata": {
    "ExecuteTime": {
     "end_time": "2020-06-16T19:09:46.896142Z",
     "start_time": "2020-06-16T19:09:46.893142Z"
    },
    "run_control": {
     "marked": false
    }
   },
   "outputs": [],
   "source": [
    "for _ in range(12):\n",
    "    rand_trace = np.random.randint(-1, 2, model2_fpt)\n",
    "    model2.add_trace(rand_trace)"
   ]
  },
  {
   "cell_type": "code",
   "execution_count": 17,
   "metadata": {
    "ExecuteTime": {
     "end_time": "2020-06-16T19:09:46.900143Z",
     "start_time": "2020-06-16T19:09:46.897142Z"
    },
    "run_control": {
     "marked": false
    }
   },
   "outputs": [
    {
     "data": {
      "text/plain": [
       "array([[ 1,  0,  1, -1,  0, -1,  1, -1],\n",
       "       [ 0,  1,  0,  0, -1,  1,  0,  0],\n",
       "       [ 0,  0, -1,  1, -1,  1,  1, -1],\n",
       "       [-1,  0, -1, -1,  0,  1, -1, -1],\n",
       "       [ 0,  0, -1, -1, -1,  1,  1,  0],\n",
       "       [ 1,  1,  1, -1,  0,  1,  0,  0],\n",
       "       [-1,  1, -1,  0, -1, -1,  0, -1],\n",
       "       [-1,  1,  0,  1,  0, -1,  0,  1],\n",
       "       [ 1, -1,  0,  1, -1,  0, -1,  0],\n",
       "       [-1,  0,  1,  0, -1,  0,  0,  1],\n",
       "       [ 1,  0, -1,  0,  1,  0, -1, -1],\n",
       "       [ 1, -1,  0,  1,  1,  1,  1,  1]])"
      ]
     },
     "execution_count": 17,
     "metadata": {},
     "output_type": "execute_result"
    }
   ],
   "source": [
    "model2.model"
   ]
  },
  {
   "cell_type": "markdown",
   "metadata": {},
   "source": [
    "And a random test probe..."
   ]
  },
  {
   "cell_type": "code",
   "execution_count": 18,
   "metadata": {
    "ExecuteTime": {
     "end_time": "2020-06-16T19:09:46.904144Z",
     "start_time": "2020-06-16T19:09:46.901144Z"
    },
    "run_control": {
     "marked": false
    }
   },
   "outputs": [
    {
     "data": {
      "text/plain": [
       "array([-1,  0,  1,  1, -1, -1,  0, -1])"
      ]
     },
     "execution_count": 18,
     "metadata": {},
     "output_type": "execute_result"
    }
   ],
   "source": [
    "probe2 = np.random.randint(-1, 2, model2_fpt)\n",
    "probe2"
   ]
  },
  {
   "cell_type": "code",
   "execution_count": 19,
   "metadata": {
    "ExecuteTime": {
     "end_time": "2020-06-16T19:09:46.909145Z",
     "start_time": "2020-06-16T19:09:46.905144Z"
    },
    "run_control": {
     "marked": false
    }
   },
   "outputs": [
    {
     "data": {
      "text/plain": [
       "(-0.0009765625,\n",
       " [0.001953125,\n",
       "  0.0,\n",
       "  0.001953125,\n",
       "  -0.001953125,\n",
       "  -0.015625,\n",
       "  -0.015625,\n",
       "  0.052734375,\n",
       "  0.015625,\n",
       "  0.001953125,\n",
       "  0.015625,\n",
       "  -0.015625,\n",
       "  -0.052734375],\n",
       " [0.125,\n",
       "  0.0,\n",
       "  0.125,\n",
       "  -0.125,\n",
       "  -0.25,\n",
       "  -0.25,\n",
       "  0.375,\n",
       "  0.25,\n",
       "  0.125,\n",
       "  0.25,\n",
       "  -0.25,\n",
       "  -0.375])"
      ]
     },
     "execution_count": 19,
     "metadata": {},
     "output_type": "execute_result"
    }
   ],
   "source": [
    "model2.get_echo_intensity(probe2, return_all=True)"
   ]
  },
  {
   "cell_type": "code",
   "execution_count": 20,
   "metadata": {
    "ExecuteTime": {
     "end_time": "2020-06-16T19:09:46.913146Z",
     "start_time": "2020-06-16T19:09:46.910145Z"
    },
    "run_control": {
     "marked": false
    }
   },
   "outputs": [
    {
     "name": "stdout",
     "output_type": "stream",
     "text": [
      "PROBE: [-1, 0, 1, 1, -1, -1, 0, -1]\n",
      "TRACE 0: [1, 0, 1, -1, 0, -1, 1, -1] ->  0.125^3 =    0.002\n",
      "TRACE 1: [0, 1, 0, 0, -1, 1, 0, 0] ->  0.000^3 =    0.000\n",
      "TRACE 2: [0, 0, -1, 1, -1, 1, 1, -1] ->  0.125^3 =    0.002\n",
      "TRACE 3: [-1, 0, -1, -1, 0, 1, -1, -1] -> -0.125^3 =   -0.002\n",
      "TRACE 4: [0, 0, -1, -1, -1, 1, 1, 0] -> -0.250^3 =   -0.016\n",
      "TRACE 5: [1, 1, 1, -1, 0, 1, 0, 0] -> -0.250^3 =   -0.016\n",
      "TRACE 6: [-1, 1, -1, 0, -1, -1, 0, -1] ->  0.375^3 =    0.053\n",
      "TRACE 7: [-1, 1, 0, 1, 0, -1, 0, 1] ->  0.250^3 =    0.016\n",
      "TRACE 8: [1, -1, 0, 1, -1, 0, -1, 0] ->  0.125^3 =    0.002\n",
      "TRACE 9: [-1, 0, 1, 0, -1, 0, 0, 1] ->  0.250^3 =    0.016\n",
      "TRACE 10: [1, 0, -1, 0, 1, 0, -1, -1] -> -0.250^3 =   -0.016\n",
      "TRACE 11: [1, -1, 0, 1, 1, 1, 1, 1] -> -0.375^3 =   -0.053\n",
      "--------------------------------------------------------------------------------\n",
      "                                                                          -0.001\n"
     ]
    }
   ],
   "source": [
    "model2.pretty_print_echo_intensity(probe2)"
   ]
  },
  {
   "cell_type": "markdown",
   "metadata": {},
   "source": [
    "### Do this a bunch to see what random traces and probes produce"
   ]
  },
  {
   "cell_type": "code",
   "execution_count": 21,
   "metadata": {
    "ExecuteTime": {
     "end_time": "2020-06-16T19:09:47.057178Z",
     "start_time": "2020-06-16T19:09:46.914146Z"
    },
    "run_control": {
     "marked": false
    }
   },
   "outputs": [
    {
     "data": {
      "text/plain": [
       "[<matplotlib.lines.Line2D at 0x23bb9d13c48>]"
      ]
     },
     "execution_count": 21,
     "metadata": {},
     "output_type": "execute_result"
    },
    {
     "data": {
      "image/png": "[encoded data removed]",
      "text/plain": [
       "<Figure size 432x288 with 1 Axes>"
      ]
     },
     "metadata": {
      "needs_background": "light"
     },
     "output_type": "display_data"
    }
   ],
   "source": [
    "intensities = []\n",
    "for i in range(1000):\n",
    "    probe2 = np.random.randint(-1, 2, model2_fpt)\n",
    "    intensities.append(model2.get_echo_intensity(probe2))\n",
    "plt.plot(intensities)"
   ]
  },
  {
   "cell_type": "code",
   "execution_count": 22,
   "metadata": {
    "ExecuteTime": {
     "end_time": "2020-06-16T19:09:47.149199Z",
     "start_time": "2020-06-16T19:09:47.057178Z"
    },
    "run_control": {
     "marked": false
    }
   },
   "outputs": [
    {
     "data": {
      "image/png": "[encoded data removed]",
      "text/plain": [
       "<Figure size 432x288 with 1 Axes>"
      ]
     },
     "metadata": {
      "needs_background": "light"
     },
     "output_type": "display_data"
    }
   ],
   "source": [
    "from scipy.stats import norm\n",
    "\n",
    "mu, std = norm.fit(intensities)\n",
    "\n",
    "plt.hist(intensities, density=True)\n",
    "\n",
    "xmin, xmax = plt.xlim()\n",
    "x = np.linspace(xmin, xmax, 100)\n",
    "p = norm.pdf(x, mu, std)\n",
    "plt.plot(x, p, 'k', linewidth=2)\n",
    "title = \"Fit results: mu = %.2f,  std = %.2f\" % (mu, std)\n",
    "plt.title(title)\n",
    "\n",
    "plt.show()"
   ]
  },
  {
   "cell_type": "markdown",
   "metadata": {},
   "source": [
    "Good enough."
   ]
  },
  {
   "cell_type": "markdown",
   "metadata": {},
   "source": [
    "# Mimic experiment 1"
   ]
  },
  {
   "cell_type": "markdown",
   "metadata": {},
   "source": [
    "Participants received partial features (rhythm/tone) during study, then at test were given a full song.\n",
    "\n",
    "We will simulate this by creating a list of random probes, `R`.\n",
    "\n",
    "Memory traces will be added which contain zeros, and some subset of `R`.\n",
    "\n",
    "We will be comparing trace/probe overlap amount on echo intensity."
   ]
  },
  {
   "cell_type": "code",
   "execution_count": 23,
   "metadata": {
    "ExecuteTime": {
     "end_time": "2020-06-16T19:09:47.154200Z",
     "start_time": "2020-06-16T19:09:47.151200Z"
    },
    "run_control": {
     "marked": false
    }
   },
   "outputs": [],
   "source": [
    "model3_fpt = 10\n",
    "model3_prototypes = 10\n",
    "model3_rhythm_tone_ratio = 0.7\n",
    "model3_noise_ratio = 0.5"
   ]
  },
  {
   "cell_type": "code",
   "execution_count": 24,
   "metadata": {
    "ExecuteTime": {
     "end_time": "2020-06-16T19:09:47.157201Z",
     "start_time": "2020-06-16T19:09:47.155201Z"
    },
    "run_control": {
     "marked": false
    }
   },
   "outputs": [],
   "source": [
    "model3 = Minerva2(model3_fpt)"
   ]
  },
  {
   "cell_type": "markdown",
   "metadata": {},
   "source": [
    "## Make some random probes"
   ]
  },
  {
   "cell_type": "code",
   "execution_count": 25,
   "metadata": {
    "ExecuteTime": {
     "end_time": "2020-06-16T19:09:47.161201Z",
     "start_time": "2020-06-16T19:09:47.158201Z"
    },
    "run_control": {
     "marked": false
    }
   },
   "outputs": [
    {
     "data": {
      "text/plain": [
       "(10, 10)"
      ]
     },
     "execution_count": 25,
     "metadata": {},
     "output_type": "execute_result"
    }
   ],
   "source": [
    "Ps = np.random.randint(-1, 2, (model3_prototypes, model3_fpt))\n",
    "Ps.shape"
   ]
  },
  {
   "cell_type": "code",
   "execution_count": 26,
   "metadata": {
    "ExecuteTime": {
     "end_time": "2020-06-16T19:09:47.164202Z",
     "start_time": "2020-06-16T19:09:47.162201Z"
    },
    "run_control": {
     "marked": false
    }
   },
   "outputs": [
    {
     "data": {
      "text/plain": [
       "array([[ 1,  1,  0,  1,  0,  0, -1, -1, -1,  1],\n",
       "       [-1,  0, -1,  0, -1, -1,  1,  1, -1,  0],\n",
       "       [ 1,  1,  0, -1,  1, -1,  0, -1,  1,  1],\n",
       "       [-1,  1, -1,  1, -1,  0,  1,  0,  1, -1],\n",
       "       [-1, -1,  1,  0,  0, -1, -1,  0, -1,  1],\n",
       "       [ 0, -1, -1,  1, -1, -1,  0, -1,  1,  1],\n",
       "       [ 1, -1,  1,  0,  0,  0,  0,  0,  0,  1],\n",
       "       [ 1, -1,  1,  0, -1,  1,  0,  0,  0, -1],\n",
       "       [ 1, -1,  1,  0,  0,  1,  1,  1,  1, -1],\n",
       "       [-1, -1,  0, -1,  0, -1, -1,  1,  0,  1]])"
      ]
     },
     "execution_count": 26,
     "metadata": {},
     "output_type": "execute_result"
    }
   ],
   "source": [
    "Ps"
   ]
  },
  {
   "cell_type": "markdown",
   "metadata": {},
   "source": [
    "## Make rhythm/tone traces"
   ]
  },
  {
   "cell_type": "code",
   "execution_count": 27,
   "metadata": {
    "ExecuteTime": {
     "end_time": "2020-06-16T19:09:47.167202Z",
     "start_time": "2020-06-16T19:09:47.165202Z"
    },
    "run_control": {
     "marked": false
    }
   },
   "outputs": [],
   "source": [
    "PT_split_index = round(model3_prototypes * model3_noise_ratio)"
   ]
  },
  {
   "cell_type": "code",
   "execution_count": 28,
   "metadata": {
    "ExecuteTime": {
     "end_time": "2020-06-16T19:09:47.170204Z",
     "start_time": "2020-06-16T19:09:47.168203Z"
    },
    "run_control": {
     "marked": false
    }
   },
   "outputs": [],
   "source": [
    "T_Rs = np.copy(Ps)[:PT_split_index]\n",
    "T_Ts = np.copy(Ps)[:PT_split_index]"
   ]
  },
  {
   "cell_type": "markdown",
   "metadata": {},
   "source": [
    "Zero out `proportion` of features"
   ]
  },
  {
   "cell_type": "code",
   "execution_count": 29,
   "metadata": {
    "ExecuteTime": {
     "end_time": "2020-06-16T19:09:47.173204Z",
     "start_time": "2020-06-16T19:09:47.171203Z"
    },
    "run_control": {
     "marked": false
    }
   },
   "outputs": [
    {
     "data": {
      "text/plain": [
       "(5, 10)"
      ]
     },
     "execution_count": 29,
     "metadata": {},
     "output_type": "execute_result"
    }
   ],
   "source": [
    "T_Rs.shape"
   ]
  },
  {
   "cell_type": "code",
   "execution_count": 30,
   "metadata": {
    "ExecuteTime": {
     "end_time": "2020-06-16T19:09:47.176204Z",
     "start_time": "2020-06-16T19:09:47.174204Z"
    },
    "run_control": {
     "marked": false
    }
   },
   "outputs": [],
   "source": [
    "RT_split_index = round(model3_fpt * model3_rhythm_tone_ratio)"
   ]
  },
  {
   "cell_type": "code",
   "execution_count": 31,
   "metadata": {
    "ExecuteTime": {
     "end_time": "2020-06-16T19:09:47.179205Z",
     "start_time": "2020-06-16T19:09:47.177205Z"
    },
    "run_control": {
     "marked": false
    }
   },
   "outputs": [],
   "source": [
    "T_Rs[:, :RT_split_index] *= 0\n",
    "T_Ts[:, RT_split_index:] *= 0"
   ]
  },
  {
   "cell_type": "code",
   "execution_count": 32,
   "metadata": {
    "ExecuteTime": {
     "end_time": "2020-06-16T19:09:47.182207Z",
     "start_time": "2020-06-16T19:09:47.179205Z"
    },
    "run_control": {
     "marked": false
    }
   },
   "outputs": [
    {
     "data": {
      "text/plain": [
       "array([[ 0,  0,  0,  0,  0,  0,  0, -1, -1,  1],\n",
       "       [ 0,  0,  0,  0,  0,  0,  0,  1, -1,  0],\n",
       "       [ 0,  0,  0,  0,  0,  0,  0, -1,  1,  1],\n",
       "       [ 0,  0,  0,  0,  0,  0,  0,  0,  1, -1],\n",
       "       [ 0,  0,  0,  0,  0,  0,  0,  0, -1,  1]])"
      ]
     },
     "execution_count": 32,
     "metadata": {},
     "output_type": "execute_result"
    }
   ],
   "source": [
    "T_Rs"
   ]
  },
  {
   "cell_type": "code",
   "execution_count": 33,
   "metadata": {
    "ExecuteTime": {
     "end_time": "2020-06-16T19:09:47.185207Z",
     "start_time": "2020-06-16T19:09:47.183206Z"
    },
    "run_control": {
     "marked": false
    }
   },
   "outputs": [
    {
     "data": {
      "text/plain": [
       "array([[ 1,  1,  0,  1,  0,  0, -1,  0,  0,  0],\n",
       "       [-1,  0, -1,  0, -1, -1,  1,  0,  0,  0],\n",
       "       [ 1,  1,  0, -1,  1, -1,  0,  0,  0,  0],\n",
       "       [-1,  1, -1,  1, -1,  0,  1,  0,  0,  0],\n",
       "       [-1, -1,  1,  0,  0, -1, -1,  0,  0,  0]])"
      ]
     },
     "execution_count": 33,
     "metadata": {},
     "output_type": "execute_result"
    }
   ],
   "source": [
    "T_Ts"
   ]
  },
  {
   "cell_type": "markdown",
   "metadata": {},
   "source": [
    "Only a certain number of these are kept, though (noise ratio)"
   ]
  },
  {
   "cell_type": "markdown",
   "metadata": {},
   "source": [
    "## Add traces to model"
   ]
  },
  {
   "cell_type": "code",
   "execution_count": 34,
   "metadata": {
    "ExecuteTime": {
     "end_time": "2020-06-16T19:09:47.189208Z",
     "start_time": "2020-06-16T19:09:47.186207Z"
    },
    "run_control": {
     "marked": false
    }
   },
   "outputs": [],
   "source": [
    "for T_R in T_Rs:\n",
    "    model3.add_trace(T_R)\n",
    "for T_T in T_Ts:\n",
    "    model3.add_trace(T_T)"
   ]
  },
  {
   "cell_type": "code",
   "execution_count": 35,
   "metadata": {
    "ExecuteTime": {
     "end_time": "2020-06-16T19:09:47.192209Z",
     "start_time": "2020-06-16T19:09:47.189208Z"
    },
    "run_control": {
     "marked": false
    }
   },
   "outputs": [
    {
     "data": {
      "text/plain": [
       "array([[ 0,  0,  0,  0,  0,  0,  0, -1, -1,  1],\n",
       "       [ 0,  0,  0,  0,  0,  0,  0,  1, -1,  0],\n",
       "       [ 0,  0,  0,  0,  0,  0,  0, -1,  1,  1],\n",
       "       [ 0,  0,  0,  0,  0,  0,  0,  0,  1, -1],\n",
       "       [ 0,  0,  0,  0,  0,  0,  0,  0, -1,  1],\n",
       "       [ 1,  1,  0,  1,  0,  0, -1,  0,  0,  0],\n",
       "       [-1,  0, -1,  0, -1, -1,  1,  0,  0,  0],\n",
       "       [ 1,  1,  0, -1,  1, -1,  0,  0,  0,  0],\n",
       "       [-1,  1, -1,  1, -1,  0,  1,  0,  0,  0],\n",
       "       [-1, -1,  1,  0,  0, -1, -1,  0,  0,  0]])"
      ]
     },
     "execution_count": 35,
     "metadata": {},
     "output_type": "execute_result"
    }
   ],
   "source": [
    "model3.model"
   ]
  },
  {
   "cell_type": "markdown",
   "metadata": {},
   "source": [
    "## Get echo intensities for all probes, splitting dis/similar"
   ]
  },
  {
   "cell_type": "code",
   "execution_count": 36,
   "metadata": {
    "ExecuteTime": {
     "end_time": "2020-06-16T19:09:47.195209Z",
     "start_time": "2020-06-16T19:09:47.192209Z"
    },
    "run_control": {
     "marked": false
    }
   },
   "outputs": [],
   "source": [
    "PRETTY=True"
   ]
  },
  {
   "cell_type": "code",
   "execution_count": 37,
   "metadata": {
    "ExecuteTime": {
     "end_time": "2020-06-16T19:09:47.205211Z",
     "start_time": "2020-06-16T19:09:47.196210Z"
    },
    "run_control": {
     "marked": false
    },
    "scrolled": true
   },
   "outputs": [
    {
     "name": "stdout",
     "output_type": "stream",
     "text": [
      "PROBE: [1, 1, 0, 1, 0, 0, -1, -1, -1, 1]\n",
      "TRACE 0: [0, 0, 0, 0, 0, 0, 0, -1, -1, 1] ->  0.300^3 =    0.027\n",
      "TRACE 1: [0, 0, 0, 0, 0, 0, 0, 1, -1, 0] ->  0.000^3 =    0.000\n",
      "TRACE 2: [0, 0, 0, 0, 0, 0, 0, -1, 1, 1] ->  0.100^3 =    0.001\n",
      "TRACE 3: [0, 0, 0, 0, 0, 0, 0, 0, 1, -1] -> -0.200^3 =   -0.008\n",
      "TRACE 4: [0, 0, 0, 0, 0, 0, 0, 0, -1, 1] ->  0.200^3 =    0.008\n",
      "TRACE 5: [1, 1, 0, 1, 0, 0, -1, 0, 0, 0] ->  0.400^3 =    0.064\n",
      "TRACE 6: [-1, 0, -1, 0, -1, -1, 1, 0, 0, 0] -> -0.200^3 =   -0.008\n",
      "TRACE 7: [1, 1, 0, -1, 1, -1, 0, 0, 0, 0] ->  0.100^3 =    0.001\n",
      "TRACE 8: [-1, 1, -1, 1, -1, 0, 1, 0, 0, 0] ->  0.000^3 =    0.000\n",
      "TRACE 9: [-1, -1, 1, 0, 0, -1, -1, 0, 0, 0] -> -0.100^3 =   -0.001\n",
      "--------------------------------------------------------------------------------\n",
      "                                                                           0.008\n",
      "PROBE: [-1, 0, -1, 0, -1, -1, 1, 1, -1, 0]\n",
      "TRACE 0: [0, 0, 0, 0, 0, 0, 0, -1, -1, 1] ->  0.000^3 =    0.000\n",
      "TRACE 1: [0, 0, 0, 0, 0, 0, 0, 1, -1, 0] ->  0.200^3 =    0.008\n",
      "TRACE 2: [0, 0, 0, 0, 0, 0, 0, -1, 1, 1] -> -0.200^3 =   -0.008\n",
      "TRACE 3: [0, 0, 0, 0, 0, 0, 0, 0, 1, -1] -> -0.100^3 =   -0.001\n",
      "TRACE 4: [0, 0, 0, 0, 0, 0, 0, 0, -1, 1] ->  0.100^3 =    0.001\n",
      "TRACE 5: [1, 1, 0, 1, 0, 0, -1, 0, 0, 0] -> -0.200^3 =   -0.008\n",
      "TRACE 6: [-1, 0, -1, 0, -1, -1, 1, 0, 0, 0] ->  0.500^3 =    0.125\n",
      "TRACE 7: [1, 1, 0, -1, 1, -1, 0, 0, 0, 0] -> -0.100^3 =   -0.001\n",
      "TRACE 8: [-1, 1, -1, 1, -1, 0, 1, 0, 0, 0] ->  0.400^3 =    0.064\n",
      "TRACE 9: [-1, -1, 1, 0, 0, -1, -1, 0, 0, 0] ->  0.000^3 =    0.000\n",
      "--------------------------------------------------------------------------------\n",
      "                                                                           0.018\n",
      "PROBE: [1, 1, 0, -1, 1, -1, 0, -1, 1, 1]\n",
      "TRACE 0: [0, 0, 0, 0, 0, 0, 0, -1, -1, 1] ->  0.100^3 =    0.001\n",
      "TRACE 1: [0, 0, 0, 0, 0, 0, 0, 1, -1, 0] -> -0.200^3 =   -0.008\n",
      "TRACE 2: [0, 0, 0, 0, 0, 0, 0, -1, 1, 1] ->  0.300^3 =    0.027\n",
      "TRACE 3: [0, 0, 0, 0, 0, 0, 0, 0, 1, -1] ->  0.000^3 =    0.000\n",
      "TRACE 4: [0, 0, 0, 0, 0, 0, 0, 0, -1, 1] ->  0.000^3 =    0.000\n",
      "TRACE 5: [1, 1, 0, 1, 0, 0, -1, 0, 0, 0] ->  0.100^3 =    0.001\n",
      "TRACE 6: [-1, 0, -1, 0, -1, -1, 1, 0, 0, 0] -> -0.100^3 =   -0.001\n",
      "TRACE 7: [1, 1, 0, -1, 1, -1, 0, 0, 0, 0] ->  0.500^3 =    0.125\n",
      "TRACE 8: [-1, 1, -1, 1, -1, 0, 1, 0, 0, 0] -> -0.200^3 =   -0.008\n",
      "TRACE 9: [-1, -1, 1, 0, 0, -1, -1, 0, 0, 0] -> -0.100^3 =   -0.001\n",
      "--------------------------------------------------------------------------------\n",
      "                                                                           0.014\n",
      "PROBE: [-1, 1, -1, 1, -1, 0, 1, 0, 1, -1]\n",
      "TRACE 0: [0, 0, 0, 0, 0, 0, 0, -1, -1, 1] -> -0.200^3 =   -0.008\n",
      "TRACE 1: [0, 0, 0, 0, 0, 0, 0, 1, -1, 0] -> -0.100^3 =   -0.001\n",
      "TRACE 2: [0, 0, 0, 0, 0, 0, 0, -1, 1, 1] ->  0.000^3 =    0.000\n",
      "TRACE 3: [0, 0, 0, 0, 0, 0, 0, 0, 1, -1] ->  0.200^3 =    0.008\n",
      "TRACE 4: [0, 0, 0, 0, 0, 0, 0, 0, -1, 1] -> -0.200^3 =   -0.008\n",
      "TRACE 5: [1, 1, 0, 1, 0, 0, -1, 0, 0, 0] ->  0.000^3 =    0.000\n",
      "TRACE 6: [-1, 0, -1, 0, -1, -1, 1, 0, 0, 0] ->  0.400^3 =    0.064\n",
      "TRACE 7: [1, 1, 0, -1, 1, -1, 0, 0, 0, 0] -> -0.200^3 =   -0.008\n",
      "TRACE 8: [-1, 1, -1, 1, -1, 0, 1, 0, 0, 0] ->  0.600^3 =    0.216\n",
      "TRACE 9: [-1, -1, 1, 0, 0, -1, -1, 0, 0, 0] -> -0.200^3 =   -0.008\n",
      "--------------------------------------------------------------------------------\n",
      "                                                                           0.026\n",
      "PROBE: [-1, -1, 1, 0, 0, -1, -1, 0, -1, 1]\n",
      "TRACE 0: [0, 0, 0, 0, 0, 0, 0, -1, -1, 1] ->  0.200^3 =    0.008\n",
      "TRACE 1: [0, 0, 0, 0, 0, 0, 0, 1, -1, 0] ->  0.100^3 =    0.001\n",
      "TRACE 2: [0, 0, 0, 0, 0, 0, 0, -1, 1, 1] ->  0.000^3 =    0.000\n",
      "TRACE 3: [0, 0, 0, 0, 0, 0, 0, 0, 1, -1] -> -0.200^3 =   -0.008\n",
      "TRACE 4: [0, 0, 0, 0, 0, 0, 0, 0, -1, 1] ->  0.200^3 =    0.008\n",
      "TRACE 5: [1, 1, 0, 1, 0, 0, -1, 0, 0, 0] -> -0.100^3 =   -0.001\n",
      "TRACE 6: [-1, 0, -1, 0, -1, -1, 1, 0, 0, 0] ->  0.000^3 =    0.000\n",
      "TRACE 7: [1, 1, 0, -1, 1, -1, 0, 0, 0, 0] -> -0.100^3 =   -0.001\n",
      "TRACE 8: [-1, 1, -1, 1, -1, 0, 1, 0, 0, 0] -> -0.200^3 =   -0.008\n",
      "TRACE 9: [-1, -1, 1, 0, 0, -1, -1, 0, 0, 0] ->  0.500^3 =    0.125\n",
      "--------------------------------------------------------------------------------\n",
      "                                                                           0.012\n",
      "PROBE: [0, -1, -1, 1, -1, -1, 0, -1, 1, 1]\n",
      "TRACE 0: [0, 0, 0, 0, 0, 0, 0, -1, -1, 1] ->  0.100^3 =    0.001\n",
      "TRACE 1: [0, 0, 0, 0, 0, 0, 0, 1, -1, 0] -> -0.200^3 =   -0.008\n",
      "TRACE 2: [0, 0, 0, 0, 0, 0, 0, -1, 1, 1] ->  0.300^3 =    0.027\n",
      "TRACE 3: [0, 0, 0, 0, 0, 0, 0, 0, 1, -1] ->  0.000^3 =    0.000\n",
      "TRACE 4: [0, 0, 0, 0, 0, 0, 0, 0, -1, 1] ->  0.000^3 =    0.000\n",
      "TRACE 5: [1, 1, 0, 1, 0, 0, -1, 0, 0, 0] ->  0.000^3 =    0.000\n",
      "TRACE 6: [-1, 0, -1, 0, -1, -1, 1, 0, 0, 0] ->  0.300^3 =    0.027\n",
      "TRACE 7: [1, 1, 0, -1, 1, -1, 0, 0, 0, 0] -> -0.200^3 =   -0.008\n",
      "TRACE 8: [-1, 1, -1, 1, -1, 0, 1, 0, 0, 0] ->  0.200^3 =    0.008\n",
      "TRACE 9: [-1, -1, 1, 0, 0, -1, -1, 0, 0, 0] ->  0.100^3 =    0.001\n",
      "--------------------------------------------------------------------------------\n",
      "                                                                           0.005\n",
      "PROBE: [1, -1, 1, 0, 0, 0, 0, 0, 0, 1]\n",
      "TRACE 0: [0, 0, 0, 0, 0, 0, 0, -1, -1, 1] ->  0.100^3 =    0.001\n",
      "TRACE 1: [0, 0, 0, 0, 0, 0, 0, 1, -1, 0] ->  0.000^3 =    0.000\n",
      "TRACE 2: [0, 0, 0, 0, 0, 0, 0, -1, 1, 1] ->  0.100^3 =    0.001\n",
      "TRACE 3: [0, 0, 0, 0, 0, 0, 0, 0, 1, -1] -> -0.100^3 =   -0.001\n",
      "TRACE 4: [0, 0, 0, 0, 0, 0, 0, 0, -1, 1] ->  0.100^3 =    0.001\n",
      "TRACE 5: [1, 1, 0, 1, 0, 0, -1, 0, 0, 0] ->  0.000^3 =    0.000\n",
      "TRACE 6: [-1, 0, -1, 0, -1, -1, 1, 0, 0, 0] -> -0.200^3 =   -0.008\n",
      "TRACE 7: [1, 1, 0, -1, 1, -1, 0, 0, 0, 0] ->  0.000^3 =    0.000\n",
      "TRACE 8: [-1, 1, -1, 1, -1, 0, 1, 0, 0, 0] -> -0.300^3 =   -0.027\n",
      "TRACE 9: [-1, -1, 1, 0, 0, -1, -1, 0, 0, 0] ->  0.100^3 =    0.001\n",
      "--------------------------------------------------------------------------------\n",
      "                                                                          -0.003\n",
      "PROBE: [1, -1, 1, 0, -1, 1, 0, 0, 0, -1]\n",
      "TRACE 0: [0, 0, 0, 0, 0, 0, 0, -1, -1, 1] -> -0.100^3 =   -0.001\n",
      "TRACE 1: [0, 0, 0, 0, 0, 0, 0, 1, -1, 0] ->  0.000^3 =    0.000\n",
      "TRACE 2: [0, 0, 0, 0, 0, 0, 0, -1, 1, 1] -> -0.100^3 =   -0.001\n",
      "TRACE 3: [0, 0, 0, 0, 0, 0, 0, 0, 1, -1] ->  0.100^3 =    0.001\n",
      "TRACE 4: [0, 0, 0, 0, 0, 0, 0, 0, -1, 1] -> -0.100^3 =   -0.001\n",
      "TRACE 5: [1, 1, 0, 1, 0, 0, -1, 0, 0, 0] ->  0.000^3 =    0.000\n",
      "TRACE 6: [-1, 0, -1, 0, -1, -1, 1, 0, 0, 0] -> -0.200^3 =   -0.008\n",
      "TRACE 7: [1, 1, 0, -1, 1, -1, 0, 0, 0, 0] -> -0.200^3 =   -0.008\n",
      "TRACE 8: [-1, 1, -1, 1, -1, 0, 1, 0, 0, 0] -> -0.200^3 =   -0.008\n",
      "TRACE 9: [-1, -1, 1, 0, 0, -1, -1, 0, 0, 0] ->  0.000^3 =    0.000\n",
      "--------------------------------------------------------------------------------\n",
      "                                                                          -0.003\n",
      "PROBE: [1, -1, 1, 0, 0, 1, 1, 1, 1, -1]\n",
      "TRACE 0: [0, 0, 0, 0, 0, 0, 0, -1, -1, 1] -> -0.300^3 =   -0.027\n",
      "TRACE 1: [0, 0, 0, 0, 0, 0, 0, 1, -1, 0] ->  0.000^3 =    0.000\n",
      "TRACE 2: [0, 0, 0, 0, 0, 0, 0, -1, 1, 1] -> -0.100^3 =   -0.001\n",
      "TRACE 3: [0, 0, 0, 0, 0, 0, 0, 0, 1, -1] ->  0.200^3 =    0.008\n",
      "TRACE 4: [0, 0, 0, 0, 0, 0, 0, 0, -1, 1] -> -0.200^3 =   -0.008\n",
      "TRACE 5: [1, 1, 0, 1, 0, 0, -1, 0, 0, 0] -> -0.100^3 =   -0.001\n",
      "TRACE 6: [-1, 0, -1, 0, -1, -1, 1, 0, 0, 0] -> -0.200^3 =   -0.008\n",
      "TRACE 7: [1, 1, 0, -1, 1, -1, 0, 0, 0, 0] -> -0.100^3 =   -0.001\n",
      "TRACE 8: [-1, 1, -1, 1, -1, 0, 1, 0, 0, 0] -> -0.200^3 =   -0.008\n",
      "TRACE 9: [-1, -1, 1, 0, 0, -1, -1, 0, 0, 0] -> -0.100^3 =   -0.001\n",
      "--------------------------------------------------------------------------------\n",
      "                                                                          -0.005\n",
      "PROBE: [-1, -1, 0, -1, 0, -1, -1, 1, 0, 1]\n",
      "TRACE 0: [0, 0, 0, 0, 0, 0, 0, -1, -1, 1] ->  0.000^3 =    0.000\n",
      "TRACE 1: [0, 0, 0, 0, 0, 0, 0, 1, -1, 0] ->  0.100^3 =    0.001\n",
      "TRACE 2: [0, 0, 0, 0, 0, 0, 0, -1, 1, 1] ->  0.000^3 =    0.000\n",
      "TRACE 3: [0, 0, 0, 0, 0, 0, 0, 0, 1, -1] -> -0.100^3 =   -0.001\n",
      "TRACE 4: [0, 0, 0, 0, 0, 0, 0, 0, -1, 1] ->  0.100^3 =    0.001\n",
      "TRACE 5: [1, 1, 0, 1, 0, 0, -1, 0, 0, 0] -> -0.200^3 =   -0.008\n",
      "TRACE 6: [-1, 0, -1, 0, -1, -1, 1, 0, 0, 0] ->  0.100^3 =    0.001\n",
      "TRACE 7: [1, 1, 0, -1, 1, -1, 0, 0, 0, 0] ->  0.000^3 =    0.000\n",
      "TRACE 8: [-1, 1, -1, 1, -1, 0, 1, 0, 0, 0] -> -0.200^3 =   -0.008\n",
      "TRACE 9: [-1, -1, 1, 0, 0, -1, -1, 0, 0, 0] ->  0.400^3 =    0.064\n",
      "--------------------------------------------------------------------------------\n",
      "                                                                           0.005\n"
     ]
    }
   ],
   "source": [
    "sim_intensities = []\n",
    "dis_intensities = []\n",
    "for i, P in enumerate(Ps):\n",
    "    intensity = model3.get_echo_intensity(P)\n",
    "    if i < PT_split_index:\n",
    "        sim_intensities.append(intensity)\n",
    "    else:\n",
    "        dis_intensities.append(intensity)\n",
    "    if PRETTY:\n",
    "        model3.pretty_print_echo_intensity(P)"
   ]
  },
  {
   "cell_type": "markdown",
   "metadata": {},
   "source": [
    "## Analyze"
   ]
  },
  {
   "cell_type": "code",
   "execution_count": 38,
   "metadata": {
    "ExecuteTime": {
     "end_time": "2020-06-16T19:09:47.330239Z",
     "start_time": "2020-06-16T19:09:47.205211Z"
    },
    "run_control": {
     "marked": false
    }
   },
   "outputs": [
    {
     "data": {
      "image/png": "[encoded data removed]",
      "text/plain": [
       "<Figure size 432x288 with 1 Axes>"
      ]
     },
     "metadata": {
      "needs_background": "light"
     },
     "output_type": "display_data"
    }
   ],
   "source": [
    "from scipy.stats import norm\n",
    "\n",
    "mu, std = norm.fit(sim_intensities)\n",
    "\n",
    "plt.hist(sim_intensities, density=True, label='similar')\n",
    "\n",
    "xmin, xmax = plt.xlim()\n",
    "x = np.linspace(xmin, xmax, 100)\n",
    "p = norm.pdf(x, mu, std)\n",
    "plt.plot(x, p, 'k', linewidth=2)\n",
    "#title = \"Fit results: mu = %.2f,  std = %.2f\" % (mu, std)\n",
    "#plt.title(title)\n",
    "mu, std = norm.fit(dis_intensities)\n",
    "\n",
    "plt.hist(dis_intensities, density=True, label='dissimilar')\n",
    "\n",
    "xmin, xmax = plt.xlim()\n",
    "x = np.linspace(xmin, xmax, 100)\n",
    "p = norm.pdf(x, mu, std)\n",
    "plt.plot(x, p, 'k', linewidth=2)\n",
    "#title = \"Fit results: mu = %.2f,  std = %.2f\" % (mu, std)\n",
    "#plt.title(title)\n",
    "plt.legend()\n",
    "\n",
    "plt.show()"
   ]
  },
  {
   "cell_type": "markdown",
   "metadata": {},
   "source": [
    "## REPEAT!"
   ]
  },
  {
   "cell_type": "code",
   "execution_count": 39,
   "metadata": {
    "ExecuteTime": {
     "end_time": "2020-06-16T19:09:56.170502Z",
     "start_time": "2020-06-16T19:09:47.331240Z"
    },
    "run_control": {
     "marked": false
    },
    "scrolled": false
   },
   "outputs": [
    {
     "ename": "TypeError",
     "evalue": "'tuple' object cannot be interpreted as an integer",
     "output_type": "error",
     "traceback": [
      "\u001b[1;31m---------------------------------------------------------------------------\u001b[0m",
      "\u001b[1;31mTypeError\u001b[0m                                 Traceback (most recent call last)",
      "\u001b[1;32m<ipython-input-39-1ae846ce3648>\u001b[0m in \u001b[0;36m<module>\u001b[1;34m\u001b[0m\n\u001b[0;32m     61\u001b[0m             \u001b[0mdis_intensities_rhythm\u001b[0m\u001b[1;33m.\u001b[0m\u001b[0mappend\u001b[0m\u001b[1;33m(\u001b[0m\u001b[0mintensity_rhythm\u001b[0m\u001b[1;33m)\u001b[0m\u001b[1;33m\u001b[0m\u001b[1;33m\u001b[0m\u001b[0m\n\u001b[0;32m     62\u001b[0m \u001b[1;33m\u001b[0m\u001b[0m\n\u001b[1;32m---> 63\u001b[1;33m     \u001b[0max\u001b[0m\u001b[1;33m,\u001b[0m \u001b[0mfig\u001b[0m \u001b[1;33m=\u001b[0m \u001b[0mplt\u001b[0m\u001b[1;33m.\u001b[0m\u001b[0msubplots\u001b[0m\u001b[1;33m(\u001b[0m\u001b[1;33m(\u001b[0m\u001b[1;36m1\u001b[0m\u001b[1;33m,\u001b[0m \u001b[1;36m1\u001b[0m\u001b[1;33m)\u001b[0m\u001b[1;33m)\u001b[0m\u001b[1;33m\u001b[0m\u001b[1;33m\u001b[0m\u001b[0m\n\u001b[0m\u001b[0;32m     64\u001b[0m     \u001b[1;31m# plot histograms and normal PDFs\u001b[0m\u001b[1;33m\u001b[0m\u001b[1;33m\u001b[0m\u001b[1;33m\u001b[0m\u001b[0m\n\u001b[0;32m     65\u001b[0m     \u001b[0mshow_densities\u001b[0m\u001b[1;33m(\u001b[0m\u001b[0msim_intensities_none\u001b[0m\u001b[1;33m,\u001b[0m \u001b[0mdis_intensities_none\u001b[0m\u001b[1;33m,\u001b[0m \u001b[1;34m'No overlap'\u001b[0m\u001b[1;33m)\u001b[0m\u001b[1;33m\u001b[0m\u001b[1;33m\u001b[0m\u001b[0m\n",
      "\u001b[1;32mC:\\ProgramData\\Anaconda3\\lib\\site-packages\\matplotlib\\pyplot.py\u001b[0m in \u001b[0;36msubplots\u001b[1;34m(nrows, ncols, sharex, sharey, squeeze, subplot_kw, gridspec_kw, **fig_kw)\u001b[0m\n\u001b[0;32m   1210\u001b[0m     axs = fig.subplots(nrows=nrows, ncols=ncols, sharex=sharex, sharey=sharey,\n\u001b[0;32m   1211\u001b[0m                        \u001b[0msqueeze\u001b[0m\u001b[1;33m=\u001b[0m\u001b[0msqueeze\u001b[0m\u001b[1;33m,\u001b[0m \u001b[0msubplot_kw\u001b[0m\u001b[1;33m=\u001b[0m\u001b[0msubplot_kw\u001b[0m\u001b[1;33m,\u001b[0m\u001b[1;33m\u001b[0m\u001b[1;33m\u001b[0m\u001b[0m\n\u001b[1;32m-> 1212\u001b[1;33m                        gridspec_kw=gridspec_kw)\n\u001b[0m\u001b[0;32m   1213\u001b[0m     \u001b[1;32mreturn\u001b[0m \u001b[0mfig\u001b[0m\u001b[1;33m,\u001b[0m \u001b[0maxs\u001b[0m\u001b[1;33m\u001b[0m\u001b[1;33m\u001b[0m\u001b[0m\n\u001b[0;32m   1214\u001b[0m \u001b[1;33m\u001b[0m\u001b[0m\n",
      "\u001b[1;32mC:\\ProgramData\\Anaconda3\\lib\\site-packages\\matplotlib\\figure.py\u001b[0m in \u001b[0;36msubplots\u001b[1;34m(self, nrows, ncols, sharex, sharey, squeeze, subplot_kw, gridspec_kw)\u001b[0m\n\u001b[0;32m   1566\u001b[0m \u001b[1;33m\u001b[0m\u001b[0m\n\u001b[0;32m   1567\u001b[0m         \u001b[1;31m# Create array to hold all axes.\u001b[0m\u001b[1;33m\u001b[0m\u001b[1;33m\u001b[0m\u001b[1;33m\u001b[0m\u001b[0m\n\u001b[1;32m-> 1568\u001b[1;33m         \u001b[0maxarr\u001b[0m \u001b[1;33m=\u001b[0m \u001b[0mnp\u001b[0m\u001b[1;33m.\u001b[0m\u001b[0mempty\u001b[0m\u001b[1;33m(\u001b[0m\u001b[1;33m(\u001b[0m\u001b[0mnrows\u001b[0m\u001b[1;33m,\u001b[0m \u001b[0mncols\u001b[0m\u001b[1;33m)\u001b[0m\u001b[1;33m,\u001b[0m \u001b[0mdtype\u001b[0m\u001b[1;33m=\u001b[0m\u001b[0mobject\u001b[0m\u001b[1;33m)\u001b[0m\u001b[1;33m\u001b[0m\u001b[1;33m\u001b[0m\u001b[0m\n\u001b[0m\u001b[0;32m   1569\u001b[0m         \u001b[1;32mfor\u001b[0m \u001b[0mrow\u001b[0m \u001b[1;32min\u001b[0m \u001b[0mrange\u001b[0m\u001b[1;33m(\u001b[0m\u001b[0mnrows\u001b[0m\u001b[1;33m)\u001b[0m\u001b[1;33m:\u001b[0m\u001b[1;33m\u001b[0m\u001b[1;33m\u001b[0m\u001b[0m\n\u001b[0;32m   1570\u001b[0m             \u001b[1;32mfor\u001b[0m \u001b[0mcol\u001b[0m \u001b[1;32min\u001b[0m \u001b[0mrange\u001b[0m\u001b[1;33m(\u001b[0m\u001b[0mncols\u001b[0m\u001b[1;33m)\u001b[0m\u001b[1;33m:\u001b[0m\u001b[1;33m\u001b[0m\u001b[1;33m\u001b[0m\u001b[0m\n",
      "\u001b[1;31mTypeError\u001b[0m: 'tuple' object cannot be interpreted as an integer"
     ]
    },
    {
     "data": {
      "text/plain": [
       "<Figure size 432x288 with 0 Axes>"
      ]
     },
     "metadata": {},
     "output_type": "display_data"
    }
   ],
   "source": [
    "# tunable variables\n",
    "FPT = 1000\n",
    "N_PROTOTYPES = 1000\n",
    "RHYTHM_TONE_RATIO = 0.7\n",
    "NOISE_RATIO = 0.5\n",
    "\n",
    "for _ in range(10):\n",
    "    # create model\n",
    "    model_both = Minerva2(FPT)\n",
    "    model_none = Minerva2(FPT)\n",
    "    model_tone = Minerva2(FPT)\n",
    "    model_rhythm = Minerva2(FPT)\n",
    "    # create probes\n",
    "    Ps = np.random.randint(-1, 2, (N_PROTOTYPES, FPT))\n",
    "    PT_split_index = round(N_PROTOTYPES * NOISE_RATIO)\n",
    "\n",
    "    # create traces (subset of probes)\n",
    "    T_Rs = np.copy(Ps)[:PT_split_index]\n",
    "    T_Ts = np.copy(Ps)[:PT_split_index]\n",
    "\n",
    "    # zero out parts of traces (symmetrically)\n",
    "    RT_split_index = round(FPT * RHYTHM_TONE_RATIO)\n",
    "\n",
    "    T_Rs[:, :RT_split_index] *= 0\n",
    "    T_Ts[:, RT_split_index:] *= 0\n",
    "\n",
    "    # add traces to model\n",
    "    for T_R in T_Rs:\n",
    "        model_both.add_trace(T_R)\n",
    "        model_rhythm.add_trace(T_R)\n",
    "    for T_T in T_Ts:\n",
    "        model_both.add_trace(T_T)\n",
    "        model_tone.add_trace(T_T)\n",
    "        \n",
    "    for rand_trace in np.random.randint(-1, 2, (round(N_PROTOTYPES * NOISE_RATIO), FPT)):\n",
    "        model_none.add_trace(rand_trace)\n",
    "\n",
    "    # get echo intensities\n",
    "    sim_intensities_none = []\n",
    "    sim_intensities_both = []\n",
    "    sim_intensities_tone = []\n",
    "    sim_intensities_rhythm = []\n",
    "    dis_intensities_none = []\n",
    "    dis_intensities_both = []\n",
    "    dis_intensities_tone = []\n",
    "    dis_intensities_rhythm = []\n",
    "    for i, P in enumerate(Ps):\n",
    "        intensity_none = model_none.get_echo_intensity(P)\n",
    "        intensity_both = model_both.get_echo_intensity(P)\n",
    "        intensity_tone = model_tone.get_echo_intensity(P)\n",
    "        intensity_rhythm = model_rhythm.get_echo_intensity(P)\n",
    "        if i < PT_split_index:\n",
    "            sim_intensities_none.append(intensity_none)\n",
    "            sim_intensities_both.append(intensity_both)\n",
    "            sim_intensities_tone.append(intensity_tone)\n",
    "            sim_intensities_rhythm.append(intensity_rhythm)\n",
    "        else:\n",
    "            dis_intensities_none.append(intensity_none)\n",
    "            dis_intensities_both.append(intensity_both)\n",
    "            dis_intensities_tone.append(intensity_tone)\n",
    "            dis_intensities_rhythm.append(intensity_rhythm)\n",
    "\n",
    "    ax, fig = plt.subplots((1, 1))\n",
    "    # plot histograms and normal PDFs\n",
    "    show_densities(sim_intensities_none, dis_intensities_none, 'No overlap')\n",
    "    show_densities(sim_intensities_both, dis_intensities_both, 'Tone and Rhythm overlap')\n",
    "    show_densities(sim_intensities_tone, dis_intensities_tone, 'Tone only overlap')\n",
    "    show_densities(sim_intensities_rhythm, dis_intensities_rhythm, 'Rhythm only overlap')\n",
    "\n",
    "    plt.figure(figsize=(14,7))\n",
    "\n",
    "    mu1, std1 = norm.fit(a)\n",
    "    mu2, std2 = norm.fit(b)\n",
    "\n",
    "    ax.hist(a, density=True, label='similar')\n",
    "    ax.hist(b, density=True, label='dissimilar')\n",
    "\n",
    "    xmin, xmax = plt.xlim()\n",
    "    x = np.linspace(xmin, xmax, 10000)\n",
    "\n",
    "    p1 = norm.pdf(x, mu1, std1)\n",
    "    ax.plot(x, p1, 'k',linewidth=2, label='$\\mu$ = %.2e, $\\sigma$ = %.2e' % (mu1, std1))\n",
    "\n",
    "    p2 = norm.pdf(x, mu2, std2)\n",
    "    ax.plot(x, p2, 'b', linewidth=2, label='$\\mu$ = %.2e, $\\sigma$ = %.2e' % (mu2, std2))\n",
    "\n",
    "    plt.title(title + \" - Intensity as a function of similarity (histogram, and PDFs)\")\n",
    "    plt.legend()\n",
    "    plt.xlabel(\"Echo Intensity\")\n",
    "    plt.ylabel(\"Density\")\n",
    "    plt.grid(True)\n",
    "    plt.show()\n",
    "    break"
   ]
  },
  {
   "cell_type": "markdown",
   "metadata": {},
   "source": [
    "1. remove unstudied\n",
    "2. add rhythm only\n",
    "3. add tone only\n",
    "4. add noise to everything\n",
    "5. single studied vs multiple studied"
   ]
  },
  {
   "cell_type": "markdown",
   "metadata": {},
   "source": [
    "# Round 2!"
   ]
  },
  {
   "cell_type": "code",
   "execution_count": null,
   "metadata": {
    "ExecuteTime": {
     "end_time": "2020-06-16T19:09:56.171502Z",
     "start_time": "2020-06-16T19:09:46.367Z"
    },
    "run_control": {
     "marked": false
    }
   },
   "outputs": [],
   "source": [
    "# tunable variables\n",
    "FPT = 100\n",
    "N_PROTOTYPES = 100\n",
    "TONE_RHYTHM_RATIO = 0.7\n",
    "\n",
    "# create model\n",
    "model = Minerva2(FPT)\n",
    "# create probes\n",
    "Ps_unstudied = np.random.randint(-1, 2, (N_PROTOTYPES, FPT))\n",
    "Ps_both = np.random.randint(-1, 2, (N_PROTOTYPES, FPT))\n",
    "Ps_rhythm = np.random.randint(-1, 2, (N_PROTOTYPES, FPT))\n",
    "Ps_tone = np.random.randint(-1, 2, (N_PROTOTYPES, FPT))"
   ]
  },
  {
   "cell_type": "code",
   "execution_count": null,
   "metadata": {
    "ExecuteTime": {
     "end_time": "2020-06-16T19:09:56.171502Z",
     "start_time": "2020-06-16T19:09:46.368Z"
    },
    "run_control": {
     "marked": false
    }
   },
   "outputs": [],
   "source": [
    "# create traces (subset of probes)\n",
    "T_Rs = np.copy(Ps_rhythm)\n",
    "T_Ts = np.copy(Ps_tone)\n",
    "T_Bs = Ps_both"
   ]
  },
  {
   "cell_type": "code",
   "execution_count": null,
   "metadata": {
    "ExecuteTime": {
     "end_time": "2020-06-16T19:09:56.172495Z",
     "start_time": "2020-06-16T19:09:46.370Z"
    },
    "run_control": {
     "marked": false
    }
   },
   "outputs": [],
   "source": [
    "# zero out parts of traces (symmetrically)\n",
    "RT_split_index = round(FPT * TONE_RHYTHM_RATIO)\n",
    "\n",
    "T_Rs[:, :RT_split_index] *= 0\n",
    "T_Ts[:, RT_split_index:] *= 0"
   ]
  },
  {
   "cell_type": "code",
   "execution_count": null,
   "metadata": {
    "ExecuteTime": {
     "end_time": "2020-06-16T19:09:56.172495Z",
     "start_time": "2020-06-16T19:09:46.371Z"
    },
    "run_control": {
     "marked": false
    }
   },
   "outputs": [],
   "source": [
    "# add traces to model\n",
    "for T_R in T_Rs:\n",
    "    model.add_trace(T_R)\n",
    "for T_T in T_Ts:\n",
    "    model.add_trace(T_T)\n",
    "for T_B in T_Bs:\n",
    "    model.add_trace(T_B)"
   ]
  },
  {
   "cell_type": "code",
   "execution_count": null,
   "metadata": {
    "ExecuteTime": {
     "end_time": "2020-06-16T19:09:56.173495Z",
     "start_time": "2020-06-16T19:09:46.372Z"
    },
    "run_control": {
     "marked": false
    }
   },
   "outputs": [],
   "source": [
    "# Add random noise traces\n",
    "#     for rand_trace in np.random.randint(-1, 2, (round(N_PROTOTYPES * NOISE_RATIO), FPT)):\n",
    "#         model.add_trace(rand_trace)\n",
    "\n",
    "# get echo intensities\n",
    "tone_intensities = [model.get_echo_intensity(p) for p in Ps_tone]\n",
    "rhythm_intensities = [model.get_echo_intensity(p) for p in Ps_rhythm]\n",
    "both_intensities = [model.get_echo_intensity(p) for p in Ps_both]\n",
    "unstudied_intensities = [model.get_echo_intensity(p) for p in Ps_unstudied]"
   ]
  },
  {
   "cell_type": "code",
   "execution_count": null,
   "metadata": {
    "ExecuteTime": {
     "end_time": "2020-06-16T19:09:56.173495Z",
     "start_time": "2020-06-16T19:09:46.373Z"
    },
    "run_control": {
     "marked": false
    }
   },
   "outputs": [],
   "source": [
    "plt.plot(tone_intensities)"
   ]
  },
  {
   "cell_type": "code",
   "execution_count": null,
   "metadata": {
    "ExecuteTime": {
     "end_time": "2020-06-16T19:09:56.174503Z",
     "start_time": "2020-06-16T19:09:46.375Z"
    },
    "run_control": {
     "marked": false
    }
   },
   "outputs": [],
   "source": [
    "model2 = Minerva2(FPT)"
   ]
  },
  {
   "cell_type": "code",
   "execution_count": null,
   "metadata": {
    "ExecuteTime": {
     "end_time": "2020-06-16T19:09:56.175496Z",
     "start_time": "2020-06-16T19:09:46.376Z"
    },
    "run_control": {
     "marked": false
    }
   },
   "outputs": [],
   "source": [
    "# add traces to model\n",
    "model2.add_traces(T_Rs)\n",
    "model2.add_traces(T_Ts)\n",
    "model2.add_traces(T_Bs)"
   ]
  },
  {
   "cell_type": "code",
   "execution_count": null,
   "metadata": {
    "ExecuteTime": {
     "end_time": "2020-06-16T19:09:56.176495Z",
     "start_time": "2020-06-16T19:09:46.378Z"
    },
    "run_control": {
     "marked": false
    }
   },
   "outputs": [],
   "source": [
    "model_arr = np.array(model.model)\n",
    "similarities = (Ps_tone @ model_arr.T)/Ps_tone.shape[1]\n",
    "activations = similarities**3\n",
    "intensities = np.mean(activations, axis=1)\n",
    "plt.plot(intensities)"
   ]
  },
  {
   "cell_type": "code",
   "execution_count": null,
   "metadata": {
    "ExecuteTime": {
     "end_time": "2020-06-16T19:09:56.176495Z",
     "start_time": "2020-06-16T19:09:46.379Z"
    },
    "run_control": {
     "marked": false
    }
   },
   "outputs": [],
   "source": [
    "# plot histograms and normal PDFs\n",
    "plt.figure(figsize=(14,7))\n",
    "\n",
    "mu_tone, std_tone = norm.fit(tone_intensities)\n",
    "mu_rhythm, std_rhythm = norm.fit(rhythm_intensities)\n",
    "mu_both, std_both = norm.fit(both_intensities)\n",
    "mu_unstudied, std_unstudied = norm.fit(unstudied_intensities)"
   ]
  },
  {
   "cell_type": "code",
   "execution_count": null,
   "metadata": {
    "ExecuteTime": {
     "end_time": "2020-06-16T19:09:56.177495Z",
     "start_time": "2020-06-16T19:09:46.380Z"
    },
    "run_control": {
     "marked": false
    }
   },
   "outputs": [],
   "source": [
    "plt.hist(unstudied_intensities, color='xkcd:orange', density=True)\n",
    "plt.hist(tone_intensities, color='b', density=True)\n",
    "plt.hist(rhythm_intensities, color='g', density=True)\n",
    "plt.hist(both_intensities, color='r', density=True)"
   ]
  },
  {
   "cell_type": "code",
   "execution_count": null,
   "metadata": {
    "ExecuteTime": {
     "end_time": "2020-06-16T19:09:56.177495Z",
     "start_time": "2020-06-16T19:09:46.382Z"
    },
    "run_control": {
     "marked": false
    }
   },
   "outputs": [],
   "source": [
    "#plt.xlim(-1e-4, .001)\n",
    "xmin, xmax = plt.xlim()\n",
    "x = np.linspace(xmin, xmax, 10000)\n",
    "\n",
    "p_unstudied = norm.pdf(x, mu_unstudied, std_unstudied)\n",
    "plt.plot(x, p_unstudied, 'k',linewidth=4)\n",
    "plt.plot(x, p_unstudied, 'xkcd:orange',linewidth=2, label='UNSTUDIED: $\\mu$ = %.2e, $\\sigma$ = %.2e' % (mu_unstudied, std_unstudied))\n",
    "\n",
    "p_tone = norm.pdf(x, mu_tone, std_tone)\n",
    "plt.plot(x, p_tone, 'k',linewidth=4)\n",
    "plt.plot(x, p_tone, 'b',linewidth=2, label='TONE: $\\mu$ = %.2e, $\\sigma$ = %.2e' % (mu_tone, std_tone))\n",
    "\n",
    "p_rhythm = norm.pdf(x, mu_rhythm, std_rhythm)\n",
    "plt.plot(x, p_rhythm, 'k',linewidth=4)\n",
    "plt.plot(x, p_rhythm, 'g',linewidth=2, label='RHYTHM: $\\mu$ = %.2e, $\\sigma$ = %.2e' % (mu_rhythm, std_rhythm))\n",
    "\n",
    "p_both = norm.pdf(x, mu_both, std_both)\n",
    "plt.plot(x, p_both, 'k',linewidth=4)\n",
    "plt.plot(x, p_both, 'r',linewidth=2, label='BOTH: $\\mu$ = %.2e, $\\sigma$ = %.2e' % (mu_both, std_both))\n",
    "\n",
    "plt.title(title + \" - Intensity as a function of similarity (histogram, and PDFs)\")\n",
    "plt.legend()\n",
    "plt.xlabel(\"Echo Intensity\")\n",
    "plt.ylabel(\"Density\")\n",
    "plt.grid(True)\n",
    "plt.show()"
   ]
  },
  {
   "cell_type": "markdown",
   "metadata": {},
   "source": [
    "## Slower!"
   ]
  },
  {
   "cell_type": "code",
   "execution_count": null,
   "metadata": {
    "ExecuteTime": {
     "end_time": "2020-06-16T19:09:56.178495Z",
     "start_time": "2020-06-16T19:09:46.384Z"
    },
    "run_control": {
     "marked": false
    }
   },
   "outputs": [],
   "source": [
    "# tunable variables\n",
    "FPT = 1000\n",
    "N_PROTOTYPES = 100\n",
    "TONE_RHYTHM_RATIO = 0.7\n",
    "\n",
    "# create model\n",
    "model = Minerva2(FPT)\n",
    "# create probes\n",
    "Ps_unstudied = np.random.randint(-1, 2, (N_PROTOTYPES, FPT))\n",
    "Ps_both = np.random.randint(-1, 2, (N_PROTOTYPES, FPT))\n",
    "Ps_rhythm = np.random.randint(-1, 2, (N_PROTOTYPES, FPT))\n",
    "Ps_tone = np.random.randint(-1, 2, (N_PROTOTYPES, FPT))\n",
    "\n",
    "# create traces (subset of probes)\n",
    "T_Rs = np.copy(Ps_rhythm)\n",
    "T_Ts = np.copy(Ps_tone)\n",
    "T_Bs = Ps_both\n",
    "\n",
    "# zero out parts of traces (symmetrically)\n",
    "RT_split_index = round(FPT * TONE_RHYTHM_RATIO)\n",
    "\n",
    "T_Rs[:, :RT_split_index] *= 0\n",
    "T_Ts[:, RT_split_index:] *= 0\n",
    "\n",
    "# add traces to model\n",
    "\n",
    "model.add_traces(T_Rs)\n",
    "model.add_traces(T_Ts)\n",
    "model.add_traces(T_Bs)\n",
    "\n",
    "# get echo intensities\n",
    "tone_intensities = [model.get_echo_intensity(p) for p in Ps_tone]\n",
    "rhythm_intensities = [model.get_echo_intensity(p) for p in Ps_rhythm]\n",
    "both_intensities = [model.get_echo_intensity(p) for p in Ps_both]\n",
    "unstudied_intensities = [model.get_echo_intensity(p) for p in Ps_unstudied]\n",
    "\n",
    "# plot histograms and normal PDFs\n",
    "plt.figure(figsize=(14,7))\n",
    "\n",
    "mu_tone, std_tone = norm.fit(tone_intensities)\n",
    "mu_rhythm, std_rhythm = norm.fit(rhythm_intensities)\n",
    "mu_both, std_both = norm.fit(both_intensities)\n",
    "mu_unstudied, std_unstudied = norm.fit(unstudied_intensities)\n",
    "\n",
    "plt.hist(unstudied_intensities, color='xkcd:orange', density=True)\n",
    "plt.hist(tone_intensities, color='b', density=True)\n",
    "plt.hist(rhythm_intensities, color='g', density=True)\n",
    "plt.hist(both_intensities, color='r', density=True)\n",
    "\n",
    "#plt.xlim(-1e-4, .001)\n",
    "xmin, xmax = plt.xlim()\n",
    "x = np.linspace(xmin, xmax, 10000)\n",
    "\n",
    "p_unstudied = norm.pdf(x, mu_unstudied, std_unstudied)\n",
    "plt.plot(x, p_unstudied, 'k',linewidth=4)\n",
    "plt.plot(x, p_unstudied, 'xkcd:orange',linewidth=2, label='UNSTUDIED: $\\mu$ = %.2e, $\\sigma$ = %.2e' % (mu_unstudied, std_unstudied))\n",
    "\n",
    "p_tone = norm.pdf(x, mu_tone, std_tone)\n",
    "plt.plot(x, p_tone, 'k',linewidth=4)\n",
    "plt.plot(x, p_tone, 'b',linewidth=2, label='TONE: $\\mu$ = %.2e, $\\sigma$ = %.2e' % (mu_tone, std_tone))\n",
    "\n",
    "p_rhythm = norm.pdf(x, mu_rhythm, std_rhythm)\n",
    "plt.plot(x, p_rhythm, 'k',linewidth=4)\n",
    "plt.plot(x, p_rhythm, 'g',linewidth=2, label='RHYTHM: $\\mu$ = %.2e, $\\sigma$ = %.2e' % (mu_rhythm, std_rhythm))\n",
    "\n",
    "p_both = norm.pdf(x, mu_both, std_both)\n",
    "plt.plot(x, p_both, 'k',linewidth=4)\n",
    "plt.plot(x, p_both, 'r',linewidth=2, label='BOTH: $\\mu$ = %.2e, $\\sigma$ = %.2e' % (mu_both, std_both))\n",
    "\n",
    "plt.title(title + \" - Intensity as a function of similarity (histogram, and PDFs)\")\n",
    "plt.legend()\n",
    "plt.xlabel(\"Echo Intensity\")\n",
    "plt.ylabel(\"Density\")\n",
    "plt.grid(True)\n",
    "plt.show()\n",
    "\n",
    "labels = ['U','T','R','B']\n",
    "results = [unstudied_intensities, tone_intensities, rhythm_intensities, both_intensities]\n",
    "print('_,U,T,R,B')\n",
    "for i, row in enumerate(results):\n",
    "    print(labels[i], end=',')\n",
    "    for col in results:\n",
    "        print(ttest_ind(row, col).pvalue, end=',')\n",
    "    print()"
   ]
  },
  {
   "cell_type": "markdown",
   "metadata": {},
   "source": [
    "## Faster!"
   ]
  },
  {
   "cell_type": "markdown",
   "metadata": {},
   "source": [
    "## Vary tone/rhythm ratio"
   ]
  },
  {
   "cell_type": "code",
   "execution_count": null,
   "metadata": {
    "ExecuteTime": {
     "end_time": "2020-06-16T19:09:56.179495Z",
     "start_time": "2020-06-16T19:09:46.386Z"
    },
    "run_control": {
     "marked": false
    },
    "scrolled": true
   },
   "outputs": [],
   "source": [
    "# tunable variables\n",
    "FPT = 1000\n",
    "N_PROTOTYPES = 1000\n",
    "#TONE_RHYTHM_RATIO = 0.7\n",
    "\n",
    "for TONE_RHYTHM_RATIO in [0.5, 0.6, 0.7, 0.8, 0.9]:\n",
    "    # create model\n",
    "    model = Minerva2(FPT)\n",
    "\n",
    "    # create probes\n",
    "    Ps_unstudied = np.random.randint(-1, 2, (N_PROTOTYPES, FPT))\n",
    "    Ps_both = np.random.randint(-1, 2, (N_PROTOTYPES, FPT))\n",
    "    Ps_rhythm = np.random.randint(-1, 2, (N_PROTOTYPES, FPT))\n",
    "    Ps_tone = np.random.randint(-1, 2, (N_PROTOTYPES, FPT))\n",
    "\n",
    "    # create traces (subset of probes)\n",
    "    T_Rs = np.copy(Ps_rhythm)\n",
    "    T_Ts = np.copy(Ps_tone)\n",
    "    T_B_Rs = np.copy(Ps_both)\n",
    "    T_B_Ts = np.copy(Ps_both)\n",
    "\n",
    "    # zero out parts of traces (symmetrically)\n",
    "    RT_split_index = round(FPT * TONE_RHYTHM_RATIO)\n",
    "\n",
    "    T_Rs[:, :RT_split_index] *= 0\n",
    "    T_Ts[:, RT_split_index:] *= 0\n",
    "    T_B_Rs[:, RT_split_index:] *= 0\n",
    "    T_B_Ts[:, :RT_split_index] *= 0\n",
    "\n",
    "    # add traces to model\n",
    "    model.add_traces(T_Rs)\n",
    "    model.add_traces(T_Ts)\n",
    "    model.add_traces(T_B_Rs)\n",
    "    model.add_traces(T_B_Ts)\n",
    "\n",
    "    # get echo intensities\n",
    "    tone_intensities = model.get_echo_intensities(Ps_tone)\n",
    "    rhythm_intensities = model.get_echo_intensities(Ps_rhythm)\n",
    "    both_intensities = model.get_echo_intensities(Ps_both)\n",
    "    unstudied_intensities = model.get_echo_intensities(Ps_unstudied)\n",
    "\n",
    "    # plot histograms and normal PDFs\n",
    "    plt.figure(figsize=(14,7))\n",
    "\n",
    "    mu_tone, std_tone = norm.fit(tone_intensities)\n",
    "    mu_rhythm, std_rhythm = norm.fit(rhythm_intensities)\n",
    "    mu_both, std_both = norm.fit(both_intensities)\n",
    "    mu_unstudied, std_unstudied = norm.fit(unstudied_intensities)\n",
    "\n",
    "    plt.hist(unstudied_intensities, color='xkcd:orange', density=True)\n",
    "    plt.hist(tone_intensities, color='b', density=True)\n",
    "    plt.hist(rhythm_intensities, color='g', density=True)\n",
    "    plt.hist(both_intensities, color='r', density=True)\n",
    "    #plt.xlim(-1e-4, .001)\n",
    "    xmin, xmax = plt.xlim()\n",
    "    x = np.linspace(xmin, xmax, 10000)\n",
    "\n",
    "    p_unstudied = norm.pdf(x, mu_unstudied, std_unstudied)\n",
    "    plt.plot(x, p_unstudied, 'k',linewidth=4)\n",
    "    plt.plot(x, p_unstudied, 'xkcd:orange',linewidth=2, label='UNSTUDIED: $\\mu$ = %.2e, $\\sigma$ = %.2e' % (mu_unstudied, std_unstudied))\n",
    "\n",
    "    p_tone = norm.pdf(x, mu_tone, std_tone)\n",
    "    plt.plot(x, p_tone, 'k',linewidth=4)\n",
    "    plt.plot(x, p_tone, 'b',linewidth=2, label='TONE: $\\mu$ = %.2e, $\\sigma$ = %.2e' % (mu_tone, std_tone))\n",
    "\n",
    "    p_rhythm = norm.pdf(x, mu_rhythm, std_rhythm)\n",
    "    plt.plot(x, p_rhythm, 'k',linewidth=4)\n",
    "    plt.plot(x, p_rhythm, 'g',linewidth=2, label='RHYTHM: $\\mu$ = %.2e, $\\sigma$ = %.2e' % (mu_rhythm, std_rhythm))\n",
    "\n",
    "    p_both = norm.pdf(x, mu_both, std_both)\n",
    "    plt.plot(x, p_both, 'k',linewidth=4)\n",
    "    plt.plot(x, p_both, 'r',linewidth=2, label='BOTH: $\\mu$ = %.2e, $\\sigma$ = %.2e' % (mu_both, std_both))\n",
    "\n",
    "    plt.title(\"Rhythm/tone ratio {} - Intensity as a function of similarity (histogram, and PDFs)\".format(TONE_RHYTHM_RATIO))\n",
    "    plt.legend()\n",
    "    plt.xlabel(\"Echo Intensity\")\n",
    "    plt.ylabel(\"Density\")\n",
    "    plt.grid(True)\n",
    "    plt.show()\n",
    "    \n",
    "    labels = ['U','T','R','B']\n",
    "    results = [unstudied_intensities, tone_intensities, rhythm_intensities, both_intensities]\n",
    "    print('_,U,T,R,B')\n",
    "    for i, row in enumerate(results):\n",
    "        print(labels[i], end=',')\n",
    "        for col in results:\n",
    "            print(ttest_ind(row, col).pvalue, end=',')\n",
    "        print()"
   ]
  },
  {
   "cell_type": "markdown",
   "metadata": {},
   "source": [
    "## Vary noise ratio"
   ]
  },
  {
   "cell_type": "code",
   "execution_count": null,
   "metadata": {
    "ExecuteTime": {
     "end_time": "2020-06-16T19:09:56.179495Z",
     "start_time": "2020-06-16T19:09:46.388Z"
    },
    "run_control": {
     "marked": false
    },
    "scrolled": false
   },
   "outputs": [],
   "source": [
    "# tunable variables\n",
    "FPT = 1000\n",
    "N_PROTOTYPES = 1000\n",
    "TONE_RHYTHM_RATIO = 0.7\n",
    "\n",
    "for NOISE_RATIO in [0.0, 0.01, 0.1, 0.2, 0.3, 0.4, 0.5]:\n",
    "    # create model\n",
    "    model = Minerva2(FPT)\n",
    "\n",
    "    # create probes\n",
    "    Ps_unstudied = np.random.randint(-1, 2, (N_PROTOTYPES, FPT))\n",
    "    Ps_both = np.random.randint(-1, 2, (N_PROTOTYPES, FPT))\n",
    "    Ps_rhythm = np.random.randint(-1, 2, (N_PROTOTYPES, FPT))\n",
    "    Ps_tone = np.random.randint(-1, 2, (N_PROTOTYPES, FPT))\n",
    "\n",
    "    # create traces (subset of probes)\n",
    "    T_Rs = np.copy(Ps_rhythm)\n",
    "    T_Ts = np.copy(Ps_tone)\n",
    "    T_B_Rs = np.copy(Ps_both)\n",
    "    T_B_Ts = np.copy(Ps_both)\n",
    "\n",
    "    # zero out parts of traces (symmetrically)\n",
    "    RT_split_index = round(FPT * TONE_RHYTHM_RATIO)\n",
    "\n",
    "    T_Rs[:, :RT_split_index] *= 0\n",
    "    T_Ts[:, RT_split_index:] *= 0\n",
    "    T_B_Rs[:, RT_split_index:] *= 0\n",
    "    T_B_Ts[:, :RT_split_index] *= 0\n",
    "    \n",
    "    # flip some features (add noise)\n",
    "    T_Rs = add_noise_2d(T_Rs, NOISE_RATIO)\n",
    "    T_Ts = add_noise_2d(T_Ts, NOISE_RATIO)\n",
    "    T_B_Rs = add_noise_2d(T_B_Rs, NOISE_RATIO)\n",
    "    T_B_Ts = add_noise_2d(T_B_Ts, NOISE_RATIO)\n",
    "\n",
    "    # add traces to model\n",
    "    model.add_traces(T_Rs)\n",
    "    model.add_traces(T_Ts)\n",
    "    model.add_traces(T_B_Rs)\n",
    "    model.add_traces(T_B_Ts)\n",
    "\n",
    "    # get echo intensities\n",
    "    tone_intensities = model.get_echo_intensities(Ps_tone)\n",
    "    rhythm_intensities = model.get_echo_intensities(Ps_rhythm)\n",
    "    both_intensities = model.get_echo_intensities(Ps_both)\n",
    "    unstudied_intensities = model.get_echo_intensities(Ps_unstudied)\n",
    "\n",
    "    # plot histograms and normal PDFs\n",
    "    plt.figure(figsize=(14,7))\n",
    "\n",
    "    mu_tone, std_tone = norm.fit(tone_intensities)\n",
    "    mu_rhythm, std_rhythm = norm.fit(rhythm_intensities)\n",
    "    mu_both, std_both = norm.fit(both_intensities)\n",
    "    mu_unstudied, std_unstudied = norm.fit(unstudied_intensities)\n",
    "\n",
    "    plt.hist(unstudied_intensities, color='xkcd:orange', density=True)\n",
    "    plt.hist(tone_intensities, color='b', density=True)\n",
    "    plt.hist(rhythm_intensities, color='g', density=True)\n",
    "    plt.hist(both_intensities, color='r', density=True)\n",
    "    #plt.xlim(-1e-4, .001)\n",
    "    xmin, xmax = plt.xlim()\n",
    "    x = np.linspace(xmin, xmax, 10000)\n",
    "\n",
    "    p_unstudied = norm.pdf(x, mu_unstudied, std_unstudied)\n",
    "    plt.plot(x, p_unstudied, 'k',linewidth=4)\n",
    "    plt.plot(x, p_unstudied, 'xkcd:orange',linewidth=2, label='UNSTUDIED: $\\mu$ = %.2e, $\\sigma$ = %.2e' % (mu_unstudied, std_unstudied))\n",
    "\n",
    "    p_tone = norm.pdf(x, mu_tone, std_tone)\n",
    "    plt.plot(x, p_tone, 'k',linewidth=4)\n",
    "    plt.plot(x, p_tone, 'b',linewidth=2, label='TONE: $\\mu$ = %.2e, $\\sigma$ = %.2e' % (mu_tone, std_tone))\n",
    "\n",
    "    p_rhythm = norm.pdf(x, mu_rhythm, std_rhythm)\n",
    "    plt.plot(x, p_rhythm, 'k',linewidth=4)\n",
    "    plt.plot(x, p_rhythm, 'g',linewidth=2, label='RHYTHM: $\\mu$ = %.2e, $\\sigma$ = %.2e' % (mu_rhythm, std_rhythm))\n",
    "\n",
    "    p_both = norm.pdf(x, mu_both, std_both)\n",
    "    plt.plot(x, p_both, 'k',linewidth=4)\n",
    "    plt.plot(x, p_both, 'r',linewidth=2, label='BOTH: $\\mu$ = %.2e, $\\sigma$ = %.2e' % (mu_both, std_both))\n",
    "\n",
    "    plt.title(\"Noise ratio {} - Intensity as a function of similarity (histogram, and PDFs)\".format(NOISE_RATIO))\n",
    "    plt.legend()\n",
    "    plt.xlabel(\"Echo Intensity\")\n",
    "    plt.ylabel(\"Density\")\n",
    "    plt.grid(True)\n",
    "    plt.show()\n",
    "    \n",
    "    labels = ['U','T','R','B']\n",
    "    results = [unstudied_intensities, tone_intensities, rhythm_intensities, both_intensities]\n",
    "    print('_,U,T,R,B')\n",
    "    for i, row in enumerate(results):\n",
    "        print(labels[i], end=',')\n",
    "        for col in results:\n",
    "            print(ttest_ind(row, col).pvalue, end=',')\n",
    "        print()"
   ]
  },
  {
   "cell_type": "markdown",
   "metadata": {},
   "source": [
    "## Vary multiple (export this)"
   ]
  },
  {
   "cell_type": "code",
   "execution_count": null,
   "metadata": {
    "ExecuteTime": {
     "end_time": "2020-06-16T19:09:56.180496Z",
     "start_time": "2020-06-16T19:09:46.390Z"
    },
    "run_control": {
     "marked": true
    },
    "scrolled": false
   },
   "outputs": [],
   "source": [
    "# tunable variables\n",
    "FPT = 1000\n",
    "N_PROTOTYPES = 30\n",
    "\n",
    "fig, axs = plt.subplots(3, 3, sharex=True, sharey=True)\n",
    "fig.set_figheight(16)\n",
    "fig.set_figwidth(16)\n",
    "fig.suptitle(\"Echo intensity as a function of feature type\")\n",
    "\n",
    "for i, TONE_RHYTHM_RATIO in enumerate([.5, .6, .7]):\n",
    "    for j, NOISE_RATIO in enumerate([0.01, 0.1, 0.2]):\n",
    "        tone_intensities = []\n",
    "        rhythm_intensities = []\n",
    "        both_intensities = []\n",
    "        unstudied_intensities = []\n",
    "        for _ in range(120):\n",
    "            # create model\n",
    "            model = Minerva2(FPT)\n",
    "\n",
    "            # create probes\n",
    "            Ps_unstudied = np.random.randint(-1, 2, (N_PROTOTYPES, FPT))\n",
    "            Ps_both = np.random.randint(-1, 2, (N_PROTOTYPES, FPT))\n",
    "            Ps_rhythm = np.random.randint(-1, 2, (N_PROTOTYPES, FPT))\n",
    "            Ps_tone = np.random.randint(-1, 2, (N_PROTOTYPES, FPT))\n",
    "\n",
    "            # create traces (subset of probes)\n",
    "            T_Rs = np.copy(Ps_rhythm)\n",
    "            T_Ts = np.copy(Ps_tone)\n",
    "            T_B_Rs = np.copy(Ps_both)\n",
    "            T_B_Ts = np.copy(Ps_both)\n",
    "\n",
    "            # zero out parts of traces (symmetrically)\n",
    "            RT_split_index = round(FPT * TONE_RHYTHM_RATIO)\n",
    "\n",
    "            T_Rs[:, :RT_split_index] *= 0\n",
    "            T_Ts[:, RT_split_index:] *= 0\n",
    "            T_B_Rs[:, RT_split_index:] *= 0\n",
    "            T_B_Ts[:, :RT_split_index] *= 0\n",
    "\n",
    "            # flip some features (add noise)\n",
    "            T_Rs = add_noise_2d(T_Rs, NOISE_RATIO)\n",
    "            T_Ts = add_noise_2d(T_Ts, NOISE_RATIO)\n",
    "            T_B_Rs = add_noise_2d(T_B_Rs, NOISE_RATIO)\n",
    "            T_B_Ts = add_noise_2d(T_B_Ts, NOISE_RATIO)\n",
    "\n",
    "            # add traces to model\n",
    "            model.add_traces(T_Rs)\n",
    "            model.add_traces(T_Ts)\n",
    "            model.add_traces(T_B_Rs)\n",
    "            model.add_traces(T_B_Ts)\n",
    "\n",
    "            # get echo intensities\n",
    "            tone_intensities.extend(model.get_echo_intensities(Ps_tone))\n",
    "            rhythm_intensities.extend(model.get_echo_intensities(Ps_rhythm))\n",
    "            both_intensities.extend(model.get_echo_intensities(Ps_both))\n",
    "            unstudied_intensities.extend(model.get_echo_intensities(Ps_unstudied))\n",
    "\n",
    "        # plot histograms and normal PDFs\n",
    "        mu_tone, std_tone = norm.fit(tone_intensities)\n",
    "        mu_rhythm, std_rhythm = norm.fit(rhythm_intensities)\n",
    "        mu_both, std_both = norm.fit(both_intensities)\n",
    "        mu_unstudied, std_unstudied = norm.fit(unstudied_intensities)\n",
    "\n",
    "        print(i, j)\n",
    "        axs[i, j].hist(unstudied_intensities, color='xkcd:orange', density=True)\n",
    "        axs[i, j].hist(tone_intensities, color='b', density=True)\n",
    "        axs[i, j].hist(rhythm_intensities, color='g', density=True)\n",
    "        axs[i, j].hist(both_intensities, color='r', density=True)\n",
    "        #plt.xlim(-1e-4, .001)\n",
    "        xmin, xmax = axs[i, j].set_xlim(-1e-4, .001)\n",
    "        x = np.linspace(xmin, xmax, 10000)\n",
    "        axs[i, j].set_ylim(0, 60000)\n",
    "\n",
    "        p_unstudied = norm.pdf(x, mu_unstudied, std_unstudied)\n",
    "        axs[i, j].plot(x, p_unstudied, 'k',linewidth=4)\n",
    "        axs[i, j].plot(x, p_unstudied, 'xkcd:orange',linewidth=2, label='UNSTUDIED: $\\mu$ = {:.1e}, $\\sigma$ = {:.1e}'.format(mu_unstudied, std_unstudied))\n",
    "\n",
    "        p_tone = norm.pdf(x, mu_tone, std_tone)\n",
    "        axs[i, j].plot(x, p_tone, 'k',linewidth=4)\n",
    "        axs[i, j].plot(x, p_tone, 'b',linewidth=2, label='TONE: $\\mu$ = {:.1e}, $\\sigma$ = {:.1e}'.format(mu_tone, std_tone))\n",
    "\n",
    "        p_rhythm = norm.pdf(x, mu_rhythm, std_rhythm)\n",
    "        axs[i, j].plot(x, p_rhythm, 'k',linewidth=4)\n",
    "        axs[i, j].plot(x, p_rhythm, 'g',linewidth=2, label='RHYTHM: $\\mu$ = {:.1e}, $\\sigma$ = {:.1e}'.format(mu_rhythm, std_rhythm))\n",
    "\n",
    "        p_both = norm.pdf(x, mu_both, std_both)\n",
    "        axs[i, j].plot(x, p_both, 'k',linewidth=4)\n",
    "        axs[i, j].plot(x, p_both, 'r',linewidth=2, label='BOTH: $\\mu$ = {:.1e}, $\\sigma$ = {:.1e}'.format(mu_both, std_both))\n",
    "\n",
    "        axs[i, j].set_title(\"Noise ratio={}, R/T ratio={}\".format(NOISE_RATIO, TONE_RHYTHM_RATIO))\n",
    "        axs[i, j].set_xlabel(\"Echo Intensity\")\n",
    "        axs[i, j].set_ylabel(\"Density\")\n",
    "        axs[i, j].grid(True)\n",
    "        axs[i, j].legend(loc=1, prop={'size':13.5})\n",
    "        axs[i, j].label_outer()\n",
    "        \n",
    "        with open(\"Simulations_TR_Output_{}_{}.csv\".format(i,j),\"w\") as potato:\n",
    "            potato.write(\"unstudied,tone,rhythm,both\\n\")\n",
    "            for u,t,r,b in zip(unstudied_intensities, tone_intensities, rhythm_intensities, both_intensities):\n",
    "                #potato.write(str(u)+str(t)+str(r)+str(b)+\"\\n\")\n",
    "                potato.write('{},{},{},{}\\n'.format(u,t,r,b))\n",
    "                \n",
    "        labels = ['U','T','R','B']\n",
    "        results = [unstudied_intensities, tone_intensities, rhythm_intensities, both_intensities]\n",
    "        print('_,U,T,R,B')\n",
    "        for k, row in enumerate(results):\n",
    "            print(labels[k], end=',')\n",
    "            for col in results:\n",
    "                print(ttest_ind(row, col).pvalue, end=',')\n",
    "            print()\n",
    "            \n",
    "\n",
    "plt.tight_layout()\n",
    "plt.subplots_adjust(top=0.93)\n",
    "plt.show()\n"
   ]
  },
  {
   "cell_type": "markdown",
   "metadata": {},
   "source": [
    "# Repetition experiment"
   ]
  },
  {
   "cell_type": "markdown",
   "metadata": {},
   "source": [
    "## Vary tone/rhythm ratio"
   ]
  },
  {
   "cell_type": "code",
   "execution_count": null,
   "metadata": {
    "ExecuteTime": {
     "end_time": "2020-06-16T19:09:56.181496Z",
     "start_time": "2020-06-16T19:09:46.392Z"
    },
    "run_control": {
     "marked": false
    },
    "scrolled": false
   },
   "outputs": [],
   "source": [
    "# tunable variables\n",
    "FPT = 1000\n",
    "N_PROTOTYPES = 1000\n",
    "TONE_RHYTHM_RATIO = 0.7\n",
    "NOISE_RATIO = 0.1\n",
    "N = 3\n",
    "\n",
    "for TONE_RHYTHM_RATIO in [0.5, 0.6, 0.7, 0.8, 0.9, 1]:\n",
    "#for NOISE_RATIO in [0.0, 0.01, 0.1, 0.2, 0.3, 0.4, 0.5]:\n",
    "    # create model\n",
    "    model = Minerva2(FPT)\n",
    "\n",
    "    # create probes\n",
    "    Ps_unstudied = np.random.randint(-1, 2, (N_PROTOTYPES, FPT))\n",
    "    Ps_rhythm1 = np.random.randint(-1, 2, (N_PROTOTYPES, FPT))\n",
    "    Ps_rhythmN = np.random.randint(-1, 2, (N_PROTOTYPES, FPT))\n",
    "\n",
    "    # create traces (subset of probes)\n",
    "    T_1s = np.copy(Ps_rhythm1)\n",
    "    T_Ns = np.copy(Ps_rhythmN)\n",
    "\n",
    "    # zero out parts of traces (symmetrically)\n",
    "    RT_split_index = round(FPT * TONE_RHYTHM_RATIO)\n",
    "\n",
    "    T_1s[:, :RT_split_index] *= 0\n",
    "    T_Ns[:, :RT_split_index] *= 0\n",
    "    \n",
    "    # flip some features (add noise)\n",
    "    T_1s = add_noise_2d(T_1s, NOISE_RATIO)\n",
    "    T_Ns = add_noise_2d(T_Ns, NOISE_RATIO)\n",
    "\n",
    "    # add traces to model\n",
    "    model.add_traces(T_1s)\n",
    "    for _ in range(N):\n",
    "        model.add_traces(T_Ns)\n",
    "\n",
    "    # get echo intensities\n",
    "    R1_intensities = model.get_echo_intensities(Ps_rhythm1)\n",
    "    RN_intensities = model.get_echo_intensities(Ps_rhythmN)\n",
    "    unstudied_intensities = model.get_echo_intensities(Ps_unstudied)\n",
    "\n",
    "    # plot histograms and normal PDFs\n",
    "    plt.figure(figsize=(14,7))\n",
    "\n",
    "    mu_1, std_1 = norm.fit(R1_intensities)\n",
    "    mu_N, std_N = norm.fit(RN_intensities)\n",
    "    mu_unstudied, std_unstudied = norm.fit(unstudied_intensities)\n",
    "\n",
    "    plt.hist(unstudied_intensities, color='xkcd:orange', density=True)\n",
    "    plt.hist(R1_intensities, color='b', density=True)\n",
    "    plt.hist(RN_intensities, color='g', density=True)\n",
    "    #plt.xlim(-1e-4, .001)\n",
    "    xmin, xmax = plt.xlim()\n",
    "    x = np.linspace(xmin, xmax, 10000)\n",
    "\n",
    "    p_unstudied = norm.pdf(x, mu_unstudied, std_unstudied)\n",
    "    plt.plot(x, p_unstudied, 'k',linewidth=4)\n",
    "    plt.plot(x, p_unstudied, 'xkcd:orange',linewidth=2, label='UNSTUDIED: $\\mu$ = %.2e, $\\sigma$ = %.2e' % (mu_unstudied, std_unstudied))\n",
    "\n",
    "    p_1 = norm.pdf(x, mu_1, std_1)\n",
    "    plt.plot(x, p_1, 'k',linewidth=4)\n",
    "    plt.plot(x, p_1, 'b',linewidth=2, label='N=1: $\\mu$ = %.2e, $\\sigma$ = %.2e' % (mu_1, std_1))\n",
    "\n",
    "    p_N = norm.pdf(x, mu_N, std_N)\n",
    "    plt.plot(x, p_N, 'k',linewidth=4)\n",
    "    plt.plot(x, p_N, 'g',linewidth=2, label='N=%d: $\\mu$ = %.2e, $\\sigma$ = %.2e' % (N, mu_N, std_N))\n",
    "\n",
    "    plt.title(\"Noise ratio {}, R/T ratio {}, N={} - Intensity as a function of similarity (histogram, and PDFs)\".format(NOISE_RATIO, TONE_RHYTHM_RATIO, N))\n",
    "    plt.legend()\n",
    "    plt.xlabel(\"Echo Intensity\")\n",
    "    plt.ylabel(\"Density\")\n",
    "    plt.grid(True)\n",
    "    plt.show()\n",
    "    \n",
    "    labels = ['U','1','N']\n",
    "    results = [unstudied_intensities, R1_intensities, RN_intensities]\n",
    "    print('_,U,1,N')\n",
    "    for i, row in enumerate(results):\n",
    "        print(labels[i], end=',')\n",
    "        for col in results:\n",
    "            print(ttest_ind(row, col).pvalue, end=',')\n",
    "        print()"
   ]
  },
  {
   "cell_type": "markdown",
   "metadata": {},
   "source": [
    "## Vary noise ratio"
   ]
  },
  {
   "cell_type": "code",
   "execution_count": null,
   "metadata": {
    "ExecuteTime": {
     "end_time": "2020-06-16T19:09:56.181496Z",
     "start_time": "2020-06-16T19:09:46.394Z"
    },
    "run_control": {
     "marked": false
    },
    "scrolled": false
   },
   "outputs": [],
   "source": [
    "# tunable variables\n",
    "FPT = 1000\n",
    "N_PROTOTYPES = 1000\n",
    "TONE_RHYTHM_RATIO = 0.7\n",
    "NOISE_RATIO = 0.1\n",
    "N = 3\n",
    "\n",
    "#for TONE_RHYTHM_RATIO in [0.5, 0.6, 0.7, 0.8, 0.9, 1]:\n",
    "for NOISE_RATIO in [0.0, 0.01, 0.1, 0.2, 0.3, 0.4, 0.5]:\n",
    "    # create model\n",
    "    model = Minerva2(FPT)\n",
    "\n",
    "    # create probes\n",
    "    Ps_unstudied = np.random.randint(-1, 2, (N_PROTOTYPES, FPT))\n",
    "    Ps_rhythm1 = np.random.randint(-1, 2, (N_PROTOTYPES, FPT))\n",
    "    Ps_rhythmN = np.random.randint(-1, 2, (N_PROTOTYPES, FPT))\n",
    "\n",
    "    # create traces (subset of probes)\n",
    "    T_1s = np.copy(Ps_rhythm1)\n",
    "    T_Ns = np.copy(Ps_rhythmN)\n",
    "\n",
    "    # zero out parts of traces (symmetrically)\n",
    "    RT_split_index = round(FPT * TONE_RHYTHM_RATIO)\n",
    "\n",
    "    T_1s[:, :RT_split_index] *= 0\n",
    "    T_Ns[:, :RT_split_index] *= 0\n",
    "    \n",
    "    # flip some features (add noise)\n",
    "    T_1s = add_noise_2d(T_1s, NOISE_RATIO)\n",
    "    T_Ns = add_noise_2d(T_Ns, NOISE_RATIO)\n",
    "\n",
    "    # add traces to model\n",
    "    model.add_traces(T_1s)\n",
    "    for _ in range(N):\n",
    "        model.add_traces(T_Ns)\n",
    "\n",
    "    # get echo intensities\n",
    "    R1_intensities = model.get_echo_intensities(Ps_rhythm1)\n",
    "    RN_intensities = model.get_echo_intensities(Ps_rhythmN)\n",
    "    unstudied_intensities = model.get_echo_intensities(Ps_unstudied)\n",
    "\n",
    "    # plot histograms and normal PDFs\n",
    "    plt.figure(figsize=(14,7))\n",
    "\n",
    "    mu_1, std_1 = norm.fit(R1_intensities)\n",
    "    mu_N, std_N = norm.fit(RN_intensities)\n",
    "    mu_unstudied, std_unstudied = norm.fit(unstudied_intensities)\n",
    "\n",
    "    plt.hist(unstudied_intensities, color='xkcd:orange', density=True)\n",
    "    plt.hist(R1_intensities, color='b', density=True)\n",
    "    plt.hist(RN_intensities, color='g', density=True)\n",
    "    #plt.xlim(-1e-4, .001)\n",
    "    xmin, xmax = plt.xlim()\n",
    "    x = np.linspace(xmin, xmax, 10000)\n",
    "\n",
    "    p_unstudied = norm.pdf(x, mu_unstudied, std_unstudied)\n",
    "    plt.plot(x, p_unstudied, 'k',linewidth=4)\n",
    "    plt.plot(x, p_unstudied, 'xkcd:orange',linewidth=2, label='UNSTUDIED: $\\mu$ = %.2e, $\\sigma$ = %.2e' % (mu_unstudied, std_unstudied))\n",
    "\n",
    "    p_1 = norm.pdf(x, mu_1, std_1)\n",
    "    plt.plot(x, p_1, 'k',linewidth=4)\n",
    "    plt.plot(x, p_1, 'b',linewidth=2, label='N=1: $\\mu$ = %.2e, $\\sigma$ = %.2e' % (mu_1, std_1))\n",
    "\n",
    "    p_N = norm.pdf(x, mu_N, std_N)\n",
    "    plt.plot(x, p_N, 'k',linewidth=4)\n",
    "    plt.plot(x, p_N, 'g',linewidth=2, label='N=%d: $\\mu$ = %.2e, $\\sigma$ = %.2e' % (N, mu_N, std_N))\n",
    "\n",
    "    plt.title(\"Noise ratio {}, R/T ratio {}, N={} - Intensity as a function of similarity (histogram, and PDFs)\".format(NOISE_RATIO, TONE_RHYTHM_RATIO, N))\n",
    "    plt.legend()\n",
    "    plt.xlabel(\"Echo Intensity\")\n",
    "    plt.ylabel(\"Density\")\n",
    "    plt.grid(True)\n",
    "    plt.show()\n",
    "    \n",
    "    labels = ['U','1','N']\n",
    "    results = [unstudied_intensities, R1_intensities, RN_intensities]\n",
    "    print('_,U,1,N')\n",
    "    for i, row in enumerate(results):\n",
    "        print(labels[i], end=',')\n",
    "        for col in results:\n",
    "            print(ttest_ind(row, col).pvalue, end=',')\n",
    "        print()"
   ]
  },
  {
   "cell_type": "markdown",
   "metadata": {},
   "source": [
    "## Vary N"
   ]
  },
  {
   "cell_type": "code",
   "execution_count": null,
   "metadata": {
    "ExecuteTime": {
     "end_time": "2020-06-16T19:09:56.182497Z",
     "start_time": "2020-06-16T19:09:46.395Z"
    },
    "run_control": {
     "marked": false
    },
    "scrolled": false
   },
   "outputs": [],
   "source": [
    "# tunable variables\n",
    "FPT = 1000\n",
    "N_PROTOTYPES = 1000\n",
    "TONE_RHYTHM_RATIO = 0.7\n",
    "NOISE_RATIO = 0.1\n",
    "N = 3\n",
    "\n",
    "for N in [2, 3, 4, 5, 6]:\n",
    "    # create model\n",
    "    model = Minerva2(FPT)\n",
    "\n",
    "    # create probes\n",
    "    Ps_unstudied = np.random.randint(-1, 2, (N_PROTOTYPES, FPT))\n",
    "    Ps_rhythm1 = np.random.randint(-1, 2, (N_PROTOTYPES, FPT))\n",
    "    Ps_rhythmN = np.random.randint(-1, 2, (N_PROTOTYPES, FPT))\n",
    "\n",
    "    # create traces (subset of probes)\n",
    "    T_1s = np.copy(Ps_rhythm1)\n",
    "    T_Ns = np.copy(Ps_rhythmN)\n",
    "\n",
    "    # zero out parts of traces (symmetrically)\n",
    "    RT_split_index = round(FPT * TONE_RHYTHM_RATIO)\n",
    "\n",
    "    T_1s[:, :RT_split_index] *= 0\n",
    "    T_Ns[:, :RT_split_index] *= 0\n",
    "    \n",
    "    # flip some features (add noise)\n",
    "    T_1s = add_noise_2d(T_1s, NOISE_RATIO)\n",
    "    T_Ns = add_noise_2d(T_Ns, NOISE_RATIO)\n",
    "\n",
    "    # add traces to model\n",
    "    model.add_traces(T_1s)\n",
    "    for _ in range(N):\n",
    "        model.add_traces(T_Ns)\n",
    "\n",
    "    # get echo intensities\n",
    "    R1_intensities = model.get_echo_intensities(Ps_rhythm1)\n",
    "    RN_intensities = model.get_echo_intensities(Ps_rhythmN)\n",
    "    unstudied_intensities = model.get_echo_intensities(Ps_unstudied)\n",
    "\n",
    "    # plot histograms and normal PDFs\n",
    "    plt.figure(figsize=(14,7))\n",
    "\n",
    "    mu_1, std_1 = norm.fit(R1_intensities)\n",
    "    mu_N, std_N = norm.fit(RN_intensities)\n",
    "    mu_unstudied, std_unstudied = norm.fit(unstudied_intensities)\n",
    "\n",
    "    plt.hist(unstudied_intensities, color='xkcd:orange', density=True)\n",
    "    plt.hist(R1_intensities, color='b', density=True)\n",
    "    plt.hist(RN_intensities, color='g', density=True)\n",
    "    #plt.xlim(-1e-4, .001)\n",
    "    xmin, xmax = plt.xlim()\n",
    "    x = np.linspace(xmin, xmax, 10000)\n",
    "\n",
    "    p_unstudied = norm.pdf(x, mu_unstudied, std_unstudied)\n",
    "    plt.plot(x, p_unstudied, 'k',linewidth=4)\n",
    "    plt.plot(x, p_unstudied, 'xkcd:orange',linewidth=2, label='UNSTUDIED: $\\mu$ = %.2e, $\\sigma$ = %.2e' % (mu_unstudied, std_unstudied))\n",
    "\n",
    "    p_1 = norm.pdf(x, mu_1, std_1)\n",
    "    plt.plot(x, p_1, 'k',linewidth=4)\n",
    "    plt.plot(x, p_1, 'b',linewidth=2, label='N=1: $\\mu$ = %.2e, $\\sigma$ = %.2e' % (mu_1, std_1))\n",
    "\n",
    "    p_N = norm.pdf(x, mu_N, std_N)\n",
    "    plt.plot(x, p_N, 'k',linewidth=4)\n",
    "    plt.plot(x, p_N, 'g',linewidth=2, label='N=%d: $\\mu$ = %.2e, $\\sigma$ = %.2e' % (N, mu_N, std_N))\n",
    "\n",
    "    plt.title(\"Noise ratio {}, R/T ratio {}, N={} - Intensity as a function of similarity (histogram, and PDFs)\".format(NOISE_RATIO, TONE_RHYTHM_RATIO, N))\n",
    "    plt.legend()\n",
    "    plt.xlabel(\"Echo Intensity\")\n",
    "    plt.ylabel(\"Density\")\n",
    "    plt.grid(True)\n",
    "    plt.show()\n",
    "    \n",
    "    labels = ['U','1','N']\n",
    "    results = [unstudied_intensities, R1_intensities, RN_intensities]\n",
    "    print('_,U,1,N')\n",
    "    for i, row in enumerate(results):\n",
    "        print(labels[i], end=',')\n",
    "        for col in results:\n",
    "            print(ttest_ind(row, col).pvalue, end=',')\n",
    "        print()"
   ]
  },
  {
   "cell_type": "markdown",
   "metadata": {},
   "source": [
    "## Vary Multiple (export this)"
   ]
  },
  {
   "cell_type": "code",
   "execution_count": null,
   "metadata": {
    "ExecuteTime": {
     "end_time": "2020-06-16T19:09:56.182497Z",
     "start_time": "2020-06-16T19:09:46.397Z"
    },
    "run_control": {
     "marked": true
    }
   },
   "outputs": [],
   "source": [
    "# tunable variables\n",
    "FPT = 1000\n",
    "N_PROTOTYPES = 40\n",
    "N=3\n",
    "\n",
    "fig, axs = plt.subplots(3, 3, sharex=True, sharey=True)\n",
    "fig.set_figheight(16)\n",
    "fig.set_figwidth(16)\n",
    "fig.suptitle(\"Echo intensity as a function of repetition\")\n",
    "\n",
    "for i, TONE_RHYTHM_RATIO in enumerate([.5, .6, .7]):\n",
    "    for j, NOISE_RATIO in enumerate([0.01, 0.1, 0.2]):\n",
    "        print(i, j)\n",
    "        R1_intensities = []\n",
    "        RN_intensities = []\n",
    "        unstudied_intensities = []\n",
    "        for _ in range(120):\n",
    "            model = Minerva2(FPT)\n",
    "\n",
    "            # create probes\n",
    "            Ps_unstudied = np.random.randint(-1, 2, (N_PROTOTYPES, FPT))\n",
    "            Ps_rhythm1 = np.random.randint(-1, 2, (N_PROTOTYPES, FPT))\n",
    "            Ps_rhythmN = np.random.randint(-1, 2, (N_PROTOTYPES, FPT))\n",
    "\n",
    "            # create traces (subset of probes)\n",
    "            T_1s = np.copy(Ps_rhythm1)\n",
    "            T_Ns = np.copy(Ps_rhythmN)\n",
    "\n",
    "            # zero out parts of traces (symmetrically)\n",
    "            RT_split_index = round(FPT * TONE_RHYTHM_RATIO)\n",
    "\n",
    "            T_1s[:, :RT_split_index] *= 0\n",
    "            T_Ns[:, :RT_split_index] *= 0\n",
    "\n",
    "            # flip some features (add noise)\n",
    "            T_1s = add_noise_2d(T_1s, NOISE_RATIO)\n",
    "            T_Ns = add_noise_2d(T_Ns, NOISE_RATIO)\n",
    "\n",
    "            # add traces to model\n",
    "            model.add_traces(T_1s)\n",
    "            for _ in range(N):\n",
    "                model.add_traces(T_Ns)\n",
    "\n",
    "            # get echo intensities\n",
    "            R1_intensities.extend(model.get_echo_intensities(Ps_rhythm1))\n",
    "            RN_intensities.extend(model.get_echo_intensities(Ps_rhythmN))\n",
    "            unstudied_intensities.extend(model.get_echo_intensities(Ps_unstudied))\n",
    "\n",
    "        # plot histograms and normal PDFs\n",
    "        mu_1, std_1 = norm.fit(R1_intensities)\n",
    "        mu_N, std_N = norm.fit(RN_intensities)\n",
    "        mu_unstudied, std_unstudied = norm.fit(unstudied_intensities)\n",
    "\n",
    "        axs[i, j].hist(unstudied_intensities, color='xkcd:orange', density=True)\n",
    "        axs[i, j].hist(R1_intensities, color='b', density=True)\n",
    "        axs[i, j].hist(RN_intensities, color='g', density=True)\n",
    "        x = np.linspace(xmin, xmax, 10000)\n",
    "        xmin, xmax = axs[i, j].set_xlim(-1e-4, .0012)\n",
    "        axs[i, j].set_ylim(0, 90000)\n",
    "\n",
    "        p_unstudied = norm.pdf(x, mu_unstudied, std_unstudied)\n",
    "        axs[i, j].plot(x, p_unstudied, 'k',linewidth=4)\n",
    "        axs[i, j].plot(x, p_unstudied, 'xkcd:orange',linewidth=2, label='UNSTUDIED: $\\mu$ = {:.1e}, $\\sigma$ = {:.1e}'.format(mu_unstudied, std_unstudied))\n",
    "\n",
    "        p_1 = norm.pdf(x, mu_1, std_1)\n",
    "        axs[i, j].plot(x, p_1, 'k',linewidth=4)\n",
    "        axs[i, j].plot(x, p_1, 'b',linewidth=2, label='N=1: $\\mu$ = {:.1e}, $\\sigma$ = {:.1e}'.format(mu_1, std_1))\n",
    "\n",
    "        p_N = norm.pdf(x, mu_N, std_N)\n",
    "        axs[i, j].plot(x, p_N, 'k',linewidth=4)\n",
    "        axs[i, j].plot(x, p_N, 'g',linewidth=2, label='N=3: $\\mu$ = {:.1e}, $\\sigma$ = {:.1e}'.format(mu_N, std_N))\n",
    "\n",
    "        axs[i, j].set_title(\"Noise ratio={}, R/T ratio={}\".format(NOISE_RATIO, TONE_RHYTHM_RATIO))\n",
    "        axs[i, j].set_xlabel(\"Echo Intensity\")\n",
    "        axs[i, j].set_ylabel(\"Density\")\n",
    "        axs[i, j].grid(True)\n",
    "        axs[i, j].legend(loc=1, prop={'size':13.5})\n",
    "        axs[i, j].label_outer()\n",
    "        \n",
    "        with open(\"Simulations_Repetition_Output_{}_{}.csv\".format(i,j),\"w\") as potato:\n",
    "            potato.write(\"unstudied,r1,r3\\n\")\n",
    "            for u,r1,r3 in zip(unstudied_intensities, R1_intensities, RN_intensities):\n",
    "                potato.write('{},{},{}\\n'.format(u,r1,r3))  \n",
    "                \n",
    "        labels = ['U','1','N']\n",
    "        results = [unstudied_intensities, R1_intensities, RN_intensities]\n",
    "        print('_,U,1,N')\n",
    "        for k, row in enumerate(results):\n",
    "            print(labels[k], end=',')\n",
    "            for col in results:\n",
    "                print(ttest_ind(row, col).pvalue, end=',')\n",
    "            print()\n",
    "            \n",
    "\n",
    "plt.tight_layout()\n",
    "plt.subplots_adjust(top=0.93)\n",
    "plt.show()\n"
   ]
  },
  {
   "cell_type": "code",
   "execution_count": null,
   "metadata": {},
   "outputs": [],
   "source": []
  }
 ],
 "metadata": {
  "kernelspec": {
   "display_name": "Python 3",
   "language": "python",
   "name": "python3"
  },
  "language_info": {
   "codemirror_mode": {
    "name": "ipython",
    "version": 3
   },
   "file_extension": ".py",
   "mimetype": "text/x-python",
   "name": "python",
   "nbconvert_exporter": "python",
   "pygments_lexer": "ipython3",
   "version": "3.7.6"
  },
  "notify_time": "30",
  "toc": {
   "base_numbering": 1,
   "nav_menu": {},
   "number_sections": true,
   "sideBar": true,
   "skip_h1_title": false,
   "title_cell": "Table of Contents",
   "title_sidebar": "Contents",
   "toc_cell": false,
   "toc_position": {
    "height": "calc(100% - 180px)",
    "left": "10px",
    "top": "150px",
    "width": "281px"
   },
   "toc_section_display": true,
   "toc_window_display": true
  },
  "varInspector": {
   "cols": {
    "lenName": 16,
    "lenType": 16,
    "lenVar": 40
   },
   "kernels_config": {
    "python": {
     "delete_cmd_postfix": "",
     "delete_cmd_prefix": "del ",
     "library": "var_list.py",
     "varRefreshCmd": "print(var_dic_list())"
    },
    "r": {
     "delete_cmd_postfix": ") ",
     "delete_cmd_prefix": "rm(",
     "library": "var_list.r",
     "varRefreshCmd": "cat(var_dic_list()) "
    }
   },
   "types_to_exclude": [
    "module",
    "function",
    "builtin_function_or_method",
    "instance",
    "_Feature"
   ],
   "window_display": false
  }
 },
 "nbformat": 4,
 "nbformat_minor": 2
}
