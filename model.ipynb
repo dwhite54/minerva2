{
 "cells": [
  {
   "cell_type": "markdown",
   "metadata": {},
   "source": [
    "Table of contents"
   ]
  },
  {
   "cell_type": "markdown",
   "metadata": {},
   "source": [
    "1. Create bare-bones minerva model\n",
    "\n",
    "2. Replicate original paper finding (requires better interface)\n",
    "\n",
    "3. Create rhythm/tone experiment with fixed\n",
    "    - rhythm/tone split\n",
    "    - number participants\n",
    "    - participant stimuli\n",
    "\n",
    "4. Make experiment configurable\n",
    "\n",
    "5. Run a bazillion experiments"
   ]
  },
  {
   "cell_type": "markdown",
   "metadata": {},
   "source": [
    "# Bare-bones Minerva2 model"
   ]
  },
  {
   "cell_type": "code",
   "execution_count": 1,
   "metadata": {
    "ExecuteTime": {
     "end_time": "2020-03-03T01:48:04.629615Z",
     "start_time": "2020-03-03T01:48:04.334116Z"
    }
   },
   "outputs": [],
   "source": [
    "import numpy as np"
   ]
  },
  {
   "cell_type": "code",
   "execution_count": 2,
   "metadata": {
    "ExecuteTime": {
     "end_time": "2020-03-03T01:48:04.642717Z",
     "start_time": "2020-03-03T01:48:04.632041Z"
    }
   },
   "outputs": [
    {
     "data": {
      "text/plain": [
       "0"
      ]
     },
     "execution_count": 2,
     "metadata": {},
     "output_type": "execute_result"
    }
   ],
   "source": [
    "len([val for val in np.unique(np.array((1,0,-1,1, 1, 1, 1, 0))) if val not in (-1, 0, 1)])"
   ]
  },
  {
   "cell_type": "markdown",
   "metadata": {},
   "source": [
    "## The Model (v0.1)"
   ]
  },
  {
   "cell_type": "code",
   "execution_count": 3,
   "metadata": {
    "ExecuteTime": {
     "end_time": "2020-03-03T01:48:04.656601Z",
     "start_time": "2020-03-03T01:48:04.644500Z"
    }
   },
   "outputs": [],
   "source": [
    "class Minerva2:\n",
    "    def __init__(self, features_per_trace):\n",
    "        self.features_per_trace = features_per_trace\n",
    "        self.model = []\n",
    "        \n",
    "    def get_activation(self, probe, trace):\n",
    "        '''\n",
    "        also returns similarity in 2nd return value\n",
    "        '''\n",
    "        # the @ symbol denotes a \"dot product,\" which is the same as \n",
    "        # similarity = sum([probe[i] * self.model[trace_idx][i] for i in range(len(probe))])\n",
    "        similarity = (probe @ trace) / len(probe)\n",
    "        return similarity**3, similarity\n",
    "        \n",
    "    def get_activation_by_idx(self, probe, trace_idx):\n",
    "        return self.get_activation(probe, self.model[trace_idx], return_sim)\n",
    "    \n",
    "    def get_echo_intensity(self, probe, return_all=False):\n",
    "        activations = []\n",
    "        similarities = []\n",
    "        for trace in self.model:\n",
    "            activation, similarity = self.get_activation(probe, trace)\n",
    "            activations.append(activation)\n",
    "            similarities.append(similarity)\n",
    "        \n",
    "        if return_all:\n",
    "            return sum(activations) / len(activations), activations, similarities\n",
    "        else:\n",
    "            return sum(activations) / len(activations)\n",
    "    \n",
    "    def add_trace(self, trace):\n",
    "        if type(trace) != np.ndarray:\n",
    "            raise Exception(\"Trace is not of type numpy array, fail.\")\n",
    "        if trace.shape != (self.features_per_trace,):\n",
    "            raise Exception(\"Trace is not a one-dimensional array of length\", self.features_per_trace, \", fail.\")\n",
    "        if len([x for x in trace if x not in (-1, 0, 1)]) > 0:\n",
    "            raise Exception(\"Trace contains values besides -1, 0, or 1, fail.\")\n",
    "        self.model.append(trace)\n",
    "\n",
    "    def pretty_print(self, probe):\n",
    "        '''\n",
    "        Illustrates the calculation of echo intensity\n",
    "        '''\n",
    "        echo_intensity, activations, similarities = self.get_echo_intensity(probe, return_all=True)\n",
    "\n",
    "        print('PROBE:', list(probe))\n",
    "        for i in range(len(activations)):\n",
    "            print('TRACE {}:'.format(i), list(self.model[i]), '->', '{:>6.3f}^3 = {:>8.3f}'.format(similarities[i], activations[i]))\n",
    "        print('-'*80)\n",
    "        print('{:>80.3f}'.format(echo_intensity))"
   ]
  },
  {
   "cell_type": "markdown",
   "metadata": {},
   "source": [
    "## Try it out with some ZERO traces"
   ]
  },
  {
   "cell_type": "code",
   "execution_count": 4,
   "metadata": {
    "ExecuteTime": {
     "end_time": "2020-03-03T01:48:04.675968Z",
     "start_time": "2020-03-03T01:48:04.658268Z"
    }
   },
   "outputs": [],
   "source": [
    "model1_fpt = 10"
   ]
  },
  {
   "cell_type": "code",
   "execution_count": 5,
   "metadata": {
    "ExecuteTime": {
     "end_time": "2020-03-03T01:48:04.701140Z",
     "start_time": "2020-03-03T01:48:04.677750Z"
    }
   },
   "outputs": [],
   "source": [
    "model1 = Minerva2(model1_fpt)"
   ]
  },
  {
   "cell_type": "code",
   "execution_count": 6,
   "metadata": {
    "ExecuteTime": {
     "end_time": "2020-03-03T01:48:04.729780Z",
     "start_time": "2020-03-03T01:48:04.703314Z"
    }
   },
   "outputs": [],
   "source": [
    "for _ in range(10):\n",
    "    rand_trace = np.zeros(model1_fpt)\n",
    "    model1.add_trace(rand_trace)"
   ]
  },
  {
   "cell_type": "code",
   "execution_count": 7,
   "metadata": {
    "ExecuteTime": {
     "end_time": "2020-03-03T01:48:04.761079Z",
     "start_time": "2020-03-03T01:48:04.733977Z"
    }
   },
   "outputs": [
    {
     "data": {
      "text/plain": [
       "[array([0., 0., 0., 0., 0., 0., 0., 0., 0., 0.]),\n",
       " array([0., 0., 0., 0., 0., 0., 0., 0., 0., 0.]),\n",
       " array([0., 0., 0., 0., 0., 0., 0., 0., 0., 0.]),\n",
       " array([0., 0., 0., 0., 0., 0., 0., 0., 0., 0.]),\n",
       " array([0., 0., 0., 0., 0., 0., 0., 0., 0., 0.]),\n",
       " array([0., 0., 0., 0., 0., 0., 0., 0., 0., 0.]),\n",
       " array([0., 0., 0., 0., 0., 0., 0., 0., 0., 0.]),\n",
       " array([0., 0., 0., 0., 0., 0., 0., 0., 0., 0.]),\n",
       " array([0., 0., 0., 0., 0., 0., 0., 0., 0., 0.]),\n",
       " array([0., 0., 0., 0., 0., 0., 0., 0., 0., 0.])]"
      ]
     },
     "execution_count": 7,
     "metadata": {},
     "output_type": "execute_result"
    }
   ],
   "source": [
    "model1.model"
   ]
  },
  {
   "cell_type": "markdown",
   "metadata": {},
   "source": [
    "Let's create a random probe to test"
   ]
  },
  {
   "cell_type": "code",
   "execution_count": 8,
   "metadata": {
    "ExecuteTime": {
     "end_time": "2020-03-03T01:48:04.782670Z",
     "start_time": "2020-03-03T01:48:04.763608Z"
    }
   },
   "outputs": [
    {
     "data": {
      "text/plain": [
       "array([ 0,  1, -1,  0,  0, -1,  1,  1,  0, -1])"
      ]
     },
     "execution_count": 8,
     "metadata": {},
     "output_type": "execute_result"
    }
   ],
   "source": [
    "probe1 = np.random.randint(-1, 2, model1_fpt)\n",
    "probe1"
   ]
  },
  {
   "cell_type": "code",
   "execution_count": 9,
   "metadata": {
    "ExecuteTime": {
     "end_time": "2020-03-03T01:48:04.809761Z",
     "start_time": "2020-03-03T01:48:04.785079Z"
    }
   },
   "outputs": [
    {
     "data": {
      "text/plain": [
       "(0.0,\n",
       " [0.0, 0.0, 0.0, 0.0, 0.0, 0.0, 0.0, 0.0, 0.0, 0.0],\n",
       " [0.0, 0.0, 0.0, 0.0, 0.0, 0.0, 0.0, 0.0, 0.0, 0.0])"
      ]
     },
     "execution_count": 9,
     "metadata": {},
     "output_type": "execute_result"
    }
   ],
   "source": [
    "model1.get_echo_intensity(probe1, return_all=True)"
   ]
  },
  {
   "cell_type": "code",
   "execution_count": 10,
   "metadata": {
    "ExecuteTime": {
     "end_time": "2020-03-03T01:48:04.848204Z",
     "start_time": "2020-03-03T01:48:04.812362Z"
    }
   },
   "outputs": [
    {
     "name": "stdout",
     "output_type": "stream",
     "text": [
      "PROBE: [0, 1, -1, 0, 0, -1, 1, 1, 0, -1]\n",
      "TRACE 0: [0.0, 0.0, 0.0, 0.0, 0.0, 0.0, 0.0, 0.0, 0.0, 0.0] ->  0.000^3 =    0.000\n",
      "TRACE 1: [0.0, 0.0, 0.0, 0.0, 0.0, 0.0, 0.0, 0.0, 0.0, 0.0] ->  0.000^3 =    0.000\n",
      "TRACE 2: [0.0, 0.0, 0.0, 0.0, 0.0, 0.0, 0.0, 0.0, 0.0, 0.0] ->  0.000^3 =    0.000\n",
      "TRACE 3: [0.0, 0.0, 0.0, 0.0, 0.0, 0.0, 0.0, 0.0, 0.0, 0.0] ->  0.000^3 =    0.000\n",
      "TRACE 4: [0.0, 0.0, 0.0, 0.0, 0.0, 0.0, 0.0, 0.0, 0.0, 0.0] ->  0.000^3 =    0.000\n",
      "TRACE 5: [0.0, 0.0, 0.0, 0.0, 0.0, 0.0, 0.0, 0.0, 0.0, 0.0] ->  0.000^3 =    0.000\n",
      "TRACE 6: [0.0, 0.0, 0.0, 0.0, 0.0, 0.0, 0.0, 0.0, 0.0, 0.0] ->  0.000^3 =    0.000\n",
      "TRACE 7: [0.0, 0.0, 0.0, 0.0, 0.0, 0.0, 0.0, 0.0, 0.0, 0.0] ->  0.000^3 =    0.000\n",
      "TRACE 8: [0.0, 0.0, 0.0, 0.0, 0.0, 0.0, 0.0, 0.0, 0.0, 0.0] ->  0.000^3 =    0.000\n",
      "TRACE 9: [0.0, 0.0, 0.0, 0.0, 0.0, 0.0, 0.0, 0.0, 0.0, 0.0] ->  0.000^3 =    0.000\n",
      "--------------------------------------------------------------------------------\n",
      "                                                                           0.000\n"
     ]
    }
   ],
   "source": [
    "model1.pretty_print(probe1)"
   ]
  },
  {
   "cell_type": "markdown",
   "metadata": {},
   "source": [
    "Blank memory means a blank response! Looking good so far."
   ]
  },
  {
   "cell_type": "markdown",
   "metadata": {},
   "source": [
    "## Now test with random traces"
   ]
  },
  {
   "cell_type": "code",
   "execution_count": 11,
   "metadata": {
    "ExecuteTime": {
     "end_time": "2020-03-03T01:48:04.875180Z",
     "start_time": "2020-03-03T01:48:04.850509Z"
    }
   },
   "outputs": [],
   "source": [
    "model2_fpt = 8"
   ]
  },
  {
   "cell_type": "code",
   "execution_count": 12,
   "metadata": {
    "ExecuteTime": {
     "end_time": "2020-03-03T01:48:04.915323Z",
     "start_time": "2020-03-03T01:48:04.877781Z"
    }
   },
   "outputs": [],
   "source": [
    "model2 = Minerva2(model2_fpt)"
   ]
  },
  {
   "cell_type": "code",
   "execution_count": 13,
   "metadata": {
    "ExecuteTime": {
     "end_time": "2020-03-03T01:48:04.937478Z",
     "start_time": "2020-03-03T01:48:04.917852Z"
    }
   },
   "outputs": [],
   "source": [
    "for _ in range(12):\n",
    "    rand_trace = np.random.randint(-1, 2, model2_fpt)\n",
    "    model2.add_trace(rand_trace)"
   ]
  },
  {
   "cell_type": "code",
   "execution_count": 14,
   "metadata": {
    "ExecuteTime": {
     "end_time": "2020-03-03T01:48:04.963196Z",
     "start_time": "2020-03-03T01:48:04.940038Z"
    }
   },
   "outputs": [
    {
     "data": {
      "text/plain": [
       "[array([-1,  1, -1,  0,  1,  0, -1, -1]),\n",
       " array([ 0,  0, -1, -1,  1, -1,  0, -1]),\n",
       " array([ 0, -1,  0,  0, -1, -1,  0,  0]),\n",
       " array([ 0,  1,  1,  0,  0,  1,  0, -1]),\n",
       " array([-1,  0,  0,  1,  0, -1,  0,  1]),\n",
       " array([ 1,  1,  0,  1,  0, -1,  0,  0]),\n",
       " array([ 0,  1,  0,  1,  0, -1, -1,  0]),\n",
       " array([-1, -1,  1, -1,  1, -1,  1,  1]),\n",
       " array([ 0,  0,  1,  1,  1,  0, -1, -1]),\n",
       " array([-1, -1,  0,  1,  0,  0,  0, -1]),\n",
       " array([ 1, -1,  1,  1, -1,  1,  0,  1]),\n",
       " array([ 1, -1, -1, -1, -1, -1, -1, -1])]"
      ]
     },
     "execution_count": 14,
     "metadata": {},
     "output_type": "execute_result"
    }
   ],
   "source": [
    "model2.model"
   ]
  },
  {
   "cell_type": "markdown",
   "metadata": {},
   "source": [
    "And a random test probe..."
   ]
  },
  {
   "cell_type": "code",
   "execution_count": 15,
   "metadata": {
    "ExecuteTime": {
     "end_time": "2020-03-03T01:48:04.993019Z",
     "start_time": "2020-03-03T01:48:04.965439Z"
    }
   },
   "outputs": [
    {
     "data": {
      "text/plain": [
       "array([-1,  1,  1,  1,  1,  0,  1, -1])"
      ]
     },
     "execution_count": 15,
     "metadata": {},
     "output_type": "execute_result"
    }
   ],
   "source": [
    "probe2 = np.random.randint(-1, 2, model2_fpt)\n",
    "probe2"
   ]
  },
  {
   "cell_type": "code",
   "execution_count": 16,
   "metadata": {
    "ExecuteTime": {
     "end_time": "2020-03-03T01:48:05.026569Z",
     "start_time": "2020-03-03T01:48:04.995526Z"
    }
   },
   "outputs": [
    {
     "data": {
      "text/plain": [
       "(-0.010904947916666666,\n",
       " [0.015625,\n",
       "  0.0,\n",
       "  -0.015625,\n",
       "  0.052734375,\n",
       "  0.001953125,\n",
       "  0.001953125,\n",
       "  0.001953125,\n",
       "  0.001953125,\n",
       "  0.052734375,\n",
       "  0.015625,\n",
       "  -0.015625,\n",
       "  -0.244140625],\n",
       " [0.25,\n",
       "  0.0,\n",
       "  -0.25,\n",
       "  0.375,\n",
       "  0.125,\n",
       "  0.125,\n",
       "  0.125,\n",
       "  0.125,\n",
       "  0.375,\n",
       "  0.25,\n",
       "  -0.25,\n",
       "  -0.625])"
      ]
     },
     "execution_count": 16,
     "metadata": {},
     "output_type": "execute_result"
    }
   ],
   "source": [
    "model2.get_echo_intensity(probe2, return_all=True)"
   ]
  },
  {
   "cell_type": "code",
   "execution_count": 17,
   "metadata": {
    "ExecuteTime": {
     "end_time": "2020-03-03T01:48:05.066294Z",
     "start_time": "2020-03-03T01:48:05.029236Z"
    }
   },
   "outputs": [
    {
     "name": "stdout",
     "output_type": "stream",
     "text": [
      "PROBE: [-1, 1, 1, 1, 1, 0, 1, -1]\n",
      "TRACE 0: [-1, 1, -1, 0, 1, 0, -1, -1] ->  0.250^3 =    0.016\n",
      "TRACE 1: [0, 0, -1, -1, 1, -1, 0, -1] ->  0.000^3 =    0.000\n",
      "TRACE 2: [0, -1, 0, 0, -1, -1, 0, 0] -> -0.250^3 =   -0.016\n",
      "TRACE 3: [0, 1, 1, 0, 0, 1, 0, -1] ->  0.375^3 =    0.053\n",
      "TRACE 4: [-1, 0, 0, 1, 0, -1, 0, 1] ->  0.125^3 =    0.002\n",
      "TRACE 5: [1, 1, 0, 1, 0, -1, 0, 0] ->  0.125^3 =    0.002\n",
      "TRACE 6: [0, 1, 0, 1, 0, -1, -1, 0] ->  0.125^3 =    0.002\n",
      "TRACE 7: [-1, -1, 1, -1, 1, -1, 1, 1] ->  0.125^3 =    0.002\n",
      "TRACE 8: [0, 0, 1, 1, 1, 0, -1, -1] ->  0.375^3 =    0.053\n",
      "TRACE 9: [-1, -1, 0, 1, 0, 0, 0, -1] ->  0.250^3 =    0.016\n",
      "TRACE 10: [1, -1, 1, 1, -1, 1, 0, 1] -> -0.250^3 =   -0.016\n",
      "TRACE 11: [1, -1, -1, -1, -1, -1, -1, -1] -> -0.625^3 =   -0.244\n",
      "--------------------------------------------------------------------------------\n",
      "                                                                          -0.011\n"
     ]
    }
   ],
   "source": [
    "model2.pretty_print(probe2)"
   ]
  },
  {
   "cell_type": "markdown",
   "metadata": {},
   "source": [
    "### Do this a bunch to see what random traces and probes produce"
   ]
  },
  {
   "cell_type": "code",
   "execution_count": 18,
   "metadata": {
    "ExecuteTime": {
     "end_time": "2020-03-03T01:48:05.492011Z",
     "start_time": "2020-03-03T01:48:05.068657Z"
    }
   },
   "outputs": [],
   "source": [
    "import matplotlib.pyplot as plt"
   ]
  },
  {
   "cell_type": "code",
   "execution_count": 19,
   "metadata": {
    "ExecuteTime": {
     "end_time": "2020-03-03T01:48:05.794242Z",
     "start_time": "2020-03-03T01:48:05.493703Z"
    }
   },
   "outputs": [
    {
     "data": {
      "text/plain": [
       "[<matplotlib.lines.Line2D at 0x7faab096ba90>]"
      ]
     },
     "execution_count": 19,
     "metadata": {},
     "output_type": "execute_result"
    },
    {
     "data": {
      "image/png": "[encoded data removed]",
      "text/plain": [
       "<Figure size 432x288 with 1 Axes>"
      ]
     },
     "metadata": {
      "needs_background": "light"
     },
     "output_type": "display_data"
    }
   ],
   "source": [
    "intensities = []\n",
    "for i in range(1000):\n",
    "    probe2 = np.random.randint(-1, 2, model2_fpt)\n",
    "    intensities.append(model2.get_echo_intensity(probe2))\n",
    "plt.plot(intensities)"
   ]
  },
  {
   "cell_type": "code",
   "execution_count": 20,
   "metadata": {
    "ExecuteTime": {
     "end_time": "2020-03-03T01:48:06.652333Z",
     "start_time": "2020-03-03T01:48:05.796051Z"
    }
   },
   "outputs": [
    {
     "data": {
      "image/png": "[encoded data removed]",
      "text/plain": [
       "<Figure size 432x288 with 1 Axes>"
      ]
     },
     "metadata": {
      "needs_background": "light"
     },
     "output_type": "display_data"
    }
   ],
   "source": [
    "from scipy.stats import norm\n",
    "\n",
    "mu, std = norm.fit(intensities)\n",
    "\n",
    "plt.hist(intensities, density=True)\n",
    "\n",
    "xmin, xmax = plt.xlim()\n",
    "x = np.linspace(xmin, xmax, 100)\n",
    "p = norm.pdf(x, mu, std)\n",
    "plt.plot(x, p, 'k', linewidth=2)\n",
    "title = \"Fit results: mu = %.2f,  std = %.2f\" % (mu, std)\n",
    "plt.title(title)\n",
    "\n",
    "plt.show()"
   ]
  },
  {
   "cell_type": "markdown",
   "metadata": {},
   "source": [
    "Good enough."
   ]
  },
  {
   "cell_type": "markdown",
   "metadata": {},
   "source": [
    "# Hintzmann's original experiment"
   ]
  },
  {
   "cell_type": "markdown",
   "metadata": {},
   "source": [
    "1. Create prototypes (no 0s)\n",
    "2. Create exemplars which are \n",
    "3. ???\n",
    "4. Profit."
   ]
  },
  {
   "cell_type": "markdown",
   "metadata": {},
   "source": [
    "# Mimic experiment 1"
   ]
  },
  {
   "cell_type": "markdown",
   "metadata": {},
   "source": [
    "Participants received partial features (rhythm/tone) during study, then at test were given a full song.\n",
    "\n",
    "We will simulate this by creating a list of random probes, `R`.\n",
    "\n",
    "Memory traces will be added which contain zeros, and some subset of `R`.\n",
    "\n",
    "We will be comparing trace/probe overlap amount on echo intensity."
   ]
  },
  {
   "cell_type": "code",
   "execution_count": 21,
   "metadata": {
    "ExecuteTime": {
     "end_time": "2020-03-03T01:48:06.657167Z",
     "start_time": "2020-03-03T01:48:06.654130Z"
    }
   },
   "outputs": [],
   "source": [
    "model3_fpt = 10\n",
    "model3_prototypes = 10\n",
    "model3_rhythm_tone_ratio = 0.7\n",
    "model3_noise_ratio = 0.5"
   ]
  },
  {
   "cell_type": "code",
   "execution_count": 22,
   "metadata": {
    "ExecuteTime": {
     "end_time": "2020-03-03T01:48:06.678449Z",
     "start_time": "2020-03-03T01:48:06.660768Z"
    }
   },
   "outputs": [],
   "source": [
    "model3 = Minerva2(model3_fpt)"
   ]
  },
  {
   "cell_type": "markdown",
   "metadata": {},
   "source": [
    "## Make some random probes"
   ]
  },
  {
   "cell_type": "code",
   "execution_count": 23,
   "metadata": {
    "ExecuteTime": {
     "end_time": "2020-03-03T01:48:06.700710Z",
     "start_time": "2020-03-03T01:48:06.681061Z"
    }
   },
   "outputs": [
    {
     "data": {
      "text/plain": [
       "(10, 10)"
      ]
     },
     "execution_count": 23,
     "metadata": {},
     "output_type": "execute_result"
    }
   ],
   "source": [
    "Ps = np.random.randint(-1, 2, (model3_prototypes, model3_fpt))\n",
    "Ps.shape"
   ]
  },
  {
   "cell_type": "code",
   "execution_count": 24,
   "metadata": {
    "ExecuteTime": {
     "end_time": "2020-03-03T01:48:06.728812Z",
     "start_time": "2020-03-03T01:48:06.703039Z"
    }
   },
   "outputs": [
    {
     "data": {
      "text/plain": [
       "array([[-1,  0, -1,  0, -1,  1,  0,  0,  0,  0],\n",
       "       [ 0,  0, -1,  0,  0,  1,  0, -1, -1,  1],\n",
       "       [ 0, -1,  0,  0,  0,  1, -1, -1, -1, -1],\n",
       "       [ 0, -1,  0, -1, -1,  0,  0, -1, -1,  0],\n",
       "       [ 1,  1,  0,  1,  0, -1,  0, -1,  1, -1],\n",
       "       [ 0, -1,  1,  1, -1, -1, -1,  1, -1,  0],\n",
       "       [ 1,  0,  0,  1,  0, -1, -1, -1, -1,  1],\n",
       "       [-1, -1,  0, -1,  1,  1,  0,  1, -1, -1],\n",
       "       [ 0,  1,  0,  1, -1, -1,  0,  1, -1,  1],\n",
       "       [ 1, -1,  1,  0, -1,  0,  1,  0, -1,  1]])"
      ]
     },
     "execution_count": 24,
     "metadata": {},
     "output_type": "execute_result"
    }
   ],
   "source": [
    "Ps"
   ]
  },
  {
   "cell_type": "markdown",
   "metadata": {},
   "source": [
    "## Make rhythm/tone traces"
   ]
  },
  {
   "cell_type": "code",
   "execution_count": 25,
   "metadata": {
    "ExecuteTime": {
     "end_time": "2020-03-03T01:48:06.749331Z",
     "start_time": "2020-03-03T01:48:06.731420Z"
    }
   },
   "outputs": [],
   "source": [
    "PT_split_index = round(model3_prototypes * model3_noise_ratio)"
   ]
  },
  {
   "cell_type": "code",
   "execution_count": 26,
   "metadata": {
    "ExecuteTime": {
     "end_time": "2020-03-03T01:48:06.776105Z",
     "start_time": "2020-03-03T01:48:06.752124Z"
    }
   },
   "outputs": [],
   "source": [
    "T_Rs = np.copy(Ps)[:PT_split_index]\n",
    "T_Ts = np.copy(Ps)[:PT_split_index]"
   ]
  },
  {
   "cell_type": "markdown",
   "metadata": {},
   "source": [
    "Zero out `proportion` of features"
   ]
  },
  {
   "cell_type": "code",
   "execution_count": 27,
   "metadata": {
    "ExecuteTime": {
     "end_time": "2020-03-03T01:48:06.810656Z",
     "start_time": "2020-03-03T01:48:06.778884Z"
    }
   },
   "outputs": [
    {
     "data": {
      "text/plain": [
       "(5, 10)"
      ]
     },
     "execution_count": 27,
     "metadata": {},
     "output_type": "execute_result"
    }
   ],
   "source": [
    "T_Rs.shape"
   ]
  },
  {
   "cell_type": "code",
   "execution_count": 28,
   "metadata": {
    "ExecuteTime": {
     "end_time": "2020-03-03T01:48:06.830869Z",
     "start_time": "2020-03-03T01:48:06.813528Z"
    }
   },
   "outputs": [],
   "source": [
    "RT_split_index = round(model3_fpt * model3_rhythm_tone_ratio)"
   ]
  },
  {
   "cell_type": "code",
   "execution_count": 29,
   "metadata": {
    "ExecuteTime": {
     "end_time": "2020-03-03T01:48:06.855558Z",
     "start_time": "2020-03-03T01:48:06.833703Z"
    }
   },
   "outputs": [],
   "source": [
    "T_Rs[:, :RT_split_index] *= 0\n",
    "T_Ts[:, RT_split_index:] *= 0"
   ]
  },
  {
   "cell_type": "code",
   "execution_count": 30,
   "metadata": {
    "ExecuteTime": {
     "end_time": "2020-03-03T01:48:06.877618Z",
     "start_time": "2020-03-03T01:48:06.858464Z"
    }
   },
   "outputs": [
    {
     "data": {
      "text/plain": [
       "array([[ 0,  0,  0,  0,  0,  0,  0,  0,  0,  0],\n",
       "       [ 0,  0,  0,  0,  0,  0,  0, -1, -1,  1],\n",
       "       [ 0,  0,  0,  0,  0,  0,  0, -1, -1, -1],\n",
       "       [ 0,  0,  0,  0,  0,  0,  0, -1, -1,  0],\n",
       "       [ 0,  0,  0,  0,  0,  0,  0, -1,  1, -1]])"
      ]
     },
     "execution_count": 30,
     "metadata": {},
     "output_type": "execute_result"
    }
   ],
   "source": [
    "T_Rs"
   ]
  },
  {
   "cell_type": "code",
   "execution_count": 31,
   "metadata": {
    "ExecuteTime": {
     "end_time": "2020-03-03T01:48:06.900369Z",
     "start_time": "2020-03-03T01:48:06.880688Z"
    }
   },
   "outputs": [
    {
     "data": {
      "text/plain": [
       "array([[-1,  0, -1,  0, -1,  1,  0,  0,  0,  0],\n",
       "       [ 0,  0, -1,  0,  0,  1,  0,  0,  0,  0],\n",
       "       [ 0, -1,  0,  0,  0,  1, -1,  0,  0,  0],\n",
       "       [ 0, -1,  0, -1, -1,  0,  0,  0,  0,  0],\n",
       "       [ 1,  1,  0,  1,  0, -1,  0,  0,  0,  0]])"
      ]
     },
     "execution_count": 31,
     "metadata": {},
     "output_type": "execute_result"
    }
   ],
   "source": [
    "T_Ts"
   ]
  },
  {
   "cell_type": "markdown",
   "metadata": {},
   "source": [
    "Only a certain number of these are kept, though (noise ratio)"
   ]
  },
  {
   "cell_type": "markdown",
   "metadata": {},
   "source": [
    "## Add traces to model"
   ]
  },
  {
   "cell_type": "code",
   "execution_count": 32,
   "metadata": {
    "ExecuteTime": {
     "end_time": "2020-03-03T01:48:06.922165Z",
     "start_time": "2020-03-03T01:48:06.903350Z"
    }
   },
   "outputs": [],
   "source": [
    "for T_R in T_Rs:\n",
    "    model3.add_trace(T_R)\n",
    "for T_T in T_Ts:\n",
    "    model3.add_trace(T_T)"
   ]
  },
  {
   "cell_type": "code",
   "execution_count": 33,
   "metadata": {
    "ExecuteTime": {
     "end_time": "2020-03-03T01:48:06.950898Z",
     "start_time": "2020-03-03T01:48:06.925060Z"
    }
   },
   "outputs": [
    {
     "data": {
      "text/plain": [
       "[array([0, 0, 0, 0, 0, 0, 0, 0, 0, 0]),\n",
       " array([ 0,  0,  0,  0,  0,  0,  0, -1, -1,  1]),\n",
       " array([ 0,  0,  0,  0,  0,  0,  0, -1, -1, -1]),\n",
       " array([ 0,  0,  0,  0,  0,  0,  0, -1, -1,  0]),\n",
       " array([ 0,  0,  0,  0,  0,  0,  0, -1,  1, -1]),\n",
       " array([-1,  0, -1,  0, -1,  1,  0,  0,  0,  0]),\n",
       " array([ 0,  0, -1,  0,  0,  1,  0,  0,  0,  0]),\n",
       " array([ 0, -1,  0,  0,  0,  1, -1,  0,  0,  0]),\n",
       " array([ 0, -1,  0, -1, -1,  0,  0,  0,  0,  0]),\n",
       " array([ 1,  1,  0,  1,  0, -1,  0,  0,  0,  0])]"
      ]
     },
     "execution_count": 33,
     "metadata": {},
     "output_type": "execute_result"
    }
   ],
   "source": [
    "model3.model"
   ]
  },
  {
   "cell_type": "markdown",
   "metadata": {},
   "source": [
    "## Get echo intensities for all probes, splitting dis/similar"
   ]
  },
  {
   "cell_type": "code",
   "execution_count": 34,
   "metadata": {
    "ExecuteTime": {
     "end_time": "2020-03-03T01:48:06.972354Z",
     "start_time": "2020-03-03T01:48:06.953965Z"
    }
   },
   "outputs": [],
   "source": [
    "PRETTY=True"
   ]
  },
  {
   "cell_type": "code",
   "execution_count": 35,
   "metadata": {
    "ExecuteTime": {
     "end_time": "2020-03-03T01:48:07.059706Z",
     "start_time": "2020-03-03T01:48:06.975462Z"
    },
    "scrolled": true
   },
   "outputs": [
    {
     "name": "stdout",
     "output_type": "stream",
     "text": [
      "PROBE: [-1, 0, -1, 0, -1, 1, 0, 0, 0, 0]\n",
      "TRACE 0: [0, 0, 0, 0, 0, 0, 0, 0, 0, 0] ->  0.000^3 =    0.000\n",
      "TRACE 1: [0, 0, 0, 0, 0, 0, 0, -1, -1, 1] ->  0.000^3 =    0.000\n",
      "TRACE 2: [0, 0, 0, 0, 0, 0, 0, -1, -1, -1] ->  0.000^3 =    0.000\n",
      "TRACE 3: [0, 0, 0, 0, 0, 0, 0, -1, -1, 0] ->  0.000^3 =    0.000\n",
      "TRACE 4: [0, 0, 0, 0, 0, 0, 0, -1, 1, -1] ->  0.000^3 =    0.000\n",
      "TRACE 5: [-1, 0, -1, 0, -1, 1, 0, 0, 0, 0] ->  0.400^3 =    0.064\n",
      "TRACE 6: [0, 0, -1, 0, 0, 1, 0, 0, 0, 0] ->  0.200^3 =    0.008\n",
      "TRACE 7: [0, -1, 0, 0, 0, 1, -1, 0, 0, 0] ->  0.100^3 =    0.001\n",
      "TRACE 8: [0, -1, 0, -1, -1, 0, 0, 0, 0, 0] ->  0.100^3 =    0.001\n",
      "TRACE 9: [1, 1, 0, 1, 0, -1, 0, 0, 0, 0] -> -0.200^3 =   -0.008\n",
      "--------------------------------------------------------------------------------\n",
      "                                                                           0.007\n",
      "PROBE: [0, 0, -1, 0, 0, 1, 0, -1, -1, 1]\n",
      "TRACE 0: [0, 0, 0, 0, 0, 0, 0, 0, 0, 0] ->  0.000^3 =    0.000\n",
      "TRACE 1: [0, 0, 0, 0, 0, 0, 0, -1, -1, 1] ->  0.300^3 =    0.027\n",
      "TRACE 2: [0, 0, 0, 0, 0, 0, 0, -1, -1, -1] ->  0.100^3 =    0.001\n",
      "TRACE 3: [0, 0, 0, 0, 0, 0, 0, -1, -1, 0] ->  0.200^3 =    0.008\n",
      "TRACE 4: [0, 0, 0, 0, 0, 0, 0, -1, 1, -1] -> -0.100^3 =   -0.001\n",
      "TRACE 5: [-1, 0, -1, 0, -1, 1, 0, 0, 0, 0] ->  0.200^3 =    0.008\n",
      "TRACE 6: [0, 0, -1, 0, 0, 1, 0, 0, 0, 0] ->  0.200^3 =    0.008\n",
      "TRACE 7: [0, -1, 0, 0, 0, 1, -1, 0, 0, 0] ->  0.100^3 =    0.001\n",
      "TRACE 8: [0, -1, 0, -1, -1, 0, 0, 0, 0, 0] ->  0.000^3 =    0.000\n",
      "TRACE 9: [1, 1, 0, 1, 0, -1, 0, 0, 0, 0] -> -0.100^3 =   -0.001\n",
      "--------------------------------------------------------------------------------\n",
      "                                                                           0.005\n",
      "PROBE: [0, -1, 0, 0, 0, 1, -1, -1, -1, -1]\n",
      "TRACE 0: [0, 0, 0, 0, 0, 0, 0, 0, 0, 0] ->  0.000^3 =    0.000\n",
      "TRACE 1: [0, 0, 0, 0, 0, 0, 0, -1, -1, 1] ->  0.100^3 =    0.001\n",
      "TRACE 2: [0, 0, 0, 0, 0, 0, 0, -1, -1, -1] ->  0.300^3 =    0.027\n",
      "TRACE 3: [0, 0, 0, 0, 0, 0, 0, -1, -1, 0] ->  0.200^3 =    0.008\n",
      "TRACE 4: [0, 0, 0, 0, 0, 0, 0, -1, 1, -1] ->  0.100^3 =    0.001\n",
      "TRACE 5: [-1, 0, -1, 0, -1, 1, 0, 0, 0, 0] ->  0.100^3 =    0.001\n",
      "TRACE 6: [0, 0, -1, 0, 0, 1, 0, 0, 0, 0] ->  0.100^3 =    0.001\n",
      "TRACE 7: [0, -1, 0, 0, 0, 1, -1, 0, 0, 0] ->  0.300^3 =    0.027\n",
      "TRACE 8: [0, -1, 0, -1, -1, 0, 0, 0, 0, 0] ->  0.100^3 =    0.001\n",
      "TRACE 9: [1, 1, 0, 1, 0, -1, 0, 0, 0, 0] -> -0.200^3 =   -0.008\n",
      "--------------------------------------------------------------------------------\n",
      "                                                                           0.006\n",
      "PROBE: [0, -1, 0, -1, -1, 0, 0, -1, -1, 0]\n",
      "TRACE 0: [0, 0, 0, 0, 0, 0, 0, 0, 0, 0] ->  0.000^3 =    0.000\n",
      "TRACE 1: [0, 0, 0, 0, 0, 0, 0, -1, -1, 1] ->  0.200^3 =    0.008\n",
      "TRACE 2: [0, 0, 0, 0, 0, 0, 0, -1, -1, -1] ->  0.200^3 =    0.008\n",
      "TRACE 3: [0, 0, 0, 0, 0, 0, 0, -1, -1, 0] ->  0.200^3 =    0.008\n",
      "TRACE 4: [0, 0, 0, 0, 0, 0, 0, -1, 1, -1] ->  0.000^3 =    0.000\n",
      "TRACE 5: [-1, 0, -1, 0, -1, 1, 0, 0, 0, 0] ->  0.100^3 =    0.001\n",
      "TRACE 6: [0, 0, -1, 0, 0, 1, 0, 0, 0, 0] ->  0.000^3 =    0.000\n",
      "TRACE 7: [0, -1, 0, 0, 0, 1, -1, 0, 0, 0] ->  0.100^3 =    0.001\n",
      "TRACE 8: [0, -1, 0, -1, -1, 0, 0, 0, 0, 0] ->  0.300^3 =    0.027\n",
      "TRACE 9: [1, 1, 0, 1, 0, -1, 0, 0, 0, 0] -> -0.200^3 =   -0.008\n",
      "--------------------------------------------------------------------------------\n",
      "                                                                           0.005\n",
      "PROBE: [1, 1, 0, 1, 0, -1, 0, -1, 1, -1]\n",
      "TRACE 0: [0, 0, 0, 0, 0, 0, 0, 0, 0, 0] ->  0.000^3 =    0.000\n",
      "TRACE 1: [0, 0, 0, 0, 0, 0, 0, -1, -1, 1] -> -0.100^3 =   -0.001\n",
      "TRACE 2: [0, 0, 0, 0, 0, 0, 0, -1, -1, -1] ->  0.100^3 =    0.001\n",
      "TRACE 3: [0, 0, 0, 0, 0, 0, 0, -1, -1, 0] ->  0.000^3 =    0.000\n",
      "TRACE 4: [0, 0, 0, 0, 0, 0, 0, -1, 1, -1] ->  0.300^3 =    0.027\n",
      "TRACE 5: [-1, 0, -1, 0, -1, 1, 0, 0, 0, 0] -> -0.200^3 =   -0.008\n",
      "TRACE 6: [0, 0, -1, 0, 0, 1, 0, 0, 0, 0] -> -0.100^3 =   -0.001\n",
      "TRACE 7: [0, -1, 0, 0, 0, 1, -1, 0, 0, 0] -> -0.200^3 =   -0.008\n",
      "TRACE 8: [0, -1, 0, -1, -1, 0, 0, 0, 0, 0] -> -0.200^3 =   -0.008\n",
      "TRACE 9: [1, 1, 0, 1, 0, -1, 0, 0, 0, 0] ->  0.400^3 =    0.064\n",
      "--------------------------------------------------------------------------------\n",
      "                                                                           0.007\n",
      "PROBE: [0, -1, 1, 1, -1, -1, -1, 1, -1, 0]\n",
      "TRACE 0: [0, 0, 0, 0, 0, 0, 0, 0, 0, 0] ->  0.000^3 =    0.000\n",
      "TRACE 1: [0, 0, 0, 0, 0, 0, 0, -1, -1, 1] ->  0.000^3 =    0.000\n",
      "TRACE 2: [0, 0, 0, 0, 0, 0, 0, -1, -1, -1] ->  0.000^3 =    0.000\n",
      "TRACE 3: [0, 0, 0, 0, 0, 0, 0, -1, -1, 0] ->  0.000^3 =    0.000\n",
      "TRACE 4: [0, 0, 0, 0, 0, 0, 0, -1, 1, -1] -> -0.200^3 =   -0.008\n",
      "TRACE 5: [-1, 0, -1, 0, -1, 1, 0, 0, 0, 0] -> -0.100^3 =   -0.001\n",
      "TRACE 6: [0, 0, -1, 0, 0, 1, 0, 0, 0, 0] -> -0.200^3 =   -0.008\n",
      "TRACE 7: [0, -1, 0, 0, 0, 1, -1, 0, 0, 0] ->  0.100^3 =    0.001\n",
      "TRACE 8: [0, -1, 0, -1, -1, 0, 0, 0, 0, 0] ->  0.100^3 =    0.001\n",
      "TRACE 9: [1, 1, 0, 1, 0, -1, 0, 0, 0, 0] ->  0.100^3 =    0.001\n",
      "--------------------------------------------------------------------------------\n",
      "                                                                          -0.001\n",
      "PROBE: [1, 0, 0, 1, 0, -1, -1, -1, -1, 1]\n",
      "TRACE 0: [0, 0, 0, 0, 0, 0, 0, 0, 0, 0] ->  0.000^3 =    0.000\n",
      "TRACE 1: [0, 0, 0, 0, 0, 0, 0, -1, -1, 1] ->  0.300^3 =    0.027\n",
      "TRACE 2: [0, 0, 0, 0, 0, 0, 0, -1, -1, -1] ->  0.100^3 =    0.001\n",
      "TRACE 3: [0, 0, 0, 0, 0, 0, 0, -1, -1, 0] ->  0.200^3 =    0.008\n",
      "TRACE 4: [0, 0, 0, 0, 0, 0, 0, -1, 1, -1] -> -0.100^3 =   -0.001\n",
      "TRACE 5: [-1, 0, -1, 0, -1, 1, 0, 0, 0, 0] -> -0.200^3 =   -0.008\n",
      "TRACE 6: [0, 0, -1, 0, 0, 1, 0, 0, 0, 0] -> -0.100^3 =   -0.001\n",
      "TRACE 7: [0, -1, 0, 0, 0, 1, -1, 0, 0, 0] ->  0.000^3 =    0.000\n",
      "TRACE 8: [0, -1, 0, -1, -1, 0, 0, 0, 0, 0] -> -0.100^3 =   -0.001\n",
      "TRACE 9: [1, 1, 0, 1, 0, -1, 0, 0, 0, 0] ->  0.300^3 =    0.027\n",
      "--------------------------------------------------------------------------------\n",
      "                                                                           0.005\n",
      "PROBE: [-1, -1, 0, -1, 1, 1, 0, 1, -1, -1]\n",
      "TRACE 0: [0, 0, 0, 0, 0, 0, 0, 0, 0, 0] ->  0.000^3 =    0.000\n",
      "TRACE 1: [0, 0, 0, 0, 0, 0, 0, -1, -1, 1] -> -0.100^3 =   -0.001\n",
      "TRACE 2: [0, 0, 0, 0, 0, 0, 0, -1, -1, -1] ->  0.100^3 =    0.001\n",
      "TRACE 3: [0, 0, 0, 0, 0, 0, 0, -1, -1, 0] ->  0.000^3 =    0.000\n",
      "TRACE 4: [0, 0, 0, 0, 0, 0, 0, -1, 1, -1] -> -0.100^3 =   -0.001\n",
      "TRACE 5: [-1, 0, -1, 0, -1, 1, 0, 0, 0, 0] ->  0.100^3 =    0.001\n",
      "TRACE 6: [0, 0, -1, 0, 0, 1, 0, 0, 0, 0] ->  0.100^3 =    0.001\n",
      "TRACE 7: [0, -1, 0, 0, 0, 1, -1, 0, 0, 0] ->  0.200^3 =    0.008\n",
      "TRACE 8: [0, -1, 0, -1, -1, 0, 0, 0, 0, 0] ->  0.100^3 =    0.001\n",
      "TRACE 9: [1, 1, 0, 1, 0, -1, 0, 0, 0, 0] -> -0.400^3 =   -0.064\n",
      "--------------------------------------------------------------------------------\n",
      "                                                                          -0.005\n",
      "PROBE: [0, 1, 0, 1, -1, -1, 0, 1, -1, 1]\n",
      "TRACE 0: [0, 0, 0, 0, 0, 0, 0, 0, 0, 0] ->  0.000^3 =    0.000\n",
      "TRACE 1: [0, 0, 0, 0, 0, 0, 0, -1, -1, 1] ->  0.100^3 =    0.001\n",
      "TRACE 2: [0, 0, 0, 0, 0, 0, 0, -1, -1, -1] -> -0.100^3 =   -0.001\n",
      "TRACE 3: [0, 0, 0, 0, 0, 0, 0, -1, -1, 0] ->  0.000^3 =    0.000\n",
      "TRACE 4: [0, 0, 0, 0, 0, 0, 0, -1, 1, -1] -> -0.300^3 =   -0.027\n",
      "TRACE 5: [-1, 0, -1, 0, -1, 1, 0, 0, 0, 0] ->  0.000^3 =    0.000\n",
      "TRACE 6: [0, 0, -1, 0, 0, 1, 0, 0, 0, 0] -> -0.100^3 =   -0.001\n",
      "TRACE 7: [0, -1, 0, 0, 0, 1, -1, 0, 0, 0] -> -0.200^3 =   -0.008\n",
      "TRACE 8: [0, -1, 0, -1, -1, 0, 0, 0, 0, 0] -> -0.100^3 =   -0.001\n",
      "TRACE 9: [1, 1, 0, 1, 0, -1, 0, 0, 0, 0] ->  0.300^3 =    0.027\n",
      "--------------------------------------------------------------------------------\n",
      "                                                                          -0.001\n",
      "PROBE: [1, -1, 1, 0, -1, 0, 1, 0, -1, 1]\n",
      "TRACE 0: [0, 0, 0, 0, 0, 0, 0, 0, 0, 0] ->  0.000^3 =    0.000\n",
      "TRACE 1: [0, 0, 0, 0, 0, 0, 0, -1, -1, 1] ->  0.200^3 =    0.008\n",
      "TRACE 2: [0, 0, 0, 0, 0, 0, 0, -1, -1, -1] ->  0.000^3 =    0.000\n",
      "TRACE 3: [0, 0, 0, 0, 0, 0, 0, -1, -1, 0] ->  0.100^3 =    0.001\n",
      "TRACE 4: [0, 0, 0, 0, 0, 0, 0, -1, 1, -1] -> -0.200^3 =   -0.008\n",
      "TRACE 5: [-1, 0, -1, 0, -1, 1, 0, 0, 0, 0] -> -0.100^3 =   -0.001\n",
      "TRACE 6: [0, 0, -1, 0, 0, 1, 0, 0, 0, 0] -> -0.100^3 =   -0.001\n",
      "TRACE 7: [0, -1, 0, 0, 0, 1, -1, 0, 0, 0] ->  0.000^3 =    0.000\n",
      "TRACE 8: [0, -1, 0, -1, -1, 0, 0, 0, 0, 0] ->  0.200^3 =    0.008\n",
      "TRACE 9: [1, 1, 0, 1, 0, -1, 0, 0, 0, 0] ->  0.000^3 =    0.000\n",
      "--------------------------------------------------------------------------------\n",
      "                                                                           0.001\n"
     ]
    }
   ],
   "source": [
    "sim_intensities = []\n",
    "dis_intensities = []\n",
    "for i, P in enumerate(Ps):\n",
    "    intensity = model3.get_echo_intensity(P)\n",
    "    if i < PT_split_index:\n",
    "        sim_intensities.append(intensity)\n",
    "    else:\n",
    "        dis_intensities.append(intensity)\n",
    "    if PRETTY:\n",
    "        model3.pretty_print(P)"
   ]
  },
  {
   "cell_type": "markdown",
   "metadata": {},
   "source": [
    "## Analyze"
   ]
  },
  {
   "cell_type": "code",
   "execution_count": 36,
   "metadata": {
    "ExecuteTime": {
     "end_time": "2020-03-03T01:48:07.252663Z",
     "start_time": "2020-03-03T01:48:07.061598Z"
    }
   },
   "outputs": [
    {
     "data": {
      "image/png": "[encoded data removed]",
      "text/plain": [
       "<Figure size 432x288 with 1 Axes>"
      ]
     },
     "metadata": {
      "needs_background": "light"
     },
     "output_type": "display_data"
    }
   ],
   "source": [
    "from scipy.stats import norm\n",
    "\n",
    "mu, std = norm.fit(sim_intensities)\n",
    "\n",
    "plt.hist(sim_intensities, density=True, label='similar')\n",
    "\n",
    "xmin, xmax = plt.xlim()\n",
    "x = np.linspace(xmin, xmax, 100)\n",
    "p = norm.pdf(x, mu, std)\n",
    "plt.plot(x, p, 'k', linewidth=2)\n",
    "#title = \"Fit results: mu = %.2f,  std = %.2f\" % (mu, std)\n",
    "#plt.title(title)\n",
    "mu, std = norm.fit(dis_intensities)\n",
    "\n",
    "plt.hist(dis_intensities, density=True, label='dissimilar')\n",
    "\n",
    "xmin, xmax = plt.xlim()\n",
    "x = np.linspace(xmin, xmax, 100)\n",
    "p = norm.pdf(x, mu, std)\n",
    "plt.plot(x, p, 'k', linewidth=2)\n",
    "#title = \"Fit results: mu = %.2f,  std = %.2f\" % (mu, std)\n",
    "#plt.title(title)\n",
    "plt.legend()\n",
    "\n",
    "plt.show()"
   ]
  },
  {
   "cell_type": "markdown",
   "metadata": {},
   "source": [
    "## REPEAT!"
   ]
  },
  {
   "cell_type": "code",
   "execution_count": 68,
   "metadata": {
    "ExecuteTime": {
     "end_time": "2020-03-03T02:10:25.760782Z",
     "start_time": "2020-03-03T02:10:22.054825Z"
    }
   },
   "outputs": [
    {
     "data": {
      "image/png": "[encoded data removed]",
      "text/plain": [
       "<Figure size 1008x504 with 1 Axes>"
      ]
     },
     "metadata": {
      "needs_background": "light"
     },
     "output_type": "display_data"
    }
   ],
   "source": [
    "# tunable variables\n",
    "FPT = 1000\n",
    "N_PROTOTYPES = 1000\n",
    "RHYTHM_TONE_RATIO = 0.7\n",
    "NOISE_RATIO = 0.5\n",
    "\n",
    "for _ in range(10):\n",
    "    # create model\n",
    "    model = Minerva2(FPT)\n",
    "    # create probes\n",
    "    Ps = np.random.randint(-1, 2, (N_PROTOTYPES, FPT))\n",
    "    PT_split_index = round(N_PROTOTYPES * NOISE_RATIO)\n",
    "\n",
    "    # create traces (subset of probes)\n",
    "    T_Rs = np.copy(Ps)[:PT_split_index]\n",
    "    T_Ts = np.copy(Ps)[:PT_split_index]\n",
    "\n",
    "    # zero out parts of traces (symmetrically)\n",
    "    RT_split_index = round(FPT * RHYTHM_TONE_RATIO)\n",
    "\n",
    "    T_Rs[:, :RT_split_index] *= 0\n",
    "    T_Ts[:, RT_split_index:] *= 0\n",
    "\n",
    "    # add traces to model\n",
    "    for T_R in T_Rs:\n",
    "        model.add_trace(T_R)\n",
    "    for T_T in T_Ts:\n",
    "        model.add_trace(T_T)\n",
    "\n",
    "    # get echo intensities\n",
    "    sim_intensities = []\n",
    "    dis_intensities = []\n",
    "    for i, P in enumerate(Ps):\n",
    "        intensity = model.get_echo_intensity(P)\n",
    "        if i < PT_split_index:\n",
    "            sim_intensities.append(intensity)\n",
    "        else:\n",
    "            dis_intensities.append(intensity)\n",
    "\n",
    "    # plot histograms and normal PDFs\n",
    "    from scipy.stats import norm\n",
    "\n",
    "    plt.figure(figsize=(14,7))\n",
    "\n",
    "    mu1, std1 = norm.fit(sim_intensities)\n",
    "    mu2, std2 = norm.fit(dis_intensities)\n",
    "\n",
    "    plt.hist(sim_intensities, density=True, label='similar')\n",
    "    plt.hist(dis_intensities, density=True, label='dissimilar')\n",
    "\n",
    "    xmin, xmax = plt.xlim()\n",
    "    x = np.linspace(xmin, xmax, 10000)\n",
    "\n",
    "    p1 = norm.pdf(x, mu1, std1)\n",
    "    plt.plot(x, p1, 'k',linewidth=2, label='$\\mu$ = %.2e, $\\sigma$ = %.2e' % (mu1, std1))\n",
    "\n",
    "    p2 = norm.pdf(x, mu2, std2)\n",
    "    plt.plot(x, p2, 'b', linewidth=2, label='$\\mu$ = %.2e, $\\sigma$ = %.2e' % (mu2, std2))\n",
    "\n",
    "    plt.title(\"Intensity as a function of similarity (histogram, and PDFs)\")\n",
    "    plt.legend()\n",
    "    plt.xlabel(\"Echo Intensity\")\n",
    "    plt.ylabel(\"Density\")\n",
    "    plt.grid(True)\n",
    "    plt.show()\n",
    "    \n",
    "    break"
   ]
  },
  {
   "cell_type": "code",
   "execution_count": null,
   "metadata": {},
   "outputs": [],
   "source": []
  }
 ],
 "metadata": {
  "kernelspec": {
   "display_name": "Python 3",
   "language": "python",
   "name": "python3"
  },
  "language_info": {
   "codemirror_mode": {
    "name": "ipython",
    "version": 3
   },
   "file_extension": ".py",
   "mimetype": "text/x-python",
   "name": "python",
   "nbconvert_exporter": "python",
   "pygments_lexer": "ipython3",
   "version": "3.7.4"
  },
  "toc": {
   "base_numbering": 1,
   "nav_menu": {},
   "number_sections": true,
   "sideBar": true,
   "skip_h1_title": false,
   "title_cell": "Table of Contents",
   "title_sidebar": "Contents",
   "toc_cell": false,
   "toc_position": {
    "height": "calc(100% - 180px)",
    "left": "10px",
    "top": "150px",
    "width": "384px"
   },
   "toc_section_display": true,
   "toc_window_display": true
  }
 },
 "nbformat": 4,
 "nbformat_minor": 2
}
