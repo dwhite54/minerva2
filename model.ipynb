{
 "cells": [
  {
   "cell_type": "markdown",
   "metadata": {},
   "source": [
    "Table of contents"
   ]
  },
  {
   "cell_type": "markdown",
   "metadata": {},
   "source": [
    "1. Create bare-bones minerva model\n",
    "\n",
    "2. Replicate original paper finding (requires better interface)\n",
    "\n",
    "3. Create rhythm/tone experiment with fixed\n",
    "    - rhythm/tone split\n",
    "    - number participants\n",
    "    - participant stimuli\n",
    "\n",
    "4. Make experiment configurable\n",
    "\n",
    "5. Run a bazillion experiments"
   ]
  },
  {
   "cell_type": "markdown",
   "metadata": {},
   "source": [
    "# Bare-bones Minerva2 model"
   ]
  },
  {
   "cell_type": "code",
   "execution_count": 1,
   "metadata": {
    "ExecuteTime": {
     "end_time": "2020-03-30T15:41:43.584633Z",
     "start_time": "2020-03-30T15:41:43.105344Z"
    },
    "run_control": {
     "marked": true
    }
   },
   "outputs": [],
   "source": [
    "import numpy as np\n",
    "from scipy.stats import ttest_ind\n",
    "from scipy.stats import norm"
   ]
  },
  {
   "cell_type": "code",
   "execution_count": 2,
   "metadata": {
    "ExecuteTime": {
     "end_time": "2020-03-30T15:41:43.880973Z",
     "start_time": "2020-03-30T15:41:43.633517Z"
    },
    "run_control": {
     "marked": true
    }
   },
   "outputs": [],
   "source": [
    "import matplotlib.pyplot as plt"
   ]
  },
  {
   "cell_type": "code",
   "execution_count": 3,
   "metadata": {
    "ExecuteTime": {
     "end_time": "2020-03-30T15:41:43.953496Z",
     "start_time": "2020-03-30T15:41:43.950055Z"
    },
    "run_control": {
     "marked": true
    }
   },
   "outputs": [],
   "source": [
    "import matplotlib\n",
    "matplotlib.rcParams['font.family'] = \"sans-serif\"\n",
    "matplotlib.rcParams['font.sans-serif'] = \"Calibri\"\n",
    "matplotlib.rcParams['font.size'] = 14"
   ]
  },
  {
   "cell_type": "code",
   "execution_count": 4,
   "metadata": {
    "ExecuteTime": {
     "end_time": "2020-03-30T15:41:44.011004Z",
     "start_time": "2020-03-30T15:41:44.005172Z"
    },
    "run_control": {
     "marked": true
    }
   },
   "outputs": [],
   "source": [
    "def add_noise_2d(arr, ratio):\n",
    "    rands = np.random.rand(arr.shape[0] * arr.shape[1])\n",
    "    condition = rands < ratio\n",
    "    mask = np.flatnonzero(condition)\n",
    "    f = arr.flatten()\n",
    "    f[mask] *= -1\n",
    "    return f.reshape(arr.shape)"
   ]
  },
  {
   "cell_type": "markdown",
   "metadata": {},
   "source": [
    "## The Model (v0.1)"
   ]
  },
  {
   "cell_type": "code",
   "execution_count": 6,
   "metadata": {
    "ExecuteTime": {
     "end_time": "2020-03-30T15:41:44.502015Z",
     "start_time": "2020-03-30T15:41:44.483160Z"
    },
    "run_control": {
     "marked": true
    }
   },
   "outputs": [],
   "source": [
    "class Minerva2:\n",
    "    def __init__(self, features_per_trace):\n",
    "        self.features_per_trace = features_per_trace\n",
    "        self.model = None\n",
    "        \n",
    "    def get_activation(self, probe, trace):\n",
    "        '''\n",
    "        also returns similarity in 2nd return value\n",
    "        '''\n",
    "        # the @ symbol denotes a \"dot product,\" which is the same as \n",
    "        # sum([probe[i] * self.model[trace_idx][i] for i in range(len(probe))])\n",
    "        similarity = (probe @ trace) / len(probe)\n",
    "        return similarity**3, similarity\n",
    "        \n",
    "    def get_activation_by_idx(self, probe, trace_idx):\n",
    "        return self.get_activation(probe, self.model[trace_idx], return_sim)\n",
    "    \n",
    "    def get_echo_intensity(self, probe, return_all=False):\n",
    "        activations = []\n",
    "        similarities = []\n",
    "        for trace in self.model:\n",
    "            activation, similarity = self.get_activation(probe, trace)\n",
    "            activations.append(activation)\n",
    "            similarities.append(similarity)\n",
    "        \n",
    "        if return_all:\n",
    "            return sum(activations) / len(activations), activations, similarities\n",
    "        else:\n",
    "            return sum(activations) / len(activations)\n",
    "        \n",
    "    def get_echo_intensities(self, probes):\n",
    "        if type(probes) != np.ndarray:\n",
    "            raise Exception(\"Probes are not of type numpy array, fail.\")\n",
    "        model_arr = np.array(model.model)\n",
    "        similarities = (probes @ model_arr.T)/probes.shape[1]\n",
    "        activations = similarities**3\n",
    "        intensities = np.mean(activations, axis=1)\n",
    "        return intensities\n",
    "    \n",
    "    def add_trace(self, trace):\n",
    "        if type(trace) != np.ndarray:\n",
    "            raise Exception(\"Trace is not of type numpy array, fail.\")\n",
    "        if trace.shape != (self.features_per_trace,):\n",
    "            raise Exception(\"Trace is not a one-dimensional array of length\", self.features_per_trace, \", fail.\")\n",
    "        if len([x for x in trace if x not in (-1, 0, 1)]) > 0:\n",
    "            raise Exception(\"Trace contains values besides -1, 0, or 1, fail.\")\n",
    "        reshaped = np.reshape(trace, (-1, self.features_per_trace))\n",
    "        if self.model is not None:\n",
    "            self.model = np.append(self.model, reshaped, axis=0)\n",
    "        else:\n",
    "            self.model = reshaped\n",
    "    \n",
    "    def add_traces(self, traces):\n",
    "        if type(traces) != np.ndarray:\n",
    "            raise Exception(\"Trace is not of type numpy array, fail.\")\n",
    "        if traces.shape[1] != self.features_per_trace:\n",
    "            raise Exception(\"Trace is not a two-dimensional array of width\", self.features_per_trace, \", fail.\")\n",
    "        if len([x for x in traces.flatten() if x not in (-1, 0, 1)]) > 0:\n",
    "            raise Exception(\"Trace contains values besides -1, 0, or 1, fail.\")\n",
    "        if self.model is not None:\n",
    "            self.model = np.append(self.model, traces, axis=0)\n",
    "        else:\n",
    "            self.model = traces\n",
    "\n",
    "    def pretty_print(self, probe):\n",
    "        '''\n",
    "        Illustrates the calculation of echo intensity\n",
    "        '''\n",
    "        echo_intensity, activations, similarities = self.get_echo_intensity(probe, return_all=True)\n",
    "\n",
    "        print('PROBE:', list(probe))\n",
    "        for i in range(len(activations)):\n",
    "            print('TRACE {}:'.format(i), list(self.model[i]), '->', '{:>6.3f}^3 = {:>8.3f}'.format(similarities[i], activations[i]))\n",
    "        print('-'*80)\n",
    "        print('{:>80.3f}'.format(echo_intensity))"
   ]
  },
  {
   "cell_type": "markdown",
   "metadata": {},
   "source": [
    "## Try it out with some ZERO traces"
   ]
  },
  {
   "cell_type": "code",
   "execution_count": null,
   "metadata": {
    "ExecuteTime": {
     "start_time": "2020-03-30T15:39:36.487Z"
    },
    "run_control": {
     "marked": false
    }
   },
   "outputs": [],
   "source": [
    "len([val for val in np.unique(np.array((1,0,-1,1, 1, 1, 1, 0))) if val not in (-1, 0, 1)])"
   ]
  },
  {
   "cell_type": "code",
   "execution_count": null,
   "metadata": {
    "ExecuteTime": {
     "start_time": "2020-03-30T15:39:36.488Z"
    },
    "run_control": {
     "marked": false
    }
   },
   "outputs": [],
   "source": [
    "model1_fpt = 10"
   ]
  },
  {
   "cell_type": "code",
   "execution_count": null,
   "metadata": {
    "ExecuteTime": {
     "start_time": "2020-03-30T15:39:36.489Z"
    },
    "run_control": {
     "marked": false
    }
   },
   "outputs": [],
   "source": [
    "model1 = Minerva2(model1_fpt)"
   ]
  },
  {
   "cell_type": "code",
   "execution_count": null,
   "metadata": {
    "ExecuteTime": {
     "start_time": "2020-03-30T15:39:36.490Z"
    },
    "run_control": {
     "marked": false
    }
   },
   "outputs": [],
   "source": [
    "for _ in range(10):\n",
    "    rand_trace = np.zeros(model1_fpt)\n",
    "    model1.add_trace(rand_trace)"
   ]
  },
  {
   "cell_type": "code",
   "execution_count": null,
   "metadata": {
    "ExecuteTime": {
     "start_time": "2020-03-30T15:39:36.491Z"
    },
    "run_control": {
     "marked": false
    }
   },
   "outputs": [],
   "source": [
    "model1.model"
   ]
  },
  {
   "cell_type": "markdown",
   "metadata": {},
   "source": [
    "Let's create a random probe to test"
   ]
  },
  {
   "cell_type": "code",
   "execution_count": null,
   "metadata": {
    "ExecuteTime": {
     "start_time": "2020-03-30T15:39:36.492Z"
    },
    "run_control": {
     "marked": false
    }
   },
   "outputs": [],
   "source": [
    "probe1 = np.random.randint(-1, 2, model1_fpt)\n",
    "probe1"
   ]
  },
  {
   "cell_type": "code",
   "execution_count": null,
   "metadata": {
    "ExecuteTime": {
     "start_time": "2020-03-30T15:39:36.494Z"
    },
    "run_control": {
     "marked": false
    }
   },
   "outputs": [],
   "source": [
    "model1.get_echo_intensity(probe1, return_all=True)"
   ]
  },
  {
   "cell_type": "code",
   "execution_count": null,
   "metadata": {
    "ExecuteTime": {
     "start_time": "2020-03-30T15:39:36.495Z"
    },
    "run_control": {
     "marked": false
    }
   },
   "outputs": [],
   "source": [
    "model1.pretty_print(probe1)"
   ]
  },
  {
   "cell_type": "markdown",
   "metadata": {},
   "source": [
    "Blank memory means a blank response! Looking good so far."
   ]
  },
  {
   "cell_type": "markdown",
   "metadata": {},
   "source": [
    "## Now test with random traces"
   ]
  },
  {
   "cell_type": "code",
   "execution_count": null,
   "metadata": {
    "ExecuteTime": {
     "start_time": "2020-03-30T15:39:36.496Z"
    },
    "run_control": {
     "marked": false
    }
   },
   "outputs": [],
   "source": [
    "model2_fpt = 8"
   ]
  },
  {
   "cell_type": "code",
   "execution_count": null,
   "metadata": {
    "ExecuteTime": {
     "start_time": "2020-03-30T15:39:36.497Z"
    },
    "run_control": {
     "marked": false
    }
   },
   "outputs": [],
   "source": [
    "model2 = Minerva2(model2_fpt)"
   ]
  },
  {
   "cell_type": "code",
   "execution_count": null,
   "metadata": {
    "ExecuteTime": {
     "start_time": "2020-03-30T15:39:36.498Z"
    },
    "run_control": {
     "marked": false
    }
   },
   "outputs": [],
   "source": [
    "for _ in range(12):\n",
    "    rand_trace = np.random.randint(-1, 2, model2_fpt)\n",
    "    model2.add_trace(rand_trace)"
   ]
  },
  {
   "cell_type": "code",
   "execution_count": null,
   "metadata": {
    "ExecuteTime": {
     "start_time": "2020-03-30T15:39:36.499Z"
    },
    "run_control": {
     "marked": false
    }
   },
   "outputs": [],
   "source": [
    "model2.model"
   ]
  },
  {
   "cell_type": "markdown",
   "metadata": {},
   "source": [
    "And a random test probe..."
   ]
  },
  {
   "cell_type": "code",
   "execution_count": null,
   "metadata": {
    "ExecuteTime": {
     "start_time": "2020-03-30T15:39:36.500Z"
    },
    "run_control": {
     "marked": false
    }
   },
   "outputs": [],
   "source": [
    "probe2 = np.random.randint(-1, 2, model2_fpt)\n",
    "probe2"
   ]
  },
  {
   "cell_type": "code",
   "execution_count": null,
   "metadata": {
    "ExecuteTime": {
     "start_time": "2020-03-30T15:39:36.501Z"
    },
    "run_control": {
     "marked": false
    }
   },
   "outputs": [],
   "source": [
    "model2.get_echo_intensity(probe2, return_all=True)"
   ]
  },
  {
   "cell_type": "code",
   "execution_count": null,
   "metadata": {
    "ExecuteTime": {
     "start_time": "2020-03-30T15:39:36.502Z"
    },
    "run_control": {
     "marked": false
    }
   },
   "outputs": [],
   "source": [
    "model2.pretty_print(probe2)"
   ]
  },
  {
   "cell_type": "markdown",
   "metadata": {},
   "source": [
    "### Do this a bunch to see what random traces and probes produce"
   ]
  },
  {
   "cell_type": "code",
   "execution_count": null,
   "metadata": {
    "ExecuteTime": {
     "start_time": "2020-03-30T15:39:36.504Z"
    },
    "run_control": {
     "marked": false
    }
   },
   "outputs": [],
   "source": [
    "intensities = []\n",
    "for i in range(1000):\n",
    "    probe2 = np.random.randint(-1, 2, model2_fpt)\n",
    "    intensities.append(model2.get_echo_intensity(probe2))\n",
    "plt.plot(intensities)"
   ]
  },
  {
   "cell_type": "code",
   "execution_count": null,
   "metadata": {
    "ExecuteTime": {
     "start_time": "2020-03-30T15:39:36.505Z"
    },
    "run_control": {
     "marked": false
    }
   },
   "outputs": [],
   "source": [
    "from scipy.stats import norm\n",
    "\n",
    "mu, std = norm.fit(intensities)\n",
    "\n",
    "plt.hist(intensities, density=True)\n",
    "\n",
    "xmin, xmax = plt.xlim()\n",
    "x = np.linspace(xmin, xmax, 100)\n",
    "p = norm.pdf(x, mu, std)\n",
    "plt.plot(x, p, 'k', linewidth=2)\n",
    "title = \"Fit results: mu = %.2f,  std = %.2f\" % (mu, std)\n",
    "plt.title(title)\n",
    "\n",
    "plt.show()"
   ]
  },
  {
   "cell_type": "markdown",
   "metadata": {},
   "source": [
    "Good enough."
   ]
  },
  {
   "cell_type": "markdown",
   "metadata": {},
   "source": [
    "# Hintzmann's original experiment"
   ]
  },
  {
   "cell_type": "markdown",
   "metadata": {},
   "source": [
    "1. Create prototypes (no 0s)\n",
    "2. Create exemplars which are \n",
    "3. ???\n",
    "4. Profit."
   ]
  },
  {
   "cell_type": "markdown",
   "metadata": {},
   "source": [
    "# Mimic experiment 1"
   ]
  },
  {
   "cell_type": "markdown",
   "metadata": {},
   "source": [
    "Participants received partial features (rhythm/tone) during study, then at test were given a full song.\n",
    "\n",
    "We will simulate this by creating a list of random probes, `R`.\n",
    "\n",
    "Memory traces will be added which contain zeros, and some subset of `R`.\n",
    "\n",
    "We will be comparing trace/probe overlap amount on echo intensity."
   ]
  },
  {
   "cell_type": "code",
   "execution_count": null,
   "metadata": {
    "ExecuteTime": {
     "start_time": "2020-03-30T15:39:36.506Z"
    },
    "run_control": {
     "marked": false
    }
   },
   "outputs": [],
   "source": [
    "model3_fpt = 10\n",
    "model3_prototypes = 10\n",
    "model3_rhythm_tone_ratio = 0.7\n",
    "model3_noise_ratio = 0.5"
   ]
  },
  {
   "cell_type": "code",
   "execution_count": null,
   "metadata": {
    "ExecuteTime": {
     "start_time": "2020-03-30T15:39:36.507Z"
    },
    "run_control": {
     "marked": false
    }
   },
   "outputs": [],
   "source": [
    "model3 = Minerva2(model3_fpt)"
   ]
  },
  {
   "cell_type": "markdown",
   "metadata": {},
   "source": [
    "## Make some random probes"
   ]
  },
  {
   "cell_type": "code",
   "execution_count": null,
   "metadata": {
    "ExecuteTime": {
     "start_time": "2020-03-30T15:39:36.508Z"
    },
    "run_control": {
     "marked": false
    }
   },
   "outputs": [],
   "source": [
    "Ps = np.random.randint(-1, 2, (model3_prototypes, model3_fpt))\n",
    "Ps.shape"
   ]
  },
  {
   "cell_type": "code",
   "execution_count": null,
   "metadata": {
    "ExecuteTime": {
     "start_time": "2020-03-30T15:39:36.510Z"
    },
    "run_control": {
     "marked": false
    }
   },
   "outputs": [],
   "source": [
    "Ps"
   ]
  },
  {
   "cell_type": "markdown",
   "metadata": {},
   "source": [
    "## Make rhythm/tone traces"
   ]
  },
  {
   "cell_type": "code",
   "execution_count": null,
   "metadata": {
    "ExecuteTime": {
     "start_time": "2020-03-30T15:39:36.511Z"
    },
    "run_control": {
     "marked": false
    }
   },
   "outputs": [],
   "source": [
    "PT_split_index = round(model3_prototypes * model3_noise_ratio)"
   ]
  },
  {
   "cell_type": "code",
   "execution_count": null,
   "metadata": {
    "ExecuteTime": {
     "start_time": "2020-03-30T15:39:36.512Z"
    },
    "run_control": {
     "marked": false
    }
   },
   "outputs": [],
   "source": [
    "T_Rs = np.copy(Ps)[:PT_split_index]\n",
    "T_Ts = np.copy(Ps)[:PT_split_index]"
   ]
  },
  {
   "cell_type": "markdown",
   "metadata": {},
   "source": [
    "Zero out `proportion` of features"
   ]
  },
  {
   "cell_type": "code",
   "execution_count": null,
   "metadata": {
    "ExecuteTime": {
     "start_time": "2020-03-30T15:39:36.513Z"
    },
    "run_control": {
     "marked": false
    }
   },
   "outputs": [],
   "source": [
    "T_Rs.shape"
   ]
  },
  {
   "cell_type": "code",
   "execution_count": null,
   "metadata": {
    "ExecuteTime": {
     "start_time": "2020-03-30T15:39:36.515Z"
    },
    "run_control": {
     "marked": false
    }
   },
   "outputs": [],
   "source": [
    "RT_split_index = round(model3_fpt * model3_rhythm_tone_ratio)"
   ]
  },
  {
   "cell_type": "code",
   "execution_count": null,
   "metadata": {
    "ExecuteTime": {
     "start_time": "2020-03-30T15:39:36.516Z"
    },
    "run_control": {
     "marked": false
    }
   },
   "outputs": [],
   "source": [
    "T_Rs[:, :RT_split_index] *= 0\n",
    "T_Ts[:, RT_split_index:] *= 0"
   ]
  },
  {
   "cell_type": "code",
   "execution_count": null,
   "metadata": {
    "ExecuteTime": {
     "start_time": "2020-03-30T15:39:36.517Z"
    },
    "run_control": {
     "marked": false
    }
   },
   "outputs": [],
   "source": [
    "T_Rs"
   ]
  },
  {
   "cell_type": "code",
   "execution_count": null,
   "metadata": {
    "ExecuteTime": {
     "start_time": "2020-03-30T15:39:36.518Z"
    },
    "run_control": {
     "marked": false
    }
   },
   "outputs": [],
   "source": [
    "T_Ts"
   ]
  },
  {
   "cell_type": "markdown",
   "metadata": {},
   "source": [
    "Only a certain number of these are kept, though (noise ratio)"
   ]
  },
  {
   "cell_type": "markdown",
   "metadata": {},
   "source": [
    "## Add traces to model"
   ]
  },
  {
   "cell_type": "code",
   "execution_count": null,
   "metadata": {
    "ExecuteTime": {
     "start_time": "2020-03-30T15:39:36.520Z"
    },
    "run_control": {
     "marked": false
    }
   },
   "outputs": [],
   "source": [
    "for T_R in T_Rs:\n",
    "    model3.add_trace(T_R)\n",
    "for T_T in T_Ts:\n",
    "    model3.add_trace(T_T)"
   ]
  },
  {
   "cell_type": "code",
   "execution_count": null,
   "metadata": {
    "ExecuteTime": {
     "start_time": "2020-03-30T15:39:36.521Z"
    },
    "run_control": {
     "marked": false
    }
   },
   "outputs": [],
   "source": [
    "model3.model"
   ]
  },
  {
   "cell_type": "markdown",
   "metadata": {},
   "source": [
    "## Get echo intensities for all probes, splitting dis/similar"
   ]
  },
  {
   "cell_type": "code",
   "execution_count": null,
   "metadata": {
    "ExecuteTime": {
     "start_time": "2020-03-30T15:39:36.522Z"
    },
    "run_control": {
     "marked": false
    }
   },
   "outputs": [],
   "source": [
    "PRETTY=True"
   ]
  },
  {
   "cell_type": "code",
   "execution_count": null,
   "metadata": {
    "ExecuteTime": {
     "start_time": "2020-03-30T15:39:36.524Z"
    },
    "run_control": {
     "marked": false
    },
    "scrolled": true
   },
   "outputs": [],
   "source": [
    "sim_intensities = []\n",
    "dis_intensities = []\n",
    "for i, P in enumerate(Ps):\n",
    "    intensity = model3.get_echo_intensity(P)\n",
    "    if i < PT_split_index:\n",
    "        sim_intensities.append(intensity)\n",
    "    else:\n",
    "        dis_intensities.append(intensity)\n",
    "    if PRETTY:\n",
    "        model3.pretty_print(P)"
   ]
  },
  {
   "cell_type": "markdown",
   "metadata": {},
   "source": [
    "## Analyze"
   ]
  },
  {
   "cell_type": "code",
   "execution_count": null,
   "metadata": {
    "ExecuteTime": {
     "start_time": "2020-03-30T15:39:36.525Z"
    },
    "run_control": {
     "marked": false
    }
   },
   "outputs": [],
   "source": [
    "from scipy.stats import norm\n",
    "\n",
    "mu, std = norm.fit(sim_intensities)\n",
    "\n",
    "plt.hist(sim_intensities, density=True, label='similar')\n",
    "\n",
    "xmin, xmax = plt.xlim()\n",
    "x = np.linspace(xmin, xmax, 100)\n",
    "p = norm.pdf(x, mu, std)\n",
    "plt.plot(x, p, 'k', linewidth=2)\n",
    "#title = \"Fit results: mu = %.2f,  std = %.2f\" % (mu, std)\n",
    "#plt.title(title)\n",
    "mu, std = norm.fit(dis_intensities)\n",
    "\n",
    "plt.hist(dis_intensities, density=True, label='dissimilar')\n",
    "\n",
    "xmin, xmax = plt.xlim()\n",
    "x = np.linspace(xmin, xmax, 100)\n",
    "p = norm.pdf(x, mu, std)\n",
    "plt.plot(x, p, 'k', linewidth=2)\n",
    "#title = \"Fit results: mu = %.2f,  std = %.2f\" % (mu, std)\n",
    "#plt.title(title)\n",
    "plt.legend()\n",
    "\n",
    "plt.show()"
   ]
  },
  {
   "cell_type": "markdown",
   "metadata": {},
   "source": [
    "## REPEAT!"
   ]
  },
  {
   "cell_type": "code",
   "execution_count": null,
   "metadata": {
    "ExecuteTime": {
     "start_time": "2020-03-30T15:39:36.527Z"
    },
    "run_control": {
     "marked": false
    },
    "scrolled": false
   },
   "outputs": [],
   "source": [
    "# tunable variables\n",
    "FPT = 1000\n",
    "N_PROTOTYPES = 1000\n",
    "RHYTHM_TONE_RATIO = 0.7\n",
    "NOISE_RATIO = 0.5\n",
    "\n",
    "for _ in range(10):\n",
    "    # create model\n",
    "    model_both = Minerva2(FPT)\n",
    "    model_none = Minerva2(FPT)\n",
    "    model_tone = Minerva2(FPT)\n",
    "    model_rhythm = Minerva2(FPT)\n",
    "    # create probes\n",
    "    Ps = np.random.randint(-1, 2, (N_PROTOTYPES, FPT))\n",
    "    PT_split_index = round(N_PROTOTYPES * NOISE_RATIO)\n",
    "\n",
    "    # create traces (subset of probes)\n",
    "    T_Rs = np.copy(Ps)[:PT_split_index]\n",
    "    T_Ts = np.copy(Ps)[:PT_split_index]\n",
    "\n",
    "    # zero out parts of traces (symmetrically)\n",
    "    RT_split_index = round(FPT * RHYTHM_TONE_RATIO)\n",
    "\n",
    "    T_Rs[:, :RT_split_index] *= 0\n",
    "    T_Ts[:, RT_split_index:] *= 0\n",
    "\n",
    "    # add traces to model\n",
    "    for T_R in T_Rs:\n",
    "        model_both.add_trace(T_R)\n",
    "        model_rhythm.add_trace(T_R)\n",
    "    for T_T in T_Ts:\n",
    "        model_both.add_trace(T_T)\n",
    "        model_tone.add_trace(T_T)\n",
    "        \n",
    "    for rand_trace in np.random.randint(-1, 2, (round(N_PROTOTYPES * NOISE_RATIO), FPT)):\n",
    "        model_none.add_trace(rand_trace)\n",
    "\n",
    "    # get echo intensities\n",
    "    sim_intensities_none = []\n",
    "    sim_intensities_both = []\n",
    "    sim_intensities_tone = []\n",
    "    sim_intensities_rhythm = []\n",
    "    dis_intensities_none = []\n",
    "    dis_intensities_both = []\n",
    "    dis_intensities_tone = []\n",
    "    dis_intensities_rhythm = []\n",
    "    for i, P in enumerate(Ps):\n",
    "        intensity_none = model_none.get_echo_intensity(P)\n",
    "        intensity_both = model_both.get_echo_intensity(P)\n",
    "        intensity_tone = model_tone.get_echo_intensity(P)\n",
    "        intensity_rhythm = model_rhythm.get_echo_intensity(P)\n",
    "        if i < PT_split_index:\n",
    "            sim_intensities_none.append(intensity_none)\n",
    "            sim_intensities_both.append(intensity_both)\n",
    "            sim_intensities_tone.append(intensity_tone)\n",
    "            sim_intensities_rhythm.append(intensity_rhythm)\n",
    "        else:\n",
    "            dis_intensities_none.append(intensity_none)\n",
    "            dis_intensities_both.append(intensity_both)\n",
    "            dis_intensities_tone.append(intensity_tone)\n",
    "            dis_intensities_rhythm.append(intensity_rhythm)\n",
    "\n",
    "    ax, fig = plt.subplots((1, 1))\n",
    "    # plot histograms and normal PDFs\n",
    "    show_densities(sim_intensities_none, dis_intensities_none, 'No overlap')\n",
    "    show_densities(sim_intensities_both, dis_intensities_both, 'Tone and Rhythm overlap')\n",
    "    show_densities(sim_intensities_tone, dis_intensities_tone, 'Tone only overlap')\n",
    "    show_densities(sim_intensities_rhythm, dis_intensities_rhythm, 'Rhythm only overlap')\n",
    "\n",
    "    plt.figure(figsize=(14,7))\n",
    "\n",
    "    mu1, std1 = norm.fit(a)\n",
    "    mu2, std2 = norm.fit(b)\n",
    "\n",
    "    ax.hist(a, density=True, label='similar')\n",
    "    ax.hist(b, density=True, label='dissimilar')\n",
    "\n",
    "    xmin, xmax = plt.xlim()\n",
    "    x = np.linspace(xmin, xmax, 10000)\n",
    "\n",
    "    p1 = norm.pdf(x, mu1, std1)\n",
    "    ax.plot(x, p1, 'k',linewidth=2, label='$\\mu$ = %.2e, $\\sigma$ = %.2e' % (mu1, std1))\n",
    "\n",
    "    p2 = norm.pdf(x, mu2, std2)\n",
    "    ax.plot(x, p2, 'b', linewidth=2, label='$\\mu$ = %.2e, $\\sigma$ = %.2e' % (mu2, std2))\n",
    "\n",
    "    plt.title(title + \" - Intensity as a function of similarity (histogram, and PDFs)\")\n",
    "    plt.legend()\n",
    "    plt.xlabel(\"Echo Intensity\")\n",
    "    plt.ylabel(\"Density\")\n",
    "    plt.grid(True)\n",
    "    plt.show()\n",
    "    break"
   ]
  },
  {
   "cell_type": "markdown",
   "metadata": {},
   "source": [
    "1. remove unstudied\n",
    "2. add rhythm only\n",
    "3. add tone only\n",
    "4. add noise to everything\n",
    "5. single studied vs multiple studied"
   ]
  },
  {
   "cell_type": "markdown",
   "metadata": {},
   "source": [
    "# Round 2!"
   ]
  },
  {
   "cell_type": "markdown",
   "metadata": {},
   "source": [
    "ding ding"
   ]
  },
  {
   "cell_type": "code",
   "execution_count": null,
   "metadata": {
    "ExecuteTime": {
     "start_time": "2020-03-30T15:39:36.528Z"
    },
    "run_control": {
     "marked": false
    }
   },
   "outputs": [],
   "source": [
    "a = np.reshape(np.arange(16), (4, -1))\n",
    "a"
   ]
  },
  {
   "cell_type": "code",
   "execution_count": null,
   "metadata": {
    "ExecuteTime": {
     "start_time": "2020-03-30T15:39:36.529Z"
    },
    "run_control": {
     "marked": false
    }
   },
   "outputs": [],
   "source": [
    "a[0]"
   ]
  },
  {
   "cell_type": "code",
   "execution_count": null,
   "metadata": {
    "ExecuteTime": {
     "start_time": "2020-03-30T15:39:36.530Z"
    },
    "run_control": {
     "marked": false
    }
   },
   "outputs": [],
   "source": [
    "a[0, 2]"
   ]
  },
  {
   "cell_type": "code",
   "execution_count": null,
   "metadata": {
    "ExecuteTime": {
     "start_time": "2020-03-30T15:39:36.531Z"
    },
    "run_control": {
     "marked": false
    }
   },
   "outputs": [],
   "source": [
    "a[0][2]"
   ]
  },
  {
   "cell_type": "code",
   "execution_count": null,
   "metadata": {
    "ExecuteTime": {
     "start_time": "2020-03-30T15:39:36.532Z"
    },
    "run_control": {
     "marked": false
    }
   },
   "outputs": [],
   "source": [
    "a[0:2]"
   ]
  },
  {
   "cell_type": "code",
   "execution_count": null,
   "metadata": {
    "ExecuteTime": {
     "start_time": "2020-03-30T15:39:36.533Z"
    },
    "run_control": {
     "marked": false
    }
   },
   "outputs": [],
   "source": [
    "a[:2]"
   ]
  },
  {
   "cell_type": "code",
   "execution_count": null,
   "metadata": {
    "ExecuteTime": {
     "start_time": "2020-03-30T15:39:36.534Z"
    },
    "run_control": {
     "marked": false
    }
   },
   "outputs": [],
   "source": [
    "a[2:]"
   ]
  },
  {
   "cell_type": "code",
   "execution_count": null,
   "metadata": {
    "ExecuteTime": {
     "start_time": "2020-03-30T15:39:36.535Z"
    },
    "run_control": {
     "marked": false
    }
   },
   "outputs": [],
   "source": [
    "a[:, :]"
   ]
  },
  {
   "cell_type": "code",
   "execution_count": null,
   "metadata": {
    "ExecuteTime": {
     "start_time": "2020-03-30T15:39:36.536Z"
    },
    "run_control": {
     "marked": false
    }
   },
   "outputs": [],
   "source": [
    "# tunable variables\n",
    "FPT = 100\n",
    "N_PROTOTYPES = 100\n",
    "TONE_RHYTHM_RATIO = 0.7\n",
    "\n",
    "# create model\n",
    "model = Minerva2(FPT)\n",
    "# create probes\n",
    "Ps_unstudied = np.random.randint(-1, 2, (N_PROTOTYPES, FPT))\n",
    "Ps_both = np.random.randint(-1, 2, (N_PROTOTYPES, FPT))\n",
    "Ps_rhythm = np.random.randint(-1, 2, (N_PROTOTYPES, FPT))\n",
    "Ps_tone = np.random.randint(-1, 2, (N_PROTOTYPES, FPT))"
   ]
  },
  {
   "cell_type": "code",
   "execution_count": null,
   "metadata": {
    "ExecuteTime": {
     "start_time": "2020-03-30T15:39:36.537Z"
    },
    "run_control": {
     "marked": false
    }
   },
   "outputs": [],
   "source": [
    "# create traces (subset of probes)\n",
    "T_Rs = np.copy(Ps_rhythm)\n",
    "T_Ts = np.copy(Ps_tone)\n",
    "T_Bs = Ps_both"
   ]
  },
  {
   "cell_type": "code",
   "execution_count": null,
   "metadata": {
    "ExecuteTime": {
     "start_time": "2020-03-30T15:39:36.539Z"
    },
    "run_control": {
     "marked": false
    }
   },
   "outputs": [],
   "source": [
    "# zero out parts of traces (symmetrically)\n",
    "RT_split_index = round(FPT * TONE_RHYTHM_RATIO)\n",
    "\n",
    "T_Rs[:, :RT_split_index] *= 0\n",
    "T_Ts[:, RT_split_index:] *= 0"
   ]
  },
  {
   "cell_type": "code",
   "execution_count": null,
   "metadata": {
    "ExecuteTime": {
     "start_time": "2020-03-30T15:39:36.540Z"
    },
    "run_control": {
     "marked": false
    }
   },
   "outputs": [],
   "source": [
    "# add traces to model\n",
    "for T_R in T_Rs:\n",
    "    model.add_trace(T_R)\n",
    "for T_T in T_Ts:\n",
    "    model.add_trace(T_T)\n",
    "for T_B in T_Bs:\n",
    "    model.add_trace(T_B)"
   ]
  },
  {
   "cell_type": "code",
   "execution_count": null,
   "metadata": {
    "ExecuteTime": {
     "start_time": "2020-03-30T15:39:36.541Z"
    },
    "run_control": {
     "marked": false
    }
   },
   "outputs": [],
   "source": [
    "# Add random noise traces\n",
    "#     for rand_trace in np.random.randint(-1, 2, (round(N_PROTOTYPES * NOISE_RATIO), FPT)):\n",
    "#         model.add_trace(rand_trace)\n",
    "\n",
    "# get echo intensities\n",
    "tone_intensities = [model.get_echo_intensity(p) for p in Ps_tone]\n",
    "rhythm_intensities = [model.get_echo_intensity(p) for p in Ps_rhythm]\n",
    "both_intensities = [model.get_echo_intensity(p) for p in Ps_both]\n",
    "unstudied_intensities = [model.get_echo_intensity(p) for p in Ps_unstudied]"
   ]
  },
  {
   "cell_type": "code",
   "execution_count": null,
   "metadata": {
    "ExecuteTime": {
     "start_time": "2020-03-30T15:39:36.542Z"
    },
    "run_control": {
     "marked": false
    }
   },
   "outputs": [],
   "source": [
    "plt.plot(tone_intensities)"
   ]
  },
  {
   "cell_type": "code",
   "execution_count": null,
   "metadata": {
    "ExecuteTime": {
     "start_time": "2020-03-30T15:39:36.543Z"
    },
    "run_control": {
     "marked": false
    }
   },
   "outputs": [],
   "source": [
    "model2 = Minerva2(FPT)"
   ]
  },
  {
   "cell_type": "code",
   "execution_count": null,
   "metadata": {
    "ExecuteTime": {
     "start_time": "2020-03-30T15:39:36.545Z"
    },
    "run_control": {
     "marked": false
    }
   },
   "outputs": [],
   "source": [
    "# add traces to model\n",
    "model2.add_traces(T_Rs)\n",
    "model2.add_traces(T_Ts)\n",
    "model2.add_traces(T_Bs)"
   ]
  },
  {
   "cell_type": "code",
   "execution_count": null,
   "metadata": {
    "ExecuteTime": {
     "start_time": "2020-03-30T15:39:36.546Z"
    },
    "run_control": {
     "marked": false
    }
   },
   "outputs": [],
   "source": [
    "model_arr = np.array(model.model)\n",
    "similarities = (Ps_tone @ model_arr.T)/Ps_tone.shape[1]\n",
    "activations = similarities**3\n",
    "intensities = np.mean(activations, axis=1)\n",
    "plt.plot(intensities)"
   ]
  },
  {
   "cell_type": "code",
   "execution_count": null,
   "metadata": {
    "ExecuteTime": {
     "start_time": "2020-03-30T15:39:36.547Z"
    },
    "run_control": {
     "marked": false
    }
   },
   "outputs": [],
   "source": [
    "# plot histograms and normal PDFs\n",
    "plt.figure(figsize=(14,7))\n",
    "\n",
    "mu_tone, std_tone = norm.fit(tone_intensities)\n",
    "mu_rhythm, std_rhythm = norm.fit(rhythm_intensities)\n",
    "mu_both, std_both = norm.fit(both_intensities)\n",
    "mu_unstudied, std_unstudied = norm.fit(unstudied_intensities)"
   ]
  },
  {
   "cell_type": "code",
   "execution_count": null,
   "metadata": {
    "ExecuteTime": {
     "start_time": "2020-03-30T15:39:36.548Z"
    },
    "run_control": {
     "marked": false
    }
   },
   "outputs": [],
   "source": [
    "plt.hist(unstudied_intensities, color='xkcd:orange', density=True)\n",
    "plt.hist(tone_intensities, color='b', density=True)\n",
    "plt.hist(rhythm_intensities, color='g', density=True)\n",
    "plt.hist(both_intensities, color='r', density=True)"
   ]
  },
  {
   "cell_type": "code",
   "execution_count": null,
   "metadata": {
    "ExecuteTime": {
     "start_time": "2020-03-30T15:39:36.549Z"
    },
    "run_control": {
     "marked": false
    }
   },
   "outputs": [],
   "source": [
    "#plt.xlim(-1e-4, .001)\n",
    "xmin, xmax = plt.xlim()\n",
    "x = np.linspace(xmin, xmax, 10000)\n",
    "\n",
    "p_unstudied = norm.pdf(x, mu_unstudied, std_unstudied)\n",
    "plt.plot(x, p_unstudied, 'k',linewidth=4)\n",
    "plt.plot(x, p_unstudied, 'xkcd:orange',linewidth=2, label='UNSTUDIED: $\\mu$ = %.2e, $\\sigma$ = %.2e' % (mu_unstudied, std_unstudied))\n",
    "\n",
    "p_tone = norm.pdf(x, mu_tone, std_tone)\n",
    "plt.plot(x, p_tone, 'k',linewidth=4)\n",
    "plt.plot(x, p_tone, 'b',linewidth=2, label='TONE: $\\mu$ = %.2e, $\\sigma$ = %.2e' % (mu_tone, std_tone))\n",
    "\n",
    "p_rhythm = norm.pdf(x, mu_rhythm, std_rhythm)\n",
    "plt.plot(x, p_rhythm, 'k',linewidth=4)\n",
    "plt.plot(x, p_rhythm, 'g',linewidth=2, label='RHYTHM: $\\mu$ = %.2e, $\\sigma$ = %.2e' % (mu_rhythm, std_rhythm))\n",
    "\n",
    "p_both = norm.pdf(x, mu_both, std_both)\n",
    "plt.plot(x, p_both, 'k',linewidth=4)\n",
    "plt.plot(x, p_both, 'r',linewidth=2, label='BOTH: $\\mu$ = %.2e, $\\sigma$ = %.2e' % (mu_both, std_both))\n",
    "\n",
    "plt.title(title + \" - Intensity as a function of similarity (histogram, and PDFs)\")\n",
    "plt.legend()\n",
    "plt.xlabel(\"Echo Intensity\")\n",
    "plt.ylabel(\"Density\")\n",
    "plt.grid(True)\n",
    "plt.show()"
   ]
  },
  {
   "cell_type": "markdown",
   "metadata": {},
   "source": [
    "## Slower!"
   ]
  },
  {
   "cell_type": "code",
   "execution_count": null,
   "metadata": {
    "ExecuteTime": {
     "start_time": "2020-03-30T15:39:36.551Z"
    },
    "run_control": {
     "marked": false
    }
   },
   "outputs": [],
   "source": [
    "# tunable variables\n",
    "FPT = 1000\n",
    "N_PROTOTYPES = 100\n",
    "TONE_RHYTHM_RATIO = 0.7\n",
    "\n",
    "# create model\n",
    "model = Minerva2(FPT)\n",
    "# create probes\n",
    "Ps_unstudied = np.random.randint(-1, 2, (N_PROTOTYPES, FPT))\n",
    "Ps_both = np.random.randint(-1, 2, (N_PROTOTYPES, FPT))\n",
    "Ps_rhythm = np.random.randint(-1, 2, (N_PROTOTYPES, FPT))\n",
    "Ps_tone = np.random.randint(-1, 2, (N_PROTOTYPES, FPT))\n",
    "\n",
    "# create traces (subset of probes)\n",
    "T_Rs = np.copy(Ps_rhythm)\n",
    "T_Ts = np.copy(Ps_tone)\n",
    "T_Bs = Ps_both\n",
    "\n",
    "# zero out parts of traces (symmetrically)\n",
    "RT_split_index = round(FPT * TONE_RHYTHM_RATIO)\n",
    "\n",
    "T_Rs[:, :RT_split_index] *= 0\n",
    "T_Ts[:, RT_split_index:] *= 0\n",
    "\n",
    "# add traces to model\n",
    "\n",
    "model.add_traces(T_Rs)\n",
    "model.add_traces(T_Ts)\n",
    "model.add_traces(T_Bs)\n",
    "\n",
    "# get echo intensities\n",
    "tone_intensities = [model.get_echo_intensity(p) for p in Ps_tone]\n",
    "rhythm_intensities = [model.get_echo_intensity(p) for p in Ps_rhythm]\n",
    "both_intensities = [model.get_echo_intensity(p) for p in Ps_both]\n",
    "unstudied_intensities = [model.get_echo_intensity(p) for p in Ps_unstudied]\n",
    "\n",
    "# plot histograms and normal PDFs\n",
    "plt.figure(figsize=(14,7))\n",
    "\n",
    "mu_tone, std_tone = norm.fit(tone_intensities)\n",
    "mu_rhythm, std_rhythm = norm.fit(rhythm_intensities)\n",
    "mu_both, std_both = norm.fit(both_intensities)\n",
    "mu_unstudied, std_unstudied = norm.fit(unstudied_intensities)\n",
    "\n",
    "plt.hist(unstudied_intensities, color='xkcd:orange', density=True)\n",
    "plt.hist(tone_intensities, color='b', density=True)\n",
    "plt.hist(rhythm_intensities, color='g', density=True)\n",
    "plt.hist(both_intensities, color='r', density=True)\n",
    "\n",
    "#plt.xlim(-1e-4, .001)\n",
    "xmin, xmax = plt.xlim()\n",
    "x = np.linspace(xmin, xmax, 10000)\n",
    "\n",
    "p_unstudied = norm.pdf(x, mu_unstudied, std_unstudied)\n",
    "plt.plot(x, p_unstudied, 'k',linewidth=4)\n",
    "plt.plot(x, p_unstudied, 'xkcd:orange',linewidth=2, label='UNSTUDIED: $\\mu$ = %.2e, $\\sigma$ = %.2e' % (mu_unstudied, std_unstudied))\n",
    "\n",
    "p_tone = norm.pdf(x, mu_tone, std_tone)\n",
    "plt.plot(x, p_tone, 'k',linewidth=4)\n",
    "plt.plot(x, p_tone, 'b',linewidth=2, label='TONE: $\\mu$ = %.2e, $\\sigma$ = %.2e' % (mu_tone, std_tone))\n",
    "\n",
    "p_rhythm = norm.pdf(x, mu_rhythm, std_rhythm)\n",
    "plt.plot(x, p_rhythm, 'k',linewidth=4)\n",
    "plt.plot(x, p_rhythm, 'g',linewidth=2, label='RHYTHM: $\\mu$ = %.2e, $\\sigma$ = %.2e' % (mu_rhythm, std_rhythm))\n",
    "\n",
    "p_both = norm.pdf(x, mu_both, std_both)\n",
    "plt.plot(x, p_both, 'k',linewidth=4)\n",
    "plt.plot(x, p_both, 'r',linewidth=2, label='BOTH: $\\mu$ = %.2e, $\\sigma$ = %.2e' % (mu_both, std_both))\n",
    "\n",
    "plt.title(title + \" - Intensity as a function of similarity (histogram, and PDFs)\")\n",
    "plt.legend()\n",
    "plt.xlabel(\"Echo Intensity\")\n",
    "plt.ylabel(\"Density\")\n",
    "plt.grid(True)\n",
    "plt.show()\n",
    "\n",
    "labels = ['U','T','R','B']\n",
    "results = [unstudied_intensities, tone_intensities, rhythm_intensities, both_intensities]\n",
    "print('_,U,T,R,B')\n",
    "for i, row in enumerate(results):\n",
    "    print(labels[i], end=',')\n",
    "    for col in results:\n",
    "        print(ttest_ind(row, col).pvalue, end=',')\n",
    "    print()"
   ]
  },
  {
   "cell_type": "markdown",
   "metadata": {},
   "source": [
    "## Faster!"
   ]
  },
  {
   "cell_type": "markdown",
   "metadata": {},
   "source": [
    "## Vary tone/rhythm ratio"
   ]
  },
  {
   "cell_type": "code",
   "execution_count": null,
   "metadata": {
    "ExecuteTime": {
     "start_time": "2020-03-30T15:39:36.552Z"
    },
    "run_control": {
     "marked": false
    },
    "scrolled": true
   },
   "outputs": [],
   "source": [
    "# tunable variables\n",
    "FPT = 1000\n",
    "N_PROTOTYPES = 1000\n",
    "#TONE_RHYTHM_RATIO = 0.7\n",
    "\n",
    "for TONE_RHYTHM_RATIO in [0.5, 0.6, 0.7, 0.8, 0.9]:\n",
    "    # create model\n",
    "    model = Minerva2(FPT)\n",
    "\n",
    "    # create probes\n",
    "    Ps_unstudied = np.random.randint(-1, 2, (N_PROTOTYPES, FPT))\n",
    "    Ps_both = np.random.randint(-1, 2, (N_PROTOTYPES, FPT))\n",
    "    Ps_rhythm = np.random.randint(-1, 2, (N_PROTOTYPES, FPT))\n",
    "    Ps_tone = np.random.randint(-1, 2, (N_PROTOTYPES, FPT))\n",
    "\n",
    "    # create traces (subset of probes)\n",
    "    T_Rs = np.copy(Ps_rhythm)\n",
    "    T_Ts = np.copy(Ps_tone)\n",
    "    T_B_Rs = np.copy(Ps_both)\n",
    "    T_B_Ts = np.copy(Ps_both)\n",
    "\n",
    "    # zero out parts of traces (symmetrically)\n",
    "    RT_split_index = round(FPT * TONE_RHYTHM_RATIO)\n",
    "\n",
    "    T_Rs[:, :RT_split_index] *= 0\n",
    "    T_Ts[:, RT_split_index:] *= 0\n",
    "    T_B_Rs[:, RT_split_index:] *= 0\n",
    "    T_B_Ts[:, :RT_split_index] *= 0\n",
    "\n",
    "    # add traces to model\n",
    "    model.add_traces(T_Rs)\n",
    "    model.add_traces(T_Ts)\n",
    "    model.add_traces(T_B_Rs)\n",
    "    model.add_traces(T_B_Ts)\n",
    "\n",
    "    # get echo intensities\n",
    "    tone_intensities = model.get_echo_intensities(Ps_tone)\n",
    "    rhythm_intensities = model.get_echo_intensities(Ps_rhythm)\n",
    "    both_intensities = model.get_echo_intensities(Ps_both)\n",
    "    unstudied_intensities = model.get_echo_intensities(Ps_unstudied)\n",
    "\n",
    "    # plot histograms and normal PDFs\n",
    "    plt.figure(figsize=(14,7))\n",
    "\n",
    "    mu_tone, std_tone = norm.fit(tone_intensities)\n",
    "    mu_rhythm, std_rhythm = norm.fit(rhythm_intensities)\n",
    "    mu_both, std_both = norm.fit(both_intensities)\n",
    "    mu_unstudied, std_unstudied = norm.fit(unstudied_intensities)\n",
    "\n",
    "    plt.hist(unstudied_intensities, color='xkcd:orange', density=True)\n",
    "    plt.hist(tone_intensities, color='b', density=True)\n",
    "    plt.hist(rhythm_intensities, color='g', density=True)\n",
    "    plt.hist(both_intensities, color='r', density=True)\n",
    "    #plt.xlim(-1e-4, .001)\n",
    "    xmin, xmax = plt.xlim()\n",
    "    x = np.linspace(xmin, xmax, 10000)\n",
    "\n",
    "    p_unstudied = norm.pdf(x, mu_unstudied, std_unstudied)\n",
    "    plt.plot(x, p_unstudied, 'k',linewidth=4)\n",
    "    plt.plot(x, p_unstudied, 'xkcd:orange',linewidth=2, label='UNSTUDIED: $\\mu$ = %.2e, $\\sigma$ = %.2e' % (mu_unstudied, std_unstudied))\n",
    "\n",
    "    p_tone = norm.pdf(x, mu_tone, std_tone)\n",
    "    plt.plot(x, p_tone, 'k',linewidth=4)\n",
    "    plt.plot(x, p_tone, 'b',linewidth=2, label='TONE: $\\mu$ = %.2e, $\\sigma$ = %.2e' % (mu_tone, std_tone))\n",
    "\n",
    "    p_rhythm = norm.pdf(x, mu_rhythm, std_rhythm)\n",
    "    plt.plot(x, p_rhythm, 'k',linewidth=4)\n",
    "    plt.plot(x, p_rhythm, 'g',linewidth=2, label='RHYTHM: $\\mu$ = %.2e, $\\sigma$ = %.2e' % (mu_rhythm, std_rhythm))\n",
    "\n",
    "    p_both = norm.pdf(x, mu_both, std_both)\n",
    "    plt.plot(x, p_both, 'k',linewidth=4)\n",
    "    plt.plot(x, p_both, 'r',linewidth=2, label='BOTH: $\\mu$ = %.2e, $\\sigma$ = %.2e' % (mu_both, std_both))\n",
    "\n",
    "    plt.title(\"Rhythm/tone ratio {} - Intensity as a function of similarity (histogram, and PDFs)\".format(TONE_RHYTHM_RATIO))\n",
    "    plt.legend()\n",
    "    plt.xlabel(\"Echo Intensity\")\n",
    "    plt.ylabel(\"Density\")\n",
    "    plt.grid(True)\n",
    "    plt.show()\n",
    "    \n",
    "    labels = ['U','T','R','B']\n",
    "    results = [unstudied_intensities, tone_intensities, rhythm_intensities, both_intensities]\n",
    "    print('_,U,T,R,B')\n",
    "    for i, row in enumerate(results):\n",
    "        print(labels[i], end=',')\n",
    "        for col in results:\n",
    "            print(ttest_ind(row, col).pvalue, end=',')\n",
    "        print()"
   ]
  },
  {
   "cell_type": "markdown",
   "metadata": {},
   "source": [
    "## Vary noise ratio"
   ]
  },
  {
   "cell_type": "code",
   "execution_count": null,
   "metadata": {
    "ExecuteTime": {
     "start_time": "2020-03-30T15:39:36.554Z"
    },
    "run_control": {
     "marked": false
    },
    "scrolled": false
   },
   "outputs": [],
   "source": [
    "# tunable variables\n",
    "FPT = 1000\n",
    "N_PROTOTYPES = 1000\n",
    "TONE_RHYTHM_RATIO = 0.7\n",
    "\n",
    "for NOISE_RATIO in [0.0, 0.01, 0.1, 0.2, 0.3, 0.4, 0.5]:\n",
    "    # create model\n",
    "    model = Minerva2(FPT)\n",
    "\n",
    "    # create probes\n",
    "    Ps_unstudied = np.random.randint(-1, 2, (N_PROTOTYPES, FPT))\n",
    "    Ps_both = np.random.randint(-1, 2, (N_PROTOTYPES, FPT))\n",
    "    Ps_rhythm = np.random.randint(-1, 2, (N_PROTOTYPES, FPT))\n",
    "    Ps_tone = np.random.randint(-1, 2, (N_PROTOTYPES, FPT))\n",
    "\n",
    "    # create traces (subset of probes)\n",
    "    T_Rs = np.copy(Ps_rhythm)\n",
    "    T_Ts = np.copy(Ps_tone)\n",
    "    T_B_Rs = np.copy(Ps_both)\n",
    "    T_B_Ts = np.copy(Ps_both)\n",
    "\n",
    "    # zero out parts of traces (symmetrically)\n",
    "    RT_split_index = round(FPT * TONE_RHYTHM_RATIO)\n",
    "\n",
    "    T_Rs[:, :RT_split_index] *= 0\n",
    "    T_Ts[:, RT_split_index:] *= 0\n",
    "    T_B_Rs[:, RT_split_index:] *= 0\n",
    "    T_B_Ts[:, :RT_split_index] *= 0\n",
    "    \n",
    "    # flip some features (add noise)\n",
    "    T_Rs = add_noise_2d(T_Rs, NOISE_RATIO)\n",
    "    T_Ts = add_noise_2d(T_Ts, NOISE_RATIO)\n",
    "    T_B_Rs = add_noise_2d(T_B_Rs, NOISE_RATIO)\n",
    "    T_B_Ts = add_noise_2d(T_B_Ts, NOISE_RATIO)\n",
    "\n",
    "    # add traces to model\n",
    "    model.add_traces(T_Rs)\n",
    "    model.add_traces(T_Ts)\n",
    "    model.add_traces(T_B_Rs)\n",
    "    model.add_traces(T_B_Ts)\n",
    "\n",
    "    # get echo intensities\n",
    "    tone_intensities = model.get_echo_intensities(Ps_tone)\n",
    "    rhythm_intensities = model.get_echo_intensities(Ps_rhythm)\n",
    "    both_intensities = model.get_echo_intensities(Ps_both)\n",
    "    unstudied_intensities = model.get_echo_intensities(Ps_unstudied)\n",
    "\n",
    "    # plot histograms and normal PDFs\n",
    "    plt.figure(figsize=(14,7))\n",
    "\n",
    "    mu_tone, std_tone = norm.fit(tone_intensities)\n",
    "    mu_rhythm, std_rhythm = norm.fit(rhythm_intensities)\n",
    "    mu_both, std_both = norm.fit(both_intensities)\n",
    "    mu_unstudied, std_unstudied = norm.fit(unstudied_intensities)\n",
    "\n",
    "    plt.hist(unstudied_intensities, color='xkcd:orange', density=True)\n",
    "    plt.hist(tone_intensities, color='b', density=True)\n",
    "    plt.hist(rhythm_intensities, color='g', density=True)\n",
    "    plt.hist(both_intensities, color='r', density=True)\n",
    "    #plt.xlim(-1e-4, .001)\n",
    "    xmin, xmax = plt.xlim()\n",
    "    x = np.linspace(xmin, xmax, 10000)\n",
    "\n",
    "    p_unstudied = norm.pdf(x, mu_unstudied, std_unstudied)\n",
    "    plt.plot(x, p_unstudied, 'k',linewidth=4)\n",
    "    plt.plot(x, p_unstudied, 'xkcd:orange',linewidth=2, label='UNSTUDIED: $\\mu$ = %.2e, $\\sigma$ = %.2e' % (mu_unstudied, std_unstudied))\n",
    "\n",
    "    p_tone = norm.pdf(x, mu_tone, std_tone)\n",
    "    plt.plot(x, p_tone, 'k',linewidth=4)\n",
    "    plt.plot(x, p_tone, 'b',linewidth=2, label='TONE: $\\mu$ = %.2e, $\\sigma$ = %.2e' % (mu_tone, std_tone))\n",
    "\n",
    "    p_rhythm = norm.pdf(x, mu_rhythm, std_rhythm)\n",
    "    plt.plot(x, p_rhythm, 'k',linewidth=4)\n",
    "    plt.plot(x, p_rhythm, 'g',linewidth=2, label='RHYTHM: $\\mu$ = %.2e, $\\sigma$ = %.2e' % (mu_rhythm, std_rhythm))\n",
    "\n",
    "    p_both = norm.pdf(x, mu_both, std_both)\n",
    "    plt.plot(x, p_both, 'k',linewidth=4)\n",
    "    plt.plot(x, p_both, 'r',linewidth=2, label='BOTH: $\\mu$ = %.2e, $\\sigma$ = %.2e' % (mu_both, std_both))\n",
    "\n",
    "    plt.title(\"Noise ratio {} - Intensity as a function of similarity (histogram, and PDFs)\".format(NOISE_RATIO))\n",
    "    plt.legend()\n",
    "    plt.xlabel(\"Echo Intensity\")\n",
    "    plt.ylabel(\"Density\")\n",
    "    plt.grid(True)\n",
    "    plt.show()\n",
    "    \n",
    "    labels = ['U','T','R','B']\n",
    "    results = [unstudied_intensities, tone_intensities, rhythm_intensities, both_intensities]\n",
    "    print('_,U,T,R,B')\n",
    "    for i, row in enumerate(results):\n",
    "        print(labels[i], end=',')\n",
    "        for col in results:\n",
    "            print(ttest_ind(row, col).pvalue, end=',')\n",
    "        print()"
   ]
  },
  {
   "cell_type": "markdown",
   "metadata": {},
   "source": [
    "## Vary multiple (export this)"
   ]
  },
  {
   "cell_type": "code",
   "execution_count": 20,
   "metadata": {
    "ExecuteTime": {
     "end_time": "2020-03-30T16:00:45.627190Z",
     "start_time": "2020-03-30T16:00:45.616715Z"
    }
   },
   "outputs": [
    {
     "data": {
      "text/plain": [
       "['__class__',\n",
       " '__delattr__',\n",
       " '__dict__',\n",
       " '__dir__',\n",
       " '__doc__',\n",
       " '__eq__',\n",
       " '__format__',\n",
       " '__ge__',\n",
       " '__getattribute__',\n",
       " '__getstate__',\n",
       " '__gt__',\n",
       " '__hash__',\n",
       " '__init__',\n",
       " '__init_subclass__',\n",
       " '__le__',\n",
       " '__lt__',\n",
       " '__module__',\n",
       " '__ne__',\n",
       " '__new__',\n",
       " '__reduce__',\n",
       " '__reduce_ex__',\n",
       " '__repr__',\n",
       " '__setattr__',\n",
       " '__setstate__',\n",
       " '__sizeof__',\n",
       " '__str__',\n",
       " '__subclasshook__',\n",
       " '__weakref__',\n",
       " '_add_axes_internal',\n",
       " '_agg_filter',\n",
       " '_align_xlabel_grp',\n",
       " '_align_ylabel_grp',\n",
       " '_alpha',\n",
       " '_animated',\n",
       " '_axobservers',\n",
       " '_axstack',\n",
       " '_cachedRenderer',\n",
       " '_clipon',\n",
       " '_clippath',\n",
       " '_constrained',\n",
       " '_constrained_layout_pads',\n",
       " '_contains',\n",
       " '_dpi',\n",
       " '_gci',\n",
       " '_get_axes',\n",
       " '_get_clipping_extent_bbox',\n",
       " '_get_dpi',\n",
       " '_gid',\n",
       " '_gridspecs',\n",
       " '_in_layout',\n",
       " '_label',\n",
       " '_layoutbox',\n",
       " '_make_key',\n",
       " '_mouseover',\n",
       " '_oid',\n",
       " '_path_effects',\n",
       " '_picker',\n",
       " '_process_projection_requirements',\n",
       " '_prop_order',\n",
       " '_propobservers',\n",
       " '_rasterized',\n",
       " '_remove_ax',\n",
       " '_remove_method',\n",
       " '_repr_html_',\n",
       " '_set_artist_props',\n",
       " '_set_dpi',\n",
       " '_set_gc_clip',\n",
       " '_sketch',\n",
       " '_snap',\n",
       " '_stale',\n",
       " '_sticky_edges',\n",
       " '_suptitle',\n",
       " '_tight',\n",
       " '_tight_parameters',\n",
       " '_transform',\n",
       " '_transformSet',\n",
       " '_url',\n",
       " '_visible',\n",
       " 'add_artist',\n",
       " 'add_axes',\n",
       " 'add_axobserver',\n",
       " 'add_callback',\n",
       " 'add_gridspec',\n",
       " 'add_subplot',\n",
       " 'align_labels',\n",
       " 'align_xlabels',\n",
       " 'align_ylabels',\n",
       " 'aname',\n",
       " 'artists',\n",
       " 'autofmt_xdate',\n",
       " 'axes',\n",
       " 'bbox',\n",
       " 'bbox_inches',\n",
       " 'callbacks',\n",
       " 'canvas',\n",
       " 'clear',\n",
       " 'clf',\n",
       " 'clipbox',\n",
       " 'colorbar',\n",
       " 'contains',\n",
       " 'convert_xunits',\n",
       " 'convert_yunits',\n",
       " 'delaxes',\n",
       " 'dpi',\n",
       " 'dpi_scale_trans',\n",
       " 'draw',\n",
       " 'draw_artist',\n",
       " 'eventson',\n",
       " 'execute_constrained_layout',\n",
       " 'figimage',\n",
       " 'figure',\n",
       " 'findobj',\n",
       " 'format_cursor_data',\n",
       " 'frameon',\n",
       " 'gca',\n",
       " 'get_agg_filter',\n",
       " 'get_alpha',\n",
       " 'get_animated',\n",
       " 'get_axes',\n",
       " 'get_children',\n",
       " 'get_clip_box',\n",
       " 'get_clip_on',\n",
       " 'get_clip_path',\n",
       " 'get_constrained_layout',\n",
       " 'get_constrained_layout_pads',\n",
       " 'get_contains',\n",
       " 'get_cursor_data',\n",
       " 'get_default_bbox_extra_artists',\n",
       " 'get_dpi',\n",
       " 'get_edgecolor',\n",
       " 'get_facecolor',\n",
       " 'get_figheight',\n",
       " 'get_figure',\n",
       " 'get_figwidth',\n",
       " 'get_frameon',\n",
       " 'get_gid',\n",
       " 'get_in_layout',\n",
       " 'get_label',\n",
       " 'get_path_effects',\n",
       " 'get_picker',\n",
       " 'get_rasterized',\n",
       " 'get_size_inches',\n",
       " 'get_sketch_params',\n",
       " 'get_snap',\n",
       " 'get_tight_layout',\n",
       " 'get_tightbbox',\n",
       " 'get_transform',\n",
       " 'get_transformed_clip_path_and_affine',\n",
       " 'get_url',\n",
       " 'get_visible',\n",
       " 'get_window_extent',\n",
       " 'get_zorder',\n",
       " 'ginput',\n",
       " 'have_units',\n",
       " 'images',\n",
       " 'init_layoutbox',\n",
       " 'is_transform_set',\n",
       " 'legend',\n",
       " 'legends',\n",
       " 'lines',\n",
       " 'mouseover',\n",
       " 'number',\n",
       " 'patch',\n",
       " 'patches',\n",
       " 'pchanged',\n",
       " 'pick',\n",
       " 'pickable',\n",
       " 'properties',\n",
       " 'remove',\n",
       " 'remove_callback',\n",
       " 'savefig',\n",
       " 'sca',\n",
       " 'set',\n",
       " 'set_agg_filter',\n",
       " 'set_alpha',\n",
       " 'set_animated',\n",
       " 'set_canvas',\n",
       " 'set_clip_box',\n",
       " 'set_clip_on',\n",
       " 'set_clip_path',\n",
       " 'set_constrained_layout',\n",
       " 'set_constrained_layout_pads',\n",
       " 'set_contains',\n",
       " 'set_dpi',\n",
       " 'set_edgecolor',\n",
       " 'set_facecolor',\n",
       " 'set_figheight',\n",
       " 'set_figure',\n",
       " 'set_figwidth',\n",
       " 'set_frameon',\n",
       " 'set_gid',\n",
       " 'set_in_layout',\n",
       " 'set_label',\n",
       " 'set_path_effects',\n",
       " 'set_picker',\n",
       " 'set_rasterized',\n",
       " 'set_size_inches',\n",
       " 'set_sketch_params',\n",
       " 'set_snap',\n",
       " 'set_tight_layout',\n",
       " 'set_transform',\n",
       " 'set_url',\n",
       " 'set_visible',\n",
       " 'set_zorder',\n",
       " 'show',\n",
       " 'stale',\n",
       " 'stale_callback',\n",
       " 'sticky_edges',\n",
       " 'subplotpars',\n",
       " 'subplots',\n",
       " 'subplots_adjust',\n",
       " 'suppressComposite',\n",
       " 'suptitle',\n",
       " 'text',\n",
       " 'texts',\n",
       " 'tight_layout',\n",
       " 'transFigure',\n",
       " 'update',\n",
       " 'update_from',\n",
       " 'waitforbuttonpress',\n",
       " 'zorder']"
      ]
     },
     "execution_count": 20,
     "metadata": {},
     "output_type": "execute_result"
    }
   ],
   "source": [
    "dir(fig)"
   ]
  },
  {
   "cell_type": "code",
   "execution_count": 51,
   "metadata": {
    "ExecuteTime": {
     "end_time": "2020-03-30T16:25:41.295739Z",
     "start_time": "2020-03-30T16:24:29.420950Z"
    },
    "run_control": {
     "marked": true
    },
    "scrolled": false
   },
   "outputs": [
    {
     "name": "stdout",
     "output_type": "stream",
     "text": [
      "0 0\n",
      "_,U,T,R,B\n",
      "U,1.0,0.0,0.0,0.0,\n",
      "T,0.0,1.0,0.6435911043017217,0.0,\n",
      "R,0.0,0.6435911043017217,1.0,0.0,\n",
      "B,0.0,0.0,0.0,1.0,\n",
      "0 1\n",
      "_,U,T,R,B\n",
      "U,1.0,0.0,0.0,0.0,\n",
      "T,0.0,1.0,0.0315482001074696,0.0,\n",
      "R,0.0,0.0315482001074696,1.0,0.0,\n",
      "B,0.0,0.0,0.0,1.0,\n",
      "0 2\n",
      "_,U,T,R,B\n",
      "U,1.0,0.0,0.0,0.0,\n",
      "T,0.0,1.0,0.5811851626153842,0.0,\n",
      "R,0.0,0.5811851626153842,1.0,0.0,\n",
      "B,0.0,0.0,0.0,1.0,\n",
      "1 0\n",
      "_,U,T,R,B\n",
      "U,1.0,0.0,0.0,0.0,\n",
      "T,0.0,1.0,0.0,0.0,\n",
      "R,0.0,0.0,1.0,0.0,\n",
      "B,0.0,0.0,0.0,1.0,\n",
      "1 1\n",
      "_,U,T,R,B\n",
      "U,1.0,0.0,0.0,0.0,\n",
      "T,0.0,1.0,0.0,0.0,\n",
      "R,0.0,0.0,1.0,0.0,\n",
      "B,0.0,0.0,0.0,1.0,\n",
      "1 2\n",
      "_,U,T,R,B\n",
      "U,1.0,0.0,0.0,0.0,\n",
      "T,0.0,1.0,0.0,0.0,\n",
      "R,0.0,0.0,1.0,0.0,\n",
      "B,0.0,0.0,0.0,1.0,\n",
      "2 0\n",
      "_,U,T,R,B\n",
      "U,1.0,0.0,0.0,0.0,\n",
      "T,0.0,1.0,0.0,0.0,\n",
      "R,0.0,0.0,1.0,0.0,\n",
      "B,0.0,0.0,0.0,1.0,\n",
      "2 1\n",
      "_,U,T,R,B\n",
      "U,1.0,0.0,0.0,0.0,\n",
      "T,0.0,1.0,0.0,6.882285439319927e-166,\n",
      "R,0.0,0.0,1.0,0.0,\n",
      "B,0.0,6.882285439319927e-166,0.0,1.0,\n",
      "2 2\n",
      "_,U,T,R,B\n",
      "U,1.0,0.0,0.0,0.0,\n",
      "T,0.0,1.0,0.0,6.241018343805314e-68,\n",
      "R,0.0,0.0,1.0,0.0,\n",
      "B,0.0,6.241018343805314e-68,0.0,1.0,\n"
     ]
    },
    {
     "data": {
      "image/png": "[encoded data removed]",
      "text/plain": [
       "<Figure size 1152x1152 with 9 Axes>"
      ]
     },
     "metadata": {
      "needs_background": "light"
     },
     "output_type": "display_data"
    }
   ],
   "source": [
    "# tunable variables\n",
    "FPT = 1000\n",
    "N_PROTOTYPES = 30\n",
    "\n",
    "fig, axs = plt.subplots(3, 3, sharex=True, sharey=True)\n",
    "fig.set_figheight(16)\n",
    "fig.set_figwidth(16)\n",
    "fig.suptitle(\"Echo intensity as a function of feature type\")\n",
    "\n",
    "for i, TONE_RHYTHM_RATIO in enumerate([.5, .6, .7]):\n",
    "    for j, NOISE_RATIO in enumerate([0.01, 0.1, 0.2]):\n",
    "        tone_intensities = []\n",
    "        rhythm_intensities = []\n",
    "        both_intensities = []\n",
    "        unstudied_intensities = []\n",
    "        for _ in range(120):\n",
    "            # create model\n",
    "            model = Minerva2(FPT)\n",
    "\n",
    "            # create probes\n",
    "            Ps_unstudied = np.random.randint(-1, 2, (N_PROTOTYPES, FPT))\n",
    "            Ps_both = np.random.randint(-1, 2, (N_PROTOTYPES, FPT))\n",
    "            Ps_rhythm = np.random.randint(-1, 2, (N_PROTOTYPES, FPT))\n",
    "            Ps_tone = np.random.randint(-1, 2, (N_PROTOTYPES, FPT))\n",
    "\n",
    "            # create traces (subset of probes)\n",
    "            T_Rs = np.copy(Ps_rhythm)\n",
    "            T_Ts = np.copy(Ps_tone)\n",
    "            T_B_Rs = np.copy(Ps_both)\n",
    "            T_B_Ts = np.copy(Ps_both)\n",
    "\n",
    "            # zero out parts of traces (symmetrically)\n",
    "            RT_split_index = round(FPT * TONE_RHYTHM_RATIO)\n",
    "\n",
    "            T_Rs[:, :RT_split_index] *= 0\n",
    "            T_Ts[:, RT_split_index:] *= 0\n",
    "            T_B_Rs[:, RT_split_index:] *= 0\n",
    "            T_B_Ts[:, :RT_split_index] *= 0\n",
    "\n",
    "            # flip some features (add noise)\n",
    "            T_Rs = add_noise_2d(T_Rs, NOISE_RATIO)\n",
    "            T_Ts = add_noise_2d(T_Ts, NOISE_RATIO)\n",
    "            T_B_Rs = add_noise_2d(T_B_Rs, NOISE_RATIO)\n",
    "            T_B_Ts = add_noise_2d(T_B_Ts, NOISE_RATIO)\n",
    "\n",
    "            # add traces to model\n",
    "            model.add_traces(T_Rs)\n",
    "            model.add_traces(T_Ts)\n",
    "            model.add_traces(T_B_Rs)\n",
    "            model.add_traces(T_B_Ts)\n",
    "\n",
    "            # get echo intensities\n",
    "            tone_intensities.extend(model.get_echo_intensities(Ps_tone))\n",
    "            rhythm_intensities.extend(model.get_echo_intensities(Ps_rhythm))\n",
    "            both_intensities.extend(model.get_echo_intensities(Ps_both))\n",
    "            unstudied_intensities.extend(model.get_echo_intensities(Ps_unstudied))\n",
    "\n",
    "        # plot histograms and normal PDFs\n",
    "        mu_tone, std_tone = norm.fit(tone_intensities)\n",
    "        mu_rhythm, std_rhythm = norm.fit(rhythm_intensities)\n",
    "        mu_both, std_both = norm.fit(both_intensities)\n",
    "        mu_unstudied, std_unstudied = norm.fit(unstudied_intensities)\n",
    "\n",
    "        print(i, j)\n",
    "        axs[i, j].hist(unstudied_intensities, color='xkcd:orange', density=True)\n",
    "        axs[i, j].hist(tone_intensities, color='b', density=True)\n",
    "        axs[i, j].hist(rhythm_intensities, color='g', density=True)\n",
    "        axs[i, j].hist(both_intensities, color='r', density=True)\n",
    "        #plt.xlim(-1e-4, .001)\n",
    "        x = np.linspace(xmin, xmax, 10000)\n",
    "        xmin, xmax = axs[i, j].set_xlim(-1e-4, .001)\n",
    "        axs[i, j].set_ylim(0, 60000)\n",
    "\n",
    "        p_unstudied = norm.pdf(x, mu_unstudied, std_unstudied)\n",
    "        axs[i, j].plot(x, p_unstudied, 'k',linewidth=4)\n",
    "        axs[i, j].plot(x, p_unstudied, 'xkcd:orange',linewidth=2, label='UNSTUDIED: $\\mu$ = {:.1e}, $\\sigma$ = {:.1e}'.format(mu_unstudied, std_unstudied))\n",
    "\n",
    "        p_tone = norm.pdf(x, mu_tone, std_tone)\n",
    "        axs[i, j].plot(x, p_tone, 'k',linewidth=4)\n",
    "        axs[i, j].plot(x, p_tone, 'b',linewidth=2, label='TONE: $\\mu$ = {:.1e}, $\\sigma$ = {:.1e}'.format(mu_tone, std_tone))\n",
    "\n",
    "        p_rhythm = norm.pdf(x, mu_rhythm, std_rhythm)\n",
    "        axs[i, j].plot(x, p_rhythm, 'k',linewidth=4)\n",
    "        axs[i, j].plot(x, p_rhythm, 'g',linewidth=2, label='RHYTHM: $\\mu$ = {:.1e}, $\\sigma$ = {:.1e}'.format(mu_rhythm, std_rhythm))\n",
    "\n",
    "        p_both = norm.pdf(x, mu_both, std_both)\n",
    "        axs[i, j].plot(x, p_both, 'k',linewidth=4)\n",
    "        axs[i, j].plot(x, p_both, 'r',linewidth=2, label='BOTH: $\\mu$ = {:.1e}, $\\sigma$ = {:.1e}'.format(mu_both, std_both))\n",
    "\n",
    "        axs[i, j].set_title(\"Noise ratio={}, R/T ratio={}\".format(NOISE_RATIO, TONE_RHYTHM_RATIO))\n",
    "        axs[i, j].set_xlabel(\"Echo Intensity\")\n",
    "        axs[i, j].set_ylabel(\"Density\")\n",
    "        axs[i, j].grid(True)\n",
    "        axs[i, j].legend(loc=1, prop={'size':14})\n",
    "        axs[i, j].label_outer()\n",
    "\n",
    "        labels = ['U','T','R','B']\n",
    "        results = [unstudied_intensities, tone_intensities, rhythm_intensities, both_intensities]\n",
    "        print('_,U,T,R,B')\n",
    "        for k, row in enumerate(results):\n",
    "            print(labels[k], end=',')\n",
    "            for col in results:\n",
    "                print(ttest_ind(row, col).pvalue, end=',')\n",
    "            print()\n",
    "            \n",
    "\n",
    "plt.tight_layout()\n",
    "plt.subplots_adjust(top=0.93)\n",
    "plt.show()\n"
   ]
  },
  {
   "cell_type": "markdown",
   "metadata": {},
   "source": [
    "# Repetition experiment"
   ]
  },
  {
   "cell_type": "markdown",
   "metadata": {},
   "source": [
    "## Vary tone/rhythm ratio"
   ]
  },
  {
   "cell_type": "code",
   "execution_count": null,
   "metadata": {
    "ExecuteTime": {
     "start_time": "2020-03-30T15:39:36.556Z"
    },
    "run_control": {
     "marked": false
    },
    "scrolled": false
   },
   "outputs": [],
   "source": [
    "# tunable variables\n",
    "FPT = 1000\n",
    "N_PROTOTYPES = 1000\n",
    "TONE_RHYTHM_RATIO = 0.7\n",
    "NOISE_RATIO = 0.1\n",
    "N = 3\n",
    "\n",
    "for TONE_RHYTHM_RATIO in [0.5, 0.6, 0.7, 0.8, 0.9, 1]:\n",
    "#for NOISE_RATIO in [0.0, 0.01, 0.1, 0.2, 0.3, 0.4, 0.5]:\n",
    "    # create model\n",
    "    model = Minerva2(FPT)\n",
    "\n",
    "    # create probes\n",
    "    Ps_unstudied = np.random.randint(-1, 2, (N_PROTOTYPES, FPT))\n",
    "    Ps_rhythm1 = np.random.randint(-1, 2, (N_PROTOTYPES, FPT))\n",
    "    Ps_rhythmN = np.random.randint(-1, 2, (N_PROTOTYPES, FPT))\n",
    "\n",
    "    # create traces (subset of probes)\n",
    "    T_1s = np.copy(Ps_rhythm1)\n",
    "    T_Ns = np.copy(Ps_rhythmN)\n",
    "\n",
    "    # zero out parts of traces (symmetrically)\n",
    "    RT_split_index = round(FPT * TONE_RHYTHM_RATIO)\n",
    "\n",
    "    T_1s[:, :RT_split_index] *= 0\n",
    "    T_Ns[:, :RT_split_index] *= 0\n",
    "    \n",
    "    # flip some features (add noise)\n",
    "    T_1s = add_noise_2d(T_1s, NOISE_RATIO)\n",
    "    T_Ns = add_noise_2d(T_Ns, NOISE_RATIO)\n",
    "\n",
    "    # add traces to model\n",
    "    model.add_traces(T_1s)\n",
    "    for _ in range(N):\n",
    "        model.add_traces(T_Ns)\n",
    "\n",
    "    # get echo intensities\n",
    "    R1_intensities = model.get_echo_intensities(Ps_rhythm1)\n",
    "    RN_intensities = model.get_echo_intensities(Ps_rhythmN)\n",
    "    unstudied_intensities = model.get_echo_intensities(Ps_unstudied)\n",
    "\n",
    "    # plot histograms and normal PDFs\n",
    "    plt.figure(figsize=(14,7))\n",
    "\n",
    "    mu_1, std_1 = norm.fit(R1_intensities)\n",
    "    mu_N, std_N = norm.fit(RN_intensities)\n",
    "    mu_unstudied, std_unstudied = norm.fit(unstudied_intensities)\n",
    "\n",
    "    plt.hist(unstudied_intensities, color='xkcd:orange', density=True)\n",
    "    plt.hist(R1_intensities, color='b', density=True)\n",
    "    plt.hist(RN_intensities, color='g', density=True)\n",
    "    #plt.xlim(-1e-4, .001)\n",
    "    xmin, xmax = plt.xlim()\n",
    "    x = np.linspace(xmin, xmax, 10000)\n",
    "\n",
    "    p_unstudied = norm.pdf(x, mu_unstudied, std_unstudied)\n",
    "    plt.plot(x, p_unstudied, 'k',linewidth=4)\n",
    "    plt.plot(x, p_unstudied, 'xkcd:orange',linewidth=2, label='UNSTUDIED: $\\mu$ = %.2e, $\\sigma$ = %.2e' % (mu_unstudied, std_unstudied))\n",
    "\n",
    "    p_1 = norm.pdf(x, mu_1, std_1)\n",
    "    plt.plot(x, p_1, 'k',linewidth=4)\n",
    "    plt.plot(x, p_1, 'b',linewidth=2, label='N=1: $\\mu$ = %.2e, $\\sigma$ = %.2e' % (mu_1, std_1))\n",
    "\n",
    "    p_N = norm.pdf(x, mu_N, std_N)\n",
    "    plt.plot(x, p_N, 'k',linewidth=4)\n",
    "    plt.plot(x, p_N, 'g',linewidth=2, label='N=%d: $\\mu$ = %.2e, $\\sigma$ = %.2e' % (N, mu_N, std_N))\n",
    "\n",
    "    plt.title(\"Noise ratio {}, R/T ratio {}, N={} - Intensity as a function of similarity (histogram, and PDFs)\".format(NOISE_RATIO, TONE_RHYTHM_RATIO, N))\n",
    "    plt.legend()\n",
    "    plt.xlabel(\"Echo Intensity\")\n",
    "    plt.ylabel(\"Density\")\n",
    "    plt.grid(True)\n",
    "    plt.show()\n",
    "    \n",
    "    labels = ['U','1','N']\n",
    "    results = [unstudied_intensities, R1_intensities, RN_intensities]\n",
    "    print('_,U,1,N')\n",
    "    for i, row in enumerate(results):\n",
    "        print(labels[i], end=',')\n",
    "        for col in results:\n",
    "            print(ttest_ind(row, col).pvalue, end=',')\n",
    "        print()"
   ]
  },
  {
   "cell_type": "markdown",
   "metadata": {},
   "source": [
    "## Vary noise ratio"
   ]
  },
  {
   "cell_type": "code",
   "execution_count": null,
   "metadata": {
    "ExecuteTime": {
     "start_time": "2020-03-30T15:39:36.558Z"
    },
    "run_control": {
     "marked": false
    },
    "scrolled": false
   },
   "outputs": [],
   "source": [
    "# tunable variables\n",
    "FPT = 1000\n",
    "N_PROTOTYPES = 1000\n",
    "TONE_RHYTHM_RATIO = 0.7\n",
    "NOISE_RATIO = 0.1\n",
    "N = 3\n",
    "\n",
    "#for TONE_RHYTHM_RATIO in [0.5, 0.6, 0.7, 0.8, 0.9, 1]:\n",
    "for NOISE_RATIO in [0.0, 0.01, 0.1, 0.2, 0.3, 0.4, 0.5]:\n",
    "    # create model\n",
    "    model = Minerva2(FPT)\n",
    "\n",
    "    # create probes\n",
    "    Ps_unstudied = np.random.randint(-1, 2, (N_PROTOTYPES, FPT))\n",
    "    Ps_rhythm1 = np.random.randint(-1, 2, (N_PROTOTYPES, FPT))\n",
    "    Ps_rhythmN = np.random.randint(-1, 2, (N_PROTOTYPES, FPT))\n",
    "\n",
    "    # create traces (subset of probes)\n",
    "    T_1s = np.copy(Ps_rhythm1)\n",
    "    T_Ns = np.copy(Ps_rhythmN)\n",
    "\n",
    "    # zero out parts of traces (symmetrically)\n",
    "    RT_split_index = round(FPT * TONE_RHYTHM_RATIO)\n",
    "\n",
    "    T_1s[:, :RT_split_index] *= 0\n",
    "    T_Ns[:, :RT_split_index] *= 0\n",
    "    \n",
    "    # flip some features (add noise)\n",
    "    T_1s = add_noise_2d(T_1s, NOISE_RATIO)\n",
    "    T_Ns = add_noise_2d(T_Ns, NOISE_RATIO)\n",
    "\n",
    "    # add traces to model\n",
    "    model.add_traces(T_1s)\n",
    "    for _ in range(N):\n",
    "        model.add_traces(T_Ns)\n",
    "\n",
    "    # get echo intensities\n",
    "    R1_intensities = model.get_echo_intensities(Ps_rhythm1)\n",
    "    RN_intensities = model.get_echo_intensities(Ps_rhythmN)\n",
    "    unstudied_intensities = model.get_echo_intensities(Ps_unstudied)\n",
    "\n",
    "    # plot histograms and normal PDFs\n",
    "    plt.figure(figsize=(14,7))\n",
    "\n",
    "    mu_1, std_1 = norm.fit(R1_intensities)\n",
    "    mu_N, std_N = norm.fit(RN_intensities)\n",
    "    mu_unstudied, std_unstudied = norm.fit(unstudied_intensities)\n",
    "\n",
    "    plt.hist(unstudied_intensities, color='xkcd:orange', density=True)\n",
    "    plt.hist(R1_intensities, color='b', density=True)\n",
    "    plt.hist(RN_intensities, color='g', density=True)\n",
    "    #plt.xlim(-1e-4, .001)\n",
    "    xmin, xmax = plt.xlim()\n",
    "    x = np.linspace(xmin, xmax, 10000)\n",
    "\n",
    "    p_unstudied = norm.pdf(x, mu_unstudied, std_unstudied)\n",
    "    plt.plot(x, p_unstudied, 'k',linewidth=4)\n",
    "    plt.plot(x, p_unstudied, 'xkcd:orange',linewidth=2, label='UNSTUDIED: $\\mu$ = %.2e, $\\sigma$ = %.2e' % (mu_unstudied, std_unstudied))\n",
    "\n",
    "    p_1 = norm.pdf(x, mu_1, std_1)\n",
    "    plt.plot(x, p_1, 'k',linewidth=4)\n",
    "    plt.plot(x, p_1, 'b',linewidth=2, label='N=1: $\\mu$ = %.2e, $\\sigma$ = %.2e' % (mu_1, std_1))\n",
    "\n",
    "    p_N = norm.pdf(x, mu_N, std_N)\n",
    "    plt.plot(x, p_N, 'k',linewidth=4)\n",
    "    plt.plot(x, p_N, 'g',linewidth=2, label='N=%d: $\\mu$ = %.2e, $\\sigma$ = %.2e' % (N, mu_N, std_N))\n",
    "\n",
    "    plt.title(\"Noise ratio {}, R/T ratio {}, N={} - Intensity as a function of similarity (histogram, and PDFs)\".format(NOISE_RATIO, TONE_RHYTHM_RATIO, N))\n",
    "    plt.legend()\n",
    "    plt.xlabel(\"Echo Intensity\")\n",
    "    plt.ylabel(\"Density\")\n",
    "    plt.grid(True)\n",
    "    plt.show()\n",
    "    \n",
    "    labels = ['U','1','N']\n",
    "    results = [unstudied_intensities, R1_intensities, RN_intensities]\n",
    "    print('_,U,1,N')\n",
    "    for i, row in enumerate(results):\n",
    "        print(labels[i], end=',')\n",
    "        for col in results:\n",
    "            print(ttest_ind(row, col).pvalue, end=',')\n",
    "        print()"
   ]
  },
  {
   "cell_type": "markdown",
   "metadata": {},
   "source": [
    "## Vary N"
   ]
  },
  {
   "cell_type": "code",
   "execution_count": null,
   "metadata": {
    "ExecuteTime": {
     "start_time": "2020-03-30T15:39:36.559Z"
    },
    "run_control": {
     "marked": false
    },
    "scrolled": false
   },
   "outputs": [],
   "source": [
    "# tunable variables\n",
    "FPT = 1000\n",
    "N_PROTOTYPES = 1000\n",
    "TONE_RHYTHM_RATIO = 0.7\n",
    "NOISE_RATIO = 0.1\n",
    "N = 3\n",
    "\n",
    "for N in [2, 3, 4, 5, 6]:\n",
    "    # create model\n",
    "    model = Minerva2(FPT)\n",
    "\n",
    "    # create probes\n",
    "    Ps_unstudied = np.random.randint(-1, 2, (N_PROTOTYPES, FPT))\n",
    "    Ps_rhythm1 = np.random.randint(-1, 2, (N_PROTOTYPES, FPT))\n",
    "    Ps_rhythmN = np.random.randint(-1, 2, (N_PROTOTYPES, FPT))\n",
    "\n",
    "    # create traces (subset of probes)\n",
    "    T_1s = np.copy(Ps_rhythm1)\n",
    "    T_Ns = np.copy(Ps_rhythmN)\n",
    "\n",
    "    # zero out parts of traces (symmetrically)\n",
    "    RT_split_index = round(FPT * TONE_RHYTHM_RATIO)\n",
    "\n",
    "    T_1s[:, :RT_split_index] *= 0\n",
    "    T_Ns[:, :RT_split_index] *= 0\n",
    "    \n",
    "    # flip some features (add noise)\n",
    "    T_1s = add_noise_2d(T_1s, NOISE_RATIO)\n",
    "    T_Ns = add_noise_2d(T_Ns, NOISE_RATIO)\n",
    "\n",
    "    # add traces to model\n",
    "    model.add_traces(T_1s)\n",
    "    for _ in range(N):\n",
    "        model.add_traces(T_Ns)\n",
    "\n",
    "    # get echo intensities\n",
    "    R1_intensities = model.get_echo_intensities(Ps_rhythm1)\n",
    "    RN_intensities = model.get_echo_intensities(Ps_rhythmN)\n",
    "    unstudied_intensities = model.get_echo_intensities(Ps_unstudied)\n",
    "\n",
    "    # plot histograms and normal PDFs\n",
    "    plt.figure(figsize=(14,7))\n",
    "\n",
    "    mu_1, std_1 = norm.fit(R1_intensities)\n",
    "    mu_N, std_N = norm.fit(RN_intensities)\n",
    "    mu_unstudied, std_unstudied = norm.fit(unstudied_intensities)\n",
    "\n",
    "    plt.hist(unstudied_intensities, color='xkcd:orange', density=True)\n",
    "    plt.hist(R1_intensities, color='b', density=True)\n",
    "    plt.hist(RN_intensities, color='g', density=True)\n",
    "    #plt.xlim(-1e-4, .001)\n",
    "    xmin, xmax = plt.xlim()\n",
    "    x = np.linspace(xmin, xmax, 10000)\n",
    "\n",
    "    p_unstudied = norm.pdf(x, mu_unstudied, std_unstudied)\n",
    "    plt.plot(x, p_unstudied, 'k',linewidth=4)\n",
    "    plt.plot(x, p_unstudied, 'xkcd:orange',linewidth=2, label='UNSTUDIED: $\\mu$ = %.2e, $\\sigma$ = %.2e' % (mu_unstudied, std_unstudied))\n",
    "\n",
    "    p_1 = norm.pdf(x, mu_1, std_1)\n",
    "    plt.plot(x, p_1, 'k',linewidth=4)\n",
    "    plt.plot(x, p_1, 'b',linewidth=2, label='N=1: $\\mu$ = %.2e, $\\sigma$ = %.2e' % (mu_1, std_1))\n",
    "\n",
    "    p_N = norm.pdf(x, mu_N, std_N)\n",
    "    plt.plot(x, p_N, 'k',linewidth=4)\n",
    "    plt.plot(x, p_N, 'g',linewidth=2, label='N=%d: $\\mu$ = %.2e, $\\sigma$ = %.2e' % (N, mu_N, std_N))\n",
    "\n",
    "    plt.title(\"Noise ratio {}, R/T ratio {}, N={} - Intensity as a function of similarity (histogram, and PDFs)\".format(NOISE_RATIO, TONE_RHYTHM_RATIO, N))\n",
    "    plt.legend()\n",
    "    plt.xlabel(\"Echo Intensity\")\n",
    "    plt.ylabel(\"Density\")\n",
    "    plt.grid(True)\n",
    "    plt.show()\n",
    "    \n",
    "    labels = ['U','1','N']\n",
    "    results = [unstudied_intensities, R1_intensities, RN_intensities]\n",
    "    print('_,U,1,N')\n",
    "    for i, row in enumerate(results):\n",
    "        print(labels[i], end=',')\n",
    "        for col in results:\n",
    "            print(ttest_ind(row, col).pvalue, end=',')\n",
    "        print()"
   ]
  },
  {
   "cell_type": "markdown",
   "metadata": {},
   "source": [
    "## Vary Multiple (export this)"
   ]
  },
  {
   "cell_type": "code",
   "execution_count": 59,
   "metadata": {
    "ExecuteTime": {
     "end_time": "2020-03-30T16:41:06.997633Z",
     "start_time": "2020-03-30T16:40:00.138203Z"
    },
    "run_control": {
     "marked": true
    }
   },
   "outputs": [
    {
     "name": "stdout",
     "output_type": "stream",
     "text": [
      "0 0\n",
      "_,U,1,N\n",
      "U,1.0,0.0,0.0,\n",
      "1,0.0,1.0,0.0,\n",
      "N,0.0,0.0,1.0,\n",
      "0 1\n",
      "_,U,1,N\n",
      "U,1.0,0.0,0.0,\n",
      "1,0.0,1.0,0.0,\n",
      "N,0.0,0.0,1.0,\n",
      "0 2\n",
      "_,U,1,N\n",
      "U,1.0,0.0,0.0,\n",
      "1,0.0,1.0,0.0,\n",
      "N,0.0,0.0,1.0,\n",
      "1 0\n",
      "_,U,1,N\n",
      "U,1.0,0.0,0.0,\n",
      "1,0.0,1.0,0.0,\n",
      "N,0.0,0.0,1.0,\n",
      "1 1\n",
      "_,U,1,N\n",
      "U,1.0,0.0,0.0,\n",
      "1,0.0,1.0,0.0,\n",
      "N,0.0,0.0,1.0,\n",
      "1 2\n",
      "_,U,1,N\n",
      "U,1.0,0.0,0.0,\n",
      "1,0.0,1.0,0.0,\n",
      "N,0.0,0.0,1.0,\n",
      "2 0\n",
      "_,U,1,N\n",
      "U,1.0,0.0,0.0,\n",
      "1,0.0,1.0,0.0,\n",
      "N,0.0,0.0,1.0,\n",
      "2 1\n",
      "_,U,1,N\n",
      "U,1.0,0.0,0.0,\n",
      "1,0.0,1.0,0.0,\n",
      "N,0.0,0.0,1.0,\n",
      "2 2\n",
      "_,U,1,N\n",
      "U,1.0,0.0,0.0,\n",
      "1,0.0,1.0,0.0,\n",
      "N,0.0,0.0,1.0,\n"
     ]
    },
    {
     "data": {
      "image/png": "[encoded data removed]",
      "text/plain": [
       "<Figure size 1152x1152 with 9 Axes>"
      ]
     },
     "metadata": {
      "needs_background": "light"
     },
     "output_type": "display_data"
    }
   ],
   "source": [
    "# tunable variables\n",
    "FPT = 1000\n",
    "N_PROTOTYPES = 30\n",
    "N=3\n",
    "\n",
    "fig, axs = plt.subplots(3, 3, sharex=True, sharey=True)\n",
    "fig.set_figheight(16)\n",
    "fig.set_figwidth(16)\n",
    "fig.suptitle(\"Echo intensity as a function of repetition\")\n",
    "\n",
    "for i, TONE_RHYTHM_RATIO in enumerate([.5, .6, .7]):\n",
    "    for j, NOISE_RATIO in enumerate([0.01, 0.1, 0.2]):\n",
    "        print(i, j)\n",
    "        R1_intensities = []\n",
    "        RN_intensities = []\n",
    "        unstudied_intensities = []\n",
    "        for _ in range(120):\n",
    "            model = Minerva2(FPT)\n",
    "\n",
    "            # create probes\n",
    "            Ps_unstudied = np.random.randint(-1, 2, (N_PROTOTYPES, FPT))\n",
    "            Ps_rhythm1 = np.random.randint(-1, 2, (N_PROTOTYPES, FPT))\n",
    "            Ps_rhythmN = np.random.randint(-1, 2, (N_PROTOTYPES, FPT))\n",
    "\n",
    "            # create traces (subset of probes)\n",
    "            T_1s = np.copy(Ps_rhythm1)\n",
    "            T_Ns = np.copy(Ps_rhythmN)\n",
    "\n",
    "            # zero out parts of traces (symmetrically)\n",
    "            RT_split_index = round(FPT * TONE_RHYTHM_RATIO)\n",
    "\n",
    "            T_1s[:, :RT_split_index] *= 0\n",
    "            T_Ns[:, :RT_split_index] *= 0\n",
    "\n",
    "            # flip some features (add noise)\n",
    "            T_1s = add_noise_2d(T_1s, NOISE_RATIO)\n",
    "            T_Ns = add_noise_2d(T_Ns, NOISE_RATIO)\n",
    "\n",
    "            # add traces to model\n",
    "            model.add_traces(T_1s)\n",
    "            for _ in range(N):\n",
    "                model.add_traces(T_Ns)\n",
    "\n",
    "            # get echo intensities\n",
    "            R1_intensities.extend(model.get_echo_intensities(Ps_rhythm1))\n",
    "            RN_intensities.extend(model.get_echo_intensities(Ps_rhythmN))\n",
    "            unstudied_intensities.extend(model.get_echo_intensities(Ps_unstudied))\n",
    "\n",
    "        # plot histograms and normal PDFs\n",
    "        mu_1, std_1 = norm.fit(R1_intensities)\n",
    "        mu_N, std_N = norm.fit(RN_intensities)\n",
    "        mu_unstudied, std_unstudied = norm.fit(unstudied_intensities)\n",
    "\n",
    "        axs[i, j].hist(unstudied_intensities, color='xkcd:orange', density=True)\n",
    "        axs[i, j].hist(R1_intensities, color='b', density=True)\n",
    "        axs[i, j].hist(RN_intensities, color='g', density=True)\n",
    "        x = np.linspace(xmin, xmax, 10000)\n",
    "        xmin, xmax = axs[i, j].set_xlim(-1e-4, .0012)\n",
    "        axs[i, j].set_ylim(0, 90000)\n",
    "\n",
    "        p_unstudied = norm.pdf(x, mu_unstudied, std_unstudied)\n",
    "        axs[i, j].plot(x, p_unstudied, 'k',linewidth=4)\n",
    "        axs[i, j].plot(x, p_unstudied, 'xkcd:orange',linewidth=2, label='UNSTUDIED: $\\mu$ = {:.1e}, $\\sigma$ = {:.1e}'.format(mu_unstudied, std_unstudied))\n",
    "\n",
    "        p_1 = norm.pdf(x, mu_1, std_1)\n",
    "        axs[i, j].plot(x, p_1, 'k',linewidth=4)\n",
    "        axs[i, j].plot(x, p_1, 'b',linewidth=2, label='N=1: $\\mu$ = {:.1e}, $\\sigma$ = {:.1e}'.format(mu_1, std_1))\n",
    "\n",
    "        p_N = norm.pdf(x, mu_N, std_N)\n",
    "        axs[i, j].plot(x, p_N, 'k',linewidth=4)\n",
    "        axs[i, j].plot(x, p_N, 'g',linewidth=2, label='N=3: $\\mu$ = {:.1e}, $\\sigma$ = {:.1e}'.format(mu_N, std_N))\n",
    "\n",
    "        axs[i, j].set_title(\"Noise ratio={}, R/T ratio={}\".format(NOISE_RATIO, TONE_RHYTHM_RATIO))\n",
    "        axs[i, j].set_xlabel(\"Echo Intensity\")\n",
    "        axs[i, j].set_ylabel(\"Density\")\n",
    "        axs[i, j].grid(True)\n",
    "        axs[i, j].legend(loc=1, prop={'size':14})\n",
    "        axs[i, j].label_outer()\n",
    "    \n",
    "        labels = ['U','1','N']\n",
    "        results = [unstudied_intensities, R1_intensities, RN_intensities]\n",
    "        print('_,U,1,N')\n",
    "        for k, row in enumerate(results):\n",
    "            print(labels[k], end=',')\n",
    "            for col in results:\n",
    "                print(ttest_ind(row, col).pvalue, end=',')\n",
    "            print()\n",
    "            \n",
    "\n",
    "plt.tight_layout()\n",
    "plt.subplots_adjust(top=0.93)\n",
    "plt.show()\n"
   ]
  },
  {
   "cell_type": "code",
   "execution_count": null,
   "metadata": {},
   "outputs": [],
   "source": []
  }
 ],
 "metadata": {
  "kernelspec": {
   "display_name": "Python 3",
   "language": "python",
   "name": "python3"
  },
  "language_info": {
   "codemirror_mode": {
    "name": "ipython",
    "version": 3
   },
   "file_extension": ".py",
   "mimetype": "text/x-python",
   "name": "python",
   "nbconvert_exporter": "python",
   "pygments_lexer": "ipython3",
   "version": "3.7.4"
  },
  "toc": {
   "base_numbering": 1,
   "nav_menu": {},
   "number_sections": true,
   "sideBar": true,
   "skip_h1_title": false,
   "title_cell": "Table of Contents",
   "title_sidebar": "Contents",
   "toc_cell": false,
   "toc_position": {
    "height": "calc(100% - 180px)",
    "left": "10px",
    "top": "150px",
    "width": "266px"
   },
   "toc_section_display": true,
   "toc_window_display": true
  }
 },
 "nbformat": 4,
 "nbformat_minor": 2
}
